{
 "cells": [
  {
   "cell_type": "code",
   "execution_count": 1,
   "id": "63f11373",
   "metadata": {},
   "outputs": [],
   "source": [
    "train_dir = 'D:/Documentos/Estudio/Maestría/Aprendizaje_Computacional/Modelopropio/Database/Lung Segmentation Data/Lung Segmentation Data/Train' \n",
    "val_dir = 'D:/Documentos/Estudio/Maestría/Aprendizaje_Computacional/Modelopropio/Database/Lung Segmentation Data/Lung Segmentation Data/Val' \n",
    "test_dir = 'D:/Documentos/Estudio/Maestría/Aprendizaje_Computacional/Modelopropio/Database/Lung Segmentation Data/Lung Segmentation Data/Test'"
   ]
  },
  {
   "cell_type": "code",
   "execution_count": 2,
   "id": "206dacf2",
   "metadata": {},
   "outputs": [
    {
     "name": "stderr",
     "output_type": "stream",
     "text": [
      "Using TensorFlow backend.\n"
     ]
    }
   ],
   "source": [
    "#ELEGIMOS LOS PARAMETROS\n",
    "from keras.preprocessing.image import ImageDataGenerator\n",
    "ih, iw = 224, 224 #tamano de la imagen\n",
    "input_shape = (ih, iw, 3) #forma de la imagen: alto ancho y numero de canales\n",
    "\n",
    "num_class = 2 #cuantas clases \n",
    "#epochs = 15 #cuantas veces entrenar. En cada epoch hace una mejora en los parametros\n",
    "\n",
    "batch_size = 32 #batch para hacer cada entrenamiento. Lee 50 'batch_size' imagenes antes de actualizar los parametros. Las carga a memoria\n",
    "num_train = 21715 #numero de imagenes en train\n",
    "num_test = 6788 #numero de imagenes en test\n",
    "num_val=5417\n",
    "\n",
    "epoch_steps = num_train // batch_size \n",
    "test_steps = num_test // batch_size\n",
    " "
   ]
  },
  {
   "cell_type": "code",
   "execution_count": 3,
   "id": "e3bf6d66",
   "metadata": {},
   "outputs": [
    {
     "name": "stdout",
     "output_type": "stream",
     "text": [
      "Found 14507 images belonging to 2 classes.\n",
      "Found 3615 images belonging to 2 classes.\n",
      "Found 4535 images belonging to 2 classes.\n"
     ]
    }
   ],
   "source": [
    "#LEEMOS LAS IMÁGENES \n",
    "\n",
    "img_height, img_width=ih, iw\n",
    "\n",
    "train_datagen = ImageDataGenerator(rescale=1./255)\n",
    "\n",
    "train_generator = train_datagen.flow_from_directory(\n",
    "    train_dir,\n",
    "    target_size=(img_height, img_width),\n",
    "    batch_size=batch_size,\n",
    "    class_mode='categorical') # set as training data\n",
    "\n",
    "validation_generator = train_datagen.flow_from_directory(\n",
    "    val_dir, # same directory as training data\n",
    "    target_size=(img_height, img_width),\n",
    "    batch_size=batch_size,\n",
    "    class_mode='categorical') # set as validation data\n",
    "\n",
    "test_generator = train_datagen.flow_from_directory(\n",
    "    test_dir, # same directory as training data\n",
    "    target_size=(img_height, img_width),\n",
    "    batch_size=batch_size,\n",
    "    class_mode='categorical') # set as validation data"
   ]
  },
  {
   "cell_type": "code",
   "execution_count": 4,
   "id": "bf9cb168",
   "metadata": {},
   "outputs": [],
   "source": [
    "train=train_generator\n",
    "val=validation_generator\n",
    "test=test_generator"
   ]
  },
  {
   "cell_type": "code",
   "execution_count": 5,
   "id": "95ee15f5",
   "metadata": {},
   "outputs": [],
   "source": [
    "import tensorflow as tf\n",
    "from tensorflow.keras.applications import Xception\n",
    "from tensorflow.keras.layers import Flatten,Dense,Dropout,BatchNormalization\n",
    "from tensorflow.keras.models import Model,Sequential\n",
    "from tensorflow.keras.utils import to_categorical\n",
    "from tensorflow.keras.layers import Conv2D, MaxPooling2D, BatchNormalization, GlobalAveragePooling2D, BatchNormalization\n",
    "from tensorflow.keras.callbacks import ReduceLROnPlateau, EarlyStopping\n",
    "from tensorflow.keras.regularizers import l2\n",
    "\n",
    "Xception_model = Xception(include_top=False, weights='imagenet',  \n",
    "                                     input_shape=input_shape) \n",
    "\n",
    "Xception_model.trainable=False"
   ]
  },
  {
   "cell_type": "code",
   "execution_count": 48,
   "id": "d1d6aed6",
   "metadata": {},
   "outputs": [],
   "source": [
    "#for layer in Xception_model.layers[:-40]:\n",
    "#    layer.trainable = False"
   ]
  },
  {
   "cell_type": "code",
   "execution_count": 6,
   "id": "c67c958e",
   "metadata": {},
   "outputs": [
    {
     "name": "stderr",
     "output_type": "stream",
     "text": [
      "C:\\Users\\elium\\.conda\\envs\\tfGPU\\lib\\site-packages\\ipykernel_launcher.py:2: FutureWarning: Passing a negative integer is deprecated in version 1.0 and will not be supported in future version. Instead, use None to not limit the column width.\n",
      "  \n"
     ]
    },
    {
     "data": {
      "text/html": [
       "<div>\n",
       "<style scoped>\n",
       "    .dataframe tbody tr th:only-of-type {\n",
       "        vertical-align: middle;\n",
       "    }\n",
       "\n",
       "    .dataframe tbody tr th {\n",
       "        vertical-align: top;\n",
       "    }\n",
       "\n",
       "    .dataframe thead th {\n",
       "        text-align: right;\n",
       "    }\n",
       "</style>\n",
       "<table border=\"1\" class=\"dataframe\">\n",
       "  <thead>\n",
       "    <tr style=\"text-align: right;\">\n",
       "      <th></th>\n",
       "      <th>Layer Type</th>\n",
       "      <th>Layer Name</th>\n",
       "      <th>Layer Trainable</th>\n",
       "    </tr>\n",
       "  </thead>\n",
       "  <tbody>\n",
       "    <tr>\n",
       "      <th>0</th>\n",
       "      <td>&lt;tensorflow.python.keras.engine.input_layer.InputLayer object at 0x0000025C9855BCC8&gt;</td>\n",
       "      <td>input_1</td>\n",
       "      <td>False</td>\n",
       "    </tr>\n",
       "    <tr>\n",
       "      <th>1</th>\n",
       "      <td>&lt;tensorflow.python.keras.layers.convolutional.Conv2D object at 0x0000025C9AAC6C88&gt;</td>\n",
       "      <td>block1_conv1</td>\n",
       "      <td>False</td>\n",
       "    </tr>\n",
       "    <tr>\n",
       "      <th>2</th>\n",
       "      <td>&lt;tensorflow.python.keras.layers.normalization.BatchNormalization object at 0x0000025CA4AB2688&gt;</td>\n",
       "      <td>block1_conv1_bn</td>\n",
       "      <td>False</td>\n",
       "    </tr>\n",
       "    <tr>\n",
       "      <th>3</th>\n",
       "      <td>&lt;tensorflow.python.keras.layers.core.Activation object at 0x0000025CA4C09FC8&gt;</td>\n",
       "      <td>block1_conv1_act</td>\n",
       "      <td>False</td>\n",
       "    </tr>\n",
       "    <tr>\n",
       "      <th>4</th>\n",
       "      <td>&lt;tensorflow.python.keras.layers.convolutional.Conv2D object at 0x0000025CA5409D08&gt;</td>\n",
       "      <td>block1_conv2</td>\n",
       "      <td>False</td>\n",
       "    </tr>\n",
       "    <tr>\n",
       "      <th>...</th>\n",
       "      <td>...</td>\n",
       "      <td>...</td>\n",
       "      <td>...</td>\n",
       "    </tr>\n",
       "    <tr>\n",
       "      <th>127</th>\n",
       "      <td>&lt;tensorflow.python.keras.layers.normalization.BatchNormalization object at 0x0000025F65C24988&gt;</td>\n",
       "      <td>block14_sepconv1_bn</td>\n",
       "      <td>False</td>\n",
       "    </tr>\n",
       "    <tr>\n",
       "      <th>128</th>\n",
       "      <td>&lt;tensorflow.python.keras.layers.core.Activation object at 0x0000025F65C216C8&gt;</td>\n",
       "      <td>block14_sepconv1_act</td>\n",
       "      <td>False</td>\n",
       "    </tr>\n",
       "    <tr>\n",
       "      <th>129</th>\n",
       "      <td>&lt;tensorflow.python.keras.layers.convolutional.SeparableConv2D object at 0x0000025F65C29388&gt;</td>\n",
       "      <td>block14_sepconv2</td>\n",
       "      <td>False</td>\n",
       "    </tr>\n",
       "    <tr>\n",
       "      <th>130</th>\n",
       "      <td>&lt;tensorflow.python.keras.layers.normalization.BatchNormalization object at 0x0000025F65C7C508&gt;</td>\n",
       "      <td>block14_sepconv2_bn</td>\n",
       "      <td>False</td>\n",
       "    </tr>\n",
       "    <tr>\n",
       "      <th>131</th>\n",
       "      <td>&lt;tensorflow.python.keras.layers.core.Activation object at 0x0000025F65C91B88&gt;</td>\n",
       "      <td>block14_sepconv2_act</td>\n",
       "      <td>False</td>\n",
       "    </tr>\n",
       "  </tbody>\n",
       "</table>\n",
       "<p>132 rows × 3 columns</p>\n",
       "</div>"
      ],
      "text/plain": [
       "                                                                                         Layer Type  \\\n",
       "0    <tensorflow.python.keras.engine.input_layer.InputLayer object at 0x0000025C9855BCC8>             \n",
       "1    <tensorflow.python.keras.layers.convolutional.Conv2D object at 0x0000025C9AAC6C88>               \n",
       "2    <tensorflow.python.keras.layers.normalization.BatchNormalization object at 0x0000025CA4AB2688>   \n",
       "3    <tensorflow.python.keras.layers.core.Activation object at 0x0000025CA4C09FC8>                    \n",
       "4    <tensorflow.python.keras.layers.convolutional.Conv2D object at 0x0000025CA5409D08>               \n",
       "..                                                                                  ...               \n",
       "127  <tensorflow.python.keras.layers.normalization.BatchNormalization object at 0x0000025F65C24988>   \n",
       "128  <tensorflow.python.keras.layers.core.Activation object at 0x0000025F65C216C8>                    \n",
       "129  <tensorflow.python.keras.layers.convolutional.SeparableConv2D object at 0x0000025F65C29388>      \n",
       "130  <tensorflow.python.keras.layers.normalization.BatchNormalization object at 0x0000025F65C7C508>   \n",
       "131  <tensorflow.python.keras.layers.core.Activation object at 0x0000025F65C91B88>                    \n",
       "\n",
       "               Layer Name  Layer Trainable  \n",
       "0    input_1               False            \n",
       "1    block1_conv1          False            \n",
       "2    block1_conv1_bn       False            \n",
       "3    block1_conv1_act      False            \n",
       "4    block1_conv2          False            \n",
       "..            ...            ...            \n",
       "127  block14_sepconv1_bn   False            \n",
       "128  block14_sepconv1_act  False            \n",
       "129  block14_sepconv2      False            \n",
       "130  block14_sepconv2_bn   False            \n",
       "131  block14_sepconv2_act  False            \n",
       "\n",
       "[132 rows x 3 columns]"
      ]
     },
     "execution_count": 6,
     "metadata": {},
     "output_type": "execute_result"
    }
   ],
   "source": [
    "import pandas as pd \n",
    "pd.set_option('max_colwidth', -1)\n",
    "\n",
    "layers = [(layer, layer.name, layer.trainable) for layer in Xception_model.layers] \n",
    "pd.DataFrame(layers, columns=['Layer Type', 'Layer Name', 'Layer Trainable'])"
   ]
  },
  {
   "cell_type": "code",
   "execution_count": 7,
   "id": "8413eaeb",
   "metadata": {},
   "outputs": [],
   "source": [
    "from keras import backend as K\n",
    "def recall_m(y_true, y_pred):\n",
    "    true_positives = K.sum(K.round(K.clip(y_true * y_pred, 0, 1)))\n",
    "    possible_positives = K.sum(K.round(K.clip(y_true, 0, 1)))\n",
    "    recall = true_positives / (possible_positives + K.epsilon())\n",
    "    return recall\n",
    "\n",
    "def precision_m(y_true, y_pred):\n",
    "    true_positives = K.sum(K.round(K.clip(y_true * y_pred, 0, 1)))\n",
    "    predicted_positives = K.sum(K.round(K.clip(y_pred, 0, 1)))\n",
    "    precision = true_positives / (predicted_positives + K.epsilon())\n",
    "    return precision\n",
    "\n",
    "def f1_m(y_true, y_pred):\n",
    "    precision = precision_m(y_true, y_pred)\n",
    "    recall = recall_m(y_true, y_pred)\n",
    "    return 2*((precision*recall)/(precision+recall+K.epsilon()))\n"
   ]
  },
  {
   "cell_type": "code",
   "execution_count": 8,
   "id": "bf353720",
   "metadata": {},
   "outputs": [
    {
     "name": "stdout",
     "output_type": "stream",
     "text": [
      "Model: \"sequential\"\n",
      "_________________________________________________________________\n",
      "Layer (type)                 Output Shape              Param #   \n",
      "=================================================================\n",
      "xception (Model)             (None, 7, 7, 2048)        20861480  \n",
      "_________________________________________________________________\n",
      "flatten (Flatten)            (None, 100352)            0         \n",
      "_________________________________________________________________\n",
      "dense (Dense)                (None, 2)                 200706    \n",
      "=================================================================\n",
      "Total params: 21,062,186\n",
      "Trainable params: 200,706\n",
      "Non-trainable params: 20,861,480\n",
      "_________________________________________________________________\n",
      "None\n"
     ]
    }
   ],
   "source": [
    "\n",
    "from tensorflow.keras.models import Model,Sequential\n",
    "from tensorflow.keras.utils import to_categorical \n",
    "from keras import optimizers \n",
    "from tensorflow.keras.layers import Conv2D, MaxPooling2D, BatchNormalization, GlobalAveragePooling2D, BatchNormalization\n",
    "# build model architecture \n",
    "model = Sequential()\n",
    "model.add(Xception_model)\n",
    "model.add(Flatten())\n",
    "#model.add(Dense(256, activation='relu'))\n",
    "#model.add(Dropout(0.2))\n",
    "model.add(Dense(num_class, activation='softmax'))\n",
    "#compile model\n",
    "model.compile(optimizer=tf.keras.optimizers.SGD(lr=0.001, momentum=0.9), \n",
    "      loss = tf.keras.losses.CategoricalCrossentropy(from_logits = True), \n",
    "      metrics=['accuracy',f1_m,precision_m, recall_m])\n",
    "print(model.summary())"
   ]
  },
  {
   "cell_type": "code",
   "execution_count": 9,
   "id": "dbe33857",
   "metadata": {},
   "outputs": [
    {
     "name": "stdout",
     "output_type": "stream",
     "text": [
      "WARNING:tensorflow:From C:\\Users\\elium\\AppData\\Local\\Temp\\ipykernel_6248\\3047583970.py:5: Model.fit_generator (from tensorflow.python.keras.engine.training) is deprecated and will be removed in a future version.\n",
      "Instructions for updating:\n",
      "Please use Model.fit, which supports generators.\n",
      "WARNING:tensorflow:sample_weight modes were coerced from\n",
      "  ...\n",
      "    to  \n",
      "  ['...']\n",
      "WARNING:tensorflow:sample_weight modes were coerced from\n",
      "  ...\n",
      "    to  \n",
      "  ['...']\n",
      "Train for 64 steps, validate for 64 steps\n",
      "Epoch 1/30\n",
      "64/64 [==============================] - 18s 274ms/step - loss: 0.5320 - accuracy: 0.7642 - f1_m: 0.7642 - precision_m: 0.7642 - recall_m: 0.7642 - val_loss: 0.7882 - val_accuracy: 0.4922 - val_f1_m: 0.4922 - val_precision_m: 0.4922 - val_recall_m: 0.4922\n",
      "Epoch 2/30\n",
      "64/64 [==============================] - 13s 200ms/step - loss: 0.4580 - accuracy: 0.8569 - f1_m: 0.8569 - precision_m: 0.8569 - recall_m: 0.8569 - val_loss: 0.7497 - val_accuracy: 0.5225 - val_f1_m: 0.5225 - val_precision_m: 0.5225 - val_recall_m: 0.5225\n",
      "Epoch 3/30\n",
      "64/64 [==============================] - 13s 208ms/step - loss: 0.4474 - accuracy: 0.8712 - f1_m: 0.8726 - precision_m: 0.8726 - recall_m: 0.8726 - val_loss: 0.7847 - val_accuracy: 0.4961 - val_f1_m: 0.4961 - val_precision_m: 0.4961 - val_recall_m: 0.4961\n",
      "Epoch 4/30\n",
      "64/64 [==============================] - 13s 201ms/step - loss: 0.4370 - accuracy: 0.8755 - f1_m: 0.8755 - precision_m: 0.8755 - recall_m: 0.8755 - val_loss: 0.7786 - val_accuracy: 0.5029 - val_f1_m: 0.5029 - val_precision_m: 0.5029 - val_recall_m: 0.5029\n",
      "Epoch 5/30\n",
      "64/64 [==============================] - 13s 201ms/step - loss: 0.4282 - accuracy: 0.8867 - f1_m: 0.8867 - precision_m: 0.8867 - recall_m: 0.8867 - val_loss: 0.7562 - val_accuracy: 0.5210 - val_f1_m: 0.5210 - val_precision_m: 0.5210 - val_recall_m: 0.5210\n",
      "Epoch 6/30\n",
      "64/64 [==============================] - 13s 202ms/step - loss: 0.4147 - accuracy: 0.9019 - f1_m: 0.9019 - precision_m: 0.9019 - recall_m: 0.9019 - val_loss: 0.7228 - val_accuracy: 0.5596 - val_f1_m: 0.5596 - val_precision_m: 0.5596 - val_recall_m: 0.5596\n",
      "Epoch 7/30\n",
      "64/64 [==============================] - 13s 202ms/step - loss: 0.4106 - accuracy: 0.9087 - f1_m: 0.9087 - precision_m: 0.9087 - recall_m: 0.9087 - val_loss: 0.7297 - val_accuracy: 0.5513 - val_f1_m: 0.5513 - val_precision_m: 0.5513 - val_recall_m: 0.5513\n",
      "Epoch 8/30\n",
      "64/64 [==============================] - 13s 203ms/step - loss: 0.4025 - accuracy: 0.9175 - f1_m: 0.9175 - precision_m: 0.9175 - recall_m: 0.9175 - val_loss: 0.7689 - val_accuracy: 0.5137 - val_f1_m: 0.5137 - val_precision_m: 0.5137 - val_recall_m: 0.5137\n",
      "Epoch 9/30\n",
      "64/64 [==============================] - 13s 203ms/step - loss: 0.4005 - accuracy: 0.9165 - f1_m: 0.9165 - precision_m: 0.9165 - recall_m: 0.9165 - val_loss: 0.7525 - val_accuracy: 0.5269 - val_f1_m: 0.5269 - val_precision_m: 0.5269 - val_recall_m: 0.5269\n",
      "Epoch 10/30\n",
      "64/64 [==============================] - 13s 203ms/step - loss: 0.4021 - accuracy: 0.9199 - f1_m: 0.9199 - precision_m: 0.9199 - recall_m: 0.9199 - val_loss: 0.7800 - val_accuracy: 0.5049 - val_f1_m: 0.5049 - val_precision_m: 0.5049 - val_recall_m: 0.5049\n",
      "Epoch 11/30\n",
      "64/64 [==============================] - 13s 203ms/step - loss: 0.3943 - accuracy: 0.9250 - f1_m: 0.9258 - precision_m: 0.9258 - recall_m: 0.9258 - val_loss: 0.7739 - val_accuracy: 0.5117 - val_f1_m: 0.5117 - val_precision_m: 0.5117 - val_recall_m: 0.5117\n",
      "Epoch 12/30\n",
      "64/64 [==============================] - 13s 206ms/step - loss: 0.3947 - accuracy: 0.9282 - f1_m: 0.9282 - precision_m: 0.9282 - recall_m: 0.9282 - val_loss: 0.7241 - val_accuracy: 0.5557 - val_f1_m: 0.5557 - val_precision_m: 0.5557 - val_recall_m: 0.5557\n",
      "Epoch 13/30\n",
      "64/64 [==============================] - 13s 206ms/step - loss: 0.3962 - accuracy: 0.9258 - f1_m: 0.9258 - precision_m: 0.9258 - recall_m: 0.9258 - val_loss: 0.7864 - val_accuracy: 0.5020 - val_f1_m: 0.5020 - val_precision_m: 0.5020 - val_recall_m: 0.5020\n",
      "Epoch 14/30\n",
      "64/64 [==============================] - 13s 206ms/step - loss: 0.3876 - accuracy: 0.9380 - f1_m: 0.9380 - precision_m: 0.9380 - recall_m: 0.9380 - val_loss: 0.7538 - val_accuracy: 0.5283 - val_f1_m: 0.5283 - val_precision_m: 0.5283 - val_recall_m: 0.5283\n",
      "Epoch 15/30\n",
      "64/64 [==============================] - 13s 206ms/step - loss: 0.3910 - accuracy: 0.9354 - f1_m: 0.9360 - precision_m: 0.9360 - recall_m: 0.9360 - val_loss: 0.7287 - val_accuracy: 0.5527 - val_f1_m: 0.5527 - val_precision_m: 0.5527 - val_recall_m: 0.5527\n",
      "Epoch 16/30\n",
      "64/64 [==============================] - 13s 208ms/step - loss: 0.3877 - accuracy: 0.9326 - f1_m: 0.9326 - precision_m: 0.9326 - recall_m: 0.9326 - val_loss: 0.7197 - val_accuracy: 0.5620 - val_f1_m: 0.5620 - val_precision_m: 0.5620 - val_recall_m: 0.5620\n",
      "Epoch 17/30\n",
      "64/64 [==============================] - 13s 209ms/step - loss: 0.3898 - accuracy: 0.9248 - f1_m: 0.9248 - precision_m: 0.9248 - recall_m: 0.9248 - val_loss: 0.6517 - val_accuracy: 0.6265 - val_f1_m: 0.6265 - val_precision_m: 0.6265 - val_recall_m: 0.6265\n",
      "Epoch 18/30\n",
      "64/64 [==============================] - 13s 209ms/step - loss: 0.3919 - accuracy: 0.9272 - f1_m: 0.9272 - precision_m: 0.9272 - recall_m: 0.9272 - val_loss: 0.7400 - val_accuracy: 0.5435 - val_f1_m: 0.5435 - val_precision_m: 0.5435 - val_recall_m: 0.5435\n",
      "Epoch 19/30\n",
      "64/64 [==============================] - 13s 210ms/step - loss: 0.3803 - accuracy: 0.9419 - f1_m: 0.9419 - precision_m: 0.9419 - recall_m: 0.9419 - val_loss: 0.7838 - val_accuracy: 0.5073 - val_f1_m: 0.5073 - val_precision_m: 0.5073 - val_recall_m: 0.5073\n",
      "Epoch 20/30\n",
      "64/64 [==============================] - 13s 210ms/step - loss: 0.3809 - accuracy: 0.9385 - f1_m: 0.9385 - precision_m: 0.9385 - recall_m: 0.9385 - val_loss: 0.7076 - val_accuracy: 0.5703 - val_f1_m: 0.5703 - val_precision_m: 0.5703 - val_recall_m: 0.5703\n",
      "Epoch 21/30\n",
      "64/64 [==============================] - 14s 212ms/step - loss: 0.3801 - accuracy: 0.9448 - f1_m: 0.9448 - precision_m: 0.9448 - recall_m: 0.9448 - val_loss: 0.7438 - val_accuracy: 0.5386 - val_f1_m: 0.5386 - val_precision_m: 0.5386 - val_recall_m: 0.5386\n",
      "Epoch 22/30\n",
      "64/64 [==============================] - 14s 214ms/step - loss: 0.3746 - accuracy: 0.9507 - f1_m: 0.9507 - precision_m: 0.9507 - recall_m: 0.9507 - val_loss: 0.7345 - val_accuracy: 0.5488 - val_f1_m: 0.5488 - val_precision_m: 0.5488 - val_recall_m: 0.5488\n",
      "Epoch 23/30\n",
      "64/64 [==============================] - 14s 214ms/step - loss: 0.3787 - accuracy: 0.9453 - f1_m: 0.9453 - precision_m: 0.9453 - recall_m: 0.9453 - val_loss: 0.7166 - val_accuracy: 0.5615 - val_f1_m: 0.5615 - val_precision_m: 0.5615 - val_recall_m: 0.5615\n",
      "Epoch 24/30\n",
      "64/64 [==============================] - 14s 220ms/step - loss: 0.3812 - accuracy: 0.9424 - f1_m: 0.9424 - precision_m: 0.9424 - recall_m: 0.9424 - val_loss: 0.7065 - val_accuracy: 0.5728 - val_f1_m: 0.5728 - val_precision_m: 0.5728 - val_recall_m: 0.5728\n",
      "Epoch 25/30\n",
      "64/64 [==============================] - 14s 220ms/step - loss: 0.3780 - accuracy: 0.9429 - f1_m: 0.9429 - precision_m: 0.9429 - recall_m: 0.9429 - val_loss: 0.7356 - val_accuracy: 0.5503 - val_f1_m: 0.5503 - val_precision_m: 0.5503 - val_recall_m: 0.5503\n",
      "Epoch 26/30\n",
      "64/64 [==============================] - 14s 219ms/step - loss: 0.3731 - accuracy: 0.9512 - f1_m: 0.9512 - precision_m: 0.9512 - recall_m: 0.9512 - val_loss: 0.6917 - val_accuracy: 0.5869 - val_f1_m: 0.5869 - val_precision_m: 0.5869 - val_recall_m: 0.5869\n",
      "Epoch 27/30\n",
      "64/64 [==============================] - 14s 220ms/step - loss: 0.3767 - accuracy: 0.9478 - f1_m: 0.9478 - precision_m: 0.9478 - recall_m: 0.9478 - val_loss: 0.6565 - val_accuracy: 0.6279 - val_f1_m: 0.6279 - val_precision_m: 0.6279 - val_recall_m: 0.6279\n",
      "Epoch 28/30\n",
      "64/64 [==============================] - 14s 220ms/step - loss: 0.3704 - accuracy: 0.9517 - f1_m: 0.9517 - precision_m: 0.9517 - recall_m: 0.9517 - val_loss: 0.7112 - val_accuracy: 0.5679 - val_f1_m: 0.5679 - val_precision_m: 0.5679 - val_recall_m: 0.5679\n",
      "Epoch 29/30\n",
      "64/64 [==============================] - 14s 221ms/step - loss: 0.3663 - accuracy: 0.9580 - f1_m: 0.9580 - precision_m: 0.9580 - recall_m: 0.9580 - val_loss: 0.7433 - val_accuracy: 0.5454 - val_f1_m: 0.5454 - val_precision_m: 0.5454 - val_recall_m: 0.5454\n"
     ]
    },
    {
     "name": "stdout",
     "output_type": "stream",
     "text": [
      "Epoch 30/30\n",
      "64/64 [==============================] - 14s 221ms/step - loss: 0.3694 - accuracy: 0.9497 - f1_m: 0.9497 - precision_m: 0.9497 - recall_m: 0.9497 - val_loss: 0.7042 - val_accuracy: 0.5767 - val_f1_m: 0.5767 - val_precision_m: 0.5767 - val_recall_m: 0.5767\n"
     ]
    }
   ],
   "source": [
    "history = model.fit_generator(train, steps_per_epoch=64, \n",
    "                              epochs=30,  \n",
    "                              validation_data=val,   \n",
    "                              validation_steps=64,  \n",
    "                              verbose=1)"
   ]
  },
  {
   "cell_type": "code",
   "execution_count": 10,
   "id": "fed1cd09",
   "metadata": {},
   "outputs": [
    {
     "data": {
      "image/png": "[encoded data removed]",
      "text/plain": [
       "<Figure size 432x288 with 1 Axes>"
      ]
     },
     "metadata": {
      "needs_background": "light"
     },
     "output_type": "display_data"
    }
   ],
   "source": [
    "# summarize history for accuracy\n",
    "import matplotlib.pyplot as plt\n",
    "plt.plot(history.history['accuracy'])\n",
    "plt.plot(history.history['val_accuracy'])\n",
    "plt.title('model accuracy')\n",
    "plt.ylabel('accuracy')\n",
    "plt.xlabel('epoch')\n",
    "plt.legend(['train', 'test'], loc='upper left')\n",
    "plt.show()"
   ]
  },
  {
   "cell_type": "code",
   "execution_count": 11,
   "id": "52bc0b29",
   "metadata": {},
   "outputs": [
    {
     "data": {
      "image/png": "[encoded data removed]",
      "text/plain": [
       "<Figure size 432x288 with 1 Axes>"
      ]
     },
     "metadata": {
      "needs_background": "light"
     },
     "output_type": "display_data"
    }
   ],
   "source": [
    "plt.plot(history.history['loss'])\n",
    "plt.plot(history.history['val_loss'])\n",
    "plt.title('model loss')\n",
    "plt.ylabel('loss')\n",
    "plt.xlabel('epoch')\n",
    "plt.legend(['train', 'test'], loc='upper left')\n",
    "plt.show()"
   ]
  },
  {
   "cell_type": "code",
   "execution_count": 12,
   "id": "f5bc20de",
   "metadata": {},
   "outputs": [
    {
     "data": {
      "image/png": "[encoded data removed]",
      "text/plain": [
       "<Figure size 432x288 with 1 Axes>"
      ]
     },
     "metadata": {
      "needs_background": "light"
     },
     "output_type": "display_data"
    }
   ],
   "source": [
    "plt.plot(history.history['f1_m'])\n",
    "plt.plot(history.history['val_f1_m'])\n",
    "plt.title('F1 Score')\n",
    "plt.ylabel('f1')\n",
    "plt.xlabel('epoch')\n",
    "plt.legend(['train', 'test'], loc='upper left')\n",
    "plt.show()"
   ]
  },
  {
   "cell_type": "code",
   "execution_count": 13,
   "id": "dd3ff1ce",
   "metadata": {},
   "outputs": [
    {
     "data": {
      "image/png": "[encoded data removed]",
      "text/plain": [
       "<Figure size 432x288 with 1 Axes>"
      ]
     },
     "metadata": {
      "needs_background": "light"
     },
     "output_type": "display_data"
    }
   ],
   "source": [
    "plt.plot(history.history['recall_m'])\n",
    "plt.plot(history.history['val_recall_m'])\n",
    "plt.title('Recall')\n",
    "plt.ylabel('recall')\n",
    "plt.xlabel('epoch')\n",
    "plt.legend(['train', 'test'], loc='upper left')\n",
    "plt.show()"
   ]
  },
  {
   "cell_type": "code",
   "execution_count": 14,
   "id": "b7ef3154",
   "metadata": {},
   "outputs": [
    {
     "data": {
      "image/png": "[encoded data removed]",
      "text/plain": [
       "<Figure size 432x288 with 1 Axes>"
      ]
     },
     "metadata": {
      "needs_background": "light"
     },
     "output_type": "display_data"
    }
   ],
   "source": [
    "plt.plot(history.history['precision_m'])\n",
    "plt.plot(history.history['val_precision_m'])\n",
    "plt.title('Precision')\n",
    "plt.ylabel('precision')\n",
    "plt.xlabel('epoch')\n",
    "plt.legend(['train', 'test'], loc='upper left')\n",
    "plt.show()"
   ]
  },
  {
   "cell_type": "code",
   "execution_count": 15,
   "id": "53d4cc27",
   "metadata": {},
   "outputs": [
    {
     "name": "stdout",
     "output_type": "stream",
     "text": [
      "WARNING:tensorflow:sample_weight modes were coerced from\n",
      "  ...\n",
      "    to  \n",
      "  ['...']\n",
      "142/142 [==============================] - 15s 107ms/step - loss: 0.6766 - accuracy: 0.6104 - f1_m: 0.6103 - precision_m: 0.6103 - recall_m: 0.6103\n",
      "El modelo predice el  61.03638410568237 % de los datos\n"
     ]
    }
   ],
   "source": [
    "test_eval = model.evaluate(test, verbose=1)\n",
    "print('El modelo predice el ', test_eval[1]*100,'% de los datos')"
   ]
  },
  {
   "cell_type": "code",
   "execution_count": 16,
   "id": "7e17abbd",
   "metadata": {},
   "outputs": [
    {
     "name": "stdout",
     "output_type": "stream",
     "text": [
      "Las métricas del modelo son:  ['loss', 'accuracy', 'f1_m', 'precision_m', 'recall_m']\n"
     ]
    }
   ],
   "source": [
    "print(\"Las métricas del modelo son: \",model.metrics_names)"
   ]
  },
  {
   "cell_type": "code",
   "execution_count": 17,
   "id": "904bc776",
   "metadata": {},
   "outputs": [
    {
     "name": "stdout",
     "output_type": "stream",
     "text": [
      "Obtenemos las métricas para test, con 50 epocas;  [0.6766303525844091, 0.61036384, 0.6102744, 0.61027443, 0.61027443]\n"
     ]
    }
   ],
   "source": [
    "print(\"Obtenemos las métricas para test, con 50 epocas; \",test_eval)"
   ]
  },
  {
   "cell_type": "markdown",
   "id": "d2fa707e",
   "metadata": {},
   "source": [
    "Aquí estoy haciendo prubas con los datos del articulo pero como solo son dos clases en el articulo hay problemas al yo entrenar con 3 clases"
   ]
  },
  {
   "cell_type": "code",
   "execution_count": 18,
   "id": "2ccb631b",
   "metadata": {},
   "outputs": [],
   "source": [
    "articulo_dir= 'D:/Documentos/Estudio/Maestría/Aprendizaje_Computacional/Implementacion/Deteccion_Articulo/dataset,solocovid,pneumonia'"
   ]
  },
  {
   "cell_type": "code",
   "execution_count": 19,
   "id": "be0e6b2d",
   "metadata": {},
   "outputs": [
    {
     "name": "stdout",
     "output_type": "stream",
     "text": [
      "Found 351 images belonging to 2 classes.\n"
     ]
    }
   ],
   "source": [
    "#LEEMOS LAS IMÁGENES \n",
    "\n",
    "img_height, img_width=ih, iw\n",
    "\n",
    "train_datagen = ImageDataGenerator(rescale=1./255)\n",
    "\n",
    "articulo_generator = train_datagen.flow_from_directory(\n",
    "    articulo_dir,\n",
    "    target_size=(img_height, img_width),\n",
    "    batch_size=batch_size,\n",
    "    class_mode='categorical') # set as training data"
   ]
  },
  {
   "cell_type": "code",
   "execution_count": 20,
   "id": "c7e9168e",
   "metadata": {},
   "outputs": [
    {
     "name": "stdout",
     "output_type": "stream",
     "text": [
      "Utilizando el conjunto de datos del artículo para evaluar el modelo\n",
      "WARNING:tensorflow:sample_weight modes were coerced from\n",
      "  ...\n",
      "    to  \n",
      "  ['...']\n",
      "11/11 [==============================] - 6s 508ms/step - loss: 0.5677 - accuracy: 0.7322 - f1_m: 0.7323 - precision_m: 0.7323 - recall_m: 0.7323\n",
      "El modelo predice el  73.21937084197998 % de los datos\n"
     ]
    }
   ],
   "source": [
    "articulo=articulo_generator\n",
    "print('Utilizando el conjunto de datos del artículo para evaluar el modelo')\n",
    "test_eval = model.evaluate(articulo, verbose=1)\n",
    "print('El modelo predice el ', test_eval[1]*100,'% de los datos')"
   ]
  },
  {
   "cell_type": "code",
   "execution_count": 21,
   "id": "82f5a779",
   "metadata": {},
   "outputs": [
    {
     "name": "stdout",
     "output_type": "stream",
     "text": [
      "Utilizando el conjunto de datos del artículo para evaluar el modelo\n",
      "Loss:  0.5676819357005033\n",
      "Accuracy:  0.7321937\n",
      "F1 Score:  0.732313\n",
      "Precision:  0.7323131\n",
      "Recall:  0.7323131\n"
     ]
    }
   ],
   "source": [
    "print('Utilizando el conjunto de datos del artículo para evaluar el modelo')\n",
    "print('Loss: ',test_eval[0])\n",
    "print('Accuracy: ',test_eval[1])\n",
    "print('F1 Score: ',test_eval[2])\n",
    "print('Precision: ',test_eval[3])\n",
    "print('Recall: ',test_eval[4])"
   ]
  },
  {
   "cell_type": "code",
   "execution_count": null,
   "id": "6f9c6caa",
   "metadata": {},
   "outputs": [],
   "source": []
  },
  {
   "cell_type": "code",
   "execution_count": null,
   "id": "24e294ae",
   "metadata": {},
   "outputs": [],
   "source": []
  }
 ],
 "metadata": {
  "kernelspec": {
   "display_name": "tfGPU",
   "language": "python",
   "name": "tfgpu"
  },
  "language_info": {
   "codemirror_mode": {
    "name": "ipython",
    "version": 3
   },
   "file_extension": ".py",
   "mimetype": "text/x-python",
   "name": "python",
   "nbconvert_exporter": "python",
   "pygments_lexer": "ipython3",
   "version": "3.7.13"
  }
 },
 "nbformat": 4,
 "nbformat_minor": 5
}
