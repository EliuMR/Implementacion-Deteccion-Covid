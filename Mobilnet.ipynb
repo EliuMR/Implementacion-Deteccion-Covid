{
 "cells": [
  {
   "cell_type": "code",
   "execution_count": 1,
   "id": "5e1fc2da-d1cc-4574-9d9f-3cf7207012d2",
   "metadata": {},
   "outputs": [],
   "source": [
    "import glob \n",
    "import numpy as np \n",
    "import os \n",
    "import shutil \n",
    "from sklearn.metrics import confusion_matrix, accuracy_score, precision_score,recall_score\n",
    "import tensorflow as tf\n",
    "from keras_preprocessing.image import ImageDataGenerator,  load_img, img_to_array, array_to_img \n",
    "np.random.seed(42) \n",
    "\n",
    "import matplotlib.pyplot as plt "
   ]
  },
  {
   "cell_type": "code",
   "execution_count": 2,
   "id": "thick-pilot",
   "metadata": {},
   "outputs": [],
   "source": [
    "IM_SHAPE=(224,224)"
   ]
  },
  {
   "cell_type": "code",
   "execution_count": 3,
   "id": "38a73596-fdf6-47ac-97e1-1ea795e853f5",
   "metadata": {},
   "outputs": [],
   "source": [
    "files= glob.glob('C:/Users/hecto/Downloads/MachineCrypto/Proyecto/dataset/Xray-covid/*')\n",
    "files2=glob.glob('C:/Users/hecto/Downloads/MachineCrypto/Proyecto/dataset/Xray-sanos/*')"
   ]
  },
  {
   "cell_type": "code",
   "execution_count": 4,
   "id": "entitled-function",
   "metadata": {},
   "outputs": [],
   "source": [
    "filesCOV= glob.glob('C:/Users/hecto/Downloads/MachineCrypto/Proyecto/CompleteDataset/Lung Segmentation Data/Lung Segmentation Data/ALL/COVID-19/*')\n",
    "filesNOCOV=glob.glob('C:/Users/hecto/Downloads/MachineCrypto/Proyecto/CompleteDataset/Lung Segmentation Data/Lung Segmentation Data/ALL/Normal/images/*')\n"
   ]
  },
  {
   "cell_type": "code",
   "execution_count": 5,
   "id": "62ee665a-90b0-4842-b81c-6f71a0dd3d31",
   "metadata": {},
   "outputs": [
    {
     "data": {
      "text/plain": [
       "(132, 137, 11956, 10701)"
      ]
     },
     "execution_count": 5,
     "metadata": {},
     "output_type": "execute_result"
    }
   ],
   "source": [
    "COVID_files = [fn for fn in files if 'covid' in fn] \n",
    "HEALTHY_files = [fn for fn in files2 if 'sanos' in fn] \n",
    "\n",
    "COVID = [fn for fn in filesCOV if 'covid' in fn] \n",
    "HEALTHY = [fn for fn in filesNOCOV if 'sano' in fn] \n",
    "\n",
    "len(COVID_files),len(HEALTHY_files),len(COVID), len(HEALTHY)"
   ]
  },
  {
   "cell_type": "code",
   "execution_count": 6,
   "id": "250e7cf3-7424-4862-b16a-60cce6845b4f",
   "metadata": {},
   "outputs": [
    {
     "name": "stdout",
     "output_type": "stream",
     "text": [
      "COVID datasets: (90,) (40,)\n",
      "HEALTHY datasets: (90,) (40,) (1000,)\n"
     ]
    }
   ],
   "source": [
    "COVID_train = np.random.choice(COVID_files, size=90, replace=False) \n",
    "HEALTHY_train = np.random.choice(HEALTHY_files, size=90, replace=False) \n",
    "COVID_files = list(set(COVID_files) - set(COVID_train)) \n",
    "HEALTHY_files = list(set(HEALTHY_files) - set(HEALTHY_train)) \n",
    " \n",
    "COVID_val = np.random.choice(COVID_files, size=40, replace=False) \n",
    "HEALTHY_val = np.random.choice(HEALTHY_files, size=40, replace=False) \n",
    "COVID_files = list(set(COVID_files) - set(COVID_val)) \n",
    "HEALTHY_files = list(set(HEALTHY_files) - set(HEALTHY_val)) \n",
    " \n",
    "#COVID_test = np.random.choice(COVID_files, size=12, replace=False) \n",
    "#HEALTHY_test = np.random.choice(HEALTHY_files, size=17, replace=False) \n",
    "\n",
    "COVID_val2 = np.random.choice(filesCOV, size=1000, replace=False) \n",
    "HEALTHY_val2 = np.random.choice(filesNOCOV, size=1000, replace=False) \n",
    "filesCOV = list(set(filesCOV) - set(COVID_val)) \n",
    "filesNOCOV = list(set(filesNOCOV) - set(HEALTHY_val)) \n",
    "\n",
    "print('COVID datasets:', COVID_train.shape, COVID_val.shape) \n",
    "print('HEALTHY datasets:', HEALTHY_train.shape, HEALTHY_val.shape,HEALTHY_val2.shape) "
   ]
  },
  {
   "cell_type": "code",
   "execution_count": 7,
   "id": "75af89b5-c78d-46c0-b85c-3b8946e30610",
   "metadata": {},
   "outputs": [],
   "source": [
    "train_dir = 'D:/dataset/DATAOG/training_data' \n",
    "val_dir = 'D:/dataset/DATAOG/validation_data' \n",
    "#test_dir = 'D:/dataset/DATAOG/test_data' \n",
    "\n",
    "val2_dir='D:/dataset/DATAOG/val2'\n",
    "    \n",
    "train_files = np.concatenate([COVID_train, HEALTHY_train]) \n",
    "validate_files = np.concatenate([COVID_val, HEALTHY_val]) \n",
    "#test_files = np.concatenate([COVID_test, HEALTHY_test])\n",
    "val_files2=np.concatenate([COVID_val2,HEALTHY_val2])\n",
    "\n",
    "os.mkdir(train_dir) if not os.path.isdir(train_dir) else None \n",
    "os.mkdir(val_dir) if not os.path.isdir(val_dir) else None \n",
    "#os.mkdir(test_dir) if not os.path.isdir(test_dir) else None \n",
    "os.mkdir(val2_dir) if not os.path.isdir(val2_dir) else None\n",
    " \n",
    "for fn in train_files: \n",
    "    shutil.copy(fn, train_dir) \n",
    "for fn in validate_files: \n",
    "    shutil.copy(fn, val_dir) \n",
    "#for fn in test_files: \n",
    "   # shutil.copy(fn, test_dir) \n",
    "for fn in val_files2:\n",
    "    shutil.copy(fn, val2_dir)\n",
    " "
   ]
  },
  {
   "cell_type": "code",
   "execution_count": 8,
   "id": "d5213573-3d71-4bd5-95d2-a9d9fd643208",
   "metadata": {},
   "outputs": [
    {
     "name": "stdout",
     "output_type": "stream",
     "text": [
      "Train dataset shape: (180, 224, 224, 3) Validation dataset shape: (80, 224, 224, 3)\n"
     ]
    }
   ],
   "source": [
    "IMG_DIM = IM_SHAPE\n",
    " \n",
    "train_files = glob.glob('D:/dataset/DATAOG/training_data/*') \n",
    "train_imgs = [img_to_array(load_img(img, target_size=IMG_DIM)) for img  \n",
    "              in train_files] \n",
    "train_imgs = np.array(train_imgs) \n",
    "train_labels = [fn.split('\\\\')[1].split('.')[0].strip() for fn in \n",
    "                train_files] \n",
    " \n",
    "validation_files = glob.glob('D:/dataset/DATAOG/validation_data/*') \n",
    "validation_imgs = [img_to_array(load_img(img, target_size=IMG_DIM)) for \n",
    "                   img in validation_files] \n",
    "validation_imgs = np.array(validation_imgs) \n",
    "validation_labels = [fn.split('\\\\')[1].split('.')[0].strip() for fn in \n",
    "                     validation_files] \n",
    "\n",
    "validation2_files = glob.glob('D:/dataset/DATAOG/val2/*') \n",
    "validation2_imgs = [img_to_array(load_img(img, target_size=IMG_DIM)) for \n",
    "                   img in val_files2] \n",
    "validation2_imgs = np.array(validation2_imgs) \n",
    "validation2_labels = [fn.split('\\\\')[1].split('.')[0].strip() for fn in \n",
    "                     val_files2] \n",
    " \n",
    "print('Train dataset shape:', train_imgs.shape,  \n",
    "      'Validation dataset shape:', validation_imgs.shape) "
   ]
  },
  {
   "cell_type": "code",
   "execution_count": 9,
   "id": "usual-witch",
   "metadata": {},
   "outputs": [
    {
     "data": {
      "text/plain": [
       "80"
      ]
     },
     "execution_count": 9,
     "metadata": {},
     "output_type": "execute_result"
    }
   ],
   "source": [
    "len(validation_labels)"
   ]
  },
  {
   "cell_type": "code",
   "execution_count": 10,
   "id": "secure-moral",
   "metadata": {},
   "outputs": [
    {
     "name": "stdout",
     "output_type": "stream",
     "text": [
      "(2000, 224, 224, 3) 2000\n"
     ]
    }
   ],
   "source": [
    "print(validation2_imgs.shape,len(validation2_labels))"
   ]
  },
  {
   "cell_type": "code",
   "execution_count": 11,
   "id": "2aa0df94-ca08-4273-9fee-21dbb020a18d",
   "metadata": {},
   "outputs": [
    {
     "name": "stdout",
     "output_type": "stream",
     "text": [
      "(224, 224, 3)\n"
     ]
    },
    {
     "data": {
      "image/png": "[encoded data removed]",
      "text/plain": [
       "<PIL.Image.Image image mode=RGB size=224x224>"
      ]
     },
     "execution_count": 11,
     "metadata": {},
     "output_type": "execute_result"
    }
   ],
   "source": [
    "train_imgs_scaled = train_imgs.astype('float32') \n",
    "validation_imgs_scaled = validation_imgs.astype('float32') \n",
    "validation2_imgs_scaled=validation2_imgs.astype('float32')\n",
    "train_imgs_scaled /= 255 \n",
    "validation_imgs_scaled /= 255 \n",
    "validation2_imgs_scaled /=255\n",
    "# visualize a sample image \n",
    "print(train_imgs[0].shape) \n",
    "array_to_img(train_imgs[0]) "
   ]
  },
  {
   "cell_type": "code",
   "execution_count": 12,
   "id": "0d927e13-5227-47cd-86fe-7b22a0466979",
   "metadata": {},
   "outputs": [],
   "source": [
    "for i in range(180):\n",
    "    if train_labels[i].find(\"sano\")==-1:\n",
    "        train_labels[i]='covid'\n",
    "    else :\n",
    "        train_labels[i]='sano'\n",
    "for i in range(80):\n",
    "    if validation_labels[i].find(\"sano\")==-1:\n",
    "        validation_labels[i]='covid'\n",
    "    else :\n",
    "        validation_labels[i]='sano'\n",
    "for i in range(2000):\n",
    "    if validation2_labels[i].find(\"sano\")==-1:\n",
    "        validation2_labels[i]='covid'\n",
    "    else :\n",
    "        validation2_labels[i]='sano'        "
   ]
  },
  {
   "cell_type": "code",
   "execution_count": 13,
   "id": "polar-fitness",
   "metadata": {},
   "outputs": [
    {
     "data": {
      "text/plain": [
       "'sano'"
      ]
     },
     "execution_count": 13,
     "metadata": {},
     "output_type": "execute_result"
    }
   ],
   "source": [
    "train_labels[150]"
   ]
  },
  {
   "cell_type": "code",
   "execution_count": 14,
   "id": "6a3485a7-8763-4821-aa33-58870664f252",
   "metadata": {},
   "outputs": [
    {
     "name": "stdout",
     "output_type": "stream",
     "text": [
      "[] []\n"
     ]
    }
   ],
   "source": [
    "batch_size = 30 \n",
    "num_classes = 2 \n",
    "epochs = 30 \n",
    "input_shape = (IM_SHAPE[0],IM_SHAPE[1], 3) \n",
    " \n",
    "# encode text category labels \n",
    "from sklearn.preprocessing import LabelEncoder \n",
    " \n",
    "le = LabelEncoder() \n",
    "le.fit(train_labels) \n",
    "train_labels_enc = le.transform(train_labels) \n",
    "validation_labels_enc = le.transform(validation_labels) \n",
    "validation_labels2_enc=le.transform(validation2_labels)\n",
    "print(train_labels[190:195], train_labels_enc[195:200]) "
   ]
  },
  {
   "cell_type": "code",
   "execution_count": 15,
   "id": "celtic-warning",
   "metadata": {},
   "outputs": [
    {
     "data": {
      "text/plain": [
       "'sano'"
      ]
     },
     "execution_count": 15,
     "metadata": {},
     "output_type": "execute_result"
    }
   ],
   "source": [
    "train_labels[150]"
   ]
  },
  {
   "cell_type": "code",
   "execution_count": 16,
   "id": "715c0b9c-0bcc-4455-bd56-519ffcc276b1",
   "metadata": {},
   "outputs": [
    {
     "name": "stdout",
     "output_type": "stream",
     "text": [
      "Model: \"model\"\n",
      "_________________________________________________________________\n",
      " Layer (type)                Output Shape              Param #   \n",
      "=================================================================\n",
      " input_1 (InputLayer)        [(None, 224, 224, 3)]     0         \n",
      "                                                                 \n",
      " conv1 (Conv2D)              (None, 112, 112, 32)      864       \n",
      "                                                                 \n",
      " conv1_bn (BatchNormalizatio  (None, 112, 112, 32)     128       \n",
      " n)                                                              \n",
      "                                                                 \n",
      " conv1_relu (ReLU)           (None, 112, 112, 32)      0         \n",
      "                                                                 \n",
      " conv_dw_1 (DepthwiseConv2D)  (None, 112, 112, 32)     288       \n",
      "                                                                 \n",
      " conv_dw_1_bn (BatchNormaliz  (None, 112, 112, 32)     128       \n",
      " ation)                                                          \n",
      "                                                                 \n",
      " conv_dw_1_relu (ReLU)       (None, 112, 112, 32)      0         \n",
      "                                                                 \n",
      " conv_pw_1 (Conv2D)          (None, 112, 112, 64)      2048      \n",
      "                                                                 \n",
      " conv_pw_1_bn (BatchNormaliz  (None, 112, 112, 64)     256       \n",
      " ation)                                                          \n",
      "                                                                 \n",
      " conv_pw_1_relu (ReLU)       (None, 112, 112, 64)      0         \n",
      "                                                                 \n",
      " conv_pad_2 (ZeroPadding2D)  (None, 113, 113, 64)      0         \n",
      "                                                                 \n",
      " conv_dw_2 (DepthwiseConv2D)  (None, 56, 56, 64)       576       \n",
      "                                                                 \n",
      " conv_dw_2_bn (BatchNormaliz  (None, 56, 56, 64)       256       \n",
      " ation)                                                          \n",
      "                                                                 \n",
      " conv_dw_2_relu (ReLU)       (None, 56, 56, 64)        0         \n",
      "                                                                 \n",
      " conv_pw_2 (Conv2D)          (None, 56, 56, 128)       8192      \n",
      "                                                                 \n",
      " conv_pw_2_bn (BatchNormaliz  (None, 56, 56, 128)      512       \n",
      " ation)                                                          \n",
      "                                                                 \n",
      " conv_pw_2_relu (ReLU)       (None, 56, 56, 128)       0         \n",
      "                                                                 \n",
      " conv_dw_3 (DepthwiseConv2D)  (None, 56, 56, 128)      1152      \n",
      "                                                                 \n",
      " conv_dw_3_bn (BatchNormaliz  (None, 56, 56, 128)      512       \n",
      " ation)                                                          \n",
      "                                                                 \n",
      " conv_dw_3_relu (ReLU)       (None, 56, 56, 128)       0         \n",
      "                                                                 \n",
      " conv_pw_3 (Conv2D)          (None, 56, 56, 128)       16384     \n",
      "                                                                 \n",
      " conv_pw_3_bn (BatchNormaliz  (None, 56, 56, 128)      512       \n",
      " ation)                                                          \n",
      "                                                                 \n",
      " conv_pw_3_relu (ReLU)       (None, 56, 56, 128)       0         \n",
      "                                                                 \n",
      " conv_pad_4 (ZeroPadding2D)  (None, 57, 57, 128)       0         \n",
      "                                                                 \n",
      " conv_dw_4 (DepthwiseConv2D)  (None, 28, 28, 128)      1152      \n",
      "                                                                 \n",
      " conv_dw_4_bn (BatchNormaliz  (None, 28, 28, 128)      512       \n",
      " ation)                                                          \n",
      "                                                                 \n",
      " conv_dw_4_relu (ReLU)       (None, 28, 28, 128)       0         \n",
      "                                                                 \n",
      " conv_pw_4 (Conv2D)          (None, 28, 28, 256)       32768     \n",
      "                                                                 \n",
      " conv_pw_4_bn (BatchNormaliz  (None, 28, 28, 256)      1024      \n",
      " ation)                                                          \n",
      "                                                                 \n",
      " conv_pw_4_relu (ReLU)       (None, 28, 28, 256)       0         \n",
      "                                                                 \n",
      " conv_dw_5 (DepthwiseConv2D)  (None, 28, 28, 256)      2304      \n",
      "                                                                 \n",
      " conv_dw_5_bn (BatchNormaliz  (None, 28, 28, 256)      1024      \n",
      " ation)                                                          \n",
      "                                                                 \n",
      " conv_dw_5_relu (ReLU)       (None, 28, 28, 256)       0         \n",
      "                                                                 \n",
      " conv_pw_5 (Conv2D)          (None, 28, 28, 256)       65536     \n",
      "                                                                 \n",
      " conv_pw_5_bn (BatchNormaliz  (None, 28, 28, 256)      1024      \n",
      " ation)                                                          \n",
      "                                                                 \n",
      " conv_pw_5_relu (ReLU)       (None, 28, 28, 256)       0         \n",
      "                                                                 \n",
      " conv_pad_6 (ZeroPadding2D)  (None, 29, 29, 256)       0         \n",
      "                                                                 \n",
      " conv_dw_6 (DepthwiseConv2D)  (None, 14, 14, 256)      2304      \n",
      "                                                                 \n",
      " conv_dw_6_bn (BatchNormaliz  (None, 14, 14, 256)      1024      \n",
      " ation)                                                          \n",
      "                                                                 \n",
      " conv_dw_6_relu (ReLU)       (None, 14, 14, 256)       0         \n",
      "                                                                 \n",
      " conv_pw_6 (Conv2D)          (None, 14, 14, 512)       131072    \n",
      "                                                                 \n",
      " conv_pw_6_bn (BatchNormaliz  (None, 14, 14, 512)      2048      \n",
      " ation)                                                          \n",
      "                                                                 \n",
      " conv_pw_6_relu (ReLU)       (None, 14, 14, 512)       0         \n",
      "                                                                 \n",
      " conv_dw_7 (DepthwiseConv2D)  (None, 14, 14, 512)      4608      \n",
      "                                                                 \n",
      " conv_dw_7_bn (BatchNormaliz  (None, 14, 14, 512)      2048      \n",
      " ation)                                                          \n",
      "                                                                 \n",
      " conv_dw_7_relu (ReLU)       (None, 14, 14, 512)       0         \n",
      "                                                                 \n",
      " conv_pw_7 (Conv2D)          (None, 14, 14, 512)       262144    \n",
      "                                                                 \n",
      " conv_pw_7_bn (BatchNormaliz  (None, 14, 14, 512)      2048      \n",
      " ation)                                                          \n",
      "                                                                 \n",
      " conv_pw_7_relu (ReLU)       (None, 14, 14, 512)       0         \n",
      "                                                                 \n",
      " conv_dw_8 (DepthwiseConv2D)  (None, 14, 14, 512)      4608      \n",
      "                                                                 \n",
      " conv_dw_8_bn (BatchNormaliz  (None, 14, 14, 512)      2048      \n",
      " ation)                                                          \n",
      "                                                                 \n",
      " conv_dw_8_relu (ReLU)       (None, 14, 14, 512)       0         \n",
      "                                                                 \n",
      " conv_pw_8 (Conv2D)          (None, 14, 14, 512)       262144    \n"
     ]
    },
    {
     "name": "stdout",
     "output_type": "stream",
     "text": [
      "                                                                 \n",
      " conv_pw_8_bn (BatchNormaliz  (None, 14, 14, 512)      2048      \n",
      " ation)                                                          \n",
      "                                                                 \n",
      " conv_pw_8_relu (ReLU)       (None, 14, 14, 512)       0         \n",
      "                                                                 \n",
      " conv_dw_9 (DepthwiseConv2D)  (None, 14, 14, 512)      4608      \n",
      "                                                                 \n",
      " conv_dw_9_bn (BatchNormaliz  (None, 14, 14, 512)      2048      \n",
      " ation)                                                          \n",
      "                                                                 \n",
      " conv_dw_9_relu (ReLU)       (None, 14, 14, 512)       0         \n",
      "                                                                 \n",
      " conv_pw_9 (Conv2D)          (None, 14, 14, 512)       262144    \n",
      "                                                                 \n",
      " conv_pw_9_bn (BatchNormaliz  (None, 14, 14, 512)      2048      \n",
      " ation)                                                          \n",
      "                                                                 \n",
      " conv_pw_9_relu (ReLU)       (None, 14, 14, 512)       0         \n",
      "                                                                 \n",
      " conv_dw_10 (DepthwiseConv2D  (None, 14, 14, 512)      4608      \n",
      " )                                                               \n",
      "                                                                 \n",
      " conv_dw_10_bn (BatchNormali  (None, 14, 14, 512)      2048      \n",
      " zation)                                                         \n",
      "                                                                 \n",
      " conv_dw_10_relu (ReLU)      (None, 14, 14, 512)       0         \n",
      "                                                                 \n",
      " conv_pw_10 (Conv2D)         (None, 14, 14, 512)       262144    \n",
      "                                                                 \n",
      " conv_pw_10_bn (BatchNormali  (None, 14, 14, 512)      2048      \n",
      " zation)                                                         \n",
      "                                                                 \n",
      " conv_pw_10_relu (ReLU)      (None, 14, 14, 512)       0         \n",
      "                                                                 \n",
      " conv_dw_11 (DepthwiseConv2D  (None, 14, 14, 512)      4608      \n",
      " )                                                               \n",
      "                                                                 \n",
      " conv_dw_11_bn (BatchNormali  (None, 14, 14, 512)      2048      \n",
      " zation)                                                         \n",
      "                                                                 \n",
      " conv_dw_11_relu (ReLU)      (None, 14, 14, 512)       0         \n",
      "                                                                 \n",
      " conv_pw_11 (Conv2D)         (None, 14, 14, 512)       262144    \n",
      "                                                                 \n",
      " conv_pw_11_bn (BatchNormali  (None, 14, 14, 512)      2048      \n",
      " zation)                                                         \n",
      "                                                                 \n",
      " conv_pw_11_relu (ReLU)      (None, 14, 14, 512)       0         \n",
      "                                                                 \n",
      " conv_pad_12 (ZeroPadding2D)  (None, 15, 15, 512)      0         \n",
      "                                                                 \n",
      " conv_dw_12 (DepthwiseConv2D  (None, 7, 7, 512)        4608      \n",
      " )                                                               \n",
      "                                                                 \n",
      " conv_dw_12_bn (BatchNormali  (None, 7, 7, 512)        2048      \n",
      " zation)                                                         \n",
      "                                                                 \n",
      " conv_dw_12_relu (ReLU)      (None, 7, 7, 512)         0         \n",
      "                                                                 \n",
      " conv_pw_12 (Conv2D)         (None, 7, 7, 1024)        524288    \n",
      "                                                                 \n",
      " conv_pw_12_bn (BatchNormali  (None, 7, 7, 1024)       4096      \n",
      " zation)                                                         \n",
      "                                                                 \n",
      " conv_pw_12_relu (ReLU)      (None, 7, 7, 1024)        0         \n",
      "                                                                 \n",
      " conv_dw_13 (DepthwiseConv2D  (None, 7, 7, 1024)       9216      \n",
      " )                                                               \n",
      "                                                                 \n",
      " conv_dw_13_bn (BatchNormali  (None, 7, 7, 1024)       4096      \n",
      " zation)                                                         \n",
      "                                                                 \n",
      " conv_dw_13_relu (ReLU)      (None, 7, 7, 1024)        0         \n",
      "                                                                 \n",
      " conv_pw_13 (Conv2D)         (None, 7, 7, 1024)        1048576   \n",
      "                                                                 \n",
      " conv_pw_13_bn (BatchNormali  (None, 7, 7, 1024)       4096      \n",
      " zation)                                                         \n",
      "                                                                 \n",
      " conv_pw_13_relu (ReLU)      (None, 7, 7, 1024)        0         \n",
      "                                                                 \n",
      " flatten (Flatten)           (None, 50176)             0         \n",
      "                                                                 \n",
      "=================================================================\n",
      "Total params: 3,228,864\n",
      "Trainable params: 0\n",
      "Non-trainable params: 3,228,864\n",
      "_________________________________________________________________\n"
     ]
    }
   ],
   "source": [
    "from keras.applications import MobileNet \n",
    "from keras.models import Model \n",
    "import keras \n",
    " \n",
    "vgg = MobileNet(include_top=False, weights='imagenet',  \n",
    "                                     input_shape=input_shape) \n",
    "\n",
    "# we have removed the final part of the classifier pertaining to the VGG-16 model \n",
    "#since we will be building our own classifier and leveraging VGG as a feature extractor\n",
    "output = vgg.layers[-1].output \n",
    "output = keras.layers.Flatten()(output) \n",
    "vgg_model = Model(vgg.input, output) \n",
    "vgg_model.trainable = False \n",
    " \n",
    "for layer in vgg_model.layers: \n",
    "    layer.trainable = False \n",
    "\n",
    "vgg_model.summary()"
   ]
  },
  {
   "cell_type": "code",
   "execution_count": 17,
   "id": "032abe64-9bc8-4012-88cd-0d44afd3b991",
   "metadata": {},
   "outputs": [
    {
     "name": "stderr",
     "output_type": "stream",
     "text": [
      "C:\\Users\\hecto\\AppData\\Local\\Temp\\ipykernel_10592\\1885812186.py:3: FutureWarning: Passing a negative integer is deprecated in version 1.0 and will not be supported in future version. Instead, use None to not limit the column width.\n",
      "  pd.set_option('max_colwidth', -1)\n"
     ]
    },
    {
     "data": {
      "text/html": [
       "<div>\n",
       "<style scoped>\n",
       "    .dataframe tbody tr th:only-of-type {\n",
       "        vertical-align: middle;\n",
       "    }\n",
       "\n",
       "    .dataframe tbody tr th {\n",
       "        vertical-align: top;\n",
       "    }\n",
       "\n",
       "    .dataframe thead th {\n",
       "        text-align: right;\n",
       "    }\n",
       "</style>\n",
       "<table border=\"1\" class=\"dataframe\">\n",
       "  <thead>\n",
       "    <tr style=\"text-align: right;\">\n",
       "      <th></th>\n",
       "      <th>Layer Type</th>\n",
       "      <th>Layer Name</th>\n",
       "      <th>Layer Trainable</th>\n",
       "    </tr>\n",
       "  </thead>\n",
       "  <tbody>\n",
       "    <tr>\n",
       "      <th>0</th>\n",
       "      <td>&lt;keras.engine.input_layer.InputLayer object at 0x00000214FE8E8EB0&gt;</td>\n",
       "      <td>input_1</td>\n",
       "      <td>False</td>\n",
       "    </tr>\n",
       "    <tr>\n",
       "      <th>1</th>\n",
       "      <td>&lt;keras.layers.convolutional.conv2d.Conv2D object at 0x00000214EDE51550&gt;</td>\n",
       "      <td>conv1</td>\n",
       "      <td>False</td>\n",
       "    </tr>\n",
       "    <tr>\n",
       "      <th>2</th>\n",
       "      <td>&lt;keras.layers.normalization.batch_normalization.BatchNormalization object at 0x00000214EDE51CD0&gt;</td>\n",
       "      <td>conv1_bn</td>\n",
       "      <td>False</td>\n",
       "    </tr>\n",
       "    <tr>\n",
       "      <th>3</th>\n",
       "      <td>&lt;keras.layers.activation.relu.ReLU object at 0x00000214EDE517C0&gt;</td>\n",
       "      <td>conv1_relu</td>\n",
       "      <td>False</td>\n",
       "    </tr>\n",
       "    <tr>\n",
       "      <th>4</th>\n",
       "      <td>&lt;keras.layers.convolutional.depthwise_conv2d.DepthwiseConv2D object at 0x00000215987C0DF0&gt;</td>\n",
       "      <td>conv_dw_1</td>\n",
       "      <td>False</td>\n",
       "    </tr>\n",
       "    <tr>\n",
       "      <th>...</th>\n",
       "      <td>...</td>\n",
       "      <td>...</td>\n",
       "      <td>...</td>\n",
       "    </tr>\n",
       "    <tr>\n",
       "      <th>82</th>\n",
       "      <td>&lt;keras.layers.activation.relu.ReLU object at 0x000002159EC74280&gt;</td>\n",
       "      <td>conv_dw_13_relu</td>\n",
       "      <td>False</td>\n",
       "    </tr>\n",
       "    <tr>\n",
       "      <th>83</th>\n",
       "      <td>&lt;keras.layers.convolutional.conv2d.Conv2D object at 0x000002159EC76100&gt;</td>\n",
       "      <td>conv_pw_13</td>\n",
       "      <td>False</td>\n",
       "    </tr>\n",
       "    <tr>\n",
       "      <th>84</th>\n",
       "      <td>&lt;keras.layers.normalization.batch_normalization.BatchNormalization object at 0x000002159EC7FA30&gt;</td>\n",
       "      <td>conv_pw_13_bn</td>\n",
       "      <td>False</td>\n",
       "    </tr>\n",
       "    <tr>\n",
       "      <th>85</th>\n",
       "      <td>&lt;keras.layers.activation.relu.ReLU object at 0x000002159EC72AF0&gt;</td>\n",
       "      <td>conv_pw_13_relu</td>\n",
       "      <td>False</td>\n",
       "    </tr>\n",
       "    <tr>\n",
       "      <th>86</th>\n",
       "      <td>&lt;keras.layers.reshaping.flatten.Flatten object at 0x000002159EC86B50&gt;</td>\n",
       "      <td>flatten</td>\n",
       "      <td>False</td>\n",
       "    </tr>\n",
       "  </tbody>\n",
       "</table>\n",
       "<p>87 rows × 3 columns</p>\n",
       "</div>"
      ],
      "text/plain": [
       "                                                                                          Layer Type  \\\n",
       "0   <keras.engine.input_layer.InputLayer object at 0x00000214FE8E8EB0>                                 \n",
       "1   <keras.layers.convolutional.conv2d.Conv2D object at 0x00000214EDE51550>                            \n",
       "2   <keras.layers.normalization.batch_normalization.BatchNormalization object at 0x00000214EDE51CD0>   \n",
       "3   <keras.layers.activation.relu.ReLU object at 0x00000214EDE517C0>                                   \n",
       "4   <keras.layers.convolutional.depthwise_conv2d.DepthwiseConv2D object at 0x00000215987C0DF0>         \n",
       "..                                                                                         ...         \n",
       "82  <keras.layers.activation.relu.ReLU object at 0x000002159EC74280>                                   \n",
       "83  <keras.layers.convolutional.conv2d.Conv2D object at 0x000002159EC76100>                            \n",
       "84  <keras.layers.normalization.batch_normalization.BatchNormalization object at 0x000002159EC7FA30>   \n",
       "85  <keras.layers.activation.relu.ReLU object at 0x000002159EC72AF0>                                   \n",
       "86  <keras.layers.reshaping.flatten.Flatten object at 0x000002159EC86B50>                              \n",
       "\n",
       "         Layer Name  Layer Trainable  \n",
       "0   input_1          False            \n",
       "1   conv1            False            \n",
       "2   conv1_bn         False            \n",
       "3   conv1_relu       False            \n",
       "4   conv_dw_1        False            \n",
       "..        ...          ...            \n",
       "82  conv_dw_13_relu  False            \n",
       "83  conv_pw_13       False            \n",
       "84  conv_pw_13_bn    False            \n",
       "85  conv_pw_13_relu  False            \n",
       "86  flatten          False            \n",
       "\n",
       "[87 rows x 3 columns]"
      ]
     },
     "execution_count": 17,
     "metadata": {},
     "output_type": "execute_result"
    }
   ],
   "source": [
    "# To verify that the layers of the VGG-16 model are frozen, we can use the following code:\n",
    "import pandas as pd \n",
    "pd.set_option('max_colwidth', -1) \n",
    " \n",
    "layers = [(layer, layer.name, layer.trainable) for layer in \n",
    "           vgg_model.layers] \n",
    "pd.DataFrame(layers, columns=['Layer Type', 'Layer Name', 'Layer Trainable'])"
   ]
  },
  {
   "cell_type": "code",
   "execution_count": 18,
   "id": "ed2462bf-6828-42a6-9887-618d721b2b18",
   "metadata": {},
   "outputs": [
    {
     "name": "stdout",
     "output_type": "stream",
     "text": [
      "Trainable layers: []\n"
     ]
    }
   ],
   "source": [
    "print(\"Trainable layers:\", vgg_model.trainable_weights)\n"
   ]
  },
  {
   "cell_type": "code",
   "execution_count": 19,
   "id": "f0976c81-c76a-46bc-9bc7-138bd5db1e17",
   "metadata": {},
   "outputs": [
    {
     "name": "stdout",
     "output_type": "stream",
     "text": [
      "1/1 [==============================] - 1s 1s/step\n",
      "(1, 7, 7, 1024)\n"
     ]
    },
    {
     "data": {
      "text/plain": [
       "<matplotlib.image.AxesImage at 0x215a99ca640>"
      ]
     },
     "execution_count": 19,
     "metadata": {},
     "output_type": "execute_result"
    },
    {
     "data": {
      "image/png": "[encoded data removed]",
      "text/plain": [
       "<Figure size 432x288 with 1 Axes>"
      ]
     },
     "metadata": {
      "needs_background": "light"
     },
     "output_type": "display_data"
    }
   ],
   "source": [
    "bottleneck_feature_example = vgg.predict(train_imgs_scaled[0:1])\n",
    "print(bottleneck_feature_example.shape) \n",
    "plt.imshow(bottleneck_feature_example[0][:,:,0]) "
   ]
  },
  {
   "cell_type": "code",
   "execution_count": 20,
   "id": "a58f6c4b-3c55-45de-9575-a23ae2e51f71",
   "metadata": {},
   "outputs": [
    {
     "name": "stdout",
     "output_type": "stream",
     "text": [
      "Train Bottleneck Features: (180, 50176) \tValidation Bottleneck Features: (80, 50176)\n"
     ]
    }
   ],
   "source": [
    "def get_bottleneck_features(model, input_imgs): \n",
    "    features = model.predict(input_imgs, verbose=0) \n",
    "    return features \n",
    "\n",
    "train_features_vgg = get_bottleneck_features(vgg_model, \n",
    "                                             train_imgs_scaled) \n",
    "validation_features_vgg = get_bottleneck_features(vgg_model,      \n",
    "                                                validation_imgs_scaled) \n",
    "\n",
    "print('Train Bottleneck Features:', train_features_vgg.shape, \n",
    "      '\\tValidation Bottleneck Features:', validation_features_vgg.shape) "
   ]
  },
  {
   "cell_type": "code",
   "execution_count": 21,
   "id": "conscious-scholar",
   "metadata": {},
   "outputs": [],
   "source": [
    "validation_features_vgg2=get_bottleneck_features(vgg_model,validation2_imgs_scaled)"
   ]
  },
  {
   "cell_type": "code",
   "execution_count": 22,
   "id": "fa53e1da-0316-421c-9f20-b91a286c353f",
   "metadata": {},
   "outputs": [],
   "source": [
    "from sklearn.ensemble import BaggingClassifier\n",
    "from sklearn.tree import DecisionTreeClassifier\n",
    "from sklearn.model_selection import cross_val_score\n",
    "from sklearn.model_selection import cross_validate\n",
    "from sklearn.model_selection import cross_val_predict\n",
    "from sklearn.metrics import f1_score\n",
    "from sklearn.ensemble import RandomForestClassifier\n",
    "from xgboost import XGBClassifier\n",
    "from sklearn.ensemble import AdaBoostClassifier\n",
    "from lightgbm import LGBMClassifier"
   ]
  },
  {
   "cell_type": "code",
   "execution_count": 23,
   "id": "different-indonesian",
   "metadata": {},
   "outputs": [],
   "source": [
    "X_train=train_features_vgg\n",
    "y_train=train_labels_enc\n",
    "X_valid=validation_features_vgg\n",
    "y_valid=validation_labels_enc\n"
   ]
  },
  {
   "cell_type": "code",
   "execution_count": 24,
   "id": "genuine-argument",
   "metadata": {},
   "outputs": [],
   "source": [
    "X_valid2=validation_features_vgg2\n",
    "y_valid2=validation_labels2_enc"
   ]
  },
  {
   "cell_type": "code",
   "execution_count": 25,
   "id": "84945a79-9939-4422-98d6-eee335dc98d3",
   "metadata": {},
   "outputs": [
    {
     "name": "stdout",
     "output_type": "stream",
     "text": [
      "Tiempo de entrenamiento:  1.0175121307373047\n",
      "Accuracy:  0.9444444444444444\n",
      "Recall:  0.9666666666666666\n",
      "Precision:  0.9338888888888889\n",
      "F1-score:  0.9470489950366112\n"
     ]
    }
   ],
   "source": [
    "scores = cross_validate(BaggingClassifier(\n",
    "base_estimator=DecisionTreeClassifier(),\n",
    "n_estimators=5\n",
    "), X_train ,y_train, cv=10,scoring=('accuracy','recall','precision','f1'))\n",
    "#print(\"%0.2f accuracy with a standard deviation of %0.2f\"  (scores.mean(), scores.std()))\n",
    "print('Tiempo de entrenamiento: ',scores['fit_time'].mean())\n",
    "print('Accuracy: ',scores['test_accuracy'].mean())\n",
    "print('Recall: ',scores['test_recall'].mean())\n",
    "print('Precision: ',scores['test_precision'].mean())\n",
    "print('F1-score: ',scores['test_f1'].mean())"
   ]
  },
  {
   "cell_type": "code",
   "execution_count": 26,
   "id": "removed-weapon",
   "metadata": {},
   "outputs": [
    {
     "name": "stdout",
     "output_type": "stream",
     "text": [
      "Tiempo de entrenamiento:  0.030982208251953126\n",
      "Accuracy:  0.9166666666666666\n",
      "Recall:  0.9111111111111112\n",
      "Precision:  0.9307070707070707\n",
      "F1-score:  0.9158083935328518\n"
     ]
    }
   ],
   "source": [
    "scores = cross_validate(RandomForestClassifier(n_estimators=5), X_train ,y_train, cv=10,scoring=('accuracy','recall','precision','f1'))\n",
    "#print(\"%0.2f accuracy with a standard deviation of %0.2f\"  (scores.mean(), scores.std()))\n",
    "print('Tiempo de entrenamiento: ',scores['fit_time'].mean())\n",
    "print('Accuracy: ',scores['test_accuracy'].mean())\n",
    "print('Recall: ',scores['test_recall'].mean())\n",
    "print('Precision: ',scores['test_precision'].mean())\n",
    "print('F1-score: ',scores['test_f1'].mean())"
   ]
  },
  {
   "cell_type": "code",
   "execution_count": 27,
   "id": "growing-stomach",
   "metadata": {},
   "outputs": [
    {
     "name": "stdout",
     "output_type": "stream",
     "text": [
      "Tiempo de entrenamiento:  2.895485687255859\n",
      "Accuracy:  0.95\n",
      "Recall:  1.0\n",
      "Precision:  0.9261038961038961\n",
      "F1-score:  0.9577345537757438\n"
     ]
    }
   ],
   "source": [
    "scores = cross_validate(XGBClassifier(), X_train ,y_train, cv=10,scoring=('accuracy','recall','precision','f1'))\n",
    "#print(\"%0.2f accuracy with a standard deviation of %0.2f\"  (scores.mean(), scores.std()))\n",
    "print('Tiempo de entrenamiento: ',scores['fit_time'].mean())\n",
    "print('Accuracy: ',scores['test_accuracy'].mean())\n",
    "print('Recall: ',scores['test_recall'].mean())\n",
    "print('Precision: ',scores['test_precision'].mean())\n",
    "print('F1-score: ',scores['test_f1'].mean())"
   ]
  },
  {
   "cell_type": "code",
   "execution_count": 28,
   "id": "chubby-olive",
   "metadata": {},
   "outputs": [
    {
     "name": "stdout",
     "output_type": "stream",
     "text": [
      "[LightGBM] [Warning] boosting is set=dart, boosting_type=gbdt will be ignored. Current value: boosting=dart\n",
      "[LightGBM] [Warning] boosting is set=dart, boosting_type=gbdt will be ignored. Current value: boosting=dart\n",
      "[LightGBM] [Warning] boosting is set=dart, boosting_type=gbdt will be ignored. Current value: boosting=dart\n",
      "[LightGBM] [Warning] boosting is set=dart, boosting_type=gbdt will be ignored. Current value: boosting=dart\n",
      "[LightGBM] [Warning] boosting is set=dart, boosting_type=gbdt will be ignored. Current value: boosting=dart\n",
      "[LightGBM] [Warning] boosting is set=dart, boosting_type=gbdt will be ignored. Current value: boosting=dart\n",
      "[LightGBM] [Warning] boosting is set=dart, boosting_type=gbdt will be ignored. Current value: boosting=dart\n",
      "[LightGBM] [Warning] boosting is set=dart, boosting_type=gbdt will be ignored. Current value: boosting=dart\n",
      "[LightGBM] [Warning] boosting is set=dart, boosting_type=gbdt will be ignored. Current value: boosting=dart\n",
      "[LightGBM] [Warning] boosting is set=dart, boosting_type=gbdt will be ignored. Current value: boosting=dart\n",
      "Tiempo de entrenamiento:  18.90050060749054\n",
      "Accuracy:  0.8777777777777777\n",
      "Recall:  0.9222222222222222\n",
      "Precision:  0.869949494949495\n",
      "F1-score:  0.8893370681605977\n"
     ]
    }
   ],
   "source": [
    "scores = cross_validate(LGBMClassifier(n_estimators=1000,class_weight='balanced',\n",
    "                                       reg_alpha=0.1,reg_lambda=0.1,\n",
    "                                       learning_rate=0.001,num_leaves=400,boosting='dart'\n",
    "), X_train ,y_train, cv=10,scoring=('accuracy','recall','precision','f1'))\n",
    "print('Tiempo de entrenamiento: ',scores['fit_time'].mean())\n",
    "print('Accuracy: ',scores['test_accuracy'].mean())\n",
    "print('Recall: ',scores['test_recall'].mean())\n",
    "print('Precision: ',scores['test_precision'].mean())\n",
    "print('F1-score: ',scores['test_f1'].mean())"
   ]
  },
  {
   "cell_type": "code",
   "execution_count": 29,
   "id": "palestinian-bahamas",
   "metadata": {
    "scrolled": true
   },
   "outputs": [
    {
     "name": "stdout",
     "output_type": "stream",
     "text": [
      "Tiempo de entrenamiento:  0.45738379955291747\n",
      "Accuracy:  0.888888888888889\n",
      "Recall:  0.9\n",
      "Precision:  0.8943434343434344\n",
      "F1-score:  0.8900730994152047\n"
     ]
    }
   ],
   "source": [
    "scores = cross_validate(AdaBoostClassifier(\n",
    "base_estimator=DecisionTreeClassifier(),\n",
    "n_estimators=300\n",
    "), X_train ,y_train, cv=10,scoring=('accuracy','recall','precision','f1'))\n",
    "print('Tiempo de entrenamiento: ',scores['fit_time'].mean())\n",
    "print('Accuracy: ',scores['test_accuracy'].mean())\n",
    "print('Recall: ',scores['test_recall'].mean())\n",
    "print('Precision: ',scores['test_precision'].mean())\n",
    "print('F1-score: ',scores['test_f1'].mean())"
   ]
  },
  {
   "cell_type": "code",
   "execution_count": 30,
   "id": "animal-queensland",
   "metadata": {},
   "outputs": [
    {
     "name": "stdout",
     "output_type": "stream",
     "text": [
      "Tiempo de entrenamiento:  0.4210346698760986\n",
      "Accuracy:  0.8833333333333332\n",
      "Recall:  0.9\n",
      "Precision:  0.8868686868686868\n",
      "F1-score:  0.8868954248366012\n"
     ]
    }
   ],
   "source": [
    "scores = cross_validate(DecisionTreeClassifier(), X_train ,y_train, cv=10,scoring=('accuracy','recall','precision','f1'))\n",
    "print('Tiempo de entrenamiento: ',scores['fit_time'].mean())\n",
    "print('Accuracy: ',scores['test_accuracy'].mean())\n",
    "print('Recall: ',scores['test_recall'].mean())\n",
    "print('Precision: ',scores['test_precision'].mean())\n",
    "print('F1-score: ',scores['test_f1'].mean())"
   ]
  },
  {
   "cell_type": "code",
   "execution_count": 31,
   "id": "acquired-float",
   "metadata": {},
   "outputs": [
    {
     "name": "stdout",
     "output_type": "stream",
     "text": [
      "[[ 18 982]\n",
      " [158 842]]\n",
      "Accuracy:  0.43\n",
      "Recall:  0.842\n",
      "Precision:  0.4616228070175439\n",
      "F1-score:  0.5963172804532578\n"
     ]
    }
   ],
   "source": [
    "hist=BaggingClassifier(\n",
    "base_estimator=DecisionTreeClassifier(),\n",
    "n_estimators=5\n",
    ")\n",
    "hist.fit(X_train,y_train)\n",
    "cm2 = confusion_matrix(y_valid2,hist.predict(X_valid2))\n",
    "print(cm2)\n",
    "acc=accuracy_score(y_valid2, hist.predict(X_valid2))\n",
    "print(\"Accuracy: \",(acc))\n",
    "recall=recall_score(y_valid2, hist.predict(X_valid2))\n",
    "print(\"Recall: \",(recall))\n",
    "prec=precision_score(y_valid2,hist.predict(X_valid2))\n",
    "print(\"Precision: \",(prec))\n",
    "f1=f1_score(y_valid2,hist.predict(X_valid2))\n",
    "print(\"F1-score: \",(f1))"
   ]
  },
  {
   "cell_type": "code",
   "execution_count": 32,
   "id": "pretty-instruction",
   "metadata": {},
   "outputs": [
    {
     "name": "stdout",
     "output_type": "stream",
     "text": [
      "[[ 32 968]\n",
      " [154 846]]\n",
      "Accuracy:  0.439\n",
      "Recall:  0.846\n",
      "Precision:  0.4663726571113561\n",
      "F1-score:  0.6012793176972281\n"
     ]
    }
   ],
   "source": [
    "hist=RandomForestClassifier(n_estimators=5)\n",
    "hist.fit(X_train,y_train)\n",
    "cm2 = confusion_matrix(y_valid2,hist.predict(X_valid2))\n",
    "print(cm2)\n",
    "acc=accuracy_score(y_valid2, hist.predict(X_valid2))\n",
    "print(\"Accuracy: \",(acc))\n",
    "recall=recall_score(y_valid2, hist.predict(X_valid2))\n",
    "print(\"Recall: \",(recall))\n",
    "prec=precision_score(y_valid2,hist.predict(X_valid2))\n",
    "print(\"Precision: \",(prec))\n",
    "f1=f1_score(y_valid2,hist.predict(X_valid2))\n",
    "print(\"F1-score: \",(f1))"
   ]
  },
  {
   "cell_type": "code",
   "execution_count": 33,
   "id": "united-denmark",
   "metadata": {},
   "outputs": [
    {
     "name": "stdout",
     "output_type": "stream",
     "text": [
      "[[  4 996]\n",
      " [144 856]]\n",
      "Accuracy:  0.43\n",
      "Recall:  0.856\n",
      "Precision:  0.46220302375809935\n",
      "F1-score:  0.6002805049088359\n"
     ]
    }
   ],
   "source": [
    "hist=XGBClassifier()\n",
    "hist.fit(X_train,y_train)\n",
    "cm2 = confusion_matrix(y_valid2,hist.predict(X_valid2))\n",
    "print(cm2)\n",
    "acc=accuracy_score(y_valid2, hist.predict(X_valid2))\n",
    "print(\"Accuracy: \",(acc))\n",
    "recall=recall_score(y_valid2, hist.predict(X_valid2))\n",
    "print(\"Recall: \",(recall))\n",
    "prec=precision_score(y_valid2,hist.predict(X_valid2))\n",
    "print(\"Precision: \",(prec))\n",
    "f1=f1_score(y_valid2,hist.predict(X_valid2))\n",
    "print(\"F1-score: \",(f1))"
   ]
  },
  {
   "cell_type": "code",
   "execution_count": 34,
   "id": "green-summer",
   "metadata": {},
   "outputs": [
    {
     "name": "stdout",
     "output_type": "stream",
     "text": [
      "[LightGBM] [Warning] boosting is set=dart, boosting_type=gbdt will be ignored. Current value: boosting=dart\n",
      "[[ 30 970]\n",
      " [180 820]]\n",
      "Accuracy:  0.425\n",
      "Recall:  0.82\n",
      "Precision:  0.4581005586592179\n",
      "F1-score:  0.5878136200716846\n"
     ]
    }
   ],
   "source": [
    "hist=LGBMClassifier(n_estimators=1000,class_weight='balanced',\n",
    "                                       reg_alpha=0.1,reg_lambda=0.1,\n",
    "                                       learning_rate=0.001,num_leaves=400,boosting='dart'\n",
    ")\n",
    "hist.fit(X_train,y_train)\n",
    "cm2 = confusion_matrix(y_valid2,hist.predict(X_valid2))\n",
    "print(cm2)\n",
    "acc=accuracy_score(y_valid2, hist.predict(X_valid2))\n",
    "print(\"Accuracy: \",(acc))\n",
    "recall=recall_score(y_valid2, hist.predict(X_valid2))\n",
    "print(\"Recall: \",(recall))\n",
    "prec=precision_score(y_valid2,hist.predict(X_valid2))\n",
    "print(\"Precision: \",(prec))\n",
    "f1=f1_score(y_valid2,hist.predict(X_valid2))\n",
    "print(\"F1-score: \",(f1))"
   ]
  },
  {
   "cell_type": "code",
   "execution_count": 35,
   "id": "assured-cabin",
   "metadata": {},
   "outputs": [
    {
     "name": "stdout",
     "output_type": "stream",
     "text": [
      "[[ 32 968]\n",
      " [178 822]]\n",
      "Accuracy:  0.427\n",
      "Recall:  0.822\n",
      "Precision:  0.4592178770949721\n",
      "F1-score:  0.589247311827957\n"
     ]
    }
   ],
   "source": [
    "hist=AdaBoostClassifier(\n",
    "base_estimator=DecisionTreeClassifier(),\n",
    "n_estimators=300\n",
    ")\n",
    "hist.fit(X_train,y_train)\n",
    "cm2 = confusion_matrix(y_valid2,hist.predict(X_valid2))\n",
    "print(cm2)\n",
    "acc=accuracy_score(y_valid2, hist.predict(X_valid2))\n",
    "print(\"Accuracy: \",(acc))\n",
    "recall=recall_score(y_valid2, hist.predict(X_valid2))\n",
    "print(\"Recall: \",(recall))\n",
    "prec=precision_score(y_valid2,hist.predict(X_valid2))\n",
    "print(\"Precision: \",(prec))\n",
    "f1=f1_score(y_valid2,hist.predict(X_valid2))\n",
    "print(\"F1-score: \",(f1))"
   ]
  },
  {
   "cell_type": "code",
   "execution_count": 36,
   "id": "offshore-seven",
   "metadata": {},
   "outputs": [
    {
     "name": "stdout",
     "output_type": "stream",
     "text": [
      "[[ 95 905]\n",
      " [274 726]]\n",
      "Accuracy:  0.4105\n",
      "Recall:  0.726\n",
      "Precision:  0.4451256897608829\n",
      "F1-score:  0.5518814139110604\n"
     ]
    }
   ],
   "source": [
    "hist=DecisionTreeClassifier()\n",
    "hist.fit(X_train,y_train)\n",
    "cm2 = confusion_matrix(y_valid2,hist.predict(X_valid2))\n",
    "print(cm2)\n",
    "acc=accuracy_score(y_valid2, hist.predict(X_valid2))\n",
    "print(\"Accuracy: \",(acc))\n",
    "recall=recall_score(y_valid2, hist.predict(X_valid2))\n",
    "print(\"Recall: \",(recall))\n",
    "prec=precision_score(y_valid2,hist.predict(X_valid2))\n",
    "print(\"Precision: \",(prec))\n",
    "f1=f1_score(y_valid2,hist.predict(X_valid2))\n",
    "print(\"F1-score: \",(f1))"
   ]
  }
 ],
 "metadata": {
  "kernelspec": {
   "display_name": "tfgpu",
   "language": "python",
   "name": "tfgpu"
  },
  "language_info": {
   "codemirror_mode": {
    "name": "ipython",
    "version": 3
   },
   "file_extension": ".py",
   "mimetype": "text/x-python",
   "name": "python",
   "nbconvert_exporter": "python",
   "pygments_lexer": "ipython3",
   "version": "3.9.13"
  }
 },
 "nbformat": 4,
 "nbformat_minor": 5
}
