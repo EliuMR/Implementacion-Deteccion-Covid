{
 "cells": [
  {
   "cell_type": "code",
   "execution_count": 1,
   "id": "be2c24c3",
   "metadata": {
    "execution": {
     "iopub.execute_input": "2022-09-29T17:45:03.898233Z",
     "iopub.status.busy": "2022-09-29T17:45:03.897232Z",
     "iopub.status.idle": "2022-09-29T17:45:04.204758Z",
     "shell.execute_reply": "2022-09-29T17:45:04.203413Z",
     "shell.execute_reply.started": "2022-09-29T17:45:03.898127Z"
    }
   },
   "outputs": [],
   "source": [
    "import glob \n",
    "import numpy as np \n",
    "import os \n",
    "import shutil \n",
    "import tensorflow as tf\n",
    "from keras_preprocessing.image import ImageDataGenerator,  load_img, img_to_array, array_to_img \n",
    "np.random.seed(42) \n",
    "from sklearn.metrics import confusion_matrix, accuracy_score, precision_score,recall_score\n",
    "\n",
    "import matplotlib.pyplot as plt "
   ]
  },
  {
   "cell_type": "code",
   "execution_count": 2,
   "id": "interstate-commonwealth",
   "metadata": {},
   "outputs": [],
   "source": [
    "IM_SHAPE=(150,150)"
   ]
  },
  {
   "cell_type": "code",
   "execution_count": 3,
   "id": "fa3e2a27",
   "metadata": {
    "execution": {
     "iopub.execute_input": "2022-09-29T18:20:35.193493Z",
     "iopub.status.busy": "2022-09-29T18:20:35.193075Z",
     "iopub.status.idle": "2022-09-29T18:20:35.474701Z",
     "shell.execute_reply": "2022-09-29T18:20:35.473809Z",
     "shell.execute_reply.started": "2022-09-29T18:20:35.193462Z"
    }
   },
   "outputs": [],
   "source": [
    "filesCOV= glob.glob('C:/Users/hecto/Downloads/MachineCrypto/Proyecto/CompleteDataset/Lung Segmentation Data/Lung Segmentation Data/ALL/COVID-19/images/*')\n",
    "filesNOCOV=glob.glob('C:/Users/hecto/Downloads/MachineCrypto/Proyecto/CompleteDataset/Lung Segmentation Data/Lung Segmentation Data/ALL/Normal/images/*')\n"
   ]
  },
  {
   "cell_type": "code",
   "execution_count": 4,
   "id": "c5c11fcb",
   "metadata": {
    "execution": {
     "iopub.execute_input": "2022-09-29T18:22:12.611834Z",
     "iopub.status.busy": "2022-09-29T18:22:12.611294Z",
     "iopub.status.idle": "2022-09-29T18:22:12.629667Z",
     "shell.execute_reply": "2022-09-29T18:22:12.628203Z",
     "shell.execute_reply.started": "2022-09-29T18:22:12.611786Z"
    }
   },
   "outputs": [
    {
     "data": {
      "text/plain": [
       "(11956, 10701)"
      ]
     },
     "execution_count": 4,
     "metadata": {},
     "output_type": "execute_result"
    }
   ],
   "source": [
    "COVID = [fn for fn in filesCOV if 'covid' in fn] \n",
    "HEALTHY = [fn for fn in filesNOCOV if 'sano' in fn] \n",
    "\n",
    "len(COVID), len(HEALTHY)\n"
   ]
  },
  {
   "cell_type": "code",
   "execution_count": 5,
   "id": "greatest-matrix",
   "metadata": {},
   "outputs": [
    {
     "name": "stdout",
     "output_type": "stream",
     "text": [
      "Cat datasets: (5000,) (1000,) (1000,)\n",
      "Dog datasets: (5000,) (1000,) (1000,)\n"
     ]
    }
   ],
   "source": [
    "COVID_train = np.random.choice(filesCOV, size=5000, replace=False) \n",
    "HEALTHY_train = np.random.choice(filesNOCOV, size=5000, replace=False) \n",
    "filesCOV = list(set(filesCOV) - set(COVID_train)) \n",
    "filesNOCOV = list(set(filesNOCOV) - set(HEALTHY_train)) \n",
    " \n",
    "COVID_val = np.random.choice(filesCOV, size=1000, replace=False) \n",
    "HEALTHY_val = np.random.choice(filesNOCOV, size=1000, replace=False) \n",
    "filesCOV = list(set(filesCOV) - set(COVID_val)) \n",
    "filesNOCOV = list(set(filesNOCOV) - set(HEALTHY_val)) \n",
    " \n",
    "COVID_test = np.random.choice(filesCOV, size=1000, replace=False) \n",
    "HEALTHY_test = np.random.choice(filesNOCOV, size=1000, replace=False) \n",
    " \n",
    "print('Cat datasets:', COVID_train.shape, COVID_val.shape, COVID_test.shape) \n",
    "print('Dog datasets:', HEALTHY_train.shape, HEALTHY_val.shape, HEALTHY_test.shape) "
   ]
  },
  {
   "cell_type": "code",
   "execution_count": 8,
   "id": "c30c9348",
   "metadata": {
    "execution": {
     "iopub.execute_input": "2022-09-29T18:28:55.738193Z",
     "iopub.status.busy": "2022-09-29T18:28:55.737667Z",
     "iopub.status.idle": "2022-09-29T18:29:52.825076Z",
     "shell.execute_reply": "2022-09-29T18:29:52.823747Z",
     "shell.execute_reply.started": "2022-09-29T18:28:55.738154Z"
    }
   },
   "outputs": [],
   "source": [
    "train_dir = 'D:/dataset/DATAOG/train' \n",
    "val_dir = 'D:/dataset/DATAOG/valid' \n",
    "test_dir = 'D:/dataset/DATAOG/test' \n",
    " \n",
    "    \n",
    "train_files = np.concatenate([COVID_train, HEALTHY_train]) \n",
    "validate_files = np.concatenate([COVID_val, HEALTHY_val]) \n",
    "test_files = np.concatenate([COVID_test, HEALTHY_test])\n",
    "os.mkdir(train_dir) if not os.path.isdir(train_dir) else None \n",
    "os.mkdir(val_dir) if not os.path.isdir(val_dir) else None \n",
    "os.mkdir(test_dir) if not os.path.isdir(test_dir) else None \n",
    " \n",
    "for fn in train_files: \n",
    "    shutil.copy(fn, train_dir) \n",
    "for fn in validate_files: \n",
    "    shutil.copy(fn, val_dir) \n",
    "for fn in test_files: \n",
    "    shutil.copy(fn, test_dir)"
   ]
  },
  {
   "cell_type": "code",
   "execution_count": 9,
   "id": "exceptional-direction",
   "metadata": {},
   "outputs": [
    {
     "data": {
      "text/plain": [
       "(2000,)"
      ]
     },
     "execution_count": 9,
     "metadata": {},
     "output_type": "execute_result"
    }
   ],
   "source": [
    "test_files.shape"
   ]
  },
  {
   "cell_type": "code",
   "execution_count": 14,
   "id": "65896afc",
   "metadata": {
    "execution": {
     "iopub.execute_input": "2022-09-29T18:30:07.152234Z",
     "iopub.status.busy": "2022-09-29T18:30:07.151733Z",
     "iopub.status.idle": "2022-09-29T18:30:20.936778Z",
     "shell.execute_reply": "2022-09-29T18:30:20.935142Z",
     "shell.execute_reply.started": "2022-09-29T18:30:07.152191Z"
    }
   },
   "outputs": [
    {
     "name": "stdout",
     "output_type": "stream",
     "text": [
      "Train dataset shape: (10000, 150, 150, 3) Validation dataset shape: (2000, 150, 150, 3)\n"
     ]
    }
   ],
   "source": [
    "IMG_DIM = IM_SHAPE\n",
    " \n",
    "train_files = glob.glob('D:/dataset/DATAOG/train/*') \n",
    "train_imgs = [img_to_array(load_img(img, target_size=IMG_DIM)) for img  \n",
    "              in train_files] \n",
    "train_imgs = np.array(train_imgs) \n",
    "train_labels = [fn.split('\\\\')[1].split('.')[0].strip() for fn in \n",
    "                train_files] \n",
    "\n",
    "validation_files = glob.glob('D:/dataset/DATAOG/valid/*') \n",
    "validation_imgs = [img_to_array(load_img(img, target_size=IMG_DIM)) for \n",
    "                   img in validation_files] \n",
    "validation_imgs = np.array(validation_imgs) \n",
    "validation_labels = [fn.split('\\\\')[1].split('.')[0].strip() for fn in \n",
    "                     validation_files] \n",
    " \n",
    "print('Train dataset shape:', train_imgs.shape,  \n",
    "      'Validation dataset shape:', validation_imgs.shape) "
   ]
  },
  {
   "cell_type": "code",
   "execution_count": 15,
   "id": "d357614b",
   "metadata": {},
   "outputs": [
    {
     "name": "stdout",
     "output_type": "stream",
     "text": [
      "(150, 150, 3)\n"
     ]
    },
    {
     "data": {
      "image/png": "[encoded data removed]",
      "text/plain": [
       "<PIL.Image.Image image mode=RGB size=150x150>"
      ]
     },
     "execution_count": 15,
     "metadata": {},
     "output_type": "execute_result"
    }
   ],
   "source": [
    "train_imgs_scaled = train_imgs.astype('float32') \n",
    "validation_imgs_scaled = validation_imgs.astype('float32') \n",
    "train_imgs_scaled /= 255 \n",
    "validation_imgs_scaled /= 255 \n",
    " \n",
    "# visualize a sample image \n",
    "print(train_imgs[0].shape) \n",
    "array_to_img(train_imgs[0]) "
   ]
  },
  {
   "cell_type": "code",
   "execution_count": 16,
   "id": "50a3c6e1",
   "metadata": {},
   "outputs": [],
   "source": [
    "for i in range(10000):\n",
    "    if train_labels[i].find(\"sano\")==-1:\n",
    "        train_labels[i]='covid'\n",
    "    else :\n",
    "        train_labels[i]='sano'\n",
    "for i in range(2000):\n",
    "    if validation_labels[i].find(\"sano\")==-1:\n",
    "        validation_labels[i]='covid'\n",
    "    else :\n",
    "        validation_labels[i]='sano'\n",
    "        "
   ]
  },
  {
   "cell_type": "code",
   "execution_count": 17,
   "id": "56d9edfc",
   "metadata": {},
   "outputs": [
    {
     "name": "stdout",
     "output_type": "stream",
     "text": [
      "['covid', 'covid', 'covid', 'covid', 'covid'] [0 0 0 0 0]\n"
     ]
    }
   ],
   "source": [
    "batch_size = 30 \n",
    "num_classes = 2 \n",
    "epochs = 30 \n",
    "input_shape = (IM_SHAPE[0],IM_SHAPE[1], 3) \n",
    " \n",
    "# encode text category labels \n",
    "from sklearn.preprocessing import LabelEncoder \n",
    " \n",
    "le = LabelEncoder() \n",
    "le.fit(train_labels) \n",
    "train_labels_enc = le.transform(train_labels) \n",
    "validation_labels_enc = le.transform(validation_labels) \n",
    " \n",
    "print(train_labels[190:195], train_labels_enc[195:200]) "
   ]
  },
  {
   "cell_type": "code",
   "execution_count": null,
   "id": "secret-hometown",
   "metadata": {},
   "outputs": [],
   "source": [
    "print(\"Num GPUs Available: \", len(tf.config.experimental.list_physical_devices('GPU')))\n",
    "\n",
    "tf.config.list_physical_devices('GPU')\n",
    "\n",
    "from tensorflow.python.client import device_lib\n",
    "\n",
    "device_lib.list_local_devices()\n",
    "\n",
    "tf.test.is_built_with_cuda()\n",
    "\n",
    "tf.debugging.set_log_device_placement(True)"
   ]
  },
  {
   "cell_type": "code",
   "execution_count": 18,
   "id": "58e9f93b",
   "metadata": {},
   "outputs": [
    {
     "name": "stdout",
     "output_type": "stream",
     "text": [
      "Model: \"model\"\n",
      "_________________________________________________________________\n",
      " Layer (type)                Output Shape              Param #   \n",
      "=================================================================\n",
      " input_1 (InputLayer)        [(None, 150, 150, 3)]     0         \n",
      "                                                                 \n",
      " block1_conv1 (Conv2D)       (None, 150, 150, 64)      1792      \n",
      "                                                                 \n",
      " block1_conv2 (Conv2D)       (None, 150, 150, 64)      36928     \n",
      "                                                                 \n",
      " block1_pool (MaxPooling2D)  (None, 75, 75, 64)        0         \n",
      "                                                                 \n",
      " block2_conv1 (Conv2D)       (None, 75, 75, 128)       73856     \n",
      "                                                                 \n",
      " block2_conv2 (Conv2D)       (None, 75, 75, 128)       147584    \n",
      "                                                                 \n",
      " block2_pool (MaxPooling2D)  (None, 37, 37, 128)       0         \n",
      "                                                                 \n",
      " block3_conv1 (Conv2D)       (None, 37, 37, 256)       295168    \n",
      "                                                                 \n",
      " block3_conv2 (Conv2D)       (None, 37, 37, 256)       590080    \n",
      "                                                                 \n",
      " block3_conv3 (Conv2D)       (None, 37, 37, 256)       590080    \n",
      "                                                                 \n",
      " block3_pool (MaxPooling2D)  (None, 18, 18, 256)       0         \n",
      "                                                                 \n",
      " block4_conv1 (Conv2D)       (None, 18, 18, 512)       1180160   \n",
      "                                                                 \n",
      " block4_conv2 (Conv2D)       (None, 18, 18, 512)       2359808   \n",
      "                                                                 \n",
      " block4_conv3 (Conv2D)       (None, 18, 18, 512)       2359808   \n",
      "                                                                 \n",
      " block4_pool (MaxPooling2D)  (None, 9, 9, 512)         0         \n",
      "                                                                 \n",
      " block5_conv1 (Conv2D)       (None, 9, 9, 512)         2359808   \n",
      "                                                                 \n",
      " block5_conv2 (Conv2D)       (None, 9, 9, 512)         2359808   \n",
      "                                                                 \n",
      " block5_conv3 (Conv2D)       (None, 9, 9, 512)         2359808   \n",
      "                                                                 \n",
      " block5_pool (MaxPooling2D)  (None, 4, 4, 512)         0         \n",
      "                                                                 \n",
      " flatten (Flatten)           (None, 8192)              0         \n",
      "                                                                 \n",
      "=================================================================\n",
      "Total params: 14,714,688\n",
      "Trainable params: 0\n",
      "Non-trainable params: 14,714,688\n",
      "_________________________________________________________________\n"
     ]
    }
   ],
   "source": [
    "from keras.applications import vgg16 \n",
    "from keras.models import Model \n",
    "import keras \n",
    " \n",
    "vgg = vgg16.VGG16(include_top=False, weights='imagenet',  \n",
    "                                     input_shape=input_shape) \n",
    "\n",
    "# we have removed the final part of the classifier pertaining to the VGG-16 model \n",
    "#since we will be building our own classifier and leveraging VGG as a feature extractor\n",
    "output = vgg.layers[-1].output \n",
    "output = keras.layers.Flatten()(output) \n",
    "vgg_model = Model(vgg.input, output) \n",
    "vgg_model.trainable = False \n",
    " \n",
    "for layer in vgg_model.layers: \n",
    "    layer.trainable = False \n",
    "\n",
    "vgg_model.summary()"
   ]
  },
  {
   "cell_type": "code",
   "execution_count": 19,
   "id": "1a2f9fa1",
   "metadata": {},
   "outputs": [
    {
     "name": "stderr",
     "output_type": "stream",
     "text": [
      "C:\\Users\\hecto\\AppData\\Local\\Temp\\ipykernel_10156\\1885812186.py:3: FutureWarning: Passing a negative integer is deprecated in version 1.0 and will not be supported in future version. Instead, use None to not limit the column width.\n",
      "  pd.set_option('max_colwidth', -1)\n"
     ]
    },
    {
     "data": {
      "text/html": [
       "<div>\n",
       "<style scoped>\n",
       "    .dataframe tbody tr th:only-of-type {\n",
       "        vertical-align: middle;\n",
       "    }\n",
       "\n",
       "    .dataframe tbody tr th {\n",
       "        vertical-align: top;\n",
       "    }\n",
       "\n",
       "    .dataframe thead th {\n",
       "        text-align: right;\n",
       "    }\n",
       "</style>\n",
       "<table border=\"1\" class=\"dataframe\">\n",
       "  <thead>\n",
       "    <tr style=\"text-align: right;\">\n",
       "      <th></th>\n",
       "      <th>Layer Type</th>\n",
       "      <th>Layer Name</th>\n",
       "      <th>Layer Trainable</th>\n",
       "    </tr>\n",
       "  </thead>\n",
       "  <tbody>\n",
       "    <tr>\n",
       "      <th>0</th>\n",
       "      <td>&lt;keras.engine.input_layer.InputLayer object at 0x000001C7F8F35AF0&gt;</td>\n",
       "      <td>input_1</td>\n",
       "      <td>False</td>\n",
       "    </tr>\n",
       "    <tr>\n",
       "      <th>1</th>\n",
       "      <td>&lt;keras.layers.convolutional.conv2d.Conv2D object at 0x000001C7F8DABE50&gt;</td>\n",
       "      <td>block1_conv1</td>\n",
       "      <td>False</td>\n",
       "    </tr>\n",
       "    <tr>\n",
       "      <th>2</th>\n",
       "      <td>&lt;keras.layers.convolutional.conv2d.Conv2D object at 0x000001C7F91E1400&gt;</td>\n",
       "      <td>block1_conv2</td>\n",
       "      <td>False</td>\n",
       "    </tr>\n",
       "    <tr>\n",
       "      <th>3</th>\n",
       "      <td>&lt;keras.layers.pooling.max_pooling2d.MaxPooling2D object at 0x000001C7F9AB8550&gt;</td>\n",
       "      <td>block1_pool</td>\n",
       "      <td>False</td>\n",
       "    </tr>\n",
       "    <tr>\n",
       "      <th>4</th>\n",
       "      <td>&lt;keras.layers.convolutional.conv2d.Conv2D object at 0x000001C7F9AB8070&gt;</td>\n",
       "      <td>block2_conv1</td>\n",
       "      <td>False</td>\n",
       "    </tr>\n",
       "    <tr>\n",
       "      <th>5</th>\n",
       "      <td>&lt;keras.layers.convolutional.conv2d.Conv2D object at 0x000001C7F9BF3640&gt;</td>\n",
       "      <td>block2_conv2</td>\n",
       "      <td>False</td>\n",
       "    </tr>\n",
       "    <tr>\n",
       "      <th>6</th>\n",
       "      <td>&lt;keras.layers.pooling.max_pooling2d.MaxPooling2D object at 0x000001C7F9BCFE20&gt;</td>\n",
       "      <td>block2_pool</td>\n",
       "      <td>False</td>\n",
       "    </tr>\n",
       "    <tr>\n",
       "      <th>7</th>\n",
       "      <td>&lt;keras.layers.convolutional.conv2d.Conv2D object at 0x000001C7F9BCFA30&gt;</td>\n",
       "      <td>block3_conv1</td>\n",
       "      <td>False</td>\n",
       "    </tr>\n",
       "    <tr>\n",
       "      <th>8</th>\n",
       "      <td>&lt;keras.layers.convolutional.conv2d.Conv2D object at 0x000001C7F9BF3D90&gt;</td>\n",
       "      <td>block3_conv2</td>\n",
       "      <td>False</td>\n",
       "    </tr>\n",
       "    <tr>\n",
       "      <th>9</th>\n",
       "      <td>&lt;keras.layers.convolutional.conv2d.Conv2D object at 0x000001C7F9B20910&gt;</td>\n",
       "      <td>block3_conv3</td>\n",
       "      <td>False</td>\n",
       "    </tr>\n",
       "    <tr>\n",
       "      <th>10</th>\n",
       "      <td>&lt;keras.layers.pooling.max_pooling2d.MaxPooling2D object at 0x000001C7F9B20AC0&gt;</td>\n",
       "      <td>block3_pool</td>\n",
       "      <td>False</td>\n",
       "    </tr>\n",
       "    <tr>\n",
       "      <th>11</th>\n",
       "      <td>&lt;keras.layers.convolutional.conv2d.Conv2D object at 0x000001C7F9B20D00&gt;</td>\n",
       "      <td>block4_conv1</td>\n",
       "      <td>False</td>\n",
       "    </tr>\n",
       "    <tr>\n",
       "      <th>12</th>\n",
       "      <td>&lt;keras.layers.convolutional.conv2d.Conv2D object at 0x000001C7F9B1A0A0&gt;</td>\n",
       "      <td>block4_conv2</td>\n",
       "      <td>False</td>\n",
       "    </tr>\n",
       "    <tr>\n",
       "      <th>13</th>\n",
       "      <td>&lt;keras.layers.convolutional.conv2d.Conv2D object at 0x000001C7F9B163D0&gt;</td>\n",
       "      <td>block4_conv3</td>\n",
       "      <td>False</td>\n",
       "    </tr>\n",
       "    <tr>\n",
       "      <th>14</th>\n",
       "      <td>&lt;keras.layers.pooling.max_pooling2d.MaxPooling2D object at 0x000001C7F9BC5D60&gt;</td>\n",
       "      <td>block4_pool</td>\n",
       "      <td>False</td>\n",
       "    </tr>\n",
       "    <tr>\n",
       "      <th>15</th>\n",
       "      <td>&lt;keras.layers.convolutional.conv2d.Conv2D object at 0x000001C7F9B16970&gt;</td>\n",
       "      <td>block5_conv1</td>\n",
       "      <td>False</td>\n",
       "    </tr>\n",
       "    <tr>\n",
       "      <th>16</th>\n",
       "      <td>&lt;keras.layers.convolutional.conv2d.Conv2D object at 0x000001C7F9B00BE0&gt;</td>\n",
       "      <td>block5_conv2</td>\n",
       "      <td>False</td>\n",
       "    </tr>\n",
       "    <tr>\n",
       "      <th>17</th>\n",
       "      <td>&lt;keras.layers.convolutional.conv2d.Conv2D object at 0x000001C7F9B00D00&gt;</td>\n",
       "      <td>block5_conv3</td>\n",
       "      <td>False</td>\n",
       "    </tr>\n",
       "    <tr>\n",
       "      <th>18</th>\n",
       "      <td>&lt;keras.layers.pooling.max_pooling2d.MaxPooling2D object at 0x000001C7F9B1A250&gt;</td>\n",
       "      <td>block5_pool</td>\n",
       "      <td>False</td>\n",
       "    </tr>\n",
       "    <tr>\n",
       "      <th>19</th>\n",
       "      <td>&lt;keras.layers.reshaping.flatten.Flatten object at 0x000001C7F9B006A0&gt;</td>\n",
       "      <td>flatten</td>\n",
       "      <td>False</td>\n",
       "    </tr>\n",
       "  </tbody>\n",
       "</table>\n",
       "</div>"
      ],
      "text/plain": [
       "                                                                        Layer Type  \\\n",
       "0   <keras.engine.input_layer.InputLayer object at 0x000001C7F8F35AF0>               \n",
       "1   <keras.layers.convolutional.conv2d.Conv2D object at 0x000001C7F8DABE50>          \n",
       "2   <keras.layers.convolutional.conv2d.Conv2D object at 0x000001C7F91E1400>          \n",
       "3   <keras.layers.pooling.max_pooling2d.MaxPooling2D object at 0x000001C7F9AB8550>   \n",
       "4   <keras.layers.convolutional.conv2d.Conv2D object at 0x000001C7F9AB8070>          \n",
       "5   <keras.layers.convolutional.conv2d.Conv2D object at 0x000001C7F9BF3640>          \n",
       "6   <keras.layers.pooling.max_pooling2d.MaxPooling2D object at 0x000001C7F9BCFE20>   \n",
       "7   <keras.layers.convolutional.conv2d.Conv2D object at 0x000001C7F9BCFA30>          \n",
       "8   <keras.layers.convolutional.conv2d.Conv2D object at 0x000001C7F9BF3D90>          \n",
       "9   <keras.layers.convolutional.conv2d.Conv2D object at 0x000001C7F9B20910>          \n",
       "10  <keras.layers.pooling.max_pooling2d.MaxPooling2D object at 0x000001C7F9B20AC0>   \n",
       "11  <keras.layers.convolutional.conv2d.Conv2D object at 0x000001C7F9B20D00>          \n",
       "12  <keras.layers.convolutional.conv2d.Conv2D object at 0x000001C7F9B1A0A0>          \n",
       "13  <keras.layers.convolutional.conv2d.Conv2D object at 0x000001C7F9B163D0>          \n",
       "14  <keras.layers.pooling.max_pooling2d.MaxPooling2D object at 0x000001C7F9BC5D60>   \n",
       "15  <keras.layers.convolutional.conv2d.Conv2D object at 0x000001C7F9B16970>          \n",
       "16  <keras.layers.convolutional.conv2d.Conv2D object at 0x000001C7F9B00BE0>          \n",
       "17  <keras.layers.convolutional.conv2d.Conv2D object at 0x000001C7F9B00D00>          \n",
       "18  <keras.layers.pooling.max_pooling2d.MaxPooling2D object at 0x000001C7F9B1A250>   \n",
       "19  <keras.layers.reshaping.flatten.Flatten object at 0x000001C7F9B006A0>            \n",
       "\n",
       "      Layer Name  Layer Trainable  \n",
       "0   input_1       False            \n",
       "1   block1_conv1  False            \n",
       "2   block1_conv2  False            \n",
       "3   block1_pool   False            \n",
       "4   block2_conv1  False            \n",
       "5   block2_conv2  False            \n",
       "6   block2_pool   False            \n",
       "7   block3_conv1  False            \n",
       "8   block3_conv2  False            \n",
       "9   block3_conv3  False            \n",
       "10  block3_pool   False            \n",
       "11  block4_conv1  False            \n",
       "12  block4_conv2  False            \n",
       "13  block4_conv3  False            \n",
       "14  block4_pool   False            \n",
       "15  block5_conv1  False            \n",
       "16  block5_conv2  False            \n",
       "17  block5_conv3  False            \n",
       "18  block5_pool   False            \n",
       "19  flatten       False            "
      ]
     },
     "execution_count": 19,
     "metadata": {},
     "output_type": "execute_result"
    }
   ],
   "source": [
    "# To verify that the layers of the VGG-16 model are frozen, we can use the following code:\n",
    "import pandas as pd \n",
    "pd.set_option('max_colwidth', -1) \n",
    " \n",
    "layers = [(layer, layer.name, layer.trainable) for layer in \n",
    "           vgg_model.layers] \n",
    "pd.DataFrame(layers, columns=['Layer Type', 'Layer Name', 'Layer Trainable'])"
   ]
  },
  {
   "cell_type": "code",
   "execution_count": 20,
   "id": "9ec01779",
   "metadata": {},
   "outputs": [
    {
     "name": "stdout",
     "output_type": "stream",
     "text": [
      "Trainable layers: []\n"
     ]
    }
   ],
   "source": [
    "print(\"Trainable layers:\", vgg_model.trainable_weights)\n"
   ]
  },
  {
   "cell_type": "code",
   "execution_count": 21,
   "id": "4ba23168",
   "metadata": {},
   "outputs": [
    {
     "name": "stdout",
     "output_type": "stream",
     "text": [
      "1/1 [==============================] - 4s 4s/step\n",
      "(1, 4, 4, 512)\n"
     ]
    },
    {
     "data": {
      "text/plain": [
       "<matplotlib.image.AxesImage at 0x1c8f2a0c760>"
      ]
     },
     "execution_count": 21,
     "metadata": {},
     "output_type": "execute_result"
    },
    {
     "data": {
      "image/png": "[encoded data removed]",
      "text/plain": [
       "<Figure size 432x288 with 1 Axes>"
      ]
     },
     "metadata": {
      "needs_background": "light"
     },
     "output_type": "display_data"
    }
   ],
   "source": [
    "bottleneck_feature_example = vgg.predict(train_imgs_scaled[0:1])\n",
    "print(bottleneck_feature_example.shape) \n",
    "plt.imshow(bottleneck_feature_example[0][:,:,0]) "
   ]
  },
  {
   "cell_type": "code",
   "execution_count": 22,
   "id": "70f18599",
   "metadata": {},
   "outputs": [
    {
     "name": "stdout",
     "output_type": "stream",
     "text": [
      "Train Bottleneck Features: (10000, 8192) \tValidation Bottleneck Features: (2000, 8192)\n"
     ]
    }
   ],
   "source": [
    "def get_bottleneck_features(model, input_imgs): \n",
    "    features = model.predict(input_imgs, verbose=0) \n",
    "    return features \n",
    "\n",
    "train_features_vgg = get_bottleneck_features(vgg_model, \n",
    "                                             train_imgs_scaled) \n",
    "validation_features_vgg = get_bottleneck_features(vgg_model,\n",
    "                                                validation_imgs_scaled) \n",
    "\n",
    "print('Train Bottleneck Features:', train_features_vgg.shape,\n",
    "      '\\tValidation Bottleneck Features:', validation_features_vgg.shape) "
   ]
  },
  {
   "cell_type": "code",
   "execution_count": 27,
   "id": "661e6b5c",
   "metadata": {},
   "outputs": [],
   "source": [
    "from sklearn.ensemble import BaggingClassifier\n",
    "from sklearn.tree import DecisionTreeClassifier\n",
    "from sklearn.model_selection import cross_val_score\n",
    "from sklearn.model_selection import cross_validate\n",
    "from sklearn.model_selection import cross_val_predict\n",
    "from sklearn.metrics import f1_score\n",
    "from sklearn.ensemble import RandomForestClassifier\n",
    "from xgboost import XGBClassifier\n",
    "from sklearn.ensemble import AdaBoostClassifier\n",
    "from lightgbm import LGBMClassifier"
   ]
  },
  {
   "cell_type": "code",
   "execution_count": 28,
   "id": "brave-mouth",
   "metadata": {},
   "outputs": [],
   "source": [
    "X_train=train_features_vgg\n",
    "y_train=train_labels_enc\n",
    "X_valid=validation_features_vgg\n",
    "y_valid=validation_labels_enc"
   ]
  },
  {
   "cell_type": "code",
   "execution_count": 29,
   "id": "boolean-capture",
   "metadata": {},
   "outputs": [
    {
     "name": "stdout",
     "output_type": "stream",
     "text": [
      "[[883 117]\n",
      " [131 869]]\n",
      "Accuracy:  0.876\n",
      "Recall:  0.869\n",
      "Precision:  0.8813387423935092\n",
      "F1-score:  0.8751258811681774\n"
     ]
    }
   ],
   "source": [
    "hist=BaggingClassifier(\n",
    "base_estimator=DecisionTreeClassifier(),\n",
    "n_estimators=5\n",
    ")\n",
    "hist.fit(X_train,y_train)\n",
    "cm2 = confusion_matrix(y_valid,hist.predict(X_valid))\n",
    "print(cm2)\n",
    "acc=accuracy_score(y_valid, hist.predict(X_valid))\n",
    "print(\"Accuracy: \",(acc))\n",
    "recall=recall_score(y_valid, hist.predict(X_valid))\n",
    "print(\"Recall: \",(recall))\n",
    "prec=precision_score(y_valid,hist.predict(X_valid))\n",
    "print(\"Precision: \",(prec))\n",
    "f1=f1_score(y_valid,hist.predict(X_valid))\n",
    "print(\"F1-score: \",(f1))"
   ]
  },
  {
   "cell_type": "code",
   "execution_count": 30,
   "id": "distant-dublin",
   "metadata": {},
   "outputs": [
    {
     "name": "stdout",
     "output_type": "stream",
     "text": [
      "[[847 153]\n",
      " [168 832]]\n",
      "Accuracy:  0.8395\n",
      "Recall:  0.832\n",
      "Precision:  0.8446700507614213\n",
      "F1-score:  0.8382871536523929\n"
     ]
    }
   ],
   "source": [
    "hist=RandomForestClassifier(n_estimators=5)\n",
    "hist.fit(X_train,y_train)\n",
    "cm2 = confusion_matrix(y_valid,hist.predict(X_valid))\n",
    "print(cm2)\n",
    "acc=accuracy_score(y_valid, hist.predict(X_valid))\n",
    "print(\"Accuracy: \",(acc))\n",
    "recall=recall_score(y_valid, hist.predict(X_valid))\n",
    "print(\"Recall: \",(recall))\n",
    "prec=precision_score(y_valid,hist.predict(X_valid))\n",
    "print(\"Precision: \",(prec))\n",
    "f1=f1_score(y_valid,hist.predict(X_valid))\n",
    "print(\"F1-score: \",(f1))"
   ]
  },
  {
   "cell_type": "code",
   "execution_count": 31,
   "id": "italian-trademark",
   "metadata": {},
   "outputs": [
    {
     "name": "stdout",
     "output_type": "stream",
     "text": [
      "[[951  49]\n",
      " [ 79 921]]\n",
      "Accuracy:  0.936\n",
      "Recall:  0.921\n",
      "Precision:  0.9494845360824742\n",
      "F1-score:  0.9350253807106599\n"
     ]
    }
   ],
   "source": [
    "hist=XGBClassifier()\n",
    "hist.fit(X_train,y_train)\n",
    "cm2 = confusion_matrix(y_valid,hist.predict(X_valid))\n",
    "print(cm2)\n",
    "acc=accuracy_score(y_valid, hist.predict(X_valid))\n",
    "print(\"Accuracy: \",(acc))\n",
    "recall=recall_score(y_valid, hist.predict(X_valid))\n",
    "print(\"Recall: \",(recall))\n",
    "prec=precision_score(y_valid,hist.predict(X_valid))\n",
    "print(\"Precision: \",(prec))\n",
    "f1=f1_score(y_valid,hist.predict(X_valid))\n",
    "print(\"F1-score: \",(f1))"
   ]
  },
  {
   "cell_type": "code",
   "execution_count": 32,
   "id": "functional-circle",
   "metadata": {},
   "outputs": [
    {
     "name": "stdout",
     "output_type": "stream",
     "text": [
      "[LightGBM] [Warning] boosting is set=dart, boosting_type=gbdt will be ignored. Current value: boosting=dart\n",
      "[[905  95]\n",
      " [127 873]]\n",
      "Accuracy:  0.889\n",
      "Recall:  0.873\n",
      "Precision:  0.9018595041322314\n",
      "F1-score:  0.8871951219512195\n"
     ]
    }
   ],
   "source": [
    "hist=LGBMClassifier(n_estimators=1000,class_weight='balanced',\n",
    "                                       reg_alpha=0.1,reg_lambda=0.1,\n",
    "                                       learning_rate=0.001,num_leaves=400,boosting='dart'\n",
    ")\n",
    "hist.fit(X_train,y_train)\n",
    "cm2 = confusion_matrix(y_valid,hist.predict(X_valid))\n",
    "print(cm2)\n",
    "acc=accuracy_score(y_valid, hist.predict(X_valid))\n",
    "print(\"Accuracy: \",(acc))\n",
    "recall=recall_score(y_valid, hist.predict(X_valid))\n",
    "print(\"Recall: \",(recall))\n",
    "prec=precision_score(y_valid,hist.predict(X_valid))\n",
    "print(\"Precision: \",(prec))\n",
    "f1=f1_score(y_valid,hist.predict(X_valid))\n",
    "print(\"F1-score: \",(f1))"
   ]
  },
  {
   "cell_type": "code",
   "execution_count": 33,
   "id": "classified-turning",
   "metadata": {},
   "outputs": [
    {
     "name": "stdout",
     "output_type": "stream",
     "text": [
      "[[825 175]\n",
      " [172 828]]\n",
      "Accuracy:  0.8265\n",
      "Recall:  0.828\n",
      "Precision:  0.8255234297108675\n",
      "F1-score:  0.8267598602096855\n"
     ]
    }
   ],
   "source": [
    "hist=AdaBoostClassifier(\n",
    "base_estimator=DecisionTreeClassifier(),\n",
    "n_estimators=300\n",
    ")\n",
    "hist.fit(X_train,y_train)\n",
    "cm2 = confusion_matrix(y_valid,hist.predict(X_valid))\n",
    "print(cm2)\n",
    "acc=accuracy_score(y_valid, hist.predict(X_valid))\n",
    "print(\"Accuracy: \",(acc))\n",
    "recall=recall_score(y_valid, hist.predict(X_valid))\n",
    "print(\"Recall: \",(recall))\n",
    "prec=precision_score(y_valid,hist.predict(X_valid))\n",
    "print(\"Precision: \",(prec))\n",
    "f1=f1_score(y_valid,hist.predict(X_valid))\n",
    "print(\"F1-score: \",(f1))"
   ]
  },
  {
   "cell_type": "code",
   "execution_count": 34,
   "id": "graphic-recipient",
   "metadata": {},
   "outputs": [
    {
     "name": "stdout",
     "output_type": "stream",
     "text": [
      "[[837 163]\n",
      " [185 815]]\n",
      "Accuracy:  0.826\n",
      "Recall:  0.815\n",
      "Precision:  0.8333333333333334\n",
      "F1-score:  0.8240647118301314\n"
     ]
    }
   ],
   "source": [
    "hist=DecisionTreeClassifier()\n",
    "hist.fit(X_train,y_train)\n",
    "cm2 = confusion_matrix(y_valid,hist.predict(X_valid))\n",
    "print(cm2)\n",
    "acc=accuracy_score(y_valid, hist.predict(X_valid))\n",
    "print(\"Accuracy: \",(acc))\n",
    "recall=recall_score(y_valid, hist.predict(X_valid))\n",
    "print(\"Recall: \",(recall))\n",
    "prec=precision_score(y_valid,hist.predict(X_valid))\n",
    "print(\"Precision: \",(prec))\n",
    "f1=f1_score(y_valid,hist.predict(X_valid))\n",
    "print(\"F1-score: \",(f1))"
   ]
  }
 ],
 "metadata": {
  "celltoolbar": "Raw Cell Format",
  "kernelspec": {
   "display_name": "tfgpu",
   "language": "python",
   "name": "tfgpu"
  },
  "language_info": {
   "codemirror_mode": {
    "name": "ipython",
    "version": 3
   },
   "file_extension": ".py",
   "mimetype": "text/x-python",
   "name": "python",
   "nbconvert_exporter": "python",
   "pygments_lexer": "ipython3",
   "version": "3.9.13"
  }
 },
 "nbformat": 4,
 "nbformat_minor": 5
}
