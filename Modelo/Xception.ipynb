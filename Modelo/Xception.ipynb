{
 "cells": [
  {
   "cell_type": "code",
   "execution_count": 1,
   "id": "63f11373",
   "metadata": {},
   "outputs": [],
   "source": [
    "train_dir = 'D:/Documentos/Estudio/Maestría/Aprendizaje_Computacional/Modelopropio/Database/Lung Segmentation Data/Lung Segmentation Data/Train' \n",
    "val_dir = 'D:/Documentos/Estudio/Maestría/Aprendizaje_Computacional/Modelopropio/Database/Lung Segmentation Data/Lung Segmentation Data/Val' \n",
    "test_dir = 'D:/Documentos/Estudio/Maestría/Aprendizaje_Computacional/Modelopropio/Database/Lung Segmentation Data/Lung Segmentation Data/Test'"
   ]
  },
  {
   "cell_type": "code",
   "execution_count": 2,
   "id": "206dacf2",
   "metadata": {},
   "outputs": [
    {
     "name": "stderr",
     "output_type": "stream",
     "text": [
      "Using TensorFlow backend.\n"
     ]
    }
   ],
   "source": [
    "#ELEGIMOS LOS PARAMETROS\n",
    "from keras.preprocessing.image import ImageDataGenerator\n",
    "ih, iw = 224, 224 #tamano de la imagen\n",
    "input_shape = (ih, iw, 3) #forma de la imagen: alto ancho y numero de canales\n",
    "\n",
    "num_class = 3 #cuantas clases \n",
    "#epochs = 15 #cuantas veces entrenar. En cada epoch hace una mejora en los parametros\n",
    "\n",
    "batch_size = 32 #batch para hacer cada entrenamiento. Lee 50 'batch_size' imagenes antes de actualizar los parametros. Las carga a memoria\n",
    "num_train = 21715 #numero de imagenes en train\n",
    "num_test = 6788 #numero de imagenes en test\n",
    "num_val=5417\n",
    "\n",
    "epoch_steps = num_train // batch_size \n",
    "test_steps = num_test // batch_size\n",
    " "
   ]
  },
  {
   "cell_type": "code",
   "execution_count": 3,
   "id": "e3bf6d66",
   "metadata": {},
   "outputs": [
    {
     "name": "stdout",
     "output_type": "stream",
     "text": [
      "Found 21715 images belonging to 3 classes.\n",
      "Found 5417 images belonging to 3 classes.\n",
      "Found 6788 images belonging to 3 classes.\n"
     ]
    }
   ],
   "source": [
    "#LEEMOS LAS IMÁGENES \n",
    "\n",
    "img_height, img_width=ih, iw\n",
    "\n",
    "train_datagen = ImageDataGenerator(rescale=1./255)\n",
    "\n",
    "train_generator = train_datagen.flow_from_directory(\n",
    "    train_dir,\n",
    "    target_size=(img_height, img_width),\n",
    "    batch_size=batch_size,\n",
    "    class_mode='categorical') # set as training data\n",
    "\n",
    "validation_generator = train_datagen.flow_from_directory(\n",
    "    val_dir, # same directory as training data\n",
    "    target_size=(img_height, img_width),\n",
    "    batch_size=batch_size,\n",
    "    class_mode='categorical') # set as validation data\n",
    "\n",
    "test_generator = train_datagen.flow_from_directory(\n",
    "    test_dir, # same directory as training data\n",
    "    target_size=(img_height, img_width),\n",
    "    batch_size=batch_size,\n",
    "    class_mode='categorical') # set as validation data"
   ]
  },
  {
   "cell_type": "code",
   "execution_count": 4,
   "id": "bf9cb168",
   "metadata": {},
   "outputs": [],
   "source": [
    "train=train_generator\n",
    "val=validation_generator\n",
    "test=test_generator"
   ]
  },
  {
   "cell_type": "code",
   "execution_count": 5,
   "id": "95ee15f5",
   "metadata": {},
   "outputs": [],
   "source": [
    "import tensorflow as tf\n",
    "from tensorflow.keras.applications import Xception\n",
    "from tensorflow.keras.layers import Flatten,Dense,Dropout,BatchNormalization\n",
    "from tensorflow.keras.models import Model,Sequential\n",
    "from tensorflow.keras.utils import to_categorical\n",
    "from tensorflow.keras.layers import Conv2D, MaxPooling2D, BatchNormalization, GlobalAveragePooling2D, BatchNormalization\n",
    "from tensorflow.keras.callbacks import ReduceLROnPlateau, EarlyStopping\n",
    "from tensorflow.keras.regularizers import l2\n",
    "\n",
    "Xception_model = Xception(include_top=False, weights='imagenet',  \n",
    "                                     input_shape=input_shape) \n",
    "\n",
    "Xception_model.trainable=True"
   ]
  },
  {
   "cell_type": "code",
   "execution_count": 48,
   "id": "d1d6aed6",
   "metadata": {},
   "outputs": [],
   "source": [
    "#for layer in Xception_model.layers[:-40]:\n",
    "#    layer.trainable = False"
   ]
  },
  {
   "cell_type": "code",
   "execution_count": 6,
   "id": "c67c958e",
   "metadata": {},
   "outputs": [
    {
     "name": "stderr",
     "output_type": "stream",
     "text": [
      "C:\\Users\\elium\\.conda\\envs\\tfGPU\\lib\\site-packages\\ipykernel_launcher.py:2: FutureWarning: Passing a negative integer is deprecated in version 1.0 and will not be supported in future version. Instead, use None to not limit the column width.\n",
      "  \n"
     ]
    },
    {
     "data": {
      "text/html": [
       "<div>\n",
       "<style scoped>\n",
       "    .dataframe tbody tr th:only-of-type {\n",
       "        vertical-align: middle;\n",
       "    }\n",
       "\n",
       "    .dataframe tbody tr th {\n",
       "        vertical-align: top;\n",
       "    }\n",
       "\n",
       "    .dataframe thead th {\n",
       "        text-align: right;\n",
       "    }\n",
       "</style>\n",
       "<table border=\"1\" class=\"dataframe\">\n",
       "  <thead>\n",
       "    <tr style=\"text-align: right;\">\n",
       "      <th></th>\n",
       "      <th>Layer Type</th>\n",
       "      <th>Layer Name</th>\n",
       "      <th>Layer Trainable</th>\n",
       "    </tr>\n",
       "  </thead>\n",
       "  <tbody>\n",
       "    <tr>\n",
       "      <th>0</th>\n",
       "      <td>&lt;tensorflow.python.keras.engine.input_layer.InputLayer object at 0x000001ED27D2F508&gt;</td>\n",
       "      <td>input_1</td>\n",
       "      <td>True</td>\n",
       "    </tr>\n",
       "    <tr>\n",
       "      <th>1</th>\n",
       "      <td>&lt;tensorflow.python.keras.layers.convolutional.Conv2D object at 0x000001ED287C2AC8&gt;</td>\n",
       "      <td>block1_conv1</td>\n",
       "      <td>True</td>\n",
       "    </tr>\n",
       "    <tr>\n",
       "      <th>2</th>\n",
       "      <td>&lt;tensorflow.python.keras.layers.normalization.BatchNormalization object at 0x000001ED287C2C48&gt;</td>\n",
       "      <td>block1_conv1_bn</td>\n",
       "      <td>True</td>\n",
       "    </tr>\n",
       "    <tr>\n",
       "      <th>3</th>\n",
       "      <td>&lt;tensorflow.python.keras.layers.core.Activation object at 0x000001ED27D4F708&gt;</td>\n",
       "      <td>block1_conv1_act</td>\n",
       "      <td>True</td>\n",
       "    </tr>\n",
       "    <tr>\n",
       "      <th>4</th>\n",
       "      <td>&lt;tensorflow.python.keras.layers.convolutional.Conv2D object at 0x000001ED28A4F408&gt;</td>\n",
       "      <td>block1_conv2</td>\n",
       "      <td>True</td>\n",
       "    </tr>\n",
       "    <tr>\n",
       "      <th>...</th>\n",
       "      <td>...</td>\n",
       "      <td>...</td>\n",
       "      <td>...</td>\n",
       "    </tr>\n",
       "    <tr>\n",
       "      <th>127</th>\n",
       "      <td>&lt;tensorflow.python.keras.layers.normalization.BatchNormalization object at 0x000001EFE524EC88&gt;</td>\n",
       "      <td>block14_sepconv1_bn</td>\n",
       "      <td>True</td>\n",
       "    </tr>\n",
       "    <tr>\n",
       "      <th>128</th>\n",
       "      <td>&lt;tensorflow.python.keras.layers.core.Activation object at 0x000001EFE5252348&gt;</td>\n",
       "      <td>block14_sepconv1_act</td>\n",
       "      <td>True</td>\n",
       "    </tr>\n",
       "    <tr>\n",
       "      <th>129</th>\n",
       "      <td>&lt;tensorflow.python.keras.layers.convolutional.SeparableConv2D object at 0x000001EFE525C448&gt;</td>\n",
       "      <td>block14_sepconv2</td>\n",
       "      <td>True</td>\n",
       "    </tr>\n",
       "    <tr>\n",
       "      <th>130</th>\n",
       "      <td>&lt;tensorflow.python.keras.layers.normalization.BatchNormalization object at 0x000001EFE52B3808&gt;</td>\n",
       "      <td>block14_sepconv2_bn</td>\n",
       "      <td>True</td>\n",
       "    </tr>\n",
       "    <tr>\n",
       "      <th>131</th>\n",
       "      <td>&lt;tensorflow.python.keras.layers.core.Activation object at 0x000001EFE52BB3C8&gt;</td>\n",
       "      <td>block14_sepconv2_act</td>\n",
       "      <td>True</td>\n",
       "    </tr>\n",
       "  </tbody>\n",
       "</table>\n",
       "<p>132 rows × 3 columns</p>\n",
       "</div>"
      ],
      "text/plain": [
       "                                                                                         Layer Type  \\\n",
       "0    <tensorflow.python.keras.engine.input_layer.InputLayer object at 0x000001ED27D2F508>             \n",
       "1    <tensorflow.python.keras.layers.convolutional.Conv2D object at 0x000001ED287C2AC8>               \n",
       "2    <tensorflow.python.keras.layers.normalization.BatchNormalization object at 0x000001ED287C2C48>   \n",
       "3    <tensorflow.python.keras.layers.core.Activation object at 0x000001ED27D4F708>                    \n",
       "4    <tensorflow.python.keras.layers.convolutional.Conv2D object at 0x000001ED28A4F408>               \n",
       "..                                                                                  ...               \n",
       "127  <tensorflow.python.keras.layers.normalization.BatchNormalization object at 0x000001EFE524EC88>   \n",
       "128  <tensorflow.python.keras.layers.core.Activation object at 0x000001EFE5252348>                    \n",
       "129  <tensorflow.python.keras.layers.convolutional.SeparableConv2D object at 0x000001EFE525C448>      \n",
       "130  <tensorflow.python.keras.layers.normalization.BatchNormalization object at 0x000001EFE52B3808>   \n",
       "131  <tensorflow.python.keras.layers.core.Activation object at 0x000001EFE52BB3C8>                    \n",
       "\n",
       "               Layer Name  Layer Trainable  \n",
       "0    input_1               True             \n",
       "1    block1_conv1          True             \n",
       "2    block1_conv1_bn       True             \n",
       "3    block1_conv1_act      True             \n",
       "4    block1_conv2          True             \n",
       "..            ...           ...             \n",
       "127  block14_sepconv1_bn   True             \n",
       "128  block14_sepconv1_act  True             \n",
       "129  block14_sepconv2      True             \n",
       "130  block14_sepconv2_bn   True             \n",
       "131  block14_sepconv2_act  True             \n",
       "\n",
       "[132 rows x 3 columns]"
      ]
     },
     "execution_count": 6,
     "metadata": {},
     "output_type": "execute_result"
    }
   ],
   "source": [
    "import pandas as pd \n",
    "pd.set_option('max_colwidth', -1)\n",
    "\n",
    "layers = [(layer, layer.name, layer.trainable) for layer in Xception_model.layers] \n",
    "pd.DataFrame(layers, columns=['Layer Type', 'Layer Name', 'Layer Trainable'])"
   ]
  },
  {
   "cell_type": "code",
   "execution_count": 7,
   "id": "147416ea",
   "metadata": {},
   "outputs": [],
   "source": [
    "from keras import backend as K\n",
    "def recall_m(y_true, y_pred):\n",
    "    true_positives = K.sum(K.round(K.clip(y_true * y_pred, 0, 1)))\n",
    "    possible_positives = K.sum(K.round(K.clip(y_true, 0, 1)))\n",
    "    recall = true_positives / (possible_positives + K.epsilon())\n",
    "    return recall\n",
    "\n",
    "def precision_m(y_true, y_pred):\n",
    "    true_positives = K.sum(K.round(K.clip(y_true * y_pred, 0, 1)))\n",
    "    predicted_positives = K.sum(K.round(K.clip(y_pred, 0, 1)))\n",
    "    precision = true_positives / (predicted_positives + K.epsilon())\n",
    "    return precision\n",
    "\n",
    "def f1_m(y_true, y_pred):\n",
    "    precision = precision_m(y_true, y_pred)\n",
    "    recall = recall_m(y_true, y_pred)\n",
    "    return 2*((precision*recall)/(precision+recall+K.epsilon()))\n"
   ]
  },
  {
   "cell_type": "code",
   "execution_count": 8,
   "id": "bf353720",
   "metadata": {},
   "outputs": [
    {
     "name": "stdout",
     "output_type": "stream",
     "text": [
      "Model: \"sequential\"\n",
      "_________________________________________________________________\n",
      "Layer (type)                 Output Shape              Param #   \n",
      "=================================================================\n",
      "xception (Model)             (None, 7, 7, 2048)        20861480  \n",
      "_________________________________________________________________\n",
      "global_average_pooling2d (Gl (None, 2048)              0         \n",
      "_________________________________________________________________\n",
      "dense (Dense)                (None, 1024)              2098176   \n",
      "_________________________________________________________________\n",
      "dropout (Dropout)            (None, 1024)              0         \n",
      "_________________________________________________________________\n",
      "dense_1 (Dense)              (None, 1024)              1049600   \n",
      "_________________________________________________________________\n",
      "dropout_1 (Dropout)          (None, 1024)              0         \n",
      "_________________________________________________________________\n",
      "dense_2 (Dense)              (None, 3)                 3075      \n",
      "=================================================================\n",
      "Total params: 24,012,331\n",
      "Trainable params: 23,957,803\n",
      "Non-trainable params: 54,528\n",
      "_________________________________________________________________\n",
      "None\n"
     ]
    }
   ],
   "source": [
    "\n",
    "from tensorflow.keras.models import Model,Sequential\n",
    "from tensorflow.keras.utils import to_categorical \n",
    "from keras import optimizers \n",
    "from tensorflow.keras.layers import Conv2D, MaxPooling2D, BatchNormalization, GlobalAveragePooling2D, BatchNormalization\n",
    "# build model architecture \n",
    "model = Sequential()\n",
    "model.add(Xception_model)\n",
    "model.add(GlobalAveragePooling2D())\n",
    "model.add(Dense(1024, activation='relu'))\n",
    "model.add(Dropout(0.1))\n",
    "model.add(Dense(1024, activation='relu'))\n",
    "model.add(Dropout(0.1))\n",
    "model.add(Dense(num_class, activation='softmax'))\n",
    "#compile model\n",
    "model.compile(optimizer=tf.keras.optimizers.SGD(lr=0.0001, momentum=0.9), \n",
    "      loss = tf.keras.losses.CategoricalCrossentropy(from_logits = True), \n",
    "      metrics=['accuracy',f1_m,precision_m, recall_m])\n",
    "print(model.summary())"
   ]
  },
  {
   "cell_type": "code",
   "execution_count": 9,
   "id": "dbe33857",
   "metadata": {},
   "outputs": [
    {
     "name": "stdout",
     "output_type": "stream",
     "text": [
      "WARNING:tensorflow:From C:\\Users\\elium\\AppData\\Local\\Temp\\ipykernel_13416\\1996733638.py:5: Model.fit_generator (from tensorflow.python.keras.engine.training) is deprecated and will be removed in a future version.\n",
      "Instructions for updating:\n",
      "Please use Model.fit, which supports generators.\n",
      "WARNING:tensorflow:sample_weight modes were coerced from\n",
      "  ...\n",
      "    to  \n",
      "  ['...']\n",
      "WARNING:tensorflow:sample_weight modes were coerced from\n",
      "  ...\n",
      "    to  \n",
      "  ['...']\n",
      "Train for 100 steps, validate for 50 steps\n",
      "Epoch 1/50\n",
      "100/100 [==============================] - 54s 541ms/step - loss: 1.0963 - accuracy: 0.3644 - f1_m: 0.0000e+00 - precision_m: 0.0000e+00 - recall_m: 0.0000e+00 - val_loss: 1.0962 - val_accuracy: 0.3663 - val_f1_m: 0.0000e+00 - val_precision_m: 0.0000e+00 - val_recall_m: 0.0000e+00\n",
      "Epoch 2/50\n",
      "100/100 [==============================] - 46s 461ms/step - loss: 1.0952 - accuracy: 0.3741 - f1_m: 0.0000e+00 - precision_m: 0.0000e+00 - recall_m: 0.0000e+00 - val_loss: 1.0964 - val_accuracy: 0.3675 - val_f1_m: 0.0000e+00 - val_precision_m: 0.0000e+00 - val_recall_m: 0.0000e+00\n",
      "Epoch 3/50\n",
      "100/100 [==============================] - 47s 465ms/step - loss: 1.0933 - accuracy: 0.3925 - f1_m: 0.0000e+00 - precision_m: 0.0000e+00 - recall_m: 0.0000e+00 - val_loss: 1.0961 - val_accuracy: 0.3688 - val_f1_m: 0.0000e+00 - val_precision_m: 0.0000e+00 - val_recall_m: 0.0000e+00\n",
      "Epoch 4/50\n",
      "100/100 [==============================] - 49s 486ms/step - loss: 1.0922 - accuracy: 0.4129 - f1_m: 0.0000e+00 - precision_m: 0.0000e+00 - recall_m: 0.0000e+00 - val_loss: 1.0956 - val_accuracy: 0.3825 - val_f1_m: 0.0000e+00 - val_precision_m: 0.0000e+00 - val_recall_m: 0.0000e+00\n",
      "Epoch 5/50\n",
      "100/100 [==============================] - 47s 473ms/step - loss: 1.0911 - accuracy: 0.4272 - f1_m: 0.0000e+00 - precision_m: 0.0000e+00 - recall_m: 0.0000e+00 - val_loss: 1.0946 - val_accuracy: 0.3906 - val_f1_m: 0.0000e+00 - val_precision_m: 0.0000e+00 - val_recall_m: 0.0000e+00\n",
      "Epoch 6/50\n",
      "100/100 [==============================] - 47s 474ms/step - loss: 1.0900 - accuracy: 0.4446 - f1_m: 6.0606e-04 - precision_m: 0.0100 - recall_m: 3.1250e-04 - val_loss: 1.0923 - val_accuracy: 0.4081 - val_f1_m: 0.0000e+00 - val_precision_m: 0.0000e+00 - val_recall_m: 0.0000e+00\n",
      "Epoch 7/50\n",
      "100/100 [==============================] - 48s 479ms/step - loss: 1.0874 - accuracy: 0.4691 - f1_m: 6.0606e-04 - precision_m: 0.0100 - recall_m: 3.1250e-04 - val_loss: 1.0874 - val_accuracy: 0.4731 - val_f1_m: 0.0000e+00 - val_precision_m: 0.0000e+00 - val_recall_m: 0.0000e+00\n",
      "Epoch 8/50\n",
      "100/100 [==============================] - 48s 481ms/step - loss: 1.0852 - accuracy: 0.4800 - f1_m: 0.0000e+00 - precision_m: 0.0000e+00 - recall_m: 0.0000e+00 - val_loss: 1.0835 - val_accuracy: 0.5063 - val_f1_m: 0.0000e+00 - val_precision_m: 0.0000e+00 - val_recall_m: 0.0000e+00\n",
      "Epoch 9/50\n",
      "100/100 [==============================] - 48s 480ms/step - loss: 1.0849 - accuracy: 0.4797 - f1_m: 0.0012 - precision_m: 0.0200 - recall_m: 6.2500e-04 - val_loss: 1.0804 - val_accuracy: 0.5344 - val_f1_m: 0.0000e+00 - val_precision_m: 0.0000e+00 - val_recall_m: 0.0000e+00\n",
      "Epoch 10/50\n",
      "100/100 [==============================] - 48s 480ms/step - loss: 1.0831 - accuracy: 0.4959 - f1_m: 0.0000e+00 - precision_m: 0.0000e+00 - recall_m: 0.0000e+00 - val_loss: 1.0779 - val_accuracy: 0.5494 - val_f1_m: 0.0000e+00 - val_precision_m: 0.0000e+00 - val_recall_m: 0.0000e+00\n",
      "Epoch 11/50\n",
      "100/100 [==============================] - 48s 480ms/step - loss: 1.0799 - accuracy: 0.5316 - f1_m: 0.0012 - precision_m: 0.0200 - recall_m: 6.2500e-04 - val_loss: 1.0752 - val_accuracy: 0.5612 - val_f1_m: 0.0000e+00 - val_precision_m: 0.0000e+00 - val_recall_m: 0.0000e+00\n",
      "Epoch 12/50\n",
      "100/100 [==============================] - 48s 483ms/step - loss: 1.0794 - accuracy: 0.5172 - f1_m: 0.0042 - precision_m: 0.0700 - recall_m: 0.0022 - val_loss: 1.0723 - val_accuracy: 0.5863 - val_f1_m: 0.0012 - val_precision_m: 0.0200 - val_recall_m: 6.2500e-04\n",
      "Epoch 13/50\n",
      "100/100 [==============================] - 48s 476ms/step - loss: 1.0766 - accuracy: 0.5353 - f1_m: 0.0036 - precision_m: 0.0500 - recall_m: 0.0019 - val_loss: 1.0693 - val_accuracy: 0.5875 - val_f1_m: 0.0012 - val_precision_m: 0.0200 - val_recall_m: 6.2500e-04\n",
      "Epoch 14/50\n",
      "100/100 [==============================] - 48s 483ms/step - loss: 1.0751 - accuracy: 0.5372 - f1_m: 0.0061 - precision_m: 0.1000 - recall_m: 0.0031 - val_loss: 1.0674 - val_accuracy: 0.5975 - val_f1_m: 0.0036 - val_precision_m: 0.0600 - val_recall_m: 0.0019\n",
      "Epoch 15/50\n",
      "100/100 [==============================] - 48s 480ms/step - loss: 1.0715 - accuracy: 0.5553 - f1_m: 0.0097 - precision_m: 0.1600 - recall_m: 0.0050 - val_loss: 1.0639 - val_accuracy: 0.5875 - val_f1_m: 0.0120 - val_precision_m: 0.1800 - val_recall_m: 0.0063\n",
      "Epoch 16/50\n",
      "100/100 [==============================] - 48s 481ms/step - loss: 1.0695 - accuracy: 0.5672 - f1_m: 0.0169 - precision_m: 0.2500 - recall_m: 0.0088 - val_loss: 1.0602 - val_accuracy: 0.5969 - val_f1_m: 0.0264 - val_precision_m: 0.3800 - val_recall_m: 0.0137\n",
      "Epoch 17/50\n",
      "100/100 [==============================] - 48s 484ms/step - loss: 1.0673 - accuracy: 0.5747 - f1_m: 0.0204 - precision_m: 0.2700 - recall_m: 0.0106 - val_loss: 1.0597 - val_accuracy: 0.6100 - val_f1_m: 0.0275 - val_precision_m: 0.3633 - val_recall_m: 0.0144\n",
      "Epoch 18/50\n",
      "100/100 [==============================] - 48s 480ms/step - loss: 1.0643 - accuracy: 0.5708 - f1_m: 0.0408 - precision_m: 0.4867 - recall_m: 0.0215 - val_loss: 1.0550 - val_accuracy: 0.6031 - val_f1_m: 0.0532 - val_precision_m: 0.5950 - val_recall_m: 0.0281\n",
      "Epoch 19/50\n",
      "100/100 [==============================] - 48s 481ms/step - loss: 1.0602 - accuracy: 0.5794 - f1_m: 0.0516 - precision_m: 0.5317 - recall_m: 0.0275 - val_loss: 1.0528 - val_accuracy: 0.6156 - val_f1_m: 0.0665 - val_precision_m: 0.6033 - val_recall_m: 0.0356\n",
      "Epoch 20/50\n",
      "100/100 [==============================] - 48s 484ms/step - loss: 1.0565 - accuracy: 0.5965 - f1_m: 0.0735 - precision_m: 0.6975 - recall_m: 0.0393 - val_loss: 1.0484 - val_accuracy: 0.6162 - val_f1_m: 0.1018 - val_precision_m: 0.7967 - val_recall_m: 0.0550\n",
      "Epoch 21/50\n",
      "100/100 [==============================] - 48s 481ms/step - loss: 1.0548 - accuracy: 0.5900 - f1_m: 0.0922 - precision_m: 0.7475 - recall_m: 0.0497 - val_loss: 1.0455 - val_accuracy: 0.6062 - val_f1_m: 0.1437 - val_precision_m: 0.8663 - val_recall_m: 0.0800\n",
      "Epoch 22/50\n",
      "100/100 [==============================] - 48s 482ms/step - loss: 1.0512 - accuracy: 0.5856 - f1_m: 0.1250 - precision_m: 0.7956 - recall_m: 0.0691 - val_loss: 1.0432 - val_accuracy: 0.6425 - val_f1_m: 0.1278 - val_precision_m: 0.8850 - val_recall_m: 0.0700\n",
      "Epoch 23/50\n",
      "100/100 [==============================] - 48s 482ms/step - loss: 1.0474 - accuracy: 0.5972 - f1_m: 0.1554 - precision_m: 0.8472 - recall_m: 0.0875 - val_loss: 1.0370 - val_accuracy: 0.6600 - val_f1_m: 0.1760 - val_precision_m: 0.9085 - val_recall_m: 0.0994\n",
      "Epoch 24/50\n",
      "100/100 [==============================] - 48s 481ms/step - loss: 1.0405 - accuracy: 0.6197 - f1_m: 0.1857 - precision_m: 0.8355 - recall_m: 0.1072 - val_loss: 1.0363 - val_accuracy: 0.6237 - val_f1_m: 0.1990 - val_precision_m: 0.8655 - val_recall_m: 0.1144\n",
      "Epoch 25/50\n",
      "100/100 [==============================] - 48s 481ms/step - loss: 1.0363 - accuracy: 0.6247 - f1_m: 0.2296 - precision_m: 0.8781 - recall_m: 0.1350 - val_loss: 1.0293 - val_accuracy: 0.6569 - val_f1_m: 0.2560 - val_precision_m: 0.8811 - val_recall_m: 0.1525\n",
      "Epoch 26/50\n",
      "100/100 [==============================] - 49s 486ms/step - loss: 1.0344 - accuracy: 0.6103 - f1_m: 0.2611 - precision_m: 0.8449 - recall_m: 0.1572 - val_loss: 1.0231 - val_accuracy: 0.6662 - val_f1_m: 0.3021 - val_precision_m: 0.8663 - val_recall_m: 0.1863\n",
      "Epoch 27/50\n",
      "100/100 [==============================] - 48s 484ms/step - loss: 1.0284 - accuracy: 0.6266 - f1_m: 0.2986 - precision_m: 0.8508 - recall_m: 0.1844 - val_loss: 1.0169 - val_accuracy: 0.6669 - val_f1_m: 0.3501 - val_precision_m: 0.8709 - val_recall_m: 0.2231\n",
      "Epoch 28/50\n",
      "100/100 [==============================] - 48s 483ms/step - loss: 1.0200 - accuracy: 0.6466 - f1_m: 0.3437 - precision_m: 0.8617 - recall_m: 0.2178 - val_loss: 1.0110 - val_accuracy: 0.6700 - val_f1_m: 0.3676 - val_precision_m: 0.8723 - val_recall_m: 0.2369\n"
     ]
    },
    {
     "name": "stdout",
     "output_type": "stream",
     "text": [
      "Epoch 29/50\n",
      "100/100 [==============================] - 48s 482ms/step - loss: 1.0160 - accuracy: 0.6244 - f1_m: 0.3636 - precision_m: 0.8548 - recall_m: 0.2347 - val_loss: 1.0054 - val_accuracy: 0.6737 - val_f1_m: 0.4039 - val_precision_m: 0.8513 - val_recall_m: 0.2688\n",
      "Epoch 30/50\n",
      "100/100 [==============================] - 49s 487ms/step - loss: 1.0115 - accuracy: 0.6459 - f1_m: 0.3942 - precision_m: 0.8343 - recall_m: 0.2606 - val_loss: 0.9984 - val_accuracy: 0.6750 - val_f1_m: 0.4319 - val_precision_m: 0.8532 - val_recall_m: 0.2931\n",
      "Epoch 31/50\n",
      "100/100 [==============================] - 48s 485ms/step - loss: 1.0052 - accuracy: 0.6503 - f1_m: 0.4271 - precision_m: 0.8456 - recall_m: 0.2887 - val_loss: 0.9933 - val_accuracy: 0.6744 - val_f1_m: 0.4526 - val_precision_m: 0.8519 - val_recall_m: 0.3125\n",
      "Epoch 32/50\n",
      "100/100 [==============================] - 48s 483ms/step - loss: 0.9994 - accuracy: 0.6422 - f1_m: 0.4505 - precision_m: 0.8280 - recall_m: 0.3128 - val_loss: 0.9838 - val_accuracy: 0.6969 - val_f1_m: 0.5059 - val_precision_m: 0.8531 - val_recall_m: 0.3638\n",
      "Epoch 33/50\n",
      "100/100 [==============================] - 48s 481ms/step - loss: 0.9929 - accuracy: 0.6625 - f1_m: 0.4723 - precision_m: 0.8206 - recall_m: 0.3344 - val_loss: 0.9813 - val_accuracy: 0.6906 - val_f1_m: 0.5202 - val_precision_m: 0.8564 - val_recall_m: 0.3775\n",
      "Epoch 34/50\n",
      "100/100 [==============================] - 48s 482ms/step - loss: 0.9896 - accuracy: 0.6556 - f1_m: 0.4888 - precision_m: 0.8067 - recall_m: 0.3537 - val_loss: 0.9715 - val_accuracy: 0.6975 - val_f1_m: 0.5518 - val_precision_m: 0.8432 - val_recall_m: 0.4150\n",
      "Epoch 35/50\n",
      "100/100 [==============================] - 48s 482ms/step - loss: 0.9801 - accuracy: 0.6684 - f1_m: 0.5292 - precision_m: 0.8263 - recall_m: 0.3925 - val_loss: 0.9669 - val_accuracy: 0.7094 - val_f1_m: 0.5733 - val_precision_m: 0.8250 - val_recall_m: 0.4437\n",
      "Epoch 36/50\n",
      "100/100 [==============================] - 48s 483ms/step - loss: 0.9725 - accuracy: 0.6850 - f1_m: 0.5598 - precision_m: 0.8266 - recall_m: 0.4263 - val_loss: 0.9549 - val_accuracy: 0.7200 - val_f1_m: 0.6089 - val_precision_m: 0.8388 - val_recall_m: 0.4825\n",
      "Epoch 37/50\n",
      "100/100 [==============================] - 48s 483ms/step - loss: 0.9655 - accuracy: 0.6900 - f1_m: 0.5744 - precision_m: 0.8115 - recall_m: 0.4472 - val_loss: 0.9490 - val_accuracy: 0.7163 - val_f1_m: 0.6191 - val_precision_m: 0.8388 - val_recall_m: 0.4969\n",
      "Epoch 38/50\n",
      "100/100 [==============================] - 48s 485ms/step - loss: 0.9559 - accuracy: 0.6875 - f1_m: 0.5960 - precision_m: 0.8172 - recall_m: 0.4719 - val_loss: 0.9440 - val_accuracy: 0.7200 - val_f1_m: 0.6332 - val_precision_m: 0.8344 - val_recall_m: 0.5150\n",
      "Epoch 39/50\n",
      "100/100 [==============================] - 48s 482ms/step - loss: 0.9557 - accuracy: 0.6862 - f1_m: 0.5966 - precision_m: 0.8032 - recall_m: 0.4785 - val_loss: 0.9377 - val_accuracy: 0.7256 - val_f1_m: 0.6478 - val_precision_m: 0.8329 - val_recall_m: 0.5350\n",
      "Epoch 40/50\n",
      "100/100 [==============================] - 48s 484ms/step - loss: 0.9451 - accuracy: 0.6947 - f1_m: 0.6215 - precision_m: 0.8116 - recall_m: 0.5066 - val_loss: 0.9297 - val_accuracy: 0.7287 - val_f1_m: 0.6621 - val_precision_m: 0.8256 - val_recall_m: 0.5569\n",
      "Epoch 41/50\n",
      "100/100 [==============================] - 49s 486ms/step - loss: 0.9361 - accuracy: 0.7069 - f1_m: 0.6346 - precision_m: 0.8023 - recall_m: 0.5288 - val_loss: 0.9280 - val_accuracy: 0.7275 - val_f1_m: 0.6697 - val_precision_m: 0.8327 - val_recall_m: 0.5638\n",
      "Epoch 42/50\n",
      "100/100 [==============================] - 48s 483ms/step - loss: 0.9311 - accuracy: 0.7006 - f1_m: 0.6477 - precision_m: 0.8017 - recall_m: 0.5459 - val_loss: 0.9108 - val_accuracy: 0.7462 - val_f1_m: 0.6886 - val_precision_m: 0.8254 - val_recall_m: 0.5944\n",
      "Epoch 43/50\n",
      "100/100 [==============================] - 48s 483ms/step - loss: 0.9209 - accuracy: 0.7200 - f1_m: 0.6660 - precision_m: 0.8024 - recall_m: 0.5713 - val_loss: 0.9127 - val_accuracy: 0.7387 - val_f1_m: 0.6905 - val_precision_m: 0.8207 - val_recall_m: 0.5987\n",
      "Epoch 44/50\n",
      "100/100 [==============================] - 49s 485ms/step - loss: 0.9179 - accuracy: 0.7053 - f1_m: 0.6579 - precision_m: 0.7835 - recall_m: 0.5703 - val_loss: 0.8959 - val_accuracy: 0.7600 - val_f1_m: 0.7097 - val_precision_m: 0.8136 - val_recall_m: 0.6319\n",
      "Epoch 45/50\n",
      "100/100 [==============================] - 49s 488ms/step - loss: 0.9056 - accuracy: 0.7294 - f1_m: 0.6843 - precision_m: 0.7944 - recall_m: 0.6031 - val_loss: 0.8960 - val_accuracy: 0.7437 - val_f1_m: 0.7117 - val_precision_m: 0.8164 - val_recall_m: 0.6325\n",
      "Epoch 46/50\n",
      "100/100 [==============================] - 50s 501ms/step - loss: 0.9007 - accuracy: 0.7237 - f1_m: 0.6913 - precision_m: 0.7947 - recall_m: 0.6144 - val_loss: 0.8832 - val_accuracy: 0.7544 - val_f1_m: 0.7242 - val_precision_m: 0.8138 - val_recall_m: 0.6544\n",
      "Epoch 47/50\n",
      "100/100 [==============================] - 49s 494ms/step - loss: 0.8932 - accuracy: 0.7331 - f1_m: 0.7022 - precision_m: 0.7981 - recall_m: 0.6291 - val_loss: 0.8769 - val_accuracy: 0.7569 - val_f1_m: 0.7311 - val_precision_m: 0.8080 - val_recall_m: 0.6694\n",
      "Epoch 48/50\n",
      "100/100 [==============================] - 48s 476ms/step - loss: 0.8843 - accuracy: 0.7378 - f1_m: 0.7092 - precision_m: 0.7960 - recall_m: 0.6416 - val_loss: 0.8689 - val_accuracy: 0.7606 - val_f1_m: 0.7381 - val_precision_m: 0.8121 - val_recall_m: 0.6794\n",
      "Epoch 49/50\n",
      "100/100 [==============================] - 48s 476ms/step - loss: 0.8870 - accuracy: 0.7269 - f1_m: 0.7059 - precision_m: 0.7851 - recall_m: 0.6428 - val_loss: 0.8597 - val_accuracy: 0.7594 - val_f1_m: 0.7494 - val_precision_m: 0.8116 - val_recall_m: 0.6975\n",
      "Epoch 50/50\n",
      "100/100 [==============================] - 49s 491ms/step - loss: 0.8769 - accuracy: 0.7362 - f1_m: 0.7126 - precision_m: 0.7892 - recall_m: 0.6516 - val_loss: 0.8572 - val_accuracy: 0.7644 - val_f1_m: 0.7501 - val_precision_m: 0.7997 - val_recall_m: 0.7075\n"
     ]
    }
   ],
   "source": [
    "history = model.fit_generator(train, steps_per_epoch=100, \n",
    "                              epochs=50,  \n",
    "                              validation_data=val,   \n",
    "                              validation_steps=50,  \n",
    "                              verbose=1)"
   ]
  },
  {
   "cell_type": "code",
   "execution_count": 10,
   "id": "fed1cd09",
   "metadata": {},
   "outputs": [
    {
     "data": {
      "image/png": "[encoded data removed]",
      "text/plain": [
       "<Figure size 432x288 with 1 Axes>"
      ]
     },
     "metadata": {
      "needs_background": "light"
     },
     "output_type": "display_data"
    }
   ],
   "source": [
    "# summarize history for accuracy\n",
    "import matplotlib.pyplot as plt\n",
    "plt.plot(history.history['accuracy'])\n",
    "plt.plot(history.history['val_accuracy'])\n",
    "plt.title('model accuracy')\n",
    "plt.ylabel('accuracy')\n",
    "plt.xlabel('epoch')\n",
    "plt.legend(['train', 'test'], loc='upper left')\n",
    "plt.show()"
   ]
  },
  {
   "cell_type": "code",
   "execution_count": 11,
   "id": "52bc0b29",
   "metadata": {},
   "outputs": [
    {
     "data": {
      "image/png": "[encoded data removed]",
      "text/plain": [
       "<Figure size 432x288 with 1 Axes>"
      ]
     },
     "metadata": {
      "needs_background": "light"
     },
     "output_type": "display_data"
    }
   ],
   "source": [
    "plt.plot(history.history['loss'])\n",
    "plt.plot(history.history['val_loss'])\n",
    "plt.title('model loss')\n",
    "plt.ylabel('loss')\n",
    "plt.xlabel('epoch')\n",
    "plt.legend(['train', 'test'], loc='upper left')\n",
    "plt.show()"
   ]
  },
  {
   "cell_type": "code",
   "execution_count": 12,
   "id": "d1434ff7",
   "metadata": {},
   "outputs": [
    {
     "data": {
      "image/png": "[encoded data removed]",
      "text/plain": [
       "<Figure size 432x288 with 1 Axes>"
      ]
     },
     "metadata": {
      "needs_background": "light"
     },
     "output_type": "display_data"
    }
   ],
   "source": [
    "plt.plot(history.history['f1_m'])\n",
    "plt.plot(history.history['val_f1_m'])\n",
    "plt.title('F1 Score')\n",
    "plt.ylabel('f1')\n",
    "plt.xlabel('epoch')\n",
    "plt.legend(['train', 'test'], loc='upper left')\n",
    "plt.show()"
   ]
  },
  {
   "cell_type": "code",
   "execution_count": 13,
   "id": "9f7796c8",
   "metadata": {},
   "outputs": [
    {
     "data": {
      "image/png": "[encoded data removed]",
      "text/plain": [
       "<Figure size 432x288 with 1 Axes>"
      ]
     },
     "metadata": {
      "needs_background": "light"
     },
     "output_type": "display_data"
    }
   ],
   "source": [
    "plt.plot(history.history['recall_m'])\n",
    "plt.plot(history.history['val_recall_m'])\n",
    "plt.title('Recall')\n",
    "plt.ylabel('recall')\n",
    "plt.xlabel('epoch')\n",
    "plt.legend(['train', 'test'], loc='upper left')\n",
    "plt.show()"
   ]
  },
  {
   "cell_type": "code",
   "execution_count": 14,
   "id": "6721c239",
   "metadata": {},
   "outputs": [
    {
     "data": {
      "image/png": "[encoded data removed]",
      "text/plain": [
       "<Figure size 432x288 with 1 Axes>"
      ]
     },
     "metadata": {
      "needs_background": "light"
     },
     "output_type": "display_data"
    }
   ],
   "source": [
    "plt.plot(history.history['precision_m'])\n",
    "plt.plot(history.history['val_precision_m'])\n",
    "plt.title('Precision')\n",
    "plt.ylabel('precision')\n",
    "plt.xlabel('epoch')\n",
    "plt.legend(['train', 'test'], loc='upper left')\n",
    "plt.show()"
   ]
  },
  {
   "cell_type": "code",
   "execution_count": 15,
   "id": "53d4cc27",
   "metadata": {},
   "outputs": [
    {
     "name": "stdout",
     "output_type": "stream",
     "text": [
      "WARNING:tensorflow:sample_weight modes were coerced from\n",
      "  ...\n",
      "    to  \n",
      "  ['...']\n",
      "213/213 [==============================] - 22s 102ms/step - loss: 0.8527 - accuracy: 0.7750 - f1_m: 0.7565 - precision_m: 0.8149 - recall_m: 0.7075\n",
      "El modelo predice el  77.50442028045654 % de los datos\n"
     ]
    }
   ],
   "source": [
    "test_eval = model.evaluate(test, verbose=1)\n",
    "print('El modelo predice el ', test_eval[1]*100,'% de los datos')"
   ]
  },
  {
   "cell_type": "code",
   "execution_count": 16,
   "id": "7a9065d9",
   "metadata": {},
   "outputs": [
    {
     "name": "stdout",
     "output_type": "stream",
     "text": [
      "Las métricas del modelo son:  ['loss', 'accuracy', 'f1_m', 'precision_m', 'recall_m']\n"
     ]
    }
   ],
   "source": [
    "print(\"Las métricas del modelo son: \",model.metrics_names)"
   ]
  },
  {
   "cell_type": "code",
   "execution_count": 18,
   "id": "2624f4ee",
   "metadata": {},
   "outputs": [
    {
     "name": "stdout",
     "output_type": "stream",
     "text": [
      "Obtenemos las métricas para test, con 50 epocas;  [0.8527181422766386, 0.7750442, 0.7565118, 0.8149043, 0.7074531]\n"
     ]
    }
   ],
   "source": [
    "print(\"Obtenemos las métricas para test, con 50 epocas; \",test_eval)"
   ]
  },
  {
   "cell_type": "code",
   "execution_count": 19,
   "id": "6836422b",
   "metadata": {},
   "outputs": [
    {
     "name": "stdout",
     "output_type": "stream",
     "text": [
      "Modelo Guardado!\n"
     ]
    }
   ],
   "source": [
    "from keras.models import model_from_json\n",
    "# serializar el modelo a JSON\n",
    "model_json = model.to_json()\n",
    "with open(\"ModeloXception50eponchs.json\", \"w\") as json_file:\n",
    "    json_file.write(model_json)\n",
    "# serializar los pesos a HDF5\n",
    "model.save_weights(\"PesosXception50eponchs.h5\")\n",
    "print(\"Modelo Guardado!\")"
   ]
  },
  {
   "cell_type": "code",
   "execution_count": 20,
   "id": "2c38e84e",
   "metadata": {},
   "outputs": [
    {
     "name": "stdout",
     "output_type": "stream",
     "text": [
      "WARNING:tensorflow:sample_weight modes were coerced from\n",
      "  ...\n",
      "    to  \n",
      "  ['...']\n",
      "WARNING:tensorflow:sample_weight modes were coerced from\n",
      "  ...\n",
      "    to  \n",
      "  ['...']\n",
      "Train for 100 steps, validate for 50 steps\n",
      "Epoch 1/25\n",
      "100/100 [==============================] - 47s 468ms/step - loss: 0.8649 - accuracy: 0.7528 - f1_m: 0.7322 - precision_m: 0.7966 - recall_m: 0.6787 - val_loss: 0.8465 - val_accuracy: 0.7706 - val_f1_m: 0.7555 - val_precision_m: 0.8098 - val_recall_m: 0.7094\n",
      "Epoch 2/25\n",
      "100/100 [==============================] - 47s 470ms/step - loss: 0.8565 - accuracy: 0.7559 - f1_m: 0.7389 - precision_m: 0.8028 - recall_m: 0.6859 - val_loss: 0.8406 - val_accuracy: 0.7675 - val_f1_m: 0.7573 - val_precision_m: 0.8051 - val_recall_m: 0.7163\n",
      "Epoch 3/25\n",
      "100/100 [==============================] - 47s 473ms/step - loss: 0.8584 - accuracy: 0.7456 - f1_m: 0.7345 - precision_m: 0.7987 - recall_m: 0.6812 - val_loss: 0.8404 - val_accuracy: 0.7719 - val_f1_m: 0.7552 - val_precision_m: 0.8042 - val_recall_m: 0.7131\n",
      "Epoch 4/25\n",
      "100/100 [==============================] - 48s 477ms/step - loss: 0.8528 - accuracy: 0.7487 - f1_m: 0.7384 - precision_m: 0.7964 - recall_m: 0.6897 - val_loss: 0.8304 - val_accuracy: 0.7788 - val_f1_m: 0.7683 - val_precision_m: 0.8080 - val_recall_m: 0.7337\n",
      "Epoch 5/25\n",
      "100/100 [==============================] - 48s 482ms/step - loss: 0.8410 - accuracy: 0.7650 - f1_m: 0.7559 - precision_m: 0.8079 - recall_m: 0.7119 - val_loss: 0.8280 - val_accuracy: 0.7763 - val_f1_m: 0.7682 - val_precision_m: 0.8028 - val_recall_m: 0.7375\n",
      "Epoch 6/25\n",
      "100/100 [==============================] - 49s 487ms/step - loss: 0.8342 - accuracy: 0.7678 - f1_m: 0.7563 - precision_m: 0.8050 - recall_m: 0.7144 - val_loss: 0.8287 - val_accuracy: 0.7756 - val_f1_m: 0.7696 - val_precision_m: 0.8090 - val_recall_m: 0.7350\n",
      "Epoch 7/25\n",
      "100/100 [==============================] - 49s 486ms/step - loss: 0.8334 - accuracy: 0.7609 - f1_m: 0.7561 - precision_m: 0.7998 - recall_m: 0.7181 - val_loss: 0.8197 - val_accuracy: 0.7837 - val_f1_m: 0.7729 - val_precision_m: 0.8115 - val_recall_m: 0.7387\n",
      "Epoch 8/25\n",
      "100/100 [==============================] - 49s 489ms/step - loss: 0.8336 - accuracy: 0.7594 - f1_m: 0.7513 - precision_m: 0.7945 - recall_m: 0.7138 - val_loss: 0.8115 - val_accuracy: 0.7831 - val_f1_m: 0.7755 - val_precision_m: 0.8091 - val_recall_m: 0.7456\n",
      "Epoch 9/25\n",
      "100/100 [==============================] - 49s 489ms/step - loss: 0.8239 - accuracy: 0.7675 - f1_m: 0.7586 - precision_m: 0.7965 - recall_m: 0.7254 - val_loss: 0.8094 - val_accuracy: 0.7856 - val_f1_m: 0.7768 - val_precision_m: 0.8050 - val_recall_m: 0.7513\n",
      "Epoch 10/25\n",
      "100/100 [==============================] - 49s 493ms/step - loss: 0.8180 - accuracy: 0.7735 - f1_m: 0.7667 - precision_m: 0.8035 - recall_m: 0.7338 - val_loss: 0.8054 - val_accuracy: 0.7875 - val_f1_m: 0.7862 - val_precision_m: 0.8132 - val_recall_m: 0.7619\n",
      "Epoch 11/25\n",
      "100/100 [==============================] - 50s 502ms/step - loss: 0.8213 - accuracy: 0.7650 - f1_m: 0.7587 - precision_m: 0.7957 - recall_m: 0.7259 - val_loss: 0.7984 - val_accuracy: 0.7912 - val_f1_m: 0.7831 - val_precision_m: 0.8094 - val_recall_m: 0.7594\n",
      "Epoch 12/25\n",
      "100/100 [==============================] - 49s 492ms/step - loss: 0.8086 - accuracy: 0.7741 - f1_m: 0.7731 - precision_m: 0.8034 - recall_m: 0.7457 - val_loss: 0.7972 - val_accuracy: 0.7906 - val_f1_m: 0.7831 - val_precision_m: 0.8107 - val_recall_m: 0.7581\n",
      "Epoch 13/25\n",
      "100/100 [==============================] - 49s 489ms/step - loss: 0.8130 - accuracy: 0.7709 - f1_m: 0.7667 - precision_m: 0.7988 - recall_m: 0.7378 - val_loss: 0.7977 - val_accuracy: 0.7925 - val_f1_m: 0.7927 - val_precision_m: 0.8192 - val_recall_m: 0.7688\n",
      "Epoch 14/25\n",
      "100/100 [==============================] - 49s 487ms/step - loss: 0.7994 - accuracy: 0.7897 - f1_m: 0.7846 - precision_m: 0.8189 - recall_m: 0.7541 - val_loss: 0.7859 - val_accuracy: 0.8019 - val_f1_m: 0.7993 - val_precision_m: 0.8203 - val_recall_m: 0.7800\n",
      "Epoch 15/25\n",
      "100/100 [==============================] - 50s 501ms/step - loss: 0.8068 - accuracy: 0.7772 - f1_m: 0.7725 - precision_m: 0.8002 - recall_m: 0.7475 - val_loss: 0.7881 - val_accuracy: 0.7931 - val_f1_m: 0.7869 - val_precision_m: 0.8120 - val_recall_m: 0.7644\n",
      "Epoch 16/25\n",
      "100/100 [==============================] - 49s 489ms/step - loss: 0.8010 - accuracy: 0.7778 - f1_m: 0.7758 - precision_m: 0.8039 - recall_m: 0.7503 - val_loss: 0.7992 - val_accuracy: 0.7837 - val_f1_m: 0.7749 - val_precision_m: 0.8018 - val_recall_m: 0.7506\n",
      "Epoch 17/25\n",
      "100/100 [==============================] - 49s 490ms/step - loss: 0.8046 - accuracy: 0.7722 - f1_m: 0.7690 - precision_m: 0.7965 - recall_m: 0.7441 - val_loss: 0.7800 - val_accuracy: 0.8037 - val_f1_m: 0.7987 - val_precision_m: 0.8177 - val_recall_m: 0.7812\n",
      "Epoch 18/25\n",
      "100/100 [==============================] - 49s 489ms/step - loss: 0.7861 - accuracy: 0.7912 - f1_m: 0.7871 - precision_m: 0.8136 - recall_m: 0.7631 - val_loss: 0.7739 - val_accuracy: 0.7994 - val_f1_m: 0.7992 - val_precision_m: 0.8164 - val_recall_m: 0.7831\n",
      "Epoch 19/25\n",
      "100/100 [==============================] - 48s 485ms/step - loss: 0.7941 - accuracy: 0.7809 - f1_m: 0.7781 - precision_m: 0.7999 - recall_m: 0.7581 - val_loss: 0.7704 - val_accuracy: 0.8050 - val_f1_m: 0.8033 - val_precision_m: 0.8210 - val_recall_m: 0.7869\n",
      "Epoch 20/25\n",
      "100/100 [==============================] - 49s 486ms/step - loss: 0.7874 - accuracy: 0.7941 - f1_m: 0.7861 - precision_m: 0.8090 - recall_m: 0.7650 - val_loss: 0.7693 - val_accuracy: 0.8087 - val_f1_m: 0.8020 - val_precision_m: 0.8217 - val_recall_m: 0.7837\n",
      "Epoch 21/25\n",
      "100/100 [==============================] - 49s 491ms/step - loss: 0.7851 - accuracy: 0.7900 - f1_m: 0.7861 - precision_m: 0.8086 - recall_m: 0.7653 - val_loss: 0.7669 - val_accuracy: 0.8112 - val_f1_m: 0.8020 - val_precision_m: 0.8231 - val_recall_m: 0.7825\n",
      "Epoch 22/25\n",
      "100/100 [==============================] - 49s 490ms/step - loss: 0.7834 - accuracy: 0.7931 - f1_m: 0.7860 - precision_m: 0.8094 - recall_m: 0.7647 - val_loss: 0.7654 - val_accuracy: 0.8138 - val_f1_m: 0.8111 - val_precision_m: 0.8257 - val_recall_m: 0.7975\n",
      "Epoch 23/25\n",
      "100/100 [==============================] - 49s 489ms/step - loss: 0.7686 - accuracy: 0.8109 - f1_m: 0.8061 - precision_m: 0.8305 - recall_m: 0.7837 - val_loss: 0.7607 - val_accuracy: 0.8119 - val_f1_m: 0.8112 - val_precision_m: 0.8295 - val_recall_m: 0.7944\n",
      "Epoch 24/25\n",
      "100/100 [==============================] - 49s 491ms/step - loss: 0.7709 - accuracy: 0.8097 - f1_m: 0.8046 - precision_m: 0.8248 - recall_m: 0.7859 - val_loss: 0.7620 - val_accuracy: 0.8144 - val_f1_m: 0.8111 - val_precision_m: 0.8304 - val_recall_m: 0.7931\n",
      "Epoch 25/25\n",
      "100/100 [==============================] - 49s 491ms/step - loss: 0.7780 - accuracy: 0.7909 - f1_m: 0.7888 - precision_m: 0.8070 - recall_m: 0.7719 - val_loss: 0.7569 - val_accuracy: 0.8181 - val_f1_m: 0.8148 - val_precision_m: 0.8306 - val_recall_m: 0.8000\n"
     ]
    }
   ],
   "source": [
    "history = model.fit_generator(train, steps_per_epoch=100, \n",
    "                              epochs=25,  \n",
    "                              validation_data=val,   \n",
    "                              validation_steps=50,  \n",
    "                              verbose=1)"
   ]
  },
  {
   "cell_type": "code",
   "execution_count": 21,
   "id": "8ce55c4d",
   "metadata": {},
   "outputs": [
    {
     "name": "stdout",
     "output_type": "stream",
     "text": [
      "WARNING:tensorflow:sample_weight modes were coerced from\n",
      "  ...\n",
      "    to  \n",
      "  ['...']\n",
      "213/213 [==============================] - 22s 102ms/step - loss: 0.7428 - accuracy: 0.8362 - f1_m: 0.8330 - precision_m: 0.8489 - recall_m: 0.8182\n",
      "El modelo predice el  83.61815214157104 % de los datos\n"
     ]
    }
   ],
   "source": [
    "test_eval = model.evaluate(test, verbose=1)\n",
    "print('El modelo predice el ', test_eval[1]*100,'% de los datos')"
   ]
  },
  {
   "cell_type": "code",
   "execution_count": 22,
   "id": "1b490a86",
   "metadata": {},
   "outputs": [
    {
     "name": "stdout",
     "output_type": "stream",
     "text": [
      "WARNING:tensorflow:sample_weight modes were coerced from\n",
      "  ...\n",
      "    to  \n",
      "  ['...']\n",
      "WARNING:tensorflow:sample_weight modes were coerced from\n",
      "  ...\n",
      "    to  \n",
      "  ['...']\n",
      "Train for 100 steps, validate for 50 steps\n",
      "Epoch 1/25\n",
      "100/100 [==============================] - 46s 461ms/step - loss: 0.7596 - accuracy: 0.8133 - f1_m: 0.8112 - precision_m: 0.8275 - recall_m: 0.7959 - val_loss: 0.7536 - val_accuracy: 0.8156 - val_f1_m: 0.8124 - val_precision_m: 0.8305 - val_recall_m: 0.7956\n",
      "Epoch 2/25\n",
      "100/100 [==============================] - 47s 465ms/step - loss: 0.7639 - accuracy: 0.8112 - f1_m: 0.8076 - precision_m: 0.8295 - recall_m: 0.7875 - val_loss: 0.7521 - val_accuracy: 0.8206 - val_f1_m: 0.8170 - val_precision_m: 0.8318 - val_recall_m: 0.8031\n",
      "Epoch 3/25\n",
      "100/100 [==============================] - 47s 474ms/step - loss: 0.7638 - accuracy: 0.8066 - f1_m: 0.8065 - precision_m: 0.8268 - recall_m: 0.7875 - val_loss: 0.7506 - val_accuracy: 0.8163 - val_f1_m: 0.8173 - val_precision_m: 0.8345 - val_recall_m: 0.8012\n",
      "Epoch 4/25\n",
      "100/100 [==============================] - 47s 472ms/step - loss: 0.7665 - accuracy: 0.8041 - f1_m: 0.8025 - precision_m: 0.8208 - recall_m: 0.7856 - val_loss: 0.7491 - val_accuracy: 0.8244 - val_f1_m: 0.8232 - val_precision_m: 0.8380 - val_recall_m: 0.8094\n",
      "Epoch 5/25\n",
      "100/100 [==============================] - 48s 477ms/step - loss: 0.7528 - accuracy: 0.8216 - f1_m: 0.8200 - precision_m: 0.8336 - recall_m: 0.8072 - val_loss: 0.7468 - val_accuracy: 0.8194 - val_f1_m: 0.8180 - val_precision_m: 0.8292 - val_recall_m: 0.8075\n",
      "Epoch 6/25\n",
      "100/100 [==============================] - 48s 485ms/step - loss: 0.7569 - accuracy: 0.8109 - f1_m: 0.8103 - precision_m: 0.8278 - recall_m: 0.7941 - val_loss: 0.7434 - val_accuracy: 0.8281 - val_f1_m: 0.8218 - val_precision_m: 0.8370 - val_recall_m: 0.8075\n",
      "Epoch 7/25\n",
      "100/100 [==============================] - 48s 484ms/step - loss: 0.7528 - accuracy: 0.8184 - f1_m: 0.8162 - precision_m: 0.8323 - recall_m: 0.8012 - val_loss: 0.7412 - val_accuracy: 0.8294 - val_f1_m: 0.8269 - val_precision_m: 0.8430 - val_recall_m: 0.8119\n",
      "Epoch 8/25\n",
      "100/100 [==============================] - 49s 486ms/step - loss: 0.7552 - accuracy: 0.8128 - f1_m: 0.8118 - precision_m: 0.8264 - recall_m: 0.7981 - val_loss: 0.7393 - val_accuracy: 0.8325 - val_f1_m: 0.8304 - val_precision_m: 0.8441 - val_recall_m: 0.8175\n",
      "Epoch 9/25\n",
      "100/100 [==============================] - 49s 485ms/step - loss: 0.7568 - accuracy: 0.8084 - f1_m: 0.8078 - precision_m: 0.8256 - recall_m: 0.7912 - val_loss: 0.7398 - val_accuracy: 0.8275 - val_f1_m: 0.8246 - val_precision_m: 0.8396 - val_recall_m: 0.8106\n",
      "Epoch 10/25\n",
      "100/100 [==============================] - 49s 486ms/step - loss: 0.7482 - accuracy: 0.8241 - f1_m: 0.8229 - precision_m: 0.8350 - recall_m: 0.8116 - val_loss: 0.7372 - val_accuracy: 0.8281 - val_f1_m: 0.8280 - val_precision_m: 0.8413 - val_recall_m: 0.8156\n",
      "Epoch 11/25\n",
      "100/100 [==============================] - 48s 484ms/step - loss: 0.7489 - accuracy: 0.8205 - f1_m: 0.8181 - precision_m: 0.8332 - recall_m: 0.8040 - val_loss: 0.7345 - val_accuracy: 0.8331 - val_f1_m: 0.8280 - val_precision_m: 0.8425 - val_recall_m: 0.8144\n",
      "Epoch 12/25\n",
      "100/100 [==============================] - 49s 485ms/step - loss: 0.7481 - accuracy: 0.8172 - f1_m: 0.8188 - precision_m: 0.8314 - recall_m: 0.8069 - val_loss: 0.7405 - val_accuracy: 0.8231 - val_f1_m: 0.8207 - val_precision_m: 0.8343 - val_recall_m: 0.8081\n",
      "Epoch 13/25\n",
      "100/100 [==============================] - 49s 485ms/step - loss: 0.7478 - accuracy: 0.8141 - f1_m: 0.8143 - precision_m: 0.8279 - recall_m: 0.8016 - val_loss: 0.7327 - val_accuracy: 0.8356 - val_f1_m: 0.8328 - val_precision_m: 0.8451 - val_recall_m: 0.8213\n",
      "Epoch 14/25\n",
      "100/100 [==============================] - 49s 485ms/step - loss: 0.7403 - accuracy: 0.8284 - f1_m: 0.8264 - precision_m: 0.8384 - recall_m: 0.8150 - val_loss: 0.7303 - val_accuracy: 0.8350 - val_f1_m: 0.8326 - val_precision_m: 0.8454 - val_recall_m: 0.8206\n",
      "Epoch 15/25\n",
      "100/100 [==============================] - 48s 485ms/step - loss: 0.7375 - accuracy: 0.8266 - f1_m: 0.8279 - precision_m: 0.8390 - recall_m: 0.8175 - val_loss: 0.7299 - val_accuracy: 0.8350 - val_f1_m: 0.8310 - val_precision_m: 0.8432 - val_recall_m: 0.8194\n",
      "Epoch 16/25\n",
      "100/100 [==============================] - 49s 486ms/step - loss: 0.7312 - accuracy: 0.8318 - f1_m: 0.8319 - precision_m: 0.8438 - recall_m: 0.8206 - val_loss: 0.7275 - val_accuracy: 0.8438 - val_f1_m: 0.8394 - val_precision_m: 0.8507 - val_recall_m: 0.8288\n",
      "Epoch 17/25\n",
      "100/100 [==============================] - 49s 488ms/step - loss: 0.7409 - accuracy: 0.8241 - f1_m: 0.8245 - precision_m: 0.8356 - recall_m: 0.8141 - val_loss: 0.7259 - val_accuracy: 0.8419 - val_f1_m: 0.8403 - val_precision_m: 0.8504 - val_recall_m: 0.8306\n",
      "Epoch 18/25\n",
      "100/100 [==============================] - 49s 485ms/step - loss: 0.7424 - accuracy: 0.8181 - f1_m: 0.8158 - precision_m: 0.8294 - recall_m: 0.8031 - val_loss: 0.7240 - val_accuracy: 0.8375 - val_f1_m: 0.8367 - val_precision_m: 0.8485 - val_recall_m: 0.8256\n",
      "Epoch 19/25\n",
      "100/100 [==============================] - 48s 484ms/step - loss: 0.7307 - accuracy: 0.8334 - f1_m: 0.8363 - precision_m: 0.8470 - recall_m: 0.8263 - val_loss: 0.7341 - val_accuracy: 0.8319 - val_f1_m: 0.8327 - val_precision_m: 0.8455 - val_recall_m: 0.8206\n",
      "Epoch 20/25\n",
      "100/100 [==============================] - 49s 485ms/step - loss: 0.7384 - accuracy: 0.8247 - f1_m: 0.8232 - precision_m: 0.8355 - recall_m: 0.8116 - val_loss: 0.7212 - val_accuracy: 0.8431 - val_f1_m: 0.8411 - val_precision_m: 0.8516 - val_recall_m: 0.8313\n",
      "Epoch 21/25\n",
      "100/100 [==============================] - 49s 487ms/step - loss: 0.7292 - accuracy: 0.8328 - f1_m: 0.8317 - precision_m: 0.8417 - recall_m: 0.8222 - val_loss: 0.7265 - val_accuracy: 0.8319 - val_f1_m: 0.8306 - val_precision_m: 0.8412 - val_recall_m: 0.8206\n",
      "Epoch 22/25\n",
      "100/100 [==============================] - 49s 487ms/step - loss: 0.7295 - accuracy: 0.8331 - f1_m: 0.8350 - precision_m: 0.8460 - recall_m: 0.8247 - val_loss: 0.7204 - val_accuracy: 0.8381 - val_f1_m: 0.8390 - val_precision_m: 0.8484 - val_recall_m: 0.8300\n",
      "Epoch 23/25\n",
      "100/100 [==============================] - 49s 492ms/step - loss: 0.7320 - accuracy: 0.8297 - f1_m: 0.8305 - precision_m: 0.8412 - recall_m: 0.8203 - val_loss: 0.7176 - val_accuracy: 0.8444 - val_f1_m: 0.8441 - val_precision_m: 0.8537 - val_recall_m: 0.8350\n",
      "Epoch 24/25\n",
      "100/100 [==============================] - 49s 486ms/step - loss: 0.7246 - accuracy: 0.8400 - f1_m: 0.8404 - precision_m: 0.8503 - recall_m: 0.8309 - val_loss: 0.7176 - val_accuracy: 0.8475 - val_f1_m: 0.8430 - val_precision_m: 0.8540 - val_recall_m: 0.8325\n",
      "Epoch 25/25\n",
      "100/100 [==============================] - 49s 485ms/step - loss: 0.7150 - accuracy: 0.8519 - f1_m: 0.8495 - precision_m: 0.8585 - recall_m: 0.8409 - val_loss: 0.7158 - val_accuracy: 0.8506 - val_f1_m: 0.8495 - val_precision_m: 0.8602 - val_recall_m: 0.8394\n"
     ]
    }
   ],
   "source": [
    "history = model.fit_generator(train, steps_per_epoch=100, \n",
    "                              epochs=25,  \n",
    "                              validation_data=val,   \n",
    "                              validation_steps=50,  \n",
    "                              verbose=1)"
   ]
  },
  {
   "cell_type": "code",
   "execution_count": 23,
   "id": "cb2216c1",
   "metadata": {},
   "outputs": [
    {
     "name": "stdout",
     "output_type": "stream",
     "text": [
      "WARNING:tensorflow:sample_weight modes were coerced from\n",
      "  ...\n",
      "    to  \n",
      "  ['...']\n",
      "213/213 [==============================] - 21s 99ms/step - loss: 0.6999 - accuracy: 0.8651 - f1_m: 0.8648 - precision_m: 0.8723 - recall_m: 0.8577\n",
      "El modelo predice el  86.50559782981873 % de los datos\n"
     ]
    }
   ],
   "source": [
    "test_eval = model.evaluate(test, verbose=1)\n",
    "print('El modelo predice el ', test_eval[1]*100,'% de los datos')"
   ]
  },
  {
   "cell_type": "code",
   "execution_count": 24,
   "id": "07bcdc13",
   "metadata": {},
   "outputs": [
    {
     "name": "stdout",
     "output_type": "stream",
     "text": [
      "Obtenemos las métricas para test, con 50 epocas;  [0.699885776624993, 0.865056, 0.8647856, 0.8723094, 0.8576878]\n"
     ]
    }
   ],
   "source": [
    "print(\"Obtenemos las métricas para test, con 50 epocas; \",test_eval)"
   ]
  },
  {
   "cell_type": "code",
   "execution_count": 25,
   "id": "158e0954",
   "metadata": {},
   "outputs": [
    {
     "name": "stdout",
     "output_type": "stream",
     "text": [
      "Modelo Guardado!\n"
     ]
    }
   ],
   "source": [
    "from keras.models import model_from_json\n",
    "# serializar el modelo a JSON\n",
    "model_json = model.to_json()\n",
    "with open(\"ModeloXception100eponchs.json\", \"w\") as json_file:\n",
    "    json_file.write(model_json)\n",
    "# serializar los pesos a HDF5\n",
    "model.save_weights(\"PesosXception100eponchs.h5\")\n",
    "print(\"Modelo Guardado!\")"
   ]
  },
  {
   "cell_type": "markdown",
   "id": "0874da03",
   "metadata": {},
   "source": [
    "Aquí estoy haciendo prubas con los datos del articulo pero como solo son dos clases en el articulo hay problemas al yo entrenar con 3 clases"
   ]
  },
  {
   "cell_type": "code",
   "execution_count": 27,
   "id": "2dc62855",
   "metadata": {},
   "outputs": [],
   "source": [
    "articulo_dir= 'D:/Documentos/Estudio/Maestría/Aprendizaje_Computacional/Implementacion/Deteccion_Articulo/dataset,solocovid,pneumonia'"
   ]
  },
  {
   "cell_type": "code",
   "execution_count": 29,
   "id": "d1dd84ff",
   "metadata": {},
   "outputs": [
    {
     "name": "stdout",
     "output_type": "stream",
     "text": [
      "Found 234 images belonging to 2 classes.\n"
     ]
    }
   ],
   "source": [
    "#LEEMOS LAS IMÁGENES \n",
    "\n",
    "img_height, img_width=ih, iw\n",
    "\n",
    "train_datagen = ImageDataGenerator(rescale=1./255)\n",
    "\n",
    "articulo_generator = train_datagen.flow_from_directory(\n",
    "    articulo_dir,\n",
    "    target_size=(img_height, img_width),\n",
    "    batch_size=batch_size,\n",
    "    class_mode='categorical') # set as training data"
   ]
  },
  {
   "cell_type": "code",
   "execution_count": 35,
   "id": "795aa730",
   "metadata": {},
   "outputs": [],
   "source": [
    "test_eval = model.predict(articulo_generator)"
   ]
  },
  {
   "cell_type": "code",
   "execution_count": 31,
   "id": "ab3bd63f",
   "metadata": {},
   "outputs": [
    {
     "data": {
      "text/plain": [
       "array([0, 0, 0, 0, 0, 0, 0, 0, 0, 0, 0, 0, 0, 0, 0, 0, 0, 0, 0, 0, 0, 0,\n",
       "       0, 0, 0, 0, 0, 0, 0, 0, 0, 0, 0, 0, 0, 0, 0, 0, 0, 0, 0, 0, 0, 0,\n",
       "       0, 0, 0, 0, 0, 0, 0, 0, 0, 0, 0, 0, 0, 0, 0, 0, 0, 0, 0, 0, 0, 0,\n",
       "       0, 0, 0, 0, 0, 0, 0, 0, 0, 0, 0, 0, 0, 0, 0, 0, 0, 0, 0, 0, 0, 0,\n",
       "       0, 0, 0, 0, 0, 0, 0, 0, 0, 0, 0, 0, 0, 0, 0, 0, 0, 0, 0, 0, 0, 0,\n",
       "       0, 0, 0, 0, 0, 0, 0, 1, 1, 1, 1, 1, 1, 1, 1, 1, 1, 1, 1, 1, 1, 1,\n",
       "       1, 1, 1, 1, 1, 1, 1, 1, 1, 1, 1, 1, 1, 1, 1, 1, 1, 1, 1, 1, 1, 1,\n",
       "       1, 1, 1, 1, 1, 1, 1, 1, 1, 1, 1, 1, 1, 1, 1, 1, 1, 1, 1, 1, 1, 1,\n",
       "       1, 1, 1, 1, 1, 1, 1, 1, 1, 1, 1, 1, 1, 1, 1, 1, 1, 1, 1, 1, 1, 1,\n",
       "       1, 1, 1, 1, 1, 1, 1, 1, 1, 1, 1, 1, 1, 1, 1, 1, 1, 1, 1, 1, 1, 1,\n",
       "       1, 1, 1, 1, 1, 1, 1, 1, 1, 1, 1, 1, 1, 1])"
      ]
     },
     "execution_count": 31,
     "metadata": {},
     "output_type": "execute_result"
    }
   ],
   "source": [
    "articulo_generator.labels"
   ]
  },
  {
   "cell_type": "code",
   "execution_count": 46,
   "id": "92d544fa",
   "metadata": {},
   "outputs": [
    {
     "data": {
      "text/plain": [
       "0"
      ]
     },
     "execution_count": 46,
     "metadata": {},
     "output_type": "execute_result"
    }
   ],
   "source": [
    "import numpy as np\n",
    "np.argmax(test_eval[198])"
   ]
  },
  {
   "cell_type": "code",
   "execution_count": 50,
   "id": "261243ce",
   "metadata": {},
   "outputs": [
    {
     "name": "stdout",
     "output_type": "stream",
     "text": [
      "101\n"
     ]
    }
   ],
   "source": [
    "suma=0\n",
    "label=np.zeros(233)\n",
    "for i in range (233):\n",
    "    if articulo_generator.labels[i]==1:\n",
    "        label[i]=2\n",
    "for i in range (233):\n",
    "    if np.argmax(test_eval[i])==label[i]:\n",
    "        suma=suma+1\n",
    "print (suma)"
   ]
  },
  {
   "cell_type": "code",
   "execution_count": 53,
   "id": "b06b8b1c",
   "metadata": {},
   "outputs": [
    {
     "name": "stdout",
     "output_type": "stream",
     "text": [
      "2\n",
      "2\n",
      "2\n",
      "2\n",
      "0\n",
      "0\n",
      "0\n",
      "2\n",
      "2\n",
      "2\n",
      "0\n",
      "0\n",
      "1\n",
      "0\n",
      "2\n",
      "2\n",
      "2\n",
      "2\n",
      "2\n",
      "2\n",
      "0\n",
      "0\n",
      "2\n",
      "2\n",
      "1\n",
      "1\n",
      "2\n",
      "2\n",
      "2\n",
      "0\n",
      "1\n",
      "1\n",
      "1\n",
      "0\n",
      "1\n",
      "2\n",
      "0\n",
      "2\n",
      "0\n",
      "2\n",
      "0\n",
      "0\n",
      "1\n",
      "2\n",
      "2\n",
      "2\n",
      "0\n",
      "2\n",
      "2\n",
      "0\n",
      "0\n",
      "0\n",
      "0\n",
      "0\n",
      "0\n",
      "1\n",
      "2\n",
      "0\n",
      "2\n",
      "0\n",
      "0\n",
      "0\n",
      "1\n",
      "2\n",
      "0\n",
      "0\n",
      "0\n",
      "0\n",
      "2\n",
      "0\n",
      "2\n",
      "0\n",
      "2\n",
      "2\n",
      "2\n",
      "2\n",
      "1\n",
      "2\n",
      "2\n",
      "0\n",
      "0\n",
      "1\n",
      "0\n",
      "0\n",
      "2\n",
      "2\n",
      "0\n",
      "0\n",
      "0\n",
      "0\n",
      "0\n",
      "2\n",
      "0\n",
      "2\n",
      "2\n",
      "2\n",
      "2\n",
      "2\n",
      "2\n",
      "2\n",
      "0\n",
      "2\n",
      "0\n",
      "0\n",
      "0\n",
      "2\n",
      "2\n",
      "2\n",
      "0\n",
      "1\n",
      "0\n",
      "0\n",
      "2\n",
      "0\n",
      "2\n",
      "0\n",
      "2\n",
      "0\n",
      "1\n",
      "2\n",
      "0\n",
      "2\n",
      "0\n",
      "0\n",
      "2\n",
      "1\n",
      "2\n",
      "0\n",
      "1\n",
      "2\n",
      "2\n",
      "1\n",
      "2\n",
      "0\n",
      "0\n",
      "2\n",
      "1\n",
      "2\n",
      "2\n",
      "0\n",
      "2\n",
      "0\n",
      "2\n",
      "0\n",
      "2\n",
      "0\n",
      "0\n",
      "0\n",
      "0\n",
      "2\n",
      "0\n",
      "0\n",
      "2\n",
      "1\n",
      "0\n",
      "0\n",
      "2\n",
      "1\n",
      "0\n",
      "0\n",
      "2\n",
      "2\n",
      "2\n",
      "0\n",
      "2\n",
      "2\n",
      "0\n",
      "0\n",
      "2\n",
      "2\n",
      "2\n",
      "0\n",
      "0\n",
      "0\n",
      "1\n",
      "1\n",
      "2\n",
      "1\n",
      "2\n",
      "2\n",
      "2\n",
      "2\n",
      "0\n",
      "0\n",
      "2\n",
      "1\n",
      "0\n",
      "2\n",
      "2\n",
      "0\n",
      "2\n",
      "2\n",
      "2\n",
      "0\n",
      "2\n",
      "2\n",
      "1\n",
      "1\n",
      "0\n",
      "0\n",
      "2\n",
      "2\n",
      "0\n",
      "0\n",
      "2\n",
      "0\n",
      "0\n",
      "1\n",
      "2\n",
      "0\n",
      "0\n",
      "2\n",
      "1\n",
      "1\n",
      "2\n",
      "0\n",
      "0\n",
      "2\n",
      "2\n",
      "0\n",
      "2\n",
      "0\n",
      "2\n",
      "2\n",
      "0\n",
      "0\n",
      "2\n",
      "2\n",
      "2\n",
      "0\n",
      "0\n",
      "1\n",
      "0\n"
     ]
    }
   ],
   "source": [
    "for i in range (233):\n",
    "    print(np.argmax(test_eval[i]))"
   ]
  },
  {
   "cell_type": "code",
   "execution_count": null,
   "id": "7e1dd60f",
   "metadata": {},
   "outputs": [],
   "source": []
  }
 ],
 "metadata": {
  "kernelspec": {
   "display_name": "tfGPU",
   "language": "python",
   "name": "tfgpu"
  },
  "language_info": {
   "codemirror_mode": {
    "name": "ipython",
    "version": 3
   },
   "file_extension": ".py",
   "mimetype": "text/x-python",
   "name": "python",
   "nbconvert_exporter": "python",
   "pygments_lexer": "ipython3",
   "version": "3.7.13"
  }
 },
 "nbformat": 4,
 "nbformat_minor": 5
}
