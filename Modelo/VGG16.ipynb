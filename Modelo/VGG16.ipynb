{
 "cells": [
  {
   "cell_type": "code",
   "execution_count": 1,
   "metadata": {},
   "outputs": [],
   "source": [
    "train_dir = 'D:/Documentos/Estudio/Maestría/Aprendizaje_Computacional/Modelopropio/Database/Lung Segmentation Data/Lung Segmentation Data/Train' \n",
    "val_dir = 'D:/Documentos/Estudio/Maestría/Aprendizaje_Computacional/Modelopropio/Database/Lung Segmentation Data/Lung Segmentation Data/Val' \n",
    "test_dir = 'D:/Documentos/Estudio/Maestría/Aprendizaje_Computacional/Modelopropio/Database/Lung Segmentation Data/Lung Segmentation Data/Test'"
   ]
  },
  {
   "cell_type": "code",
   "execution_count": 2,
   "metadata": {},
   "outputs": [
    {
     "name": "stderr",
     "output_type": "stream",
     "text": [
      "Using TensorFlow backend.\n"
     ]
    }
   ],
   "source": [
    "#ELEGIMOS LOS PARAMETROS\n",
    "from keras.preprocessing.image import ImageDataGenerator\n",
    "ih, iw = 100, 100 #tamano de la imagen\n",
    "input_shape = (ih, iw, 3) #forma de la imagen: alto ancho y numero de canales\n",
    "\n",
    "num_class = 2 #cuantas clases \n",
    "#epochs = 15 #cuantas veces entrenar. En cada epoch hace una mejora en los parametros\n",
    "\n",
    "batch_size = 32 #batch para hacer cada entrenamiento. Lee 50 'batch_size' imagenes antes de actualizar los parametros. Las carga a memoria\n",
    "num_train = 21715 #numero de imagenes en train\n",
    "num_test = 6788 #numero de imagenes en test\n",
    "num_val=5417\n",
    "\n",
    "epoch_steps = num_train // batch_size \n",
    "test_steps = num_test // batch_size\n"
   ]
  },
  {
   "cell_type": "code",
   "execution_count": 3,
   "metadata": {},
   "outputs": [
    {
     "name": "stdout",
     "output_type": "stream",
     "text": [
      "Found 14507 images belonging to 2 classes.\n",
      "Found 3615 images belonging to 2 classes.\n",
      "Found 4535 images belonging to 2 classes.\n"
     ]
    }
   ],
   "source": [
    "#LEEMOS LAS IMÁGENES \n",
    "\n",
    "img_height, img_width=ih, iw\n",
    "\n",
    "train_datagen = ImageDataGenerator(rescale=1./255)\n",
    "\n",
    "train_generator = train_datagen.flow_from_directory(\n",
    "    train_dir,\n",
    "    target_size=(img_height, img_width),\n",
    "    batch_size=batch_size,\n",
    "    class_mode='categorical') # set as training data\n",
    "\n",
    "validation_generator = train_datagen.flow_from_directory(\n",
    "    val_dir, # same directory as training data\n",
    "    target_size=(img_height, img_width),\n",
    "    batch_size=batch_size,\n",
    "    class_mode='categorical') # set as validation data\n",
    "\n",
    "test_generator = train_datagen.flow_from_directory(\n",
    "    test_dir, # same directory as training data\n",
    "    target_size=(img_height, img_width),\n",
    "    batch_size=batch_size,\n",
    "    class_mode='categorical') # set as validation data"
   ]
  },
  {
   "cell_type": "code",
   "execution_count": 4,
   "metadata": {},
   "outputs": [],
   "source": [
    "train=train_generator\n",
    "val=validation_generator\n",
    "test=test_generator"
   ]
  },
  {
   "cell_type": "code",
   "execution_count": 5,
   "metadata": {},
   "outputs": [],
   "source": [
    "from keras.applications import vgg16 \n",
    "from keras.models import Model \n",
    "import keras \n",
    "\n",
    "\n",
    "vgg = vgg16.VGG16(include_top=False, weights='imagenet',  \n",
    "                                     input_shape=input_shape) \n",
    "\n",
    "# we have removed the final part of the classifier pertaining to the VGG-16 model \n",
    "#since we will be building our own classifier and leveraging VGG as a feature extractor\n",
    "output = vgg.layers[-1].output \n",
    "output = keras.layers.Flatten()(output) \n",
    "vgg_model = Model(vgg.input, output) \n",
    "\n",
    " \n",
    "vgg_model.trainable = True \n",
    "set_trainable = False\n",
    " \n",
    "for layer in vgg_model.layers: \n",
    "    if layer.name in ['block5_conv1', 'block4_conv1']: \n",
    "        set_trainable = True \n",
    "    if set_trainable: \n",
    "        layer.trainable = True \n",
    "    else: \n",
    "        layer.trainable = False "
   ]
  },
  {
   "cell_type": "code",
   "execution_count": 6,
   "metadata": {},
   "outputs": [
    {
     "name": "stderr",
     "output_type": "stream",
     "text": [
      "C:\\Users\\elium\\.conda\\envs\\tfGPU\\lib\\site-packages\\ipykernel_launcher.py:2: FutureWarning: Passing a negative integer is deprecated in version 1.0 and will not be supported in future version. Instead, use None to not limit the column width.\n",
      "  \n"
     ]
    },
    {
     "data": {
      "text/html": [
       "<div>\n",
       "<style scoped>\n",
       "    .dataframe tbody tr th:only-of-type {\n",
       "        vertical-align: middle;\n",
       "    }\n",
       "\n",
       "    .dataframe tbody tr th {\n",
       "        vertical-align: top;\n",
       "    }\n",
       "\n",
       "    .dataframe thead th {\n",
       "        text-align: right;\n",
       "    }\n",
       "</style>\n",
       "<table border=\"1\" class=\"dataframe\">\n",
       "  <thead>\n",
       "    <tr style=\"text-align: right;\">\n",
       "      <th></th>\n",
       "      <th>Layer Type</th>\n",
       "      <th>Layer Name</th>\n",
       "      <th>Layer Trainable</th>\n",
       "    </tr>\n",
       "  </thead>\n",
       "  <tbody>\n",
       "    <tr>\n",
       "      <th>0</th>\n",
       "      <td>&lt;keras.engine.input_layer.InputLayer object at 0x00000167F1C8F408&gt;</td>\n",
       "      <td>input_1</td>\n",
       "      <td>False</td>\n",
       "    </tr>\n",
       "    <tr>\n",
       "      <th>1</th>\n",
       "      <td>&lt;keras.layers.convolutional.Conv2D object at 0x00000167E7CA9AC8&gt;</td>\n",
       "      <td>block1_conv1</td>\n",
       "      <td>False</td>\n",
       "    </tr>\n",
       "    <tr>\n",
       "      <th>2</th>\n",
       "      <td>&lt;keras.layers.convolutional.Conv2D object at 0x00000167F1C6DE08&gt;</td>\n",
       "      <td>block1_conv2</td>\n",
       "      <td>False</td>\n",
       "    </tr>\n",
       "    <tr>\n",
       "      <th>3</th>\n",
       "      <td>&lt;keras.layers.pooling.MaxPooling2D object at 0x00000167E0A3DD48&gt;</td>\n",
       "      <td>block1_pool</td>\n",
       "      <td>False</td>\n",
       "    </tr>\n",
       "    <tr>\n",
       "      <th>4</th>\n",
       "      <td>&lt;keras.layers.convolutional.Conv2D object at 0x00000167E0A35308&gt;</td>\n",
       "      <td>block2_conv1</td>\n",
       "      <td>False</td>\n",
       "    </tr>\n",
       "    <tr>\n",
       "      <th>5</th>\n",
       "      <td>&lt;keras.layers.convolutional.Conv2D object at 0x00000167E0A41F88&gt;</td>\n",
       "      <td>block2_conv2</td>\n",
       "      <td>False</td>\n",
       "    </tr>\n",
       "    <tr>\n",
       "      <th>6</th>\n",
       "      <td>&lt;keras.layers.pooling.MaxPooling2D object at 0x00000167E0A44448&gt;</td>\n",
       "      <td>block2_pool</td>\n",
       "      <td>False</td>\n",
       "    </tr>\n",
       "    <tr>\n",
       "      <th>7</th>\n",
       "      <td>&lt;keras.layers.convolutional.Conv2D object at 0x00000167E0A44248&gt;</td>\n",
       "      <td>block3_conv1</td>\n",
       "      <td>False</td>\n",
       "    </tr>\n",
       "    <tr>\n",
       "      <th>8</th>\n",
       "      <td>&lt;keras.layers.convolutional.Conv2D object at 0x00000167E0A4E088&gt;</td>\n",
       "      <td>block3_conv2</td>\n",
       "      <td>False</td>\n",
       "    </tr>\n",
       "    <tr>\n",
       "      <th>9</th>\n",
       "      <td>&lt;keras.layers.convolutional.Conv2D object at 0x00000167E0A59548&gt;</td>\n",
       "      <td>block3_conv3</td>\n",
       "      <td>False</td>\n",
       "    </tr>\n",
       "    <tr>\n",
       "      <th>10</th>\n",
       "      <td>&lt;keras.layers.pooling.MaxPooling2D object at 0x00000167E0A5F7C8&gt;</td>\n",
       "      <td>block3_pool</td>\n",
       "      <td>False</td>\n",
       "    </tr>\n",
       "    <tr>\n",
       "      <th>11</th>\n",
       "      <td>&lt;keras.layers.convolutional.Conv2D object at 0x00000167E0A5F188&gt;</td>\n",
       "      <td>block4_conv1</td>\n",
       "      <td>True</td>\n",
       "    </tr>\n",
       "    <tr>\n",
       "      <th>12</th>\n",
       "      <td>&lt;keras.layers.convolutional.Conv2D object at 0x00000167E0A696C8&gt;</td>\n",
       "      <td>block4_conv2</td>\n",
       "      <td>True</td>\n",
       "    </tr>\n",
       "    <tr>\n",
       "      <th>13</th>\n",
       "      <td>&lt;keras.layers.convolutional.Conv2D object at 0x00000167E0A71C08&gt;</td>\n",
       "      <td>block4_conv3</td>\n",
       "      <td>True</td>\n",
       "    </tr>\n",
       "    <tr>\n",
       "      <th>14</th>\n",
       "      <td>&lt;keras.layers.pooling.MaxPooling2D object at 0x00000167E0A789C8&gt;</td>\n",
       "      <td>block4_pool</td>\n",
       "      <td>True</td>\n",
       "    </tr>\n",
       "    <tr>\n",
       "      <th>15</th>\n",
       "      <td>&lt;keras.layers.convolutional.Conv2D object at 0x00000167E0A78788&gt;</td>\n",
       "      <td>block5_conv1</td>\n",
       "      <td>True</td>\n",
       "    </tr>\n",
       "    <tr>\n",
       "      <th>16</th>\n",
       "      <td>&lt;keras.layers.convolutional.Conv2D object at 0x00000167E0A82D88&gt;</td>\n",
       "      <td>block5_conv2</td>\n",
       "      <td>True</td>\n",
       "    </tr>\n",
       "    <tr>\n",
       "      <th>17</th>\n",
       "      <td>&lt;keras.layers.convolutional.Conv2D object at 0x00000167E0A8AC08&gt;</td>\n",
       "      <td>block5_conv3</td>\n",
       "      <td>True</td>\n",
       "    </tr>\n",
       "    <tr>\n",
       "      <th>18</th>\n",
       "      <td>&lt;keras.layers.pooling.MaxPooling2D object at 0x00000167E0A8DD48&gt;</td>\n",
       "      <td>block5_pool</td>\n",
       "      <td>True</td>\n",
       "    </tr>\n",
       "    <tr>\n",
       "      <th>19</th>\n",
       "      <td>&lt;keras.layers.core.Flatten object at 0x00000167F22AD208&gt;</td>\n",
       "      <td>flatten_1</td>\n",
       "      <td>True</td>\n",
       "    </tr>\n",
       "  </tbody>\n",
       "</table>\n",
       "</div>"
      ],
      "text/plain": [
       "                                                            Layer Type  \\\n",
       "0   <keras.engine.input_layer.InputLayer object at 0x00000167F1C8F408>   \n",
       "1   <keras.layers.convolutional.Conv2D object at 0x00000167E7CA9AC8>     \n",
       "2   <keras.layers.convolutional.Conv2D object at 0x00000167F1C6DE08>     \n",
       "3   <keras.layers.pooling.MaxPooling2D object at 0x00000167E0A3DD48>     \n",
       "4   <keras.layers.convolutional.Conv2D object at 0x00000167E0A35308>     \n",
       "5   <keras.layers.convolutional.Conv2D object at 0x00000167E0A41F88>     \n",
       "6   <keras.layers.pooling.MaxPooling2D object at 0x00000167E0A44448>     \n",
       "7   <keras.layers.convolutional.Conv2D object at 0x00000167E0A44248>     \n",
       "8   <keras.layers.convolutional.Conv2D object at 0x00000167E0A4E088>     \n",
       "9   <keras.layers.convolutional.Conv2D object at 0x00000167E0A59548>     \n",
       "10  <keras.layers.pooling.MaxPooling2D object at 0x00000167E0A5F7C8>     \n",
       "11  <keras.layers.convolutional.Conv2D object at 0x00000167E0A5F188>     \n",
       "12  <keras.layers.convolutional.Conv2D object at 0x00000167E0A696C8>     \n",
       "13  <keras.layers.convolutional.Conv2D object at 0x00000167E0A71C08>     \n",
       "14  <keras.layers.pooling.MaxPooling2D object at 0x00000167E0A789C8>     \n",
       "15  <keras.layers.convolutional.Conv2D object at 0x00000167E0A78788>     \n",
       "16  <keras.layers.convolutional.Conv2D object at 0x00000167E0A82D88>     \n",
       "17  <keras.layers.convolutional.Conv2D object at 0x00000167E0A8AC08>     \n",
       "18  <keras.layers.pooling.MaxPooling2D object at 0x00000167E0A8DD48>     \n",
       "19  <keras.layers.core.Flatten object at 0x00000167F22AD208>             \n",
       "\n",
       "      Layer Name  Layer Trainable  \n",
       "0   input_1       False            \n",
       "1   block1_conv1  False            \n",
       "2   block1_conv2  False            \n",
       "3   block1_pool   False            \n",
       "4   block2_conv1  False            \n",
       "5   block2_conv2  False            \n",
       "6   block2_pool   False            \n",
       "7   block3_conv1  False            \n",
       "8   block3_conv2  False            \n",
       "9   block3_conv3  False            \n",
       "10  block3_pool   False            \n",
       "11  block4_conv1  True             \n",
       "12  block4_conv2  True             \n",
       "13  block4_conv3  True             \n",
       "14  block4_pool   True             \n",
       "15  block5_conv1  True             \n",
       "16  block5_conv2  True             \n",
       "17  block5_conv3  True             \n",
       "18  block5_pool   True             \n",
       "19  flatten_1     True             "
      ]
     },
     "execution_count": 6,
     "metadata": {},
     "output_type": "execute_result"
    }
   ],
   "source": [
    "import pandas as pd \n",
    "pd.set_option('max_colwidth', -1)\n",
    "\n",
    "layers = [(layer, layer.name, layer.trainable) for layer in vgg_model.layers] \n",
    "pd.DataFrame(layers, columns=['Layer Type', 'Layer Name', 'Layer Trainable'])"
   ]
  },
  {
   "cell_type": "code",
   "execution_count": 7,
   "metadata": {},
   "outputs": [],
   "source": [
    "from os import listdir\n",
    "from os.path import isfile,isdir, join\n",
    "import numpy\n",
    "\n",
    "import keras\n",
    "from keras.preprocessing.image import ImageDataGenerator\n",
    "from keras.preprocessing import image\n",
    "from keras import layers, models\n",
    "from keras.models import Sequential\n",
    "from keras.layers import Dense,Conv2D, Dropout,Activation,MaxPooling2D,Flatten\n",
    "from keras.optimizers import RMSprop \n",
    "from sklearn.model_selection import train_test_split"
   ]
  },
  {
   "cell_type": "code",
   "execution_count": 8,
   "metadata": {},
   "outputs": [],
   "source": [
    "from keras import backend as K\n",
    "def recall_m(y_true, y_pred):\n",
    "    true_positives = K.sum(K.round(K.clip(y_true * y_pred, 0, 1)))\n",
    "    possible_positives = K.sum(K.round(K.clip(y_true, 0, 1)))\n",
    "    recall = true_positives / (possible_positives + K.epsilon())\n",
    "    return recall\n",
    "\n",
    "def precision_m(y_true, y_pred):\n",
    "    true_positives = K.sum(K.round(K.clip(y_true * y_pred, 0, 1)))\n",
    "    predicted_positives = K.sum(K.round(K.clip(y_pred, 0, 1)))\n",
    "    precision = true_positives / (predicted_positives + K.epsilon())\n",
    "    return precision\n",
    "\n",
    "def f1_m(y_true, y_pred):\n",
    "    precision = precision_m(y_true, y_pred)\n",
    "    recall = recall_m(y_true, y_pred)\n",
    "    return 2*((precision*recall)/(precision+recall+K.epsilon()))"
   ]
  },
  {
   "cell_type": "code",
   "execution_count": 15,
   "metadata": {},
   "outputs": [],
   "source": [
    "from keras.layers import Conv2D, MaxPooling2D, Flatten, Dense, Dropout, InputLayer \n",
    "from keras.models import Sequential \n",
    "from keras import optimizers  \n",
    "import tensorflow as tf\n",
    "\n",
    "# build model architecture \n",
    "model = Sequential() \n",
    "\n",
    "model.add(vgg_model) \n",
    "model.add(Dense(512, activation='relu', input_dim=input_shape)) \n",
    "model.add(Dropout(0.25)) \n",
    "model.add(Dense(512, activation='relu')) \n",
    "model.add(Dropout(0.25))\n",
    "model.add(Dense(num_class, activation='sigmoid'))\n",
    "\n",
    "model.compile(optimizer=tf.keras.optimizers.SGD(lr=0.0001, momentum=0.9), \n",
    "      loss = tf.keras.losses.CategoricalCrossentropy(from_logits = True), \n",
    "      metrics=['accuracy',f1_m,precision_m, recall_m])"
   ]
  },
  {
   "cell_type": "code",
   "execution_count": 16,
   "metadata": {},
   "outputs": [
    {
     "name": "stdout",
     "output_type": "stream",
     "text": [
      "Epoch 1/64\n",
      "100/100 [==============================] - 14s 143ms/step - loss: 0.6868 - accuracy: 0.5553 - f1_m: 0.6021 - precision_m: 0.5240 - recall_m: 0.7122 - val_loss: 0.6597 - val_accuracy: 0.7144 - val_f1_m: 0.7045 - val_precision_m: 0.5570 - val_recall_m: 0.9594\n",
      "Epoch 2/64\n",
      "100/100 [==============================] - 12s 122ms/step - loss: 0.6544 - accuracy: 0.6653 - f1_m: 0.6742 - precision_m: 0.5902 - recall_m: 0.7903 - val_loss: 0.6431 - val_accuracy: 0.8106 - val_f1_m: 0.7979 - val_precision_m: 0.7263 - val_recall_m: 0.8863\n",
      "Epoch 3/64\n",
      "100/100 [==============================] - 11s 113ms/step - loss: 0.6026 - accuracy: 0.7653 - f1_m: 0.7501 - precision_m: 0.7175 - recall_m: 0.7897 - val_loss: 0.5508 - val_accuracy: 0.7905 - val_f1_m: 0.7968 - val_precision_m: 0.7904 - val_recall_m: 0.8037\n",
      "Epoch 4/64\n",
      "100/100 [==============================] - 11s 110ms/step - loss: 0.5526 - accuracy: 0.8037 - f1_m: 0.7895 - precision_m: 0.7859 - recall_m: 0.7947 - val_loss: 0.5383 - val_accuracy: 0.8231 - val_f1_m: 0.8233 - val_precision_m: 0.8261 - val_recall_m: 0.8206\n",
      "Epoch 5/64\n",
      "100/100 [==============================] - 8s 83ms/step - loss: 0.5110 - accuracy: 0.8201 - f1_m: 0.8167 - precision_m: 0.8220 - recall_m: 0.8123 - val_loss: 0.4655 - val_accuracy: 0.8368 - val_f1_m: 0.8353 - val_precision_m: 0.8425 - val_recall_m: 0.8286\n",
      "Epoch 6/64\n",
      "100/100 [==============================] - 6s 65ms/step - loss: 0.4904 - accuracy: 0.8325 - f1_m: 0.8287 - precision_m: 0.8298 - recall_m: 0.8284 - val_loss: 0.5103 - val_accuracy: 0.8325 - val_f1_m: 0.8326 - val_precision_m: 0.8379 - val_recall_m: 0.8275\n",
      "Epoch 7/64\n",
      "100/100 [==============================] - 7s 66ms/step - loss: 0.4693 - accuracy: 0.8531 - f1_m: 0.8466 - precision_m: 0.8492 - recall_m: 0.8450 - val_loss: 0.3520 - val_accuracy: 0.8687 - val_f1_m: 0.8694 - val_precision_m: 0.8799 - val_recall_m: 0.8593\n",
      "Epoch 8/64\n",
      "100/100 [==============================] - 7s 65ms/step - loss: 0.4562 - accuracy: 0.8650 - f1_m: 0.8589 - precision_m: 0.8667 - recall_m: 0.8519 - val_loss: 0.4268 - val_accuracy: 0.8794 - val_f1_m: 0.8800 - val_precision_m: 0.8886 - val_recall_m: 0.8719\n",
      "Epoch 9/64\n",
      "100/100 [==============================] - 7s 65ms/step - loss: 0.4402 - accuracy: 0.8781 - f1_m: 0.8737 - precision_m: 0.8757 - recall_m: 0.8725 - val_loss: 0.4191 - val_accuracy: 0.8831 - val_f1_m: 0.8799 - val_precision_m: 0.8850 - val_recall_m: 0.8750\n",
      "Epoch 10/64\n",
      "100/100 [==============================] - 7s 70ms/step - loss: 0.4340 - accuracy: 0.8813 - f1_m: 0.8783 - precision_m: 0.8816 - recall_m: 0.8756 - val_loss: 0.3922 - val_accuracy: 0.9043 - val_f1_m: 0.9059 - val_precision_m: 0.9097 - val_recall_m: 0.9025\n",
      "Epoch 11/64\n",
      "100/100 [==============================] - 7s 65ms/step - loss: 0.4249 - accuracy: 0.8916 - f1_m: 0.8879 - precision_m: 0.8904 - recall_m: 0.8863 - val_loss: 0.3535 - val_accuracy: 0.9137 - val_f1_m: 0.9116 - val_precision_m: 0.9187 - val_recall_m: 0.9050\n",
      "Epoch 12/64\n",
      "100/100 [==============================] - 7s 68ms/step - loss: 0.4129 - accuracy: 0.9022 - f1_m: 0.8999 - precision_m: 0.9047 - recall_m: 0.8957 - val_loss: 0.3220 - val_accuracy: 0.9256 - val_f1_m: 0.9246 - val_precision_m: 0.9289 - val_recall_m: 0.9206\n",
      "Epoch 13/64\n",
      "100/100 [==============================] - 7s 65ms/step - loss: 0.4079 - accuracy: 0.9112 - f1_m: 0.9078 - precision_m: 0.9077 - recall_m: 0.9084 - val_loss: 0.4173 - val_accuracy: 0.9194 - val_f1_m: 0.9200 - val_precision_m: 0.9238 - val_recall_m: 0.9162\n",
      "Epoch 14/64\n",
      "100/100 [==============================] - 7s 68ms/step - loss: 0.4051 - accuracy: 0.9075 - f1_m: 0.9089 - precision_m: 0.9104 - recall_m: 0.9078 - val_loss: 0.3602 - val_accuracy: 0.9287 - val_f1_m: 0.9285 - val_precision_m: 0.9321 - val_recall_m: 0.9250\n",
      "Epoch 15/64\n",
      "100/100 [==============================] - 7s 66ms/step - loss: 0.4035 - accuracy: 0.9103 - f1_m: 0.9103 - precision_m: 0.9119 - recall_m: 0.9091 - val_loss: 0.4232 - val_accuracy: 0.9250 - val_f1_m: 0.9243 - val_precision_m: 0.9282 - val_recall_m: 0.9206\n",
      "Epoch 16/64\n",
      "100/100 [==============================] - 7s 66ms/step - loss: 0.4001 - accuracy: 0.9181 - f1_m: 0.9152 - precision_m: 0.9163 - recall_m: 0.9144 - val_loss: 0.4158 - val_accuracy: 0.9300 - val_f1_m: 0.9282 - val_precision_m: 0.9302 - val_recall_m: 0.9262\n",
      "Epoch 17/64\n",
      "100/100 [==============================] - 7s 65ms/step - loss: 0.4089 - accuracy: 0.9003 - f1_m: 0.9019 - precision_m: 0.9042 - recall_m: 0.9000 - val_loss: 0.4062 - val_accuracy: 0.9337 - val_f1_m: 0.9365 - val_precision_m: 0.9412 - val_recall_m: 0.9319\n",
      "Epoch 18/64\n",
      "100/100 [==============================] - 7s 66ms/step - loss: 0.3915 - accuracy: 0.9219 - f1_m: 0.9214 - precision_m: 0.9233 - recall_m: 0.9200 - val_loss: 0.3688 - val_accuracy: 0.9463 - val_f1_m: 0.9439 - val_precision_m: 0.9462 - val_recall_m: 0.9419\n",
      "Epoch 19/64\n",
      "100/100 [==============================] - 7s 69ms/step - loss: 0.3986 - accuracy: 0.9166 - f1_m: 0.9140 - precision_m: 0.9127 - recall_m: 0.9156 - val_loss: 0.3681 - val_accuracy: 0.9431 - val_f1_m: 0.9427 - val_precision_m: 0.9431 - val_recall_m: 0.9425\n",
      "Epoch 20/64\n",
      "100/100 [==============================] - 7s 66ms/step - loss: 0.3841 - accuracy: 0.9319 - f1_m: 0.9314 - precision_m: 0.9319 - recall_m: 0.9312 - val_loss: 0.3619 - val_accuracy: 0.9237 - val_f1_m: 0.9231 - val_precision_m: 0.9269 - val_recall_m: 0.9194\n",
      "Epoch 21/64\n",
      "100/100 [==============================] - 7s 67ms/step - loss: 0.3903 - accuracy: 0.9204 - f1_m: 0.9222 - precision_m: 0.9226 - recall_m: 0.9222 - val_loss: 0.3464 - val_accuracy: 0.9318 - val_f1_m: 0.9319 - val_precision_m: 0.9360 - val_recall_m: 0.9280\n",
      "Epoch 22/64\n",
      "100/100 [==============================] - 6s 64ms/step - loss: 0.3855 - accuracy: 0.9284 - f1_m: 0.9287 - precision_m: 0.9273 - recall_m: 0.9306 - val_loss: 0.3598 - val_accuracy: 0.9481 - val_f1_m: 0.9476 - val_precision_m: 0.9471 - val_recall_m: 0.9481\n",
      "Epoch 23/64\n",
      "100/100 [==============================] - 7s 66ms/step - loss: 0.3887 - accuracy: 0.9228 - f1_m: 0.9217 - precision_m: 0.9196 - recall_m: 0.9241 - val_loss: 0.3925 - val_accuracy: 0.9443 - val_f1_m: 0.9431 - val_precision_m: 0.9438 - val_recall_m: 0.9425\n",
      "Epoch 24/64\n",
      "100/100 [==============================] - 6s 64ms/step - loss: 0.3883 - accuracy: 0.9253 - f1_m: 0.9205 - precision_m: 0.9216 - recall_m: 0.9197 - val_loss: 0.3346 - val_accuracy: 0.9344 - val_f1_m: 0.9361 - val_precision_m: 0.9379 - val_recall_m: 0.9344\n",
      "Epoch 25/64\n",
      "100/100 [==============================] - 6s 65ms/step - loss: 0.3816 - accuracy: 0.9308 - f1_m: 0.9308 - precision_m: 0.9300 - recall_m: 0.9319 - val_loss: 0.3810 - val_accuracy: 0.9518 - val_f1_m: 0.9517 - val_precision_m: 0.9535 - val_recall_m: 0.9499\n",
      "Epoch 26/64\n",
      "100/100 [==============================] - 6s 64ms/step - loss: 0.3905 - accuracy: 0.9228 - f1_m: 0.9223 - precision_m: 0.9196 - recall_m: 0.9253 - val_loss: 0.3768 - val_accuracy: 0.9456 - val_f1_m: 0.9457 - val_precision_m: 0.9458 - val_recall_m: 0.9456\n",
      "Epoch 27/64\n",
      "100/100 [==============================] - 7s 65ms/step - loss: 0.3781 - accuracy: 0.9341 - f1_m: 0.9332 - precision_m: 0.9354 - recall_m: 0.9312 - val_loss: 0.3470 - val_accuracy: 0.9563 - val_f1_m: 0.9569 - val_precision_m: 0.9575 - val_recall_m: 0.9563\n",
      "Epoch 28/64\n",
      "100/100 [==============================] - 7s 70ms/step - loss: 0.3766 - accuracy: 0.9369 - f1_m: 0.9365 - precision_m: 0.9348 - recall_m: 0.9384 - val_loss: 0.3479 - val_accuracy: 0.9525 - val_f1_m: 0.9533 - val_precision_m: 0.9548 - val_recall_m: 0.9518\n",
      "Epoch 29/64\n",
      "100/100 [==============================] - 7s 66ms/step - loss: 0.3771 - accuracy: 0.9347 - f1_m: 0.9348 - precision_m: 0.9380 - recall_m: 0.9319 - val_loss: 0.3662 - val_accuracy: 0.9463 - val_f1_m: 0.9470 - val_precision_m: 0.9509 - val_recall_m: 0.9431\n",
      "Epoch 30/64\n",
      "100/100 [==============================] - 7s 68ms/step - loss: 0.3708 - accuracy: 0.9419 - f1_m: 0.9402 - precision_m: 0.9413 - recall_m: 0.9394 - val_loss: 0.3881 - val_accuracy: 0.9393 - val_f1_m: 0.9401 - val_precision_m: 0.9423 - val_recall_m: 0.9380\n",
      "Epoch 31/64\n",
      "100/100 [==============================] - 7s 66ms/step - loss: 0.3820 - accuracy: 0.9292 - f1_m: 0.9272 - precision_m: 0.9285 - recall_m: 0.9262 - val_loss: 0.3479 - val_accuracy: 0.9513 - val_f1_m: 0.9505 - val_precision_m: 0.9518 - val_recall_m: 0.9494\n"
     ]
    },
    {
     "name": "stdout",
     "output_type": "stream",
     "text": [
      "Epoch 32/64\n",
      "100/100 [==============================] - 7s 67ms/step - loss: 0.3810 - accuracy: 0.9325 - f1_m: 0.9304 - precision_m: 0.9319 - recall_m: 0.9294 - val_loss: 0.3570 - val_accuracy: 0.9537 - val_f1_m: 0.9542 - val_precision_m: 0.9572 - val_recall_m: 0.9512\n",
      "Epoch 33/64\n",
      "100/100 [==============================] - 7s 66ms/step - loss: 0.3694 - accuracy: 0.9437 - f1_m: 0.9428 - precision_m: 0.9437 - recall_m: 0.9422 - val_loss: 0.3432 - val_accuracy: 0.9506 - val_f1_m: 0.9493 - val_precision_m: 0.9511 - val_recall_m: 0.9475\n",
      "Epoch 34/64\n",
      "100/100 [==============================] - 7s 67ms/step - loss: 0.3747 - accuracy: 0.9394 - f1_m: 0.9380 - precision_m: 0.9384 - recall_m: 0.9378 - val_loss: 0.3954 - val_accuracy: 0.9593 - val_f1_m: 0.9581 - val_precision_m: 0.9593 - val_recall_m: 0.9569\n",
      "Epoch 35/64\n",
      "100/100 [==============================] - 7s 68ms/step - loss: 0.3715 - accuracy: 0.9425 - f1_m: 0.9399 - precision_m: 0.9429 - recall_m: 0.9372 - val_loss: 0.3624 - val_accuracy: 0.9531 - val_f1_m: 0.9533 - val_precision_m: 0.9549 - val_recall_m: 0.9519\n",
      "Epoch 36/64\n",
      "100/100 [==============================] - 7s 67ms/step - loss: 0.3778 - accuracy: 0.9362 - f1_m: 0.9343 - precision_m: 0.9339 - recall_m: 0.9350 - val_loss: 0.3677 - val_accuracy: 0.9550 - val_f1_m: 0.9553 - val_precision_m: 0.9562 - val_recall_m: 0.9544\n",
      "Epoch 37/64\n",
      "100/100 [==============================] - 7s 67ms/step - loss: 0.3627 - accuracy: 0.9509 - f1_m: 0.9517 - precision_m: 0.9523 - recall_m: 0.9513 - val_loss: 0.3889 - val_accuracy: 0.9537 - val_f1_m: 0.9545 - val_precision_m: 0.9567 - val_recall_m: 0.9525\n",
      "Epoch 38/64\n",
      "100/100 [==============================] - 6s 65ms/step - loss: 0.3759 - accuracy: 0.9356 - f1_m: 0.9351 - precision_m: 0.9374 - recall_m: 0.9331 - val_loss: 0.3790 - val_accuracy: 0.9556 - val_f1_m: 0.9543 - val_precision_m: 0.9595 - val_recall_m: 0.9494\n",
      "Epoch 39/64\n",
      "100/100 [==============================] - 7s 66ms/step - loss: 0.3664 - accuracy: 0.9463 - f1_m: 0.9456 - precision_m: 0.9474 - recall_m: 0.9441 - val_loss: 0.3767 - val_accuracy: 0.9281 - val_f1_m: 0.9290 - val_precision_m: 0.9314 - val_recall_m: 0.9268\n",
      "Epoch 40/64\n",
      "100/100 [==============================] - 6s 65ms/step - loss: 0.3721 - accuracy: 0.9409 - f1_m: 0.9411 - precision_m: 0.9424 - recall_m: 0.9400 - val_loss: 0.3504 - val_accuracy: 0.9575 - val_f1_m: 0.9575 - val_precision_m: 0.9587 - val_recall_m: 0.9563\n",
      "Epoch 41/64\n",
      "100/100 [==============================] - 7s 66ms/step - loss: 0.3738 - accuracy: 0.9384 - f1_m: 0.9371 - precision_m: 0.9388 - recall_m: 0.9356 - val_loss: 0.3270 - val_accuracy: 0.9300 - val_f1_m: 0.9296 - val_precision_m: 0.9305 - val_recall_m: 0.9287\n",
      "Epoch 42/64\n",
      "100/100 [==============================] - 6s 65ms/step - loss: 0.3684 - accuracy: 0.9450 - f1_m: 0.9442 - precision_m: 0.9445 - recall_m: 0.9441 - val_loss: 0.3430 - val_accuracy: 0.9594 - val_f1_m: 0.9593 - val_precision_m: 0.9606 - val_recall_m: 0.9581\n",
      "Epoch 43/64\n",
      "100/100 [==============================] - 7s 65ms/step - loss: 0.3702 - accuracy: 0.9413 - f1_m: 0.9397 - precision_m: 0.9387 - recall_m: 0.9409 - val_loss: 0.3457 - val_accuracy: 0.9343 - val_f1_m: 0.9344 - val_precision_m: 0.9371 - val_recall_m: 0.9318\n",
      "Epoch 44/64\n",
      "100/100 [==============================] - 6s 65ms/step - loss: 0.3692 - accuracy: 0.9443 - f1_m: 0.9414 - precision_m: 0.9408 - recall_m: 0.9422 - val_loss: 0.3973 - val_accuracy: 0.9444 - val_f1_m: 0.9435 - val_precision_m: 0.9477 - val_recall_m: 0.9394\n",
      "Epoch 45/64\n",
      "100/100 [==============================] - 7s 66ms/step - loss: 0.3730 - accuracy: 0.9409 - f1_m: 0.9388 - precision_m: 0.9400 - recall_m: 0.9378 - val_loss: 0.3324 - val_accuracy: 0.9500 - val_f1_m: 0.9502 - val_precision_m: 0.9517 - val_recall_m: 0.9488\n",
      "Epoch 46/64\n",
      "100/100 [==============================] - 7s 70ms/step - loss: 0.3617 - accuracy: 0.9531 - f1_m: 0.9503 - precision_m: 0.9499 - recall_m: 0.9509 - val_loss: 0.3777 - val_accuracy: 0.9644 - val_f1_m: 0.9634 - val_precision_m: 0.9643 - val_recall_m: 0.9625\n",
      "Epoch 47/64\n",
      "100/100 [==============================] - 7s 66ms/step - loss: 0.3632 - accuracy: 0.9503 - f1_m: 0.9496 - precision_m: 0.9487 - recall_m: 0.9506 - val_loss: 0.3325 - val_accuracy: 0.9581 - val_f1_m: 0.9584 - val_precision_m: 0.9600 - val_recall_m: 0.9569\n",
      "Epoch 48/64\n",
      "100/100 [==============================] - 7s 68ms/step - loss: 0.3739 - accuracy: 0.9377 - f1_m: 0.9373 - precision_m: 0.9367 - recall_m: 0.9381 - val_loss: 0.3363 - val_accuracy: 0.9662 - val_f1_m: 0.9667 - val_precision_m: 0.9686 - val_recall_m: 0.9650\n",
      "Epoch 49/64\n",
      "100/100 [==============================] - 7s 66ms/step - loss: 0.3626 - accuracy: 0.9516 - f1_m: 0.9501 - precision_m: 0.9500 - recall_m: 0.9503 - val_loss: 0.3815 - val_accuracy: 0.9294 - val_f1_m: 0.9303 - val_precision_m: 0.9332 - val_recall_m: 0.9275\n",
      "Epoch 50/64\n",
      "100/100 [==============================] - 7s 68ms/step - loss: 0.3638 - accuracy: 0.9463 - f1_m: 0.9463 - precision_m: 0.9456 - recall_m: 0.9472 - val_loss: 0.3801 - val_accuracy: 0.9600 - val_f1_m: 0.9589 - val_precision_m: 0.9623 - val_recall_m: 0.9556\n",
      "Epoch 51/64\n",
      "100/100 [==============================] - 7s 66ms/step - loss: 0.3700 - accuracy: 0.9409 - f1_m: 0.9404 - precision_m: 0.9428 - recall_m: 0.9382 - val_loss: 0.3173 - val_accuracy: 0.9519 - val_f1_m: 0.9508 - val_precision_m: 0.9530 - val_recall_m: 0.9488\n",
      "Epoch 52/64\n",
      "100/100 [==============================] - 7s 67ms/step - loss: 0.3603 - accuracy: 0.9519 - f1_m: 0.9516 - precision_m: 0.9509 - recall_m: 0.9525 - val_loss: 0.3693 - val_accuracy: 0.9606 - val_f1_m: 0.9602 - val_precision_m: 0.9612 - val_recall_m: 0.9593\n",
      "Epoch 53/64\n",
      "100/100 [==============================] - 7s 66ms/step - loss: 0.3572 - accuracy: 0.9566 - f1_m: 0.9562 - precision_m: 0.9573 - recall_m: 0.9553 - val_loss: 0.3717 - val_accuracy: 0.9575 - val_f1_m: 0.9578 - val_precision_m: 0.9587 - val_recall_m: 0.9569\n",
      "Epoch 54/64\n",
      "100/100 [==============================] - 7s 66ms/step - loss: 0.3554 - accuracy: 0.9566 - f1_m: 0.9578 - precision_m: 0.9605 - recall_m: 0.9553 - val_loss: 0.3185 - val_accuracy: 0.9594 - val_f1_m: 0.9581 - val_precision_m: 0.9620 - val_recall_m: 0.9544\n",
      "Epoch 55/64\n",
      "100/100 [==============================] - 7s 69ms/step - loss: 0.3621 - accuracy: 0.9494 - f1_m: 0.9493 - precision_m: 0.9500 - recall_m: 0.9488 - val_loss: 0.3742 - val_accuracy: 0.9612 - val_f1_m: 0.9598 - val_precision_m: 0.9629 - val_recall_m: 0.9569\n",
      "Epoch 56/64\n",
      "100/100 [==============================] - 7s 66ms/step - loss: 0.3626 - accuracy: 0.9494 - f1_m: 0.9478 - precision_m: 0.9473 - recall_m: 0.9484 - val_loss: 0.3373 - val_accuracy: 0.9581 - val_f1_m: 0.9584 - val_precision_m: 0.9588 - val_recall_m: 0.9581\n",
      "Epoch 57/64\n",
      "100/100 [==============================] - 7s 68ms/step - loss: 0.3618 - accuracy: 0.9509 - f1_m: 0.9512 - precision_m: 0.9511 - recall_m: 0.9516 - val_loss: 0.3550 - val_accuracy: 0.9625 - val_f1_m: 0.9614 - val_precision_m: 0.9636 - val_recall_m: 0.9594\n",
      "Epoch 58/64\n",
      "100/100 [==============================] - 7s 66ms/step - loss: 0.3569 - accuracy: 0.9588 - f1_m: 0.9570 - precision_m: 0.9558 - recall_m: 0.9584 - val_loss: 0.3701 - val_accuracy: 0.9275 - val_f1_m: 0.9275 - val_precision_m: 0.9280 - val_recall_m: 0.9269\n",
      "Epoch 59/64\n",
      "100/100 [==============================] - 7s 68ms/step - loss: 0.3628 - accuracy: 0.9494 - f1_m: 0.9492 - precision_m: 0.9499 - recall_m: 0.9488 - val_loss: 0.3209 - val_accuracy: 0.9612 - val_f1_m: 0.9621 - val_precision_m: 0.9624 - val_recall_m: 0.9619\n",
      "Epoch 60/64\n",
      "100/100 [==============================] - 7s 67ms/step - loss: 0.3536 - accuracy: 0.9581 - f1_m: 0.9583 - precision_m: 0.9584 - recall_m: 0.9584 - val_loss: 0.4067 - val_accuracy: 0.9650 - val_f1_m: 0.9646 - val_precision_m: 0.9655 - val_recall_m: 0.9638\n",
      "Epoch 61/64\n",
      "100/100 [==============================] - 7s 66ms/step - loss: 0.3612 - accuracy: 0.9528 - f1_m: 0.9526 - precision_m: 0.9535 - recall_m: 0.9519 - val_loss: 0.3300 - val_accuracy: 0.9538 - val_f1_m: 0.9546 - val_precision_m: 0.9549 - val_recall_m: 0.9544\n",
      "Epoch 62/64\n",
      "100/100 [==============================] - 7s 69ms/step - loss: 0.3583 - accuracy: 0.9544 - f1_m: 0.9532 - precision_m: 0.9535 - recall_m: 0.9531 - val_loss: 0.3775 - val_accuracy: 0.9625 - val_f1_m: 0.9618 - val_precision_m: 0.9630 - val_recall_m: 0.9606\n"
     ]
    },
    {
     "name": "stdout",
     "output_type": "stream",
     "text": [
      "Epoch 63/64\n",
      "100/100 [==============================] - 7s 66ms/step - loss: 0.3611 - accuracy: 0.9522 - f1_m: 0.9512 - precision_m: 0.9519 - recall_m: 0.9506 - val_loss: 0.3739 - val_accuracy: 0.9394 - val_f1_m: 0.9399 - val_precision_m: 0.9417 - val_recall_m: 0.9381\n",
      "Epoch 64/64\n",
      "100/100 [==============================] - 7s 68ms/step - loss: 0.3581 - accuracy: 0.9534 - f1_m: 0.9535 - precision_m: 0.9528 - recall_m: 0.9544 - val_loss: 0.3174 - val_accuracy: 0.9644 - val_f1_m: 0.9637 - val_precision_m: 0.9649 - val_recall_m: 0.9624\n"
     ]
    }
   ],
   "source": [
    "history = model.fit_generator(train, steps_per_epoch=100, \n",
    "                              epochs=64,  \n",
    "                              validation_data=val,   \n",
    "                              validation_steps=50,  \n",
    "                              verbose=1)"
   ]
  },
  {
   "cell_type": "code",
   "execution_count": 17,
   "metadata": {},
   "outputs": [
    {
     "data": {
      "image/png": "[encoded data removed]",
      "text/plain": [
       "<Figure size 432x288 with 1 Axes>"
      ]
     },
     "metadata": {
      "needs_background": "light"
     },
     "output_type": "display_data"
    }
   ],
   "source": [
    "# summarize history for accuracy\n",
    "import matplotlib.pyplot as plt\n",
    "plt.plot(history.history['accuracy'])\n",
    "plt.plot(history.history['val_accuracy'])\n",
    "plt.title('model accuracy')\n",
    "plt.ylabel('accuracy')\n",
    "plt.xlabel('epoch')\n",
    "plt.legend(['train', 'test'], loc='upper left')\n",
    "plt.show()"
   ]
  },
  {
   "cell_type": "code",
   "execution_count": 18,
   "metadata": {},
   "outputs": [
    {
     "data": {
      "image/png": "[encoded data removed]",
      "text/plain": [
       "<Figure size 432x288 with 1 Axes>"
      ]
     },
     "metadata": {
      "needs_background": "light"
     },
     "output_type": "display_data"
    }
   ],
   "source": [
    "plt.plot(history.history['loss'])\n",
    "plt.plot(history.history['val_loss'])\n",
    "plt.title('model loss')\n",
    "plt.ylabel('loss')\n",
    "plt.xlabel('epoch')\n",
    "plt.legend(['train', 'test'], loc='upper left')\n",
    "plt.show()"
   ]
  },
  {
   "cell_type": "code",
   "execution_count": 19,
   "metadata": {},
   "outputs": [
    {
     "data": {
      "image/png": "[encoded data removed]",
      "text/plain": [
       "<Figure size 432x288 with 1 Axes>"
      ]
     },
     "metadata": {
      "needs_background": "light"
     },
     "output_type": "display_data"
    }
   ],
   "source": [
    "plt.plot(history.history['f1_m'])\n",
    "plt.plot(history.history['val_f1_m'])\n",
    "plt.title('F1 Score')\n",
    "plt.ylabel('f1')\n",
    "plt.xlabel('epoch')\n",
    "plt.legend(['train', 'test'], loc='upper left')\n",
    "plt.show()"
   ]
  },
  {
   "cell_type": "code",
   "execution_count": 20,
   "metadata": {},
   "outputs": [
    {
     "data": {
      "image/png": "[encoded data removed]",
      "text/plain": [
       "<Figure size 432x288 with 1 Axes>"
      ]
     },
     "metadata": {
      "needs_background": "light"
     },
     "output_type": "display_data"
    }
   ],
   "source": [
    "plt.plot(history.history['f1_m'])\n",
    "plt.plot(history.history['val_f1_m'])\n",
    "plt.title('F1 Score')\n",
    "plt.ylabel('f1')\n",
    "plt.xlabel('epoch')\n",
    "plt.legend(['train', 'test'], loc='upper left')\n",
    "plt.show()"
   ]
  },
  {
   "cell_type": "code",
   "execution_count": 21,
   "metadata": {},
   "outputs": [
    {
     "data": {
      "image/png": "[encoded data removed]",
      "text/plain": [
       "<Figure size 432x288 with 1 Axes>"
      ]
     },
     "metadata": {
      "needs_background": "light"
     },
     "output_type": "display_data"
    }
   ],
   "source": [
    "plt.plot(history.history['recall_m'])\n",
    "plt.plot(history.history['val_recall_m'])\n",
    "plt.title('Recall')\n",
    "plt.ylabel('recall')\n",
    "plt.xlabel('epoch')\n",
    "plt.legend(['train', 'test'], loc='upper left')\n",
    "plt.show()"
   ]
  },
  {
   "cell_type": "code",
   "execution_count": 22,
   "metadata": {},
   "outputs": [
    {
     "name": "stdout",
     "output_type": "stream",
     "text": [
      "142/142 [==============================] - 19s 134ms/step\n",
      "El modelo predice el  96.2293267250061 % de los datos\n"
     ]
    }
   ],
   "source": [
    "test_eval = model.evaluate(test, verbose=1)\n",
    "print('El modelo predice el ', test_eval[1]*100,'% de los datos')"
   ]
  },
  {
   "cell_type": "code",
   "execution_count": 23,
   "metadata": {},
   "outputs": [
    {
     "name": "stdout",
     "output_type": "stream",
     "text": [
      "Found 351 images belonging to 2 classes.\n"
     ]
    }
   ],
   "source": [
    "articulo_dir='D:/Documentos/Estudio/Maestría/Aprendizaje_Computacional/Implementacion/Deteccion_Articulo/dataset,solocovid,pneumonia'\n",
    "#Para el conjunto del artículo\n",
    "articulo_generator = train_datagen.flow_from_directory(\n",
    "    articulo_dir, # same directory as training data\n",
    "    target_size=(img_height, img_width),\n",
    "    batch_size=batch_size,\n",
    "    class_mode='categorical') # set as validation data\n",
    "articulo=articulo_generator"
   ]
  },
  {
   "cell_type": "code",
   "execution_count": 24,
   "metadata": {},
   "outputs": [
    {
     "name": "stdout",
     "output_type": "stream",
     "text": [
      "Utilizando el conjunto de datos del artículo para evaluar el modelo\n",
      "11/11 [==============================] - 6s 534ms/step\n",
      "El modelo predice el  80.05697727203369 % de los datos\n"
     ]
    }
   ],
   "source": [
    "print('Utilizando el conjunto de datos del artículo para evaluar el modelo')\n",
    "test_eval = model.evaluate(articulo, verbose=1)\n",
    "print('El modelo predice el ', test_eval[1]*100,'% de los datos')"
   ]
  },
  {
   "cell_type": "code",
   "execution_count": 48,
   "metadata": {},
   "outputs": [
    {
     "name": "stdout",
     "output_type": "stream",
     "text": [
      "Epoch 1/20\n",
      "100/100 [==============================] - 7s 68ms/step - loss: 0.3325 - accuracy: 0.9816 - f1_m: 0.9812 - precision_m: 0.9819 - recall_m: 0.9806 - val_loss: 0.3556 - val_accuracy: 0.9737 - val_f1_m: 0.9737 - val_precision_m: 0.9744 - val_recall_m: 0.9731\n",
      "Epoch 2/20\n",
      "100/100 [==============================] - 6s 65ms/step - loss: 0.3320 - accuracy: 0.9818 - f1_m: 0.9817 - precision_m: 0.9816 - recall_m: 0.9819 - val_loss: 0.3435 - val_accuracy: 0.9719 - val_f1_m: 0.9725 - val_precision_m: 0.9731 - val_recall_m: 0.9719\n",
      "Epoch 3/20\n",
      "100/100 [==============================] - 7s 67ms/step - loss: 0.3371 - accuracy: 0.9753 - f1_m: 0.9761 - precision_m: 0.9760 - recall_m: 0.9762 - val_loss: 0.3146 - val_accuracy: 0.9681 - val_f1_m: 0.9683 - val_precision_m: 0.9692 - val_recall_m: 0.9675\n",
      "Epoch 4/20\n",
      "100/100 [==============================] - 7s 65ms/step - loss: 0.3325 - accuracy: 0.9797 - f1_m: 0.9800 - precision_m: 0.9801 - recall_m: 0.9800 - val_loss: 0.3761 - val_accuracy: 0.9744 - val_f1_m: 0.9743 - val_precision_m: 0.9749 - val_recall_m: 0.9737\n",
      "Epoch 5/20\n",
      "100/100 [==============================] - 7s 67ms/step - loss: 0.3355 - accuracy: 0.9794 - f1_m: 0.9789 - precision_m: 0.9798 - recall_m: 0.9781 - val_loss: 0.3461 - val_accuracy: 0.9731 - val_f1_m: 0.9740 - val_precision_m: 0.9743 - val_recall_m: 0.9737\n",
      "Epoch 6/20\n",
      "100/100 [==============================] - 7s 65ms/step - loss: 0.3299 - accuracy: 0.9850 - f1_m: 0.9844 - precision_m: 0.9844 - recall_m: 0.9844 - val_loss: 0.3466 - val_accuracy: 0.9756 - val_f1_m: 0.9750 - val_precision_m: 0.9756 - val_recall_m: 0.9744\n",
      "Epoch 7/20\n",
      "100/100 [==============================] - 7s 66ms/step - loss: 0.3328 - accuracy: 0.9812 - f1_m: 0.9813 - precision_m: 0.9804 - recall_m: 0.9822 - val_loss: 0.3254 - val_accuracy: 0.9725 - val_f1_m: 0.9705 - val_precision_m: 0.9718 - val_recall_m: 0.9693\n",
      "Epoch 8/20\n",
      "100/100 [==============================] - 7s 65ms/step - loss: 0.3350 - accuracy: 0.9772 - f1_m: 0.9767 - precision_m: 0.9772 - recall_m: 0.9762 - val_loss: 0.4248 - val_accuracy: 0.9475 - val_f1_m: 0.9473 - val_precision_m: 0.9497 - val_recall_m: 0.9450\n",
      "Epoch 9/20\n",
      "100/100 [==============================] - 7s 65ms/step - loss: 0.3315 - accuracy: 0.9824 - f1_m: 0.9815 - precision_m: 0.9822 - recall_m: 0.9809 - val_loss: 0.3763 - val_accuracy: 0.9675 - val_f1_m: 0.9687 - val_precision_m: 0.9699 - val_recall_m: 0.9675\n",
      "Epoch 10/20\n",
      "100/100 [==============================] - 7s 69ms/step - loss: 0.3358 - accuracy: 0.9778 - f1_m: 0.9779 - precision_m: 0.9788 - recall_m: 0.9772 - val_loss: 0.3757 - val_accuracy: 0.9694 - val_f1_m: 0.9702 - val_precision_m: 0.9712 - val_recall_m: 0.9693\n",
      "Epoch 11/20\n",
      "100/100 [==============================] - 7s 65ms/step - loss: 0.3380 - accuracy: 0.9748 - f1_m: 0.9744 - precision_m: 0.9745 - recall_m: 0.9744 - val_loss: 0.3417 - val_accuracy: 0.9725 - val_f1_m: 0.9724 - val_precision_m: 0.9743 - val_recall_m: 0.9706\n",
      "Epoch 12/20\n",
      "100/100 [==============================] - 7s 67ms/step - loss: 0.3325 - accuracy: 0.9828 - f1_m: 0.9815 - precision_m: 0.9822 - recall_m: 0.9809 - val_loss: 0.3448 - val_accuracy: 0.9475 - val_f1_m: 0.9474 - val_precision_m: 0.9492 - val_recall_m: 0.9456\n",
      "Epoch 13/20\n",
      "100/100 [==============================] - 7s 65ms/step - loss: 0.3354 - accuracy: 0.9781 - f1_m: 0.9778 - precision_m: 0.9779 - recall_m: 0.9778 - val_loss: 0.3213 - val_accuracy: 0.9719 - val_f1_m: 0.9728 - val_precision_m: 0.9726 - val_recall_m: 0.9731\n",
      "Epoch 14/20\n",
      "100/100 [==============================] - 7s 67ms/step - loss: 0.3337 - accuracy: 0.9809 - f1_m: 0.9803 - precision_m: 0.9813 - recall_m: 0.9794 - val_loss: 0.3212 - val_accuracy: 0.9812 - val_f1_m: 0.9815 - val_precision_m: 0.9818 - val_recall_m: 0.9812\n",
      "Epoch 15/20\n",
      "100/100 [==============================] - 7s 66ms/step - loss: 0.3315 - accuracy: 0.9834 - f1_m: 0.9833 - precision_m: 0.9832 - recall_m: 0.9834 - val_loss: 0.3156 - val_accuracy: 0.9725 - val_f1_m: 0.9725 - val_precision_m: 0.9737 - val_recall_m: 0.9712\n",
      "Epoch 16/20\n",
      "100/100 [==============================] - 7s 66ms/step - loss: 0.3336 - accuracy: 0.9805 - f1_m: 0.9807 - precision_m: 0.9816 - recall_m: 0.9800 - val_loss: 0.3466 - val_accuracy: 0.9625 - val_f1_m: 0.9628 - val_precision_m: 0.9632 - val_recall_m: 0.9625\n",
      "Epoch 17/20\n",
      "100/100 [==============================] - 7s 65ms/step - loss: 0.3332 - accuracy: 0.9800 - f1_m: 0.9793 - precision_m: 0.9812 - recall_m: 0.9775 - val_loss: 0.3313 - val_accuracy: 0.9725 - val_f1_m: 0.9715 - val_precision_m: 0.9725 - val_recall_m: 0.9706\n",
      "Epoch 18/20\n",
      "100/100 [==============================] - 7s 66ms/step - loss: 0.3278 - accuracy: 0.9859 - f1_m: 0.9864 - precision_m: 0.9869 - recall_m: 0.9859 - val_loss: 0.3133 - val_accuracy: 0.9756 - val_f1_m: 0.9759 - val_precision_m: 0.9768 - val_recall_m: 0.9750\n",
      "Epoch 19/20\n",
      "100/100 [==============================] - 7s 68ms/step - loss: 0.3341 - accuracy: 0.9800 - f1_m: 0.9792 - precision_m: 0.9798 - recall_m: 0.9787 - val_loss: 0.3662 - val_accuracy: 0.9681 - val_f1_m: 0.9677 - val_precision_m: 0.9686 - val_recall_m: 0.9669\n",
      "Epoch 20/20\n",
      "100/100 [==============================] - 7s 66ms/step - loss: 0.3307 - accuracy: 0.9831 - f1_m: 0.9827 - precision_m: 0.9826 - recall_m: 0.9828 - val_loss: 0.3784 - val_accuracy: 0.9719 - val_f1_m: 0.9722 - val_precision_m: 0.9725 - val_recall_m: 0.9719\n"
     ]
    }
   ],
   "source": [
    "history = model.fit_generator(train, steps_per_epoch=100, \n",
    "                              epochs=20,  \n",
    "                              validation_data=val,   \n",
    "                              validation_steps=50,  \n",
    "                              verbose=1)"
   ]
  },
  {
   "cell_type": "code",
   "execution_count": 49,
   "metadata": {},
   "outputs": [
    {
     "name": "stdout",
     "output_type": "stream",
     "text": [
      "Utilizando el conjunto de datos de test para evaluar el modelo\n",
      "142/142 [==============================] - 5s 35ms/step\n",
      "El modelo predice el  97.17750549316406 % de los datos\n"
     ]
    }
   ],
   "source": [
    "print('Utilizando el conjunto de datos de test para evaluar el modelo')\n",
    "test_eval = model.evaluate(test, verbose=1)\n",
    "print('El modelo predice el ', test_eval[1]*100,'% de los datos')"
   ]
  },
  {
   "cell_type": "code",
   "execution_count": 50,
   "metadata": {},
   "outputs": [
    {
     "name": "stdout",
     "output_type": "stream",
     "text": [
      "Utilizando el conjunto de datos de test para evaluar el modelo\n",
      "Loss:  0.40270912647247314\n",
      "Accuracy:  0.9717750549316406\n",
      "F1 Score:  0.9719169735908508\n",
      "Precision:  0.9740085601806641\n",
      "Recall:  0.9698981642723083\n"
     ]
    }
   ],
   "source": [
    "print('Utilizando el conjunto de datos de test para evaluar el modelo')\n",
    "print('Loss: ',test_eval[0])\n",
    "print('Accuracy: ',test_eval[1])\n",
    "print('F1 Score: ',test_eval[2])\n",
    "print('Precision: ',test_eval[3])\n",
    "print('Recall: ',test_eval[4])"
   ]
  },
  {
   "cell_type": "code",
   "execution_count": 51,
   "metadata": {},
   "outputs": [
    {
     "name": "stdout",
     "output_type": "stream",
     "text": [
      "Utilizando el conjunto de datos del artículo para evaluar el modelo\n",
      "11/11 [==============================] - 4s 382ms/step\n",
      "El modelo predice el  92.59259104728699 % de los datos\n"
     ]
    }
   ],
   "source": [
    "print('Utilizando el conjunto de datos del artículo para evaluar el modelo')\n",
    "test_eval = model.evaluate(articulo, verbose=1)\n",
    "print('El modelo predice el ', test_eval[1]*100,'% de los datos')"
   ]
  },
  {
   "cell_type": "code",
   "execution_count": 52,
   "metadata": {},
   "outputs": [
    {
     "name": "stdout",
     "output_type": "stream",
     "text": [
      "Utilizando el conjunto de datos del artículo para evaluar el modelo\n",
      "Loss:  0.3510533571243286\n",
      "Accuracy:  0.9259259104728699\n",
      "F1 Score:  0.9259960651397705\n",
      "Precision:  0.9260280728340149\n",
      "Recall:  0.9260447025299072\n"
     ]
    }
   ],
   "source": [
    "print('Utilizando el conjunto de datos del artículo para evaluar el modelo')\n",
    "print('Loss: ',test_eval[0])\n",
    "print('Accuracy: ',test_eval[1])\n",
    "print('F1 Score: ',test_eval[2])\n",
    "print('Precision: ',test_eval[3])\n",
    "print('Recall: ',test_eval[4])"
   ]
  },
  {
   "cell_type": "code",
   "execution_count": 53,
   "metadata": {},
   "outputs": [
    {
     "name": "stdout",
     "output_type": "stream",
     "text": [
      "180 eponchs\n"
     ]
    }
   ],
   "source": [
    "print('180 eponchs')"
   ]
  },
  {
   "cell_type": "code",
   "execution_count": 54,
   "metadata": {},
   "outputs": [
    {
     "name": "stderr",
     "output_type": "stream",
     "text": [
      "C:\\Users\\elium\\.conda\\envs\\tfGPU\\lib\\site-packages\\keras\\engine\\saving.py:165: UserWarning: TensorFlow optimizers do not make it possible to access optimizer attributes or optimizer state after instantiation. As a result, we cannot save the optimizer as part of the model save file.You will have to compile your model again after loading it. Prefer using a Keras optimizer instead (see keras.io/optimizers).\n",
      "  'TensorFlow optimizers do not '\n"
     ]
    }
   ],
   "source": [
    "# Guardar el Modelo\n",
    "model.save('modelVGG16Covidysanos.h5')"
   ]
  },
  {
   "cell_type": "code",
   "execution_count": 63,
   "metadata": {},
   "outputs": [],
   "source": [
    "pred=model.predict(articulo)"
   ]
  },
  {
   "cell_type": "code",
   "execution_count": 68,
   "metadata": {},
   "outputs": [
    {
     "name": "stdout",
     "output_type": "stream",
     "text": [
      "107\n"
     ]
    }
   ],
   "source": [
    "#Aquí sólo hago con  un predict con el modelo y los datos del artículo\n",
    "import numpy as np\n",
    "suma=0\n",
    "for i in range (351):\n",
    "    if np.argmax(pred[i])==0:\n",
    "        suma=suma+1\n",
    "print(suma)"
   ]
  },
  {
   "cell_type": "code",
   "execution_count": null,
   "metadata": {},
   "outputs": [],
   "source": []
  }
 ],
 "metadata": {
  "kernelspec": {
   "display_name": "tfGPU",
   "language": "python",
   "name": "tfgpu"
  },
  "language_info": {
   "codemirror_mode": {
    "name": "ipython",
    "version": 3
   },
   "file_extension": ".py",
   "mimetype": "text/x-python",
   "name": "python",
   "nbconvert_exporter": "python",
   "pygments_lexer": "ipython3",
   "version": "3.7.13"
  },
  "vscode": {
   "interpreter": {
    "hash": "7e4f867d96a5e097fa0a710543755eb3c23b55927bdcf31cab94f921c40a44c0"
   }
  }
 },
 "nbformat": 4,
 "nbformat_minor": 2
}
