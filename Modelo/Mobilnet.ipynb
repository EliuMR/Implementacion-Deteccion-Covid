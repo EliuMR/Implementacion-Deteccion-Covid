{
 "cells": [
  {
   "cell_type": "code",
   "execution_count": 1,
   "id": "ee2250d0",
   "metadata": {},
   "outputs": [],
   "source": [
    "train_dir = 'D:/Documentos/Estudio/Maestría/Aprendizaje_Computacional/Modelopropio/Database/Lung Segmentation Data/Lung Segmentation Data/Train' \n",
    "val_dir = 'D:/Documentos/Estudio/Maestría/Aprendizaje_Computacional/Modelopropio/Database/Lung Segmentation Data/Lung Segmentation Data/Val' \n",
    "test_dir = 'D:/Documentos/Estudio/Maestría/Aprendizaje_Computacional/Modelopropio/Database/Lung Segmentation Data/Lung Segmentation Data/Test'\n",
    "articulo_dir='D:/Documentos/Estudio/Maestría/Aprendizaje_Computacional/Implementacion/Deteccion_Articulo/dataset,solocovid,pneumonia'"
   ]
  },
  {
   "cell_type": "code",
   "execution_count": 2,
   "id": "ecb6a8c5",
   "metadata": {},
   "outputs": [
    {
     "name": "stderr",
     "output_type": "stream",
     "text": [
      "Using TensorFlow backend.\n"
     ]
    }
   ],
   "source": [
    "#ELEGIMOS LOS PARAMETROS\n",
    "from keras.preprocessing.image import ImageDataGenerator\n",
    "ih, iw = 100,100 #tamano de la imagen\n",
    "input_shape = (ih, iw, 3) #forma de la imagen: alto ancho y numero de canales\n",
    "\n",
    "num_class = 2 #cuantas clases \n",
    "#epochs = 15 #cuantas veces entrenar. En cada epoch hace una mejora en los parametros\n",
    "\n",
    "batch_size = 32 #batch para hacer cada entrenamiento. Lee 50 'batch_size' imagenes antes de actualizar los parametros. Las carga a memoria\n",
    "num_train = 21715 #numero de imagenes en train\n",
    "num_test = 6788 #numero de imagenes en test\n",
    "num_val=5417\n",
    "\n",
    "epoch_steps = num_train // batch_size \n",
    "test_steps = num_test // batch_size\n",
    " "
   ]
  },
  {
   "cell_type": "code",
   "execution_count": 3,
   "id": "c524dc5b",
   "metadata": {},
   "outputs": [
    {
     "name": "stdout",
     "output_type": "stream",
     "text": [
      "Found 14507 images belonging to 2 classes.\n",
      "Found 3615 images belonging to 2 classes.\n",
      "Found 4535 images belonging to 2 classes.\n",
      "Found 351 images belonging to 2 classes.\n"
     ]
    }
   ],
   "source": [
    "#LEEMOS LAS IMÁGENES \n",
    "\n",
    "img_height, img_width=ih, iw\n",
    "\n",
    "train_datagen = ImageDataGenerator(rescale=1./255)\n",
    "\n",
    "train_generator = train_datagen.flow_from_directory(\n",
    "    train_dir,\n",
    "    target_size=(img_height, img_width),\n",
    "    batch_size=batch_size,\n",
    "    class_mode='categorical') # set as training data\n",
    "\n",
    "validation_generator = train_datagen.flow_from_directory(\n",
    "    val_dir, # same directory as training data\n",
    "    target_size=(img_height, img_width),\n",
    "    batch_size=batch_size,\n",
    "    class_mode='categorical') # set as validation data\n",
    "\n",
    "test_generator = train_datagen.flow_from_directory(\n",
    "    test_dir, # same directory as training data\n",
    "    target_size=(img_height, img_width),\n",
    "    batch_size=batch_size,\n",
    "    class_mode='categorical') # set as validation data\n",
    "\n",
    "#Para el conjunto del artículo\n",
    "articulo_generator = train_datagen.flow_from_directory(\n",
    "    articulo_dir, # same directory as training data\n",
    "    target_size=(img_height, img_width),\n",
    "    batch_size=batch_size,\n",
    "    class_mode='categorical') # set as validation data"
   ]
  },
  {
   "cell_type": "code",
   "execution_count": 4,
   "id": "cd353e6e",
   "metadata": {},
   "outputs": [],
   "source": [
    "train=train_generator\n",
    "val=validation_generator\n",
    "test=test_generator\n",
    "articulo=articulo_generator"
   ]
  },
  {
   "cell_type": "code",
   "execution_count": 6,
   "id": "d99373d5",
   "metadata": {},
   "outputs": [],
   "source": [
    "from keras.applications import MobileNet\n",
    "from keras.models import Model \n",
    "import keras \n",
    "import tensorflow as tf\n",
    "\n",
    "mobilnet = tf.keras.applications.MobileNet(include_top=False, weights='imagenet',  \n",
    "                                     input_shape=input_shape) \n",
    "\n",
    "mobilnet.trainable=True"
   ]
  },
  {
   "cell_type": "code",
   "execution_count": null,
   "id": "9e8193d1",
   "metadata": {},
   "outputs": [],
   "source": [
    "#for layer in Xception_model.layers[:-40]:\n",
    "#    layer.trainable = False"
   ]
  },
  {
   "cell_type": "code",
   "execution_count": 7,
   "id": "5966c65e",
   "metadata": {
    "scrolled": true
   },
   "outputs": [
    {
     "name": "stderr",
     "output_type": "stream",
     "text": [
      "C:\\Users\\elium\\.conda\\envs\\tfGPU\\lib\\site-packages\\ipykernel_launcher.py:2: FutureWarning: Passing a negative integer is deprecated in version 1.0 and will not be supported in future version. Instead, use None to not limit the column width.\n",
      "  \n"
     ]
    },
    {
     "data": {
      "text/html": [
       "<div>\n",
       "<style scoped>\n",
       "    .dataframe tbody tr th:only-of-type {\n",
       "        vertical-align: middle;\n",
       "    }\n",
       "\n",
       "    .dataframe tbody tr th {\n",
       "        vertical-align: top;\n",
       "    }\n",
       "\n",
       "    .dataframe thead th {\n",
       "        text-align: right;\n",
       "    }\n",
       "</style>\n",
       "<table border=\"1\" class=\"dataframe\">\n",
       "  <thead>\n",
       "    <tr style=\"text-align: right;\">\n",
       "      <th></th>\n",
       "      <th>Layer Type</th>\n",
       "      <th>Layer Name</th>\n",
       "      <th>Layer Trainable</th>\n",
       "    </tr>\n",
       "  </thead>\n",
       "  <tbody>\n",
       "    <tr>\n",
       "      <th>0</th>\n",
       "      <td>&lt;tensorflow.python.keras.engine.input_layer.InputLayer object at 0x0000014D7371D448&gt;</td>\n",
       "      <td>input_2</td>\n",
       "      <td>True</td>\n",
       "    </tr>\n",
       "    <tr>\n",
       "      <th>1</th>\n",
       "      <td>&lt;tensorflow.python.keras.layers.convolutional.ZeroPadding2D object at 0x0000014D7371D2C8&gt;</td>\n",
       "      <td>conv1_pad</td>\n",
       "      <td>True</td>\n",
       "    </tr>\n",
       "    <tr>\n",
       "      <th>2</th>\n",
       "      <td>&lt;tensorflow.python.keras.layers.convolutional.Conv2D object at 0x0000014D04446408&gt;</td>\n",
       "      <td>conv1</td>\n",
       "      <td>True</td>\n",
       "    </tr>\n",
       "    <tr>\n",
       "      <th>3</th>\n",
       "      <td>&lt;tensorflow.python.keras.layers.normalization.BatchNormalization object at 0x0000014D7371A308&gt;</td>\n",
       "      <td>conv1_bn</td>\n",
       "      <td>True</td>\n",
       "    </tr>\n",
       "    <tr>\n",
       "      <th>4</th>\n",
       "      <td>&lt;tensorflow.python.keras.layers.advanced_activations.ReLU object at 0x0000014D73862908&gt;</td>\n",
       "      <td>conv1_relu</td>\n",
       "      <td>True</td>\n",
       "    </tr>\n",
       "    <tr>\n",
       "      <th>...</th>\n",
       "      <td>...</td>\n",
       "      <td>...</td>\n",
       "      <td>...</td>\n",
       "    </tr>\n",
       "    <tr>\n",
       "      <th>82</th>\n",
       "      <td>&lt;tensorflow.python.keras.layers.normalization.BatchNormalization object at 0x0000014D74099E88&gt;</td>\n",
       "      <td>conv_dw_13_bn</td>\n",
       "      <td>True</td>\n",
       "    </tr>\n",
       "    <tr>\n",
       "      <th>83</th>\n",
       "      <td>&lt;tensorflow.python.keras.layers.advanced_activations.ReLU object at 0x0000014D740A0E88&gt;</td>\n",
       "      <td>conv_dw_13_relu</td>\n",
       "      <td>True</td>\n",
       "    </tr>\n",
       "    <tr>\n",
       "      <th>84</th>\n",
       "      <td>&lt;tensorflow.python.keras.layers.convolutional.Conv2D object at 0x0000014D740A3788&gt;</td>\n",
       "      <td>conv_pw_13</td>\n",
       "      <td>True</td>\n",
       "    </tr>\n",
       "    <tr>\n",
       "      <th>85</th>\n",
       "      <td>&lt;tensorflow.python.keras.layers.normalization.BatchNormalization object at 0x0000014D740F5CC8&gt;</td>\n",
       "      <td>conv_pw_13_bn</td>\n",
       "      <td>True</td>\n",
       "    </tr>\n",
       "    <tr>\n",
       "      <th>86</th>\n",
       "      <td>&lt;tensorflow.python.keras.layers.advanced_activations.ReLU object at 0x0000014D74102148&gt;</td>\n",
       "      <td>conv_pw_13_relu</td>\n",
       "      <td>True</td>\n",
       "    </tr>\n",
       "  </tbody>\n",
       "</table>\n",
       "<p>87 rows × 3 columns</p>\n",
       "</div>"
      ],
      "text/plain": [
       "                                                                                        Layer Type  \\\n",
       "0   <tensorflow.python.keras.engine.input_layer.InputLayer object at 0x0000014D7371D448>             \n",
       "1   <tensorflow.python.keras.layers.convolutional.ZeroPadding2D object at 0x0000014D7371D2C8>        \n",
       "2   <tensorflow.python.keras.layers.convolutional.Conv2D object at 0x0000014D04446408>               \n",
       "3   <tensorflow.python.keras.layers.normalization.BatchNormalization object at 0x0000014D7371A308>   \n",
       "4   <tensorflow.python.keras.layers.advanced_activations.ReLU object at 0x0000014D73862908>          \n",
       "..                                                                                      ...          \n",
       "82  <tensorflow.python.keras.layers.normalization.BatchNormalization object at 0x0000014D74099E88>   \n",
       "83  <tensorflow.python.keras.layers.advanced_activations.ReLU object at 0x0000014D740A0E88>          \n",
       "84  <tensorflow.python.keras.layers.convolutional.Conv2D object at 0x0000014D740A3788>               \n",
       "85  <tensorflow.python.keras.layers.normalization.BatchNormalization object at 0x0000014D740F5CC8>   \n",
       "86  <tensorflow.python.keras.layers.advanced_activations.ReLU object at 0x0000014D74102148>          \n",
       "\n",
       "         Layer Name  Layer Trainable  \n",
       "0   input_2          True             \n",
       "1   conv1_pad        True             \n",
       "2   conv1            True             \n",
       "3   conv1_bn         True             \n",
       "4   conv1_relu       True             \n",
       "..         ...        ...             \n",
       "82  conv_dw_13_bn    True             \n",
       "83  conv_dw_13_relu  True             \n",
       "84  conv_pw_13       True             \n",
       "85  conv_pw_13_bn    True             \n",
       "86  conv_pw_13_relu  True             \n",
       "\n",
       "[87 rows x 3 columns]"
      ]
     },
     "execution_count": 7,
     "metadata": {},
     "output_type": "execute_result"
    }
   ],
   "source": [
    "import pandas as pd \n",
    "pd.set_option('max_colwidth', -1)\n",
    "\n",
    "layers = [(layer, layer.name, layer.trainable) for layer in mobilnet.layers] \n",
    "pd.DataFrame(layers, columns=['Layer Type', 'Layer Name', 'Layer Trainable'])"
   ]
  },
  {
   "cell_type": "code",
   "execution_count": 8,
   "id": "d3e490c2",
   "metadata": {},
   "outputs": [
    {
     "name": "stdout",
     "output_type": "stream",
     "text": [
      "Model: \"mobilenet_1.00_224\"\n",
      "_________________________________________________________________\n",
      "Layer (type)                 Output Shape              Param #   \n",
      "=================================================================\n",
      "input_2 (InputLayer)         [(None, 100, 100, 3)]     0         \n",
      "_________________________________________________________________\n",
      "conv1_pad (ZeroPadding2D)    (None, 101, 101, 3)       0         \n",
      "_________________________________________________________________\n",
      "conv1 (Conv2D)               (None, 50, 50, 32)        864       \n",
      "_________________________________________________________________\n",
      "conv1_bn (BatchNormalization (None, 50, 50, 32)        128       \n",
      "_________________________________________________________________\n",
      "conv1_relu (ReLU)            (None, 50, 50, 32)        0         \n",
      "_________________________________________________________________\n",
      "conv_dw_1 (DepthwiseConv2D)  (None, 50, 50, 32)        288       \n",
      "_________________________________________________________________\n",
      "conv_dw_1_bn (BatchNormaliza (None, 50, 50, 32)        128       \n",
      "_________________________________________________________________\n",
      "conv_dw_1_relu (ReLU)        (None, 50, 50, 32)        0         \n",
      "_________________________________________________________________\n",
      "conv_pw_1 (Conv2D)           (None, 50, 50, 64)        2048      \n",
      "_________________________________________________________________\n",
      "conv_pw_1_bn (BatchNormaliza (None, 50, 50, 64)        256       \n",
      "_________________________________________________________________\n",
      "conv_pw_1_relu (ReLU)        (None, 50, 50, 64)        0         \n",
      "_________________________________________________________________\n",
      "conv_pad_2 (ZeroPadding2D)   (None, 51, 51, 64)        0         \n",
      "_________________________________________________________________\n",
      "conv_dw_2 (DepthwiseConv2D)  (None, 25, 25, 64)        576       \n",
      "_________________________________________________________________\n",
      "conv_dw_2_bn (BatchNormaliza (None, 25, 25, 64)        256       \n",
      "_________________________________________________________________\n",
      "conv_dw_2_relu (ReLU)        (None, 25, 25, 64)        0         \n",
      "_________________________________________________________________\n",
      "conv_pw_2 (Conv2D)           (None, 25, 25, 128)       8192      \n",
      "_________________________________________________________________\n",
      "conv_pw_2_bn (BatchNormaliza (None, 25, 25, 128)       512       \n",
      "_________________________________________________________________\n",
      "conv_pw_2_relu (ReLU)        (None, 25, 25, 128)       0         \n",
      "_________________________________________________________________\n",
      "conv_dw_3 (DepthwiseConv2D)  (None, 25, 25, 128)       1152      \n",
      "_________________________________________________________________\n",
      "conv_dw_3_bn (BatchNormaliza (None, 25, 25, 128)       512       \n",
      "_________________________________________________________________\n",
      "conv_dw_3_relu (ReLU)        (None, 25, 25, 128)       0         \n",
      "_________________________________________________________________\n",
      "conv_pw_3 (Conv2D)           (None, 25, 25, 128)       16384     \n",
      "_________________________________________________________________\n",
      "conv_pw_3_bn (BatchNormaliza (None, 25, 25, 128)       512       \n",
      "_________________________________________________________________\n",
      "conv_pw_3_relu (ReLU)        (None, 25, 25, 128)       0         \n",
      "_________________________________________________________________\n",
      "conv_pad_4 (ZeroPadding2D)   (None, 26, 26, 128)       0         \n",
      "_________________________________________________________________\n",
      "conv_dw_4 (DepthwiseConv2D)  (None, 12, 12, 128)       1152      \n",
      "_________________________________________________________________\n",
      "conv_dw_4_bn (BatchNormaliza (None, 12, 12, 128)       512       \n",
      "_________________________________________________________________\n",
      "conv_dw_4_relu (ReLU)        (None, 12, 12, 128)       0         \n",
      "_________________________________________________________________\n",
      "conv_pw_4 (Conv2D)           (None, 12, 12, 256)       32768     \n",
      "_________________________________________________________________\n",
      "conv_pw_4_bn (BatchNormaliza (None, 12, 12, 256)       1024      \n",
      "_________________________________________________________________\n",
      "conv_pw_4_relu (ReLU)        (None, 12, 12, 256)       0         \n",
      "_________________________________________________________________\n",
      "conv_dw_5 (DepthwiseConv2D)  (None, 12, 12, 256)       2304      \n",
      "_________________________________________________________________\n",
      "conv_dw_5_bn (BatchNormaliza (None, 12, 12, 256)       1024      \n",
      "_________________________________________________________________\n",
      "conv_dw_5_relu (ReLU)        (None, 12, 12, 256)       0         \n",
      "_________________________________________________________________\n",
      "conv_pw_5 (Conv2D)           (None, 12, 12, 256)       65536     \n",
      "_________________________________________________________________\n",
      "conv_pw_5_bn (BatchNormaliza (None, 12, 12, 256)       1024      \n",
      "_________________________________________________________________\n",
      "conv_pw_5_relu (ReLU)        (None, 12, 12, 256)       0         \n",
      "_________________________________________________________________\n",
      "conv_pad_6 (ZeroPadding2D)   (None, 13, 13, 256)       0         \n",
      "_________________________________________________________________\n",
      "conv_dw_6 (DepthwiseConv2D)  (None, 6, 6, 256)         2304      \n",
      "_________________________________________________________________\n",
      "conv_dw_6_bn (BatchNormaliza (None, 6, 6, 256)         1024      \n",
      "_________________________________________________________________\n",
      "conv_dw_6_relu (ReLU)        (None, 6, 6, 256)         0         \n",
      "_________________________________________________________________\n",
      "conv_pw_6 (Conv2D)           (None, 6, 6, 512)         131072    \n",
      "_________________________________________________________________\n",
      "conv_pw_6_bn (BatchNormaliza (None, 6, 6, 512)         2048      \n",
      "_________________________________________________________________\n",
      "conv_pw_6_relu (ReLU)        (None, 6, 6, 512)         0         \n",
      "_________________________________________________________________\n",
      "conv_dw_7 (DepthwiseConv2D)  (None, 6, 6, 512)         4608      \n",
      "_________________________________________________________________\n",
      "conv_dw_7_bn (BatchNormaliza (None, 6, 6, 512)         2048      \n",
      "_________________________________________________________________\n",
      "conv_dw_7_relu (ReLU)        (None, 6, 6, 512)         0         \n",
      "_________________________________________________________________\n",
      "conv_pw_7 (Conv2D)           (None, 6, 6, 512)         262144    \n",
      "_________________________________________________________________\n",
      "conv_pw_7_bn (BatchNormaliza (None, 6, 6, 512)         2048      \n",
      "_________________________________________________________________\n",
      "conv_pw_7_relu (ReLU)        (None, 6, 6, 512)         0         \n",
      "_________________________________________________________________\n",
      "conv_dw_8 (DepthwiseConv2D)  (None, 6, 6, 512)         4608      \n",
      "_________________________________________________________________\n",
      "conv_dw_8_bn (BatchNormaliza (None, 6, 6, 512)         2048      \n",
      "_________________________________________________________________\n",
      "conv_dw_8_relu (ReLU)        (None, 6, 6, 512)         0         \n",
      "_________________________________________________________________\n",
      "conv_pw_8 (Conv2D)           (None, 6, 6, 512)         262144    \n",
      "_________________________________________________________________\n",
      "conv_pw_8_bn (BatchNormaliza (None, 6, 6, 512)         2048      \n",
      "_________________________________________________________________\n",
      "conv_pw_8_relu (ReLU)        (None, 6, 6, 512)         0         \n",
      "_________________________________________________________________\n",
      "conv_dw_9 (DepthwiseConv2D)  (None, 6, 6, 512)         4608      \n",
      "_________________________________________________________________\n",
      "conv_dw_9_bn (BatchNormaliza (None, 6, 6, 512)         2048      \n",
      "_________________________________________________________________\n",
      "conv_dw_9_relu (ReLU)        (None, 6, 6, 512)         0         \n",
      "_________________________________________________________________\n",
      "conv_pw_9 (Conv2D)           (None, 6, 6, 512)         262144    \n",
      "_________________________________________________________________\n",
      "conv_pw_9_bn (BatchNormaliza (None, 6, 6, 512)         2048      \n",
      "_________________________________________________________________\n",
      "conv_pw_9_relu (ReLU)        (None, 6, 6, 512)         0         \n",
      "_________________________________________________________________\n",
      "conv_dw_10 (DepthwiseConv2D) (None, 6, 6, 512)         4608      \n",
      "_________________________________________________________________\n",
      "conv_dw_10_bn (BatchNormaliz (None, 6, 6, 512)         2048      \n",
      "_________________________________________________________________\n",
      "conv_dw_10_relu (ReLU)       (None, 6, 6, 512)         0         \n",
      "_________________________________________________________________\n",
      "conv_pw_10 (Conv2D)          (None, 6, 6, 512)         262144    \n",
      "_________________________________________________________________\n",
      "conv_pw_10_bn (BatchNormaliz (None, 6, 6, 512)         2048      \n",
      "_________________________________________________________________\n",
      "conv_pw_10_relu (ReLU)       (None, 6, 6, 512)         0         \n",
      "_________________________________________________________________\n",
      "conv_dw_11 (DepthwiseConv2D) (None, 6, 6, 512)         4608      \n",
      "_________________________________________________________________\n",
      "conv_dw_11_bn (BatchNormaliz (None, 6, 6, 512)         2048      \n",
      "_________________________________________________________________\n",
      "conv_dw_11_relu (ReLU)       (None, 6, 6, 512)         0         \n",
      "_________________________________________________________________\n",
      "conv_pw_11 (Conv2D)          (None, 6, 6, 512)         262144    \n",
      "_________________________________________________________________\n",
      "conv_pw_11_bn (BatchNormaliz (None, 6, 6, 512)         2048      \n",
      "_________________________________________________________________\n",
      "conv_pw_11_relu (ReLU)       (None, 6, 6, 512)         0         \n",
      "_________________________________________________________________\n",
      "conv_pad_12 (ZeroPadding2D)  (None, 7, 7, 512)         0         \n",
      "_________________________________________________________________\n",
      "conv_dw_12 (DepthwiseConv2D) (None, 3, 3, 512)         4608      \n",
      "_________________________________________________________________\n",
      "conv_dw_12_bn (BatchNormaliz (None, 3, 3, 512)         2048      \n",
      "_________________________________________________________________\n",
      "conv_dw_12_relu (ReLU)       (None, 3, 3, 512)         0         \n",
      "_________________________________________________________________\n",
      "conv_pw_12 (Conv2D)          (None, 3, 3, 1024)        524288    \n",
      "_________________________________________________________________\n",
      "conv_pw_12_bn (BatchNormaliz (None, 3, 3, 1024)        4096      \n",
      "_________________________________________________________________\n",
      "conv_pw_12_relu (ReLU)       (None, 3, 3, 1024)        0         \n",
      "_________________________________________________________________\n",
      "conv_dw_13 (DepthwiseConv2D) (None, 3, 3, 1024)        9216      \n",
      "_________________________________________________________________\n",
      "conv_dw_13_bn (BatchNormaliz (None, 3, 3, 1024)        4096      \n",
      "_________________________________________________________________\n",
      "conv_dw_13_relu (ReLU)       (None, 3, 3, 1024)        0         \n",
      "_________________________________________________________________\n",
      "conv_pw_13 (Conv2D)          (None, 3, 3, 1024)        1048576   \n",
      "_________________________________________________________________\n",
      "conv_pw_13_bn (BatchNormaliz (None, 3, 3, 1024)        4096      \n",
      "_________________________________________________________________\n",
      "conv_pw_13_relu (ReLU)       (None, 3, 3, 1024)        0         \n",
      "=================================================================\n",
      "Total params: 3,228,864\n",
      "Trainable params: 3,206,976\n",
      "Non-trainable params: 21,888\n",
      "_________________________________________________________________\n"
     ]
    }
   ],
   "source": [
    "mobilnet.summary()"
   ]
  },
  {
   "cell_type": "code",
   "execution_count": 9,
   "id": "2e8d6d52",
   "metadata": {},
   "outputs": [],
   "source": [
    "from keras import backend as K\n",
    "def recall_m(y_true, y_pred):\n",
    "    true_positives = K.sum(K.round(K.clip(y_true * y_pred, 0, 1)))\n",
    "    possible_positives = K.sum(K.round(K.clip(y_true, 0, 1)))\n",
    "    recall = true_positives / (possible_positives + K.epsilon())\n",
    "    return recall\n",
    "\n",
    "def precision_m(y_true, y_pred):\n",
    "    true_positives = K.sum(K.round(K.clip(y_true * y_pred, 0, 1)))\n",
    "    predicted_positives = K.sum(K.round(K.clip(y_pred, 0, 1)))\n",
    "    precision = true_positives / (predicted_positives + K.epsilon())\n",
    "    return precision\n",
    "\n",
    "def f1_m(y_true, y_pred):\n",
    "    precision = precision_m(y_true, y_pred)\n",
    "    recall = recall_m(y_true, y_pred)\n",
    "    return 2*((precision*recall)/(precision+recall+K.epsilon()))\n"
   ]
  },
  {
   "cell_type": "code",
   "execution_count": 10,
   "id": "9f5e2b0f",
   "metadata": {},
   "outputs": [],
   "source": [
    "from os import listdir\n",
    "from os.path import isfile,isdir, join\n",
    "import numpy\n",
    "\n",
    "import keras\n",
    "from keras.preprocessing.image import ImageDataGenerator\n",
    "from keras.preprocessing import image\n",
    "from keras import layers, models\n",
    "from keras.models import Sequential\n",
    "from keras.layers import Dense,Conv2D, Dropout,Activation,MaxPooling2D,Flatten\n",
    "from keras.optimizers import RMSprop \n",
    "from sklearn.model_selection import train_test_split"
   ]
  },
  {
   "cell_type": "code",
   "execution_count": 11,
   "id": "b01b09cd",
   "metadata": {},
   "outputs": [
    {
     "name": "stdout",
     "output_type": "stream",
     "text": [
      "Model: \"sequential\"\n",
      "_________________________________________________________________\n",
      "Layer (type)                 Output Shape              Param #   \n",
      "=================================================================\n",
      "mobilenet_1.00_224 (Model)   (None, 3, 3, 1024)        3228864   \n",
      "_________________________________________________________________\n",
      "global_average_pooling2d (Gl (None, 1024)              0         \n",
      "_________________________________________________________________\n",
      "dense (Dense)                (None, 512)               524800    \n",
      "_________________________________________________________________\n",
      "dropout (Dropout)            (None, 512)               0         \n",
      "_________________________________________________________________\n",
      "dense_1 (Dense)              (None, 512)               262656    \n",
      "_________________________________________________________________\n",
      "dropout_1 (Dropout)          (None, 512)               0         \n",
      "_________________________________________________________________\n",
      "dense_2 (Dense)              (None, 2)                 1026      \n",
      "=================================================================\n",
      "Total params: 4,017,346\n",
      "Trainable params: 3,995,458\n",
      "Non-trainable params: 21,888\n",
      "_________________________________________________________________\n",
      "None\n"
     ]
    }
   ],
   "source": [
    "from keras.layers import Conv2D, MaxPooling2D, Flatten, Dense, Dropout, InputLayer \n",
    "from keras.models import Sequential \n",
    "from keras import optimizers \n",
    "\n",
    "# build model architecture \n",
    "model = tf.keras.Sequential()\n",
    "model.add(mobilnet)\n",
    "model.add(tf.keras.layers.GlobalAveragePooling2D())\n",
    "model.add(tf.keras.layers.Dense(512, activation='relu'))\n",
    "model.add(tf.keras.layers.Dropout(0.2))\n",
    "model.add(tf.keras.layers.Dense(512, activation='relu'))\n",
    "model.add(tf.keras.layers.Dropout(0.2))\n",
    "model.add(tf.keras.layers.Dense(num_class, activation='sigmoid'))\n",
    "#compile model\n",
    "model.compile(optimizer=tf.keras.optimizers.SGD(lr=0.0001, momentum=0.9), \n",
    "      loss = tf.keras.losses.CategoricalCrossentropy(from_logits = True), \n",
    "      metrics=['accuracy',f1_m,precision_m, recall_m])\n",
    "print(model.summary())"
   ]
  },
  {
   "cell_type": "code",
   "execution_count": 22,
   "id": "aa7d0b7b",
   "metadata": {},
   "outputs": [
    {
     "name": "stdout",
     "output_type": "stream",
     "text": [
      "WARNING:tensorflow:sample_weight modes were coerced from\n",
      "  ...\n",
      "    to  \n",
      "  ['...']\n",
      "WARNING:tensorflow:sample_weight modes were coerced from\n",
      "  ...\n",
      "    to  \n",
      "  ['...']\n",
      "Train for 100 steps, validate for 50 steps\n",
      "Epoch 1/80\n",
      "100/100 [==============================] - 5s 55ms/step - loss: 0.3450 - accuracy: 0.9747 - f1_m: 0.9734 - precision_m: 0.9741 - recall_m: 0.9728 - val_loss: 0.3679 - val_accuracy: 0.9419 - val_f1_m: 0.9416 - val_precision_m: 0.9421 - val_recall_m: 0.9413\n",
      "Epoch 2/80\n",
      "100/100 [==============================] - 5s 55ms/step - loss: 0.3433 - accuracy: 0.9770 - f1_m: 0.9767 - precision_m: 0.9766 - recall_m: 0.9769 - val_loss: 0.3688 - val_accuracy: 0.9419 - val_f1_m: 0.9431 - val_precision_m: 0.9438 - val_recall_m: 0.9425\n",
      "Epoch 3/80\n",
      "100/100 [==============================] - 6s 55ms/step - loss: 0.3437 - accuracy: 0.9770 - f1_m: 0.9768 - precision_m: 0.9785 - recall_m: 0.9753 - val_loss: 0.3671 - val_accuracy: 0.9438 - val_f1_m: 0.9445 - val_precision_m: 0.9429 - val_recall_m: 0.9463\n",
      "Epoch 4/80\n",
      "100/100 [==============================] - 5s 55ms/step - loss: 0.3475 - accuracy: 0.9719 - f1_m: 0.9709 - precision_m: 0.9705 - recall_m: 0.9716 - val_loss: 0.3667 - val_accuracy: 0.9463 - val_f1_m: 0.9463 - val_precision_m: 0.9454 - val_recall_m: 0.9475\n",
      "Epoch 5/80\n",
      "100/100 [==============================] - 5s 55ms/step - loss: 0.3441 - accuracy: 0.9762 - f1_m: 0.9752 - precision_m: 0.9748 - recall_m: 0.9756 - val_loss: 0.3682 - val_accuracy: 0.9425 - val_f1_m: 0.9444 - val_precision_m: 0.9452 - val_recall_m: 0.9438\n",
      "Epoch 6/80\n",
      "100/100 [==============================] - 6s 55ms/step - loss: 0.3456 - accuracy: 0.9747 - f1_m: 0.9740 - precision_m: 0.9753 - recall_m: 0.9728 - val_loss: 0.3664 - val_accuracy: 0.9444 - val_f1_m: 0.9445 - val_precision_m: 0.9429 - val_recall_m: 0.9463\n",
      "Epoch 7/80\n",
      "100/100 [==============================] - 6s 57ms/step - loss: 0.3430 - accuracy: 0.9756 - f1_m: 0.9755 - precision_m: 0.9766 - recall_m: 0.9744 - val_loss: 0.3683 - val_accuracy: 0.9450 - val_f1_m: 0.9453 - val_precision_m: 0.9458 - val_recall_m: 0.9450\n",
      "Epoch 8/80\n",
      "100/100 [==============================] - 6s 56ms/step - loss: 0.3501 - accuracy: 0.9688 - f1_m: 0.9671 - precision_m: 0.9669 - recall_m: 0.9675 - val_loss: 0.3675 - val_accuracy: 0.9431 - val_f1_m: 0.9428 - val_precision_m: 0.9432 - val_recall_m: 0.9425\n",
      "Epoch 9/80\n",
      "100/100 [==============================] - 6s 55ms/step - loss: 0.3426 - accuracy: 0.9781 - f1_m: 0.9756 - precision_m: 0.9763 - recall_m: 0.9750 - val_loss: 0.3656 - val_accuracy: 0.9475 - val_f1_m: 0.9473 - val_precision_m: 0.9455 - val_recall_m: 0.9494\n",
      "Epoch 10/80\n",
      "100/100 [==============================] - 6s 55ms/step - loss: 0.3409 - accuracy: 0.9794 - f1_m: 0.9768 - precision_m: 0.9790 - recall_m: 0.9747 - val_loss: 0.3668 - val_accuracy: 0.9438 - val_f1_m: 0.9435 - val_precision_m: 0.9427 - val_recall_m: 0.9444\n",
      "Epoch 11/80\n",
      "100/100 [==============================] - 6s 55ms/step - loss: 0.3461 - accuracy: 0.9731 - f1_m: 0.9715 - precision_m: 0.9712 - recall_m: 0.9719 - val_loss: 0.3677 - val_accuracy: 0.9444 - val_f1_m: 0.9461 - val_precision_m: 0.9442 - val_recall_m: 0.9481\n",
      "Epoch 12/80\n",
      "100/100 [==============================] - 6s 55ms/step - loss: 0.3443 - accuracy: 0.9734 - f1_m: 0.9738 - precision_m: 0.9750 - recall_m: 0.9728 - val_loss: 0.3673 - val_accuracy: 0.9450 - val_f1_m: 0.9450 - val_precision_m: 0.9463 - val_recall_m: 0.9438\n",
      "Epoch 13/80\n",
      "100/100 [==============================] - 6s 58ms/step - loss: 0.3414 - accuracy: 0.9778 - f1_m: 0.9771 - precision_m: 0.9764 - recall_m: 0.9778 - val_loss: 0.3661 - val_accuracy: 0.9444 - val_f1_m: 0.9453 - val_precision_m: 0.9453 - val_recall_m: 0.9456\n",
      "Epoch 14/80\n",
      "100/100 [==============================] - 6s 55ms/step - loss: 0.3431 - accuracy: 0.9753 - f1_m: 0.9749 - precision_m: 0.9749 - recall_m: 0.9750 - val_loss: 0.3659 - val_accuracy: 0.9450 - val_f1_m: 0.9438 - val_precision_m: 0.9439 - val_recall_m: 0.9438\n",
      "Epoch 15/80\n",
      "100/100 [==============================] - 6s 55ms/step - loss: 0.3410 - accuracy: 0.9786 - f1_m: 0.9773 - precision_m: 0.9770 - recall_m: 0.9778 - val_loss: 0.3663 - val_accuracy: 0.9438 - val_f1_m: 0.9446 - val_precision_m: 0.9457 - val_recall_m: 0.9438\n",
      "Epoch 16/80\n",
      "100/100 [==============================] - 6s 55ms/step - loss: 0.3390 - accuracy: 0.9816 - f1_m: 0.9803 - precision_m: 0.9810 - recall_m: 0.9797 - val_loss: 0.3652 - val_accuracy: 0.9463 - val_f1_m: 0.9457 - val_precision_m: 0.9447 - val_recall_m: 0.9469\n",
      "Epoch 17/80\n",
      "100/100 [==============================] - 6s 55ms/step - loss: 0.3408 - accuracy: 0.9794 - f1_m: 0.9786 - precision_m: 0.9785 - recall_m: 0.9787 - val_loss: 0.3673 - val_accuracy: 0.9419 - val_f1_m: 0.9431 - val_precision_m: 0.9450 - val_recall_m: 0.9413\n",
      "Epoch 18/80\n",
      "100/100 [==============================] - 6s 55ms/step - loss: 0.3424 - accuracy: 0.9784 - f1_m: 0.9765 - precision_m: 0.9791 - recall_m: 0.9741 - val_loss: 0.3653 - val_accuracy: 0.9456 - val_f1_m: 0.9470 - val_precision_m: 0.9448 - val_recall_m: 0.9494\n",
      "Epoch 19/80\n",
      "100/100 [==============================] - 6s 55ms/step - loss: 0.3383 - accuracy: 0.9822 - f1_m: 0.9802 - precision_m: 0.9792 - recall_m: 0.9812 - val_loss: 0.3679 - val_accuracy: 0.9438 - val_f1_m: 0.9440 - val_precision_m: 0.9450 - val_recall_m: 0.9431\n",
      "Epoch 20/80\n",
      "100/100 [==============================] - 5s 55ms/step - loss: 0.3407 - accuracy: 0.9794 - f1_m: 0.9789 - precision_m: 0.9795 - recall_m: 0.9784 - val_loss: 0.3648 - val_accuracy: 0.9444 - val_f1_m: 0.9454 - val_precision_m: 0.9442 - val_recall_m: 0.9469\n",
      "Epoch 21/80\n",
      "100/100 [==============================] - 5s 55ms/step - loss: 0.3405 - accuracy: 0.9797 - f1_m: 0.9775 - precision_m: 0.9783 - recall_m: 0.9769 - val_loss: 0.3650 - val_accuracy: 0.9456 - val_f1_m: 0.9464 - val_precision_m: 0.9448 - val_recall_m: 0.9481\n",
      "Epoch 22/80\n",
      "100/100 [==============================] - 6s 55ms/step - loss: 0.3414 - accuracy: 0.9781 - f1_m: 0.9766 - precision_m: 0.9778 - recall_m: 0.9756 - val_loss: 0.3658 - val_accuracy: 0.9463 - val_f1_m: 0.9457 - val_precision_m: 0.9452 - val_recall_m: 0.9463\n",
      "Epoch 23/80\n",
      "100/100 [==============================] - 6s 57ms/step - loss: 0.3387 - accuracy: 0.9811 - f1_m: 0.9787 - precision_m: 0.9774 - recall_m: 0.9800 - val_loss: 0.3648 - val_accuracy: 0.9463 - val_f1_m: 0.9475 - val_precision_m: 0.9465 - val_recall_m: 0.9488\n",
      "Epoch 24/80\n",
      "100/100 [==============================] - 6s 55ms/step - loss: 0.3418 - accuracy: 0.9766 - f1_m: 0.9762 - precision_m: 0.9769 - recall_m: 0.9756 - val_loss: 0.3655 - val_accuracy: 0.9463 - val_f1_m: 0.9464 - val_precision_m: 0.9436 - val_recall_m: 0.9494\n",
      "Epoch 25/80\n",
      "100/100 [==============================] - 6s 55ms/step - loss: 0.3397 - accuracy: 0.9787 - f1_m: 0.9783 - precision_m: 0.9780 - recall_m: 0.9787 - val_loss: 0.3652 - val_accuracy: 0.9456 - val_f1_m: 0.9454 - val_precision_m: 0.9447 - val_recall_m: 0.9463\n",
      "Epoch 26/80\n",
      "100/100 [==============================] - 5s 55ms/step - loss: 0.3384 - accuracy: 0.9806 - f1_m: 0.9797 - precision_m: 0.9798 - recall_m: 0.9797 - val_loss: 0.3656 - val_accuracy: 0.9456 - val_f1_m: 0.9453 - val_precision_m: 0.9457 - val_recall_m: 0.9450\n",
      "Epoch 27/80\n",
      "100/100 [==============================] - 6s 55ms/step - loss: 0.3398 - accuracy: 0.9796 - f1_m: 0.9788 - precision_m: 0.9785 - recall_m: 0.9791 - val_loss: 0.3648 - val_accuracy: 0.9463 - val_f1_m: 0.9466 - val_precision_m: 0.9465 - val_recall_m: 0.9469\n",
      "Epoch 28/80\n",
      "100/100 [==============================] - 6s 56ms/step - loss: 0.3368 - accuracy: 0.9831 - f1_m: 0.9817 - precision_m: 0.9817 - recall_m: 0.9819 - val_loss: 0.3651 - val_accuracy: 0.9450 - val_f1_m: 0.9462 - val_precision_m: 0.9464 - val_recall_m: 0.9463\n",
      "Epoch 29/80\n",
      "100/100 [==============================] - 5s 55ms/step - loss: 0.3375 - accuracy: 0.9814 - f1_m: 0.9808 - precision_m: 0.9810 - recall_m: 0.9806 - val_loss: 0.3642 - val_accuracy: 0.9488 - val_f1_m: 0.9479 - val_precision_m: 0.9471 - val_recall_m: 0.9488\n",
      "Epoch 30/80\n",
      "100/100 [==============================] - 5s 55ms/step - loss: 0.3385 - accuracy: 0.9812 - f1_m: 0.9800 - precision_m: 0.9803 - recall_m: 0.9797 - val_loss: 0.3647 - val_accuracy: 0.9469 - val_f1_m: 0.9453 - val_precision_m: 0.9451 - val_recall_m: 0.9456\n"
     ]
    },
    {
     "name": "stdout",
     "output_type": "stream",
     "text": [
      "Epoch 31/80\n",
      "100/100 [==============================] - 6s 55ms/step - loss: 0.3357 - accuracy: 0.9831 - f1_m: 0.9823 - precision_m: 0.9828 - recall_m: 0.9819 - val_loss: 0.3637 - val_accuracy: 0.9463 - val_f1_m: 0.9479 - val_precision_m: 0.9461 - val_recall_m: 0.9500\n",
      "Epoch 32/80\n",
      "100/100 [==============================] - 6s 56ms/step - loss: 0.3356 - accuracy: 0.9831 - f1_m: 0.9821 - precision_m: 0.9838 - recall_m: 0.9806 - val_loss: 0.3631 - val_accuracy: 0.9494 - val_f1_m: 0.9498 - val_precision_m: 0.9485 - val_recall_m: 0.9513\n",
      "Epoch 33/80\n",
      "100/100 [==============================] - 6s 55ms/step - loss: 0.3381 - accuracy: 0.9809 - f1_m: 0.9792 - precision_m: 0.9803 - recall_m: 0.9781 - val_loss: 0.3638 - val_accuracy: 0.9456 - val_f1_m: 0.9471 - val_precision_m: 0.9469 - val_recall_m: 0.9475\n",
      "Epoch 34/80\n",
      "100/100 [==============================] - 6s 55ms/step - loss: 0.3373 - accuracy: 0.9816 - f1_m: 0.9809 - precision_m: 0.9813 - recall_m: 0.9806 - val_loss: 0.3635 - val_accuracy: 0.9481 - val_f1_m: 0.9470 - val_precision_m: 0.9454 - val_recall_m: 0.9488\n",
      "Epoch 35/80\n",
      "100/100 [==============================] - 6s 57ms/step - loss: 0.3371 - accuracy: 0.9806 - f1_m: 0.9801 - precision_m: 0.9800 - recall_m: 0.9803 - val_loss: 0.3643 - val_accuracy: 0.9456 - val_f1_m: 0.9466 - val_precision_m: 0.9464 - val_recall_m: 0.9469\n",
      "Epoch 36/80\n",
      "100/100 [==============================] - 6s 55ms/step - loss: 0.3322 - accuracy: 0.9872 - f1_m: 0.9874 - precision_m: 0.9867 - recall_m: 0.9881 - val_loss: 0.3645 - val_accuracy: 0.9475 - val_f1_m: 0.9482 - val_precision_m: 0.9471 - val_recall_m: 0.9494\n",
      "Epoch 37/80\n",
      "100/100 [==============================] - 5s 55ms/step - loss: 0.3359 - accuracy: 0.9821 - f1_m: 0.9814 - precision_m: 0.9811 - recall_m: 0.9819 - val_loss: 0.3641 - val_accuracy: 0.9469 - val_f1_m: 0.9472 - val_precision_m: 0.9465 - val_recall_m: 0.9481\n",
      "Epoch 38/80\n",
      "100/100 [==============================] - 6s 55ms/step - loss: 0.3365 - accuracy: 0.9809 - f1_m: 0.9806 - precision_m: 0.9805 - recall_m: 0.9809 - val_loss: 0.3643 - val_accuracy: 0.9475 - val_f1_m: 0.9481 - val_precision_m: 0.9482 - val_recall_m: 0.9481\n",
      "Epoch 39/80\n",
      "100/100 [==============================] - 5s 55ms/step - loss: 0.3356 - accuracy: 0.9816 - f1_m: 0.9813 - precision_m: 0.9811 - recall_m: 0.9816 - val_loss: 0.3638 - val_accuracy: 0.9475 - val_f1_m: 0.9463 - val_precision_m: 0.9458 - val_recall_m: 0.9469\n",
      "Epoch 40/80\n",
      "100/100 [==============================] - 5s 55ms/step - loss: 0.3349 - accuracy: 0.9837 - f1_m: 0.9833 - precision_m: 0.9835 - recall_m: 0.9831 - val_loss: 0.3634 - val_accuracy: 0.9456 - val_f1_m: 0.9461 - val_precision_m: 0.9441 - val_recall_m: 0.9481\n",
      "Epoch 41/80\n",
      "100/100 [==============================] - 6s 55ms/step - loss: 0.3359 - accuracy: 0.9819 - f1_m: 0.9815 - precision_m: 0.9825 - recall_m: 0.9806 - val_loss: 0.3640 - val_accuracy: 0.9488 - val_f1_m: 0.9470 - val_precision_m: 0.9460 - val_recall_m: 0.9481\n",
      "Epoch 42/80\n",
      "100/100 [==============================] - 6s 55ms/step - loss: 0.3363 - accuracy: 0.9816 - f1_m: 0.9811 - precision_m: 0.9810 - recall_m: 0.9812 - val_loss: 0.3635 - val_accuracy: 0.9488 - val_f1_m: 0.9472 - val_precision_m: 0.9459 - val_recall_m: 0.9488\n",
      "Epoch 43/80\n",
      "100/100 [==============================] - 5s 55ms/step - loss: 0.3344 - accuracy: 0.9837 - f1_m: 0.9827 - precision_m: 0.9820 - recall_m: 0.9834 - val_loss: 0.3633 - val_accuracy: 0.9488 - val_f1_m: 0.9479 - val_precision_m: 0.9471 - val_recall_m: 0.9488\n",
      "Epoch 44/80\n",
      "100/100 [==============================] - 5s 55ms/step - loss: 0.3349 - accuracy: 0.9828 - f1_m: 0.9825 - precision_m: 0.9825 - recall_m: 0.9825 - val_loss: 0.3636 - val_accuracy: 0.9475 - val_f1_m: 0.9469 - val_precision_m: 0.9470 - val_recall_m: 0.9469\n",
      "Epoch 45/80\n",
      "100/100 [==============================] - 5s 54ms/step - loss: 0.3307 - accuracy: 0.9871 - f1_m: 0.9870 - precision_m: 0.9866 - recall_m: 0.9875 - val_loss: 0.3630 - val_accuracy: 0.9469 - val_f1_m: 0.9468 - val_precision_m: 0.9476 - val_recall_m: 0.9463\n",
      "Epoch 46/80\n",
      "100/100 [==============================] - 5s 55ms/step - loss: 0.3346 - accuracy: 0.9837 - f1_m: 0.9833 - precision_m: 0.9820 - recall_m: 0.9847 - val_loss: 0.3627 - val_accuracy: 0.9494 - val_f1_m: 0.9478 - val_precision_m: 0.9482 - val_recall_m: 0.9475\n",
      "Epoch 47/80\n",
      "100/100 [==============================] - 6s 55ms/step - loss: 0.3320 - accuracy: 0.9859 - f1_m: 0.9856 - precision_m: 0.9860 - recall_m: 0.9853 - val_loss: 0.3626 - val_accuracy: 0.9475 - val_f1_m: 0.9485 - val_precision_m: 0.9473 - val_recall_m: 0.9500\n",
      "Epoch 48/80\n",
      "100/100 [==============================] - 6s 55ms/step - loss: 0.3363 - accuracy: 0.9816 - f1_m: 0.9798 - precision_m: 0.9809 - recall_m: 0.9787 - val_loss: 0.3631 - val_accuracy: 0.9481 - val_f1_m: 0.9472 - val_precision_m: 0.9471 - val_recall_m: 0.9475\n",
      "Epoch 49/80\n",
      "100/100 [==============================] - 6s 57ms/step - loss: 0.3313 - accuracy: 0.9871 - f1_m: 0.9859 - precision_m: 0.9866 - recall_m: 0.9853 - val_loss: 0.3617 - val_accuracy: 0.9500 - val_f1_m: 0.9504 - val_precision_m: 0.9497 - val_recall_m: 0.9513\n",
      "Epoch 50/80\n",
      "100/100 [==============================] - 6s 57ms/step - loss: 0.3333 - accuracy: 0.9847 - f1_m: 0.9842 - precision_m: 0.9841 - recall_m: 0.9844 - val_loss: 0.3622 - val_accuracy: 0.9475 - val_f1_m: 0.9476 - val_precision_m: 0.9471 - val_recall_m: 0.9481\n",
      "Epoch 51/80\n",
      "100/100 [==============================] - 6s 56ms/step - loss: 0.3346 - accuracy: 0.9822 - f1_m: 0.9824 - precision_m: 0.9820 - recall_m: 0.9828 - val_loss: 0.3625 - val_accuracy: 0.9488 - val_f1_m: 0.9473 - val_precision_m: 0.9465 - val_recall_m: 0.9481\n",
      "Epoch 52/80\n",
      "100/100 [==============================] - 6s 56ms/step - loss: 0.3344 - accuracy: 0.9841 - f1_m: 0.9823 - precision_m: 0.9829 - recall_m: 0.9819 - val_loss: 0.3620 - val_accuracy: 0.9481 - val_f1_m: 0.9479 - val_precision_m: 0.9471 - val_recall_m: 0.9488\n",
      "Epoch 53/80\n",
      "100/100 [==============================] - 6s 56ms/step - loss: 0.3330 - accuracy: 0.9837 - f1_m: 0.9833 - precision_m: 0.9829 - recall_m: 0.9837 - val_loss: 0.3629 - val_accuracy: 0.9494 - val_f1_m: 0.9477 - val_precision_m: 0.9481 - val_recall_m: 0.9475\n",
      "Epoch 54/80\n",
      "100/100 [==============================] - 6s 57ms/step - loss: 0.3316 - accuracy: 0.9859 - f1_m: 0.9853 - precision_m: 0.9854 - recall_m: 0.9853 - val_loss: 0.3629 - val_accuracy: 0.9463 - val_f1_m: 0.9466 - val_precision_m: 0.9465 - val_recall_m: 0.9469\n",
      "Epoch 55/80\n",
      "100/100 [==============================] - 6s 55ms/step - loss: 0.3314 - accuracy: 0.9862 - f1_m: 0.9855 - precision_m: 0.9848 - recall_m: 0.9862 - val_loss: 0.3629 - val_accuracy: 0.9488 - val_f1_m: 0.9480 - val_precision_m: 0.9461 - val_recall_m: 0.9500\n",
      "Epoch 56/80\n",
      "100/100 [==============================] - 5s 55ms/step - loss: 0.3313 - accuracy: 0.9856 - f1_m: 0.9855 - precision_m: 0.9850 - recall_m: 0.9859 - val_loss: 0.3629 - val_accuracy: 0.9481 - val_f1_m: 0.9475 - val_precision_m: 0.9471 - val_recall_m: 0.9481\n",
      "Epoch 57/80\n",
      "100/100 [==============================] - 6s 55ms/step - loss: 0.3338 - accuracy: 0.9837 - f1_m: 0.9825 - precision_m: 0.9840 - recall_m: 0.9809 - val_loss: 0.3631 - val_accuracy: 0.9481 - val_f1_m: 0.9484 - val_precision_m: 0.9488 - val_recall_m: 0.9481\n",
      "Epoch 58/80\n",
      "100/100 [==============================] - 6s 55ms/step - loss: 0.3332 - accuracy: 0.9840 - f1_m: 0.9839 - precision_m: 0.9835 - recall_m: 0.9844 - val_loss: 0.3618 - val_accuracy: 0.9513 - val_f1_m: 0.9496 - val_precision_m: 0.9488 - val_recall_m: 0.9506\n",
      "Epoch 59/80\n",
      "100/100 [==============================] - 6s 55ms/step - loss: 0.3305 - accuracy: 0.9866 - f1_m: 0.9864 - precision_m: 0.9854 - recall_m: 0.9875 - val_loss: 0.3613 - val_accuracy: 0.9500 - val_f1_m: 0.9482 - val_precision_m: 0.9471 - val_recall_m: 0.9494\n",
      "Epoch 60/80\n",
      "100/100 [==============================] - 6s 57ms/step - loss: 0.3335 - accuracy: 0.9841 - f1_m: 0.9831 - precision_m: 0.9826 - recall_m: 0.9837 - val_loss: 0.3620 - val_accuracy: 0.9481 - val_f1_m: 0.9475 - val_precision_m: 0.9470 - val_recall_m: 0.9481\n",
      "Epoch 61/80\n",
      "100/100 [==============================] - 6s 57ms/step - loss: 0.3340 - accuracy: 0.9853 - f1_m: 0.9842 - precision_m: 0.9842 - recall_m: 0.9844 - val_loss: 0.3618 - val_accuracy: 0.9488 - val_f1_m: 0.9481 - val_precision_m: 0.9488 - val_recall_m: 0.9475\n"
     ]
    },
    {
     "name": "stdout",
     "output_type": "stream",
     "text": [
      "Epoch 62/80\n",
      "100/100 [==============================] - 6s 57ms/step - loss: 0.3329 - accuracy: 0.9853 - f1_m: 0.9848 - precision_m: 0.9856 - recall_m: 0.9841 - val_loss: 0.3618 - val_accuracy: 0.9494 - val_f1_m: 0.9476 - val_precision_m: 0.9465 - val_recall_m: 0.9488\n",
      "Epoch 63/80\n",
      "100/100 [==============================] - 6s 55ms/step - loss: 0.3340 - accuracy: 0.9830 - f1_m: 0.9825 - precision_m: 0.9829 - recall_m: 0.9822 - val_loss: 0.3617 - val_accuracy: 0.9494 - val_f1_m: 0.9478 - val_precision_m: 0.9475 - val_recall_m: 0.9481\n",
      "Epoch 64/80\n",
      "100/100 [==============================] - 6s 55ms/step - loss: 0.3297 - accuracy: 0.9884 - f1_m: 0.9880 - precision_m: 0.9878 - recall_m: 0.9881 - val_loss: 0.3625 - val_accuracy: 0.9488 - val_f1_m: 0.9495 - val_precision_m: 0.9484 - val_recall_m: 0.9506\n",
      "Epoch 65/80\n",
      "100/100 [==============================] - 5s 55ms/step - loss: 0.3294 - accuracy: 0.9880 - f1_m: 0.9872 - precision_m: 0.9872 - recall_m: 0.9872 - val_loss: 0.3616 - val_accuracy: 0.9494 - val_f1_m: 0.9488 - val_precision_m: 0.9472 - val_recall_m: 0.9506\n",
      "Epoch 66/80\n",
      "100/100 [==============================] - 5s 55ms/step - loss: 0.3302 - accuracy: 0.9881 - f1_m: 0.9869 - precision_m: 0.9866 - recall_m: 0.9872 - val_loss: 0.3618 - val_accuracy: 0.9475 - val_f1_m: 0.9472 - val_precision_m: 0.9465 - val_recall_m: 0.9481\n",
      "Epoch 67/80\n",
      "100/100 [==============================] - 5s 55ms/step - loss: 0.3314 - accuracy: 0.9866 - f1_m: 0.9854 - precision_m: 0.9866 - recall_m: 0.9844 - val_loss: 0.3622 - val_accuracy: 0.9469 - val_f1_m: 0.9466 - val_precision_m: 0.9470 - val_recall_m: 0.9463\n",
      "Epoch 68/80\n",
      "100/100 [==============================] - 5s 55ms/step - loss: 0.3293 - accuracy: 0.9881 - f1_m: 0.9875 - precision_m: 0.9872 - recall_m: 0.9878 - val_loss: 0.3611 - val_accuracy: 0.9506 - val_f1_m: 0.9487 - val_precision_m: 0.9489 - val_recall_m: 0.9488\n",
      "Epoch 69/80\n",
      "100/100 [==============================] - 5s 55ms/step - loss: 0.3325 - accuracy: 0.9841 - f1_m: 0.9836 - precision_m: 0.9835 - recall_m: 0.9837 - val_loss: 0.3611 - val_accuracy: 0.9513 - val_f1_m: 0.9485 - val_precision_m: 0.9471 - val_recall_m: 0.9500\n",
      "Epoch 70/80\n",
      "100/100 [==============================] - 6s 57ms/step - loss: 0.3317 - accuracy: 0.9852 - f1_m: 0.9853 - precision_m: 0.9851 - recall_m: 0.9856 - val_loss: 0.3612 - val_accuracy: 0.9481 - val_f1_m: 0.9479 - val_precision_m: 0.9471 - val_recall_m: 0.9488\n",
      "Epoch 71/80\n",
      "100/100 [==============================] - 6s 55ms/step - loss: 0.3312 - accuracy: 0.9862 - f1_m: 0.9864 - precision_m: 0.9863 - recall_m: 0.9866 - val_loss: 0.3628 - val_accuracy: 0.9475 - val_f1_m: 0.9481 - val_precision_m: 0.9489 - val_recall_m: 0.9475\n",
      "Epoch 72/80\n",
      "100/100 [==============================] - 6s 56ms/step - loss: 0.3298 - accuracy: 0.9862 - f1_m: 0.9864 - precision_m: 0.9865 - recall_m: 0.9862 - val_loss: 0.3612 - val_accuracy: 0.9488 - val_f1_m: 0.9485 - val_precision_m: 0.9478 - val_recall_m: 0.9494\n",
      "Epoch 73/80\n",
      "100/100 [==============================] - 5s 55ms/step - loss: 0.3286 - accuracy: 0.9887 - f1_m: 0.9878 - precision_m: 0.9884 - recall_m: 0.9872 - val_loss: 0.3613 - val_accuracy: 0.9475 - val_f1_m: 0.9476 - val_precision_m: 0.9460 - val_recall_m: 0.9494\n",
      "Epoch 74/80\n",
      "100/100 [==============================] - 5s 55ms/step - loss: 0.3279 - accuracy: 0.9896 - f1_m: 0.9894 - precision_m: 0.9891 - recall_m: 0.9897 - val_loss: 0.3619 - val_accuracy: 0.9494 - val_f1_m: 0.9487 - val_precision_m: 0.9494 - val_recall_m: 0.9481\n",
      "Epoch 75/80\n",
      "100/100 [==============================] - 5s 55ms/step - loss: 0.3309 - accuracy: 0.9868 - f1_m: 0.9862 - precision_m: 0.9863 - recall_m: 0.9862 - val_loss: 0.3622 - val_accuracy: 0.9488 - val_f1_m: 0.9487 - val_precision_m: 0.9489 - val_recall_m: 0.9488\n",
      "Epoch 76/80\n",
      "100/100 [==============================] - 5s 54ms/step - loss: 0.3299 - accuracy: 0.9871 - f1_m: 0.9866 - precision_m: 0.9866 - recall_m: 0.9866 - val_loss: 0.3615 - val_accuracy: 0.9494 - val_f1_m: 0.9485 - val_precision_m: 0.9477 - val_recall_m: 0.9494\n",
      "Epoch 77/80\n",
      "100/100 [==============================] - 5s 55ms/step - loss: 0.3305 - accuracy: 0.9862 - f1_m: 0.9858 - precision_m: 0.9860 - recall_m: 0.9856 - val_loss: 0.3611 - val_accuracy: 0.9494 - val_f1_m: 0.9481 - val_precision_m: 0.9483 - val_recall_m: 0.9481\n",
      "Epoch 78/80\n",
      "100/100 [==============================] - 5s 54ms/step - loss: 0.3273 - accuracy: 0.9890 - f1_m: 0.9890 - precision_m: 0.9894 - recall_m: 0.9887 - val_loss: 0.3607 - val_accuracy: 0.9481 - val_f1_m: 0.9484 - val_precision_m: 0.9488 - val_recall_m: 0.9481\n",
      "Epoch 79/80\n",
      "100/100 [==============================] - 5s 55ms/step - loss: 0.3324 - accuracy: 0.9850 - f1_m: 0.9850 - precision_m: 0.9847 - recall_m: 0.9853 - val_loss: 0.3609 - val_accuracy: 0.9506 - val_f1_m: 0.9503 - val_precision_m: 0.9501 - val_recall_m: 0.9506\n",
      "Epoch 80/80\n",
      "100/100 [==============================] - 5s 55ms/step - loss: 0.3292 - accuracy: 0.9878 - f1_m: 0.9869 - precision_m: 0.9863 - recall_m: 0.9875 - val_loss: 0.3603 - val_accuracy: 0.9488 - val_f1_m: 0.9500 - val_precision_m: 0.9507 - val_recall_m: 0.9494\n"
     ]
    }
   ],
   "source": [
    "history = model.fit_generator(train, steps_per_epoch=100, \n",
    "                              epochs=80,  \n",
    "                              validation_data=val,   \n",
    "                              validation_steps=50,  \n",
    "                              verbose=1)"
   ]
  },
  {
   "cell_type": "code",
   "execution_count": 13,
   "id": "fe65c9f8",
   "metadata": {},
   "outputs": [
    {
     "data": {
      "image/png": "[encoded data removed]",
      "text/plain": [
       "<Figure size 432x288 with 1 Axes>"
      ]
     },
     "metadata": {
      "needs_background": "light"
     },
     "output_type": "display_data"
    }
   ],
   "source": [
    "# summarize history for accuracy\n",
    "import matplotlib.pyplot as plt\n",
    "plt.plot(history.history['accuracy'])\n",
    "plt.plot(history.history['val_accuracy'])\n",
    "plt.title('Accuracy')\n",
    "plt.ylabel('accuracy')\n",
    "plt.xlabel('epoch')\n",
    "plt.legend(['train', 'test'], loc='upper left')\n",
    "plt.show()"
   ]
  },
  {
   "cell_type": "code",
   "execution_count": 14,
   "id": "e00f2aae",
   "metadata": {},
   "outputs": [
    {
     "data": {
      "image/png": "[encoded data removed]",
      "text/plain": [
       "<Figure size 432x288 with 1 Axes>"
      ]
     },
     "metadata": {
      "needs_background": "light"
     },
     "output_type": "display_data"
    }
   ],
   "source": [
    "plt.plot(history.history['loss'])\n",
    "plt.plot(history.history['val_loss'])\n",
    "plt.title('Loss')\n",
    "plt.ylabel('loss')\n",
    "plt.xlabel('epoch')\n",
    "plt.legend(['train', 'test'], loc='upper left')\n",
    "plt.show()"
   ]
  },
  {
   "cell_type": "code",
   "execution_count": 15,
   "id": "42094384",
   "metadata": {},
   "outputs": [
    {
     "data": {
      "image/png": "[encoded data removed]",
      "text/plain": [
       "<Figure size 432x288 with 1 Axes>"
      ]
     },
     "metadata": {
      "needs_background": "light"
     },
     "output_type": "display_data"
    }
   ],
   "source": [
    "plt.plot(history.history['f1_m'])\n",
    "plt.plot(history.history['val_f1_m'])\n",
    "plt.title('F1 Score')\n",
    "plt.ylabel('f1_score')\n",
    "plt.xlabel('epoch')\n",
    "plt.legend(['train', 'test'], loc='upper left')\n",
    "plt.show()"
   ]
  },
  {
   "cell_type": "code",
   "execution_count": 16,
   "id": "c9161132",
   "metadata": {},
   "outputs": [
    {
     "data": {
      "image/png": "[encoded data removed]",
      "text/plain": [
       "<Figure size 432x288 with 1 Axes>"
      ]
     },
     "metadata": {
      "needs_background": "light"
     },
     "output_type": "display_data"
    }
   ],
   "source": [
    "plt.plot(history.history['recall_m'])\n",
    "plt.plot(history.history['val_recall_m'])\n",
    "plt.title('Recall')\n",
    "plt.ylabel('recall')\n",
    "plt.xlabel('epoch')\n",
    "plt.legend(['train', 'test'], loc='upper left')\n",
    "plt.show()"
   ]
  },
  {
   "cell_type": "code",
   "execution_count": 17,
   "id": "9abad4c2",
   "metadata": {},
   "outputs": [
    {
     "data": {
      "image/png": "[encoded data removed]",
      "text/plain": [
       "<Figure size 432x288 with 1 Axes>"
      ]
     },
     "metadata": {
      "needs_background": "light"
     },
     "output_type": "display_data"
    }
   ],
   "source": [
    "plt.plot(history.history['precision_m'])\n",
    "plt.plot(history.history['val_precision_m'])\n",
    "plt.title('Precision')\n",
    "plt.ylabel('precision')\n",
    "plt.xlabel('epoch')\n",
    "plt.legend(['train', 'test'], loc='upper left')\n",
    "plt.show()"
   ]
  },
  {
   "cell_type": "code",
   "execution_count": 23,
   "id": "dba592c2",
   "metadata": {
    "scrolled": true
   },
   "outputs": [
    {
     "name": "stdout",
     "output_type": "stream",
     "text": [
      "Utilizando el conjunto de datos de test para evaluar el modelo\n",
      "WARNING:tensorflow:sample_weight modes were coerced from\n",
      "  ...\n",
      "    to  \n",
      "  ['...']\n",
      "142/142 [==============================] - 5s 36ms/step - loss: 0.3556 - accuracy: 0.9563 - f1_m: 0.9560 - precision_m: 0.9570 - recall_m: 0.9552\n",
      "El modelo predice el  95.63395977020264 % de los datos\n"
     ]
    }
   ],
   "source": [
    "print('Utilizando el conjunto de datos de test para evaluar el modelo')\n",
    "test_eval = model.evaluate(test, verbose=1)\n",
    "print('El modelo predice el ', test_eval[1]*100,'% de los datos')"
   ]
  },
  {
   "cell_type": "code",
   "execution_count": 24,
   "id": "0a42ca30",
   "metadata": {},
   "outputs": [
    {
     "name": "stdout",
     "output_type": "stream",
     "text": [
      "Utilizando el conjunto de datos de test para evaluar el modelo\n",
      "Loss:  0.3556034195591027\n",
      "Accuracy:  0.9563396\n",
      "F1 Score:  0.9560493\n",
      "Precision:  0.95704836\n",
      "Recall:  0.95520127\n"
     ]
    }
   ],
   "source": [
    "print('Utilizando el conjunto de datos de test para evaluar el modelo')\n",
    "print('Loss: ',test_eval[0])\n",
    "print('Accuracy: ',test_eval[1])\n",
    "print('F1 Score: ',test_eval[2])\n",
    "print('Precision: ',test_eval[3])\n",
    "print('Recall: ',test_eval[4])"
   ]
  },
  {
   "cell_type": "code",
   "execution_count": 19,
   "id": "f4d9d0dc",
   "metadata": {},
   "outputs": [
    {
     "name": "stdout",
     "output_type": "stream",
     "text": [
      "Found 351 images belonging to 2 classes.\n"
     ]
    }
   ],
   "source": [
    "articulo_dir='D:/Documentos/Estudio/Maestría/Aprendizaje_Computacional/Implementacion/Deteccion_Articulo/dataset,solocovid,pneumonia'\n",
    "#Para el conjunto del artículo\n",
    "articulo_generator = train_datagen.flow_from_directory(\n",
    "    articulo_dir, # same directory as training data\n",
    "    target_size=(img_height, img_width),\n",
    "    batch_size=batch_size,\n",
    "    class_mode='categorical') # set as validation data\n",
    "articulo=articulo_generator"
   ]
  },
  {
   "cell_type": "code",
   "execution_count": 25,
   "id": "7622b8e6",
   "metadata": {
    "scrolled": true
   },
   "outputs": [
    {
     "name": "stdout",
     "output_type": "stream",
     "text": [
      "Utilizando el conjunto de datos del artículo para evaluar el modelo\n",
      "WARNING:tensorflow:sample_weight modes were coerced from\n",
      "  ...\n",
      "    to  \n",
      "  ['...']\n",
      "11/11 [==============================] - 4s 395ms/step - loss: 0.4748 - accuracy: 0.8348 - f1_m: 0.8312 - precision_m: 0.8276 - recall_m: 0.8350\n",
      "El modelo predice el  83.47578644752502 % de los datos\n"
     ]
    }
   ],
   "source": [
    "print('Utilizando el conjunto de datos del artículo para evaluar el modelo')\n",
    "test_eval = model.evaluate(articulo, verbose=1)\n",
    "print('El modelo predice el ', test_eval[1]*100,'% de los datos')"
   ]
  },
  {
   "cell_type": "code",
   "execution_count": 26,
   "id": "a88907dc",
   "metadata": {},
   "outputs": [
    {
     "name": "stdout",
     "output_type": "stream",
     "text": [
      "Utilizando el conjunto de datos del artículo para evaluar el modelo\n",
      "Loss:  0.47478841922499915\n",
      "Accuracy:  0.83475786\n",
      "F1 Score:  0.83118826\n",
      "Precision:  0.8276096\n",
      "Recall:  0.83495235\n"
     ]
    }
   ],
   "source": [
    "print('Utilizando el conjunto de datos del artículo para evaluar el modelo')\n",
    "print('Loss: ',test_eval[0])\n",
    "print('Accuracy: ',test_eval[1])\n",
    "print('F1 Score: ',test_eval[2])\n",
    "print('Precision: ',test_eval[3])\n",
    "print('Recall: ',test_eval[4])"
   ]
  },
  {
   "cell_type": "code",
   "execution_count": 27,
   "id": "3801de53",
   "metadata": {},
   "outputs": [],
   "source": [
    "# Guardar el Modelo\n",
    "model.save('modelMobilnetCovidysanos.h5')"
   ]
  },
  {
   "cell_type": "code",
   "execution_count": 28,
   "id": "bce91d9e",
   "metadata": {},
   "outputs": [
    {
     "name": "stdout",
     "output_type": "stream",
     "text": [
      "180 eponchs\n",
      "155\n"
     ]
    }
   ],
   "source": [
    "print('180 eponchs')\n",
    "pred=model.predict(articulo)\n",
    "#Aquí sólo hago con  un predict con el modelo y los datos del artículo\n",
    "import numpy as np\n",
    "suma=0\n",
    "for i in range (351):\n",
    "    if np.argmax(pred[i])==0:\n",
    "        suma=suma+1\n",
    "print(suma)"
   ]
  },
  {
   "cell_type": "code",
   "execution_count": null,
   "id": "7c8dabc8",
   "metadata": {},
   "outputs": [],
   "source": []
  }
 ],
 "metadata": {
  "kernelspec": {
   "display_name": "tfGPU",
   "language": "python",
   "name": "tfgpu"
  },
  "language_info": {
   "codemirror_mode": {
    "name": "ipython",
    "version": 3
   },
   "file_extension": ".py",
   "mimetype": "text/x-python",
   "name": "python",
   "nbconvert_exporter": "python",
   "pygments_lexer": "ipython3",
   "version": "3.7.13"
  }
 },
 "nbformat": 4,
 "nbformat_minor": 5
}
