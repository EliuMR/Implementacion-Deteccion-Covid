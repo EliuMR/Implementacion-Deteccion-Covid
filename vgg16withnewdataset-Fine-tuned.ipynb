{
 "cells": [
  {
   "cell_type": "code",
   "execution_count": 1,
   "id": "be2c24c3",
   "metadata": {
    "execution": {
     "iopub.execute_input": "2022-09-29T17:45:03.898233Z",
     "iopub.status.busy": "2022-09-29T17:45:03.897232Z",
     "iopub.status.idle": "2022-09-29T17:45:04.204758Z",
     "shell.execute_reply": "2022-09-29T17:45:04.203413Z",
     "shell.execute_reply.started": "2022-09-29T17:45:03.898127Z"
    }
   },
   "outputs": [],
   "source": [
    "import glob \n",
    "import numpy as np \n",
    "import os \n",
    "import shutil \n",
    "import tensorflow as tf\n",
    "from keras_preprocessing.image import ImageDataGenerator,  load_img, img_to_array, array_to_img \n",
    "np.random.seed(42) \n",
    "from sklearn.metrics import confusion_matrix, accuracy_score\n",
    "\n",
    "import matplotlib.pyplot as plt "
   ]
  },
  {
   "cell_type": "code",
   "execution_count": 2,
   "id": "fa3e2a27",
   "metadata": {
    "execution": {
     "iopub.execute_input": "2022-09-29T18:20:35.193493Z",
     "iopub.status.busy": "2022-09-29T18:20:35.193075Z",
     "iopub.status.idle": "2022-09-29T18:20:35.474701Z",
     "shell.execute_reply": "2022-09-29T18:20:35.473809Z",
     "shell.execute_reply.started": "2022-09-29T18:20:35.193462Z"
    }
   },
   "outputs": [],
   "source": [
    "filesTrainCOV= glob.glob('C:/Users/hecto/Downloads/MachineCrypto/Proyecto/CompleteDataset/Lung Segmentation Data/Lung Segmentation Data/Train/COVID-19/images/*')\n",
    "filesTrainNO=glob.glob('C:/Users/hecto/Downloads/MachineCrypto/Proyecto/CompleteDataset/Lung Segmentation Data/Lung Segmentation Data/Train/Non-COVID/images/*')\n",
    "filesTestCOV=glob.glob('C:/Users/hecto/Downloads/MachineCrypto/Proyecto/CompleteDataset/Lung Segmentation Data/Lung Segmentation Data/Test/COVID-19/images/*')\n",
    "filesTestNO=glob.glob('C:/Users/hecto/Downloads/MachineCrypto/Proyecto/CompleteDataset/Lung Segmentation Data/Lung Segmentation Data/Test/Non-COVID/images/*')\n",
    "filesValCOV=glob.glob('C:/Users/hecto/Downloads/MachineCrypto/Proyecto/CompleteDataset/Lung Segmentation Data/Lung Segmentation Data/Val/COVID-19/images/*')\n",
    "filesValNO=glob.glob('C:/Users/hecto/Downloads/MachineCrypto/Proyecto/CompleteDataset/Lung Segmentation Data/Lung Segmentation Data/Val/Non-COVID/images/*')"
   ]
  },
  {
   "cell_type": "code",
   "execution_count": 3,
   "id": "c5c11fcb",
   "metadata": {
    "execution": {
     "iopub.execute_input": "2022-09-29T18:22:12.611834Z",
     "iopub.status.busy": "2022-09-29T18:22:12.611294Z",
     "iopub.status.idle": "2022-09-29T18:22:12.629667Z",
     "shell.execute_reply": "2022-09-29T18:22:12.628203Z",
     "shell.execute_reply.started": "2022-09-29T18:22:12.611786Z"
    }
   },
   "outputs": [
    {
     "data": {
      "text/plain": [
       "(7658, 1903, 2395, 7208, 1802, 2253)"
      ]
     },
     "execution_count": 3,
     "metadata": {},
     "output_type": "execute_result"
    }
   ],
   "source": [
    "COVID_train = [fn for fn in filesTrainCOV if 'covid' in fn] \n",
    "HEALTHY_train = [fn for fn in filesTrainNO if 'COVID' in fn] \n",
    " \n",
    "COVID_val = [fn for fn in filesValCOV if 'covid' in fn] \n",
    "HEALTHY_val = [fn for fn in filesValNO if 'COVID' in fn] \n",
    "\n",
    "COVID_test = [fn for fn in filesTestCOV if 'covid' in fn] \n",
    "HEALTHY_test = [fn for fn in filesTestNO if 'COVID' in fn]  \n",
    "len(COVID_train), len(COVID_val), len(COVID_test) ,len(HEALTHY_train), len(HEALTHY_val), len(HEALTHY_test)\n"
   ]
  },
  {
   "cell_type": "code",
   "execution_count": 4,
   "id": "c30c9348",
   "metadata": {
    "execution": {
     "iopub.execute_input": "2022-09-29T18:28:55.738193Z",
     "iopub.status.busy": "2022-09-29T18:28:55.737667Z",
     "iopub.status.idle": "2022-09-29T18:29:52.825076Z",
     "shell.execute_reply": "2022-09-29T18:29:52.823747Z",
     "shell.execute_reply.started": "2022-09-29T18:28:55.738154Z"
    }
   },
   "outputs": [],
   "source": [
    "train_dir = 'C:/Users/hecto/Downloads/MachineCrypto/Proyecto/train' \n",
    "val_dir = 'C:/Users/hecto/Downloads/MachineCrypto/Proyecto/valid' \n",
    "test_dir = 'C:/Users/hecto/Downloads/MachineCrypto/Proyecto/test' \n",
    " \n",
    "    \n",
    "train_files = np.concatenate([COVID_train, HEALTHY_train]) \n",
    "validate_files = np.concatenate([COVID_val, HEALTHY_val]) \n",
    "test_files = np.concatenate([COVID_test, HEALTHY_test])\n",
    "os.mkdir(train_dir) if not os.path.isdir(train_dir) else None \n",
    "os.mkdir(val_dir) if not os.path.isdir(val_dir) else None \n",
    "os.mkdir(test_dir) if not os.path.isdir(test_dir) else None \n",
    " \n",
    "for fn in train_files: \n",
    "    shutil.copy(fn, train_dir) \n",
    "for fn in validate_files: \n",
    "    shutil.copy(fn, val_dir) \n",
    "for fn in test_files: \n",
    "    shutil.copy(fn, test_dir) \n",
    " "
   ]
  },
  {
   "cell_type": "code",
   "execution_count": 5,
   "id": "exceptional-direction",
   "metadata": {},
   "outputs": [
    {
     "data": {
      "text/plain": [
       "(4648,)"
      ]
     },
     "execution_count": 5,
     "metadata": {},
     "output_type": "execute_result"
    }
   ],
   "source": [
    "test_files.shape"
   ]
  },
  {
   "cell_type": "code",
   "execution_count": 6,
   "id": "65896afc",
   "metadata": {
    "execution": {
     "iopub.execute_input": "2022-09-29T18:30:07.152234Z",
     "iopub.status.busy": "2022-09-29T18:30:07.151733Z",
     "iopub.status.idle": "2022-09-29T18:30:20.936778Z",
     "shell.execute_reply": "2022-09-29T18:30:20.935142Z",
     "shell.execute_reply.started": "2022-09-29T18:30:07.152191Z"
    }
   },
   "outputs": [
    {
     "name": "stdout",
     "output_type": "stream",
     "text": [
      "Train dataset shape: (14866, 150, 150, 3) Validation dataset shape: (3705, 150, 150, 3)\n"
     ]
    }
   ],
   "source": [
    "IMG_DIM = (150, 150) \n",
    " \n",
    "train_files = glob.glob('C:/Users/hecto/Downloads/MachineCrypto/Proyecto/train/*') \n",
    "train_imgs = [img_to_array(load_img(img, target_size=IMG_DIM)) for img  \n",
    "              in train_files] \n",
    "train_imgs = np.array(train_imgs) \n",
    "train_labels = [fn.split('\\\\')[1].split('.')[0].strip() for fn in \n",
    "                train_files] \n",
    "\n",
    "validation_files = glob.glob('C:/Users/hecto/Downloads/MachineCrypto/Proyecto/valid/*') \n",
    "validation_imgs = [img_to_array(load_img(img, target_size=IMG_DIM)) for \n",
    "                   img in validation_files] \n",
    "validation_imgs = np.array(validation_imgs) \n",
    "validation_labels = [fn.split('\\\\')[1].split('.')[0].strip() for fn in \n",
    "                     validation_files] \n",
    " \n",
    "print('Train dataset shape:', train_imgs.shape,  \n",
    "      'Validation dataset shape:', validation_imgs.shape) "
   ]
  },
  {
   "cell_type": "code",
   "execution_count": 7,
   "id": "arranged-wilson",
   "metadata": {},
   "outputs": [],
   "source": [
    "train_labels=train_labels[:10000]\n",
    "validation_labels=validation_labels[:2000]"
   ]
  },
  {
   "cell_type": "code",
   "execution_count": 8,
   "id": "measured-doctor",
   "metadata": {},
   "outputs": [],
   "source": [
    "train_imgs=train_imgs[:10000]\n",
    "validation_imgs=validation_imgs[:2000]"
   ]
  },
  {
   "cell_type": "code",
   "execution_count": 9,
   "id": "d357614b",
   "metadata": {},
   "outputs": [
    {
     "name": "stdout",
     "output_type": "stream",
     "text": [
      "(150, 150, 3)\n"
     ]
    },
    {
     "data": {
      "image/png": "[encoded data removed]",
      "text/plain": [
       "<PIL.Image.Image image mode=RGB size=150x150>"
      ]
     },
     "execution_count": 9,
     "metadata": {},
     "output_type": "execute_result"
    }
   ],
   "source": [
    "train_imgs_scaled = train_imgs.astype('float32') \n",
    "validation_imgs_scaled = validation_imgs.astype('float32') \n",
    "train_imgs_scaled /= 255 \n",
    "validation_imgs_scaled /= 255 \n",
    " \n",
    "# visualize a sample image \n",
    "print(train_imgs[0].shape) \n",
    "array_to_img(train_imgs[0]) "
   ]
  },
  {
   "cell_type": "code",
   "execution_count": null,
   "id": "28e7d479",
   "metadata": {},
   "outputs": [],
   "source": []
  },
  {
   "cell_type": "code",
   "execution_count": 10,
   "id": "50a3c6e1",
   "metadata": {},
   "outputs": [],
   "source": [
    "for i in range(10000):\n",
    "    if train_labels[i].find(\"sano\")==-1:\n",
    "        train_labels[i]='covid'\n",
    "    else :\n",
    "        train_labels[i]='sano'\n",
    "for i in range(2000):\n",
    "    if validation_labels[i].find(\"sano\")==-1:\n",
    "        validation_labels[i]='covid'\n",
    "    else :\n",
    "        validation_labels[i]='sano'\n",
    "        "
   ]
  },
  {
   "cell_type": "code",
   "execution_count": 11,
   "id": "56d9edfc",
   "metadata": {},
   "outputs": [
    {
     "name": "stdout",
     "output_type": "stream",
     "text": [
      "['covid', 'covid', 'covid', 'covid', 'covid'] [0 0 0 0 0]\n"
     ]
    }
   ],
   "source": [
    "batch_size = 30 \n",
    "num_classes = 2 \n",
    "epochs = 30 \n",
    "input_shape = (150, 150, 3) \n",
    " \n",
    "# encode text category labels \n",
    "from sklearn.preprocessing import LabelEncoder \n",
    " \n",
    "le = LabelEncoder() \n",
    "le.fit(train_labels) \n",
    "train_labels_enc = le.transform(train_labels) \n",
    "validation_labels_enc = le.transform(validation_labels) \n",
    " \n",
    "print(train_labels[190:195], train_labels_enc[195:200]) "
   ]
  },
  {
   "cell_type": "code",
   "execution_count": 21,
   "id": "d0252156",
   "metadata": {},
   "outputs": [],
   "source": [
    "train_datagen = ImageDataGenerator(rescale=1./255) \n",
    " \n",
    "val_datagen = ImageDataGenerator(rescale=1./255) "
   ]
  },
  {
   "cell_type": "code",
   "execution_count": 22,
   "id": "celtic-andrews",
   "metadata": {},
   "outputs": [],
   "source": [
    "train_generator = train_datagen.flow(train_imgs, train_labels_enc,  \n",
    "                                     batch_size=30) \n",
    "val_generator = val_datagen.flow(validation_imgs, \n",
    "                                 validation_labels_enc, \n",
    "                                 batch_size=20) "
   ]
  },
  {
   "cell_type": "code",
   "execution_count": 13,
   "id": "58e9f93b",
   "metadata": {},
   "outputs": [
    {
     "name": "stdout",
     "output_type": "stream",
     "text": [
      "Model: \"model\"\n",
      "_________________________________________________________________\n",
      " Layer (type)                Output Shape              Param #   \n",
      "=================================================================\n",
      " input_1 (InputLayer)        [(None, 150, 150, 3)]     0         \n",
      "                                                                 \n",
      " block1_conv1 (Conv2D)       (None, 150, 150, 64)      1792      \n",
      "                                                                 \n",
      " block1_conv2 (Conv2D)       (None, 150, 150, 64)      36928     \n",
      "                                                                 \n",
      " block1_pool (MaxPooling2D)  (None, 75, 75, 64)        0         \n",
      "                                                                 \n",
      " block2_conv1 (Conv2D)       (None, 75, 75, 128)       73856     \n",
      "                                                                 \n",
      " block2_conv2 (Conv2D)       (None, 75, 75, 128)       147584    \n",
      "                                                                 \n",
      " block2_pool (MaxPooling2D)  (None, 37, 37, 128)       0         \n",
      "                                                                 \n",
      " block3_conv1 (Conv2D)       (None, 37, 37, 256)       295168    \n",
      "                                                                 \n",
      " block3_conv2 (Conv2D)       (None, 37, 37, 256)       590080    \n",
      "                                                                 \n",
      " block3_conv3 (Conv2D)       (None, 37, 37, 256)       590080    \n",
      "                                                                 \n",
      " block3_pool (MaxPooling2D)  (None, 18, 18, 256)       0         \n",
      "                                                                 \n",
      " block4_conv1 (Conv2D)       (None, 18, 18, 512)       1180160   \n",
      "                                                                 \n",
      " block4_conv2 (Conv2D)       (None, 18, 18, 512)       2359808   \n",
      "                                                                 \n",
      " block4_conv3 (Conv2D)       (None, 18, 18, 512)       2359808   \n",
      "                                                                 \n",
      " block4_pool (MaxPooling2D)  (None, 9, 9, 512)         0         \n",
      "                                                                 \n",
      " block5_conv1 (Conv2D)       (None, 9, 9, 512)         2359808   \n",
      "                                                                 \n",
      " block5_conv2 (Conv2D)       (None, 9, 9, 512)         2359808   \n",
      "                                                                 \n",
      " block5_conv3 (Conv2D)       (None, 9, 9, 512)         2359808   \n",
      "                                                                 \n",
      " block5_pool (MaxPooling2D)  (None, 4, 4, 512)         0         \n",
      "                                                                 \n",
      " flatten (Flatten)           (None, 8192)              0         \n",
      "                                                                 \n",
      "=================================================================\n",
      "Total params: 14,714,688\n",
      "Trainable params: 12,979,200\n",
      "Non-trainable params: 1,735,488\n",
      "_________________________________________________________________\n"
     ]
    }
   ],
   "source": [
    "from keras.applications import vgg16 \n",
    "from keras.models import Model \n",
    "import keras \n",
    " \n",
    "vgg = vgg16.VGG16(include_top=False, weights='imagenet',  \n",
    "                                     input_shape=input_shape) \n",
    "\n",
    "# we have removed the final part of the classifier pertaining to the VGG-16 model \n",
    "#since we will be building our own classifier and leveraging VGG as a feature extractor\n",
    "output = vgg.layers[-1].output \n",
    "output = keras.layers.Flatten()(output) \n",
    "vgg_model = Model(vgg.input, output) \n",
    "vgg_model.trainable = True \n",
    "set_trainable = False\n",
    " \n",
    "for layer in vgg_model.layers: \n",
    "    if layer.name in ['block5_conv1', 'block4_conv1']: \n",
    "        set_trainable = True \n",
    "    if set_trainable: \n",
    "        layer.trainable = True \n",
    "    else: \n",
    "        layer.trainable = False \n",
    "\n",
    "vgg_model.summary()"
   ]
  },
  {
   "cell_type": "code",
   "execution_count": 14,
   "id": "1a2f9fa1",
   "metadata": {},
   "outputs": [
    {
     "name": "stderr",
     "output_type": "stream",
     "text": [
      "C:\\Users\\hecto\\AppData\\Local\\Temp\\ipykernel_24108\\1885812186.py:3: FutureWarning: Passing a negative integer is deprecated in version 1.0 and will not be supported in future version. Instead, use None to not limit the column width.\n",
      "  pd.set_option('max_colwidth', -1)\n"
     ]
    },
    {
     "data": {
      "text/html": [
       "<div>\n",
       "<style scoped>\n",
       "    .dataframe tbody tr th:only-of-type {\n",
       "        vertical-align: middle;\n",
       "    }\n",
       "\n",
       "    .dataframe tbody tr th {\n",
       "        vertical-align: top;\n",
       "    }\n",
       "\n",
       "    .dataframe thead th {\n",
       "        text-align: right;\n",
       "    }\n",
       "</style>\n",
       "<table border=\"1\" class=\"dataframe\">\n",
       "  <thead>\n",
       "    <tr style=\"text-align: right;\">\n",
       "      <th></th>\n",
       "      <th>Layer Type</th>\n",
       "      <th>Layer Name</th>\n",
       "      <th>Layer Trainable</th>\n",
       "    </tr>\n",
       "  </thead>\n",
       "  <tbody>\n",
       "    <tr>\n",
       "      <th>0</th>\n",
       "      <td>&lt;keras.engine.input_layer.InputLayer object at 0x000001424112C700&gt;</td>\n",
       "      <td>input_1</td>\n",
       "      <td>False</td>\n",
       "    </tr>\n",
       "    <tr>\n",
       "      <th>1</th>\n",
       "      <td>&lt;keras.layers.convolutional.conv2d.Conv2D object at 0x00000141F374E9A0&gt;</td>\n",
       "      <td>block1_conv1</td>\n",
       "      <td>False</td>\n",
       "    </tr>\n",
       "    <tr>\n",
       "      <th>2</th>\n",
       "      <td>&lt;keras.layers.convolutional.conv2d.Conv2D object at 0x00000141F359C070&gt;</td>\n",
       "      <td>block1_conv2</td>\n",
       "      <td>False</td>\n",
       "    </tr>\n",
       "    <tr>\n",
       "      <th>3</th>\n",
       "      <td>&lt;keras.layers.pooling.max_pooling2d.MaxPooling2D object at 0x00000141F316EFA0&gt;</td>\n",
       "      <td>block1_pool</td>\n",
       "      <td>False</td>\n",
       "    </tr>\n",
       "    <tr>\n",
       "      <th>4</th>\n",
       "      <td>&lt;keras.layers.convolutional.conv2d.Conv2D object at 0x00000141F359C700&gt;</td>\n",
       "      <td>block2_conv1</td>\n",
       "      <td>False</td>\n",
       "    </tr>\n",
       "    <tr>\n",
       "      <th>5</th>\n",
       "      <td>&lt;keras.layers.convolutional.conv2d.Conv2D object at 0x00000141F3BA5700&gt;</td>\n",
       "      <td>block2_conv2</td>\n",
       "      <td>False</td>\n",
       "    </tr>\n",
       "    <tr>\n",
       "      <th>6</th>\n",
       "      <td>&lt;keras.layers.pooling.max_pooling2d.MaxPooling2D object at 0x00000141F3BA5C40&gt;</td>\n",
       "      <td>block2_pool</td>\n",
       "      <td>False</td>\n",
       "    </tr>\n",
       "    <tr>\n",
       "      <th>7</th>\n",
       "      <td>&lt;keras.layers.convolutional.conv2d.Conv2D object at 0x00000141F3BA5730&gt;</td>\n",
       "      <td>block3_conv1</td>\n",
       "      <td>False</td>\n",
       "    </tr>\n",
       "    <tr>\n",
       "      <th>8</th>\n",
       "      <td>&lt;keras.layers.convolutional.conv2d.Conv2D object at 0x00000141F3BB9070&gt;</td>\n",
       "      <td>block3_conv2</td>\n",
       "      <td>False</td>\n",
       "    </tr>\n",
       "    <tr>\n",
       "      <th>9</th>\n",
       "      <td>&lt;keras.layers.convolutional.conv2d.Conv2D object at 0x00000141F3BC8940&gt;</td>\n",
       "      <td>block3_conv3</td>\n",
       "      <td>False</td>\n",
       "    </tr>\n",
       "    <tr>\n",
       "      <th>10</th>\n",
       "      <td>&lt;keras.layers.pooling.max_pooling2d.MaxPooling2D object at 0x00000141F3BC8D00&gt;</td>\n",
       "      <td>block3_pool</td>\n",
       "      <td>False</td>\n",
       "    </tr>\n",
       "    <tr>\n",
       "      <th>11</th>\n",
       "      <td>&lt;keras.layers.convolutional.conv2d.Conv2D object at 0x00000141F3BB9670&gt;</td>\n",
       "      <td>block4_conv1</td>\n",
       "      <td>True</td>\n",
       "    </tr>\n",
       "    <tr>\n",
       "      <th>12</th>\n",
       "      <td>&lt;keras.layers.convolutional.conv2d.Conv2D object at 0x0000014387689550&gt;</td>\n",
       "      <td>block4_conv2</td>\n",
       "      <td>True</td>\n",
       "    </tr>\n",
       "    <tr>\n",
       "      <th>13</th>\n",
       "      <td>&lt;keras.layers.convolutional.conv2d.Conv2D object at 0x0000014387689DF0&gt;</td>\n",
       "      <td>block4_conv3</td>\n",
       "      <td>True</td>\n",
       "    </tr>\n",
       "    <tr>\n",
       "      <th>14</th>\n",
       "      <td>&lt;keras.layers.pooling.max_pooling2d.MaxPooling2D object at 0x00000141F3BA5430&gt;</td>\n",
       "      <td>block4_pool</td>\n",
       "      <td>True</td>\n",
       "    </tr>\n",
       "    <tr>\n",
       "      <th>15</th>\n",
       "      <td>&lt;keras.layers.convolutional.conv2d.Conv2D object at 0x0000014387689790&gt;</td>\n",
       "      <td>block5_conv1</td>\n",
       "      <td>True</td>\n",
       "    </tr>\n",
       "    <tr>\n",
       "      <th>16</th>\n",
       "      <td>&lt;keras.layers.convolutional.conv2d.Conv2D object at 0x00000143876951C0&gt;</td>\n",
       "      <td>block5_conv2</td>\n",
       "      <td>True</td>\n",
       "    </tr>\n",
       "    <tr>\n",
       "      <th>17</th>\n",
       "      <td>&lt;keras.layers.convolutional.conv2d.Conv2D object at 0x00000141F3BB9760&gt;</td>\n",
       "      <td>block5_conv3</td>\n",
       "      <td>True</td>\n",
       "    </tr>\n",
       "    <tr>\n",
       "      <th>18</th>\n",
       "      <td>&lt;keras.layers.pooling.max_pooling2d.MaxPooling2D object at 0x00000143876BFB50&gt;</td>\n",
       "      <td>block5_pool</td>\n",
       "      <td>True</td>\n",
       "    </tr>\n",
       "    <tr>\n",
       "      <th>19</th>\n",
       "      <td>&lt;keras.layers.reshaping.flatten.Flatten object at 0x000001423040E0D0&gt;</td>\n",
       "      <td>flatten</td>\n",
       "      <td>True</td>\n",
       "    </tr>\n",
       "  </tbody>\n",
       "</table>\n",
       "</div>"
      ],
      "text/plain": [
       "                                                                        Layer Type  \\\n",
       "0   <keras.engine.input_layer.InputLayer object at 0x000001424112C700>               \n",
       "1   <keras.layers.convolutional.conv2d.Conv2D object at 0x00000141F374E9A0>          \n",
       "2   <keras.layers.convolutional.conv2d.Conv2D object at 0x00000141F359C070>          \n",
       "3   <keras.layers.pooling.max_pooling2d.MaxPooling2D object at 0x00000141F316EFA0>   \n",
       "4   <keras.layers.convolutional.conv2d.Conv2D object at 0x00000141F359C700>          \n",
       "5   <keras.layers.convolutional.conv2d.Conv2D object at 0x00000141F3BA5700>          \n",
       "6   <keras.layers.pooling.max_pooling2d.MaxPooling2D object at 0x00000141F3BA5C40>   \n",
       "7   <keras.layers.convolutional.conv2d.Conv2D object at 0x00000141F3BA5730>          \n",
       "8   <keras.layers.convolutional.conv2d.Conv2D object at 0x00000141F3BB9070>          \n",
       "9   <keras.layers.convolutional.conv2d.Conv2D object at 0x00000141F3BC8940>          \n",
       "10  <keras.layers.pooling.max_pooling2d.MaxPooling2D object at 0x00000141F3BC8D00>   \n",
       "11  <keras.layers.convolutional.conv2d.Conv2D object at 0x00000141F3BB9670>          \n",
       "12  <keras.layers.convolutional.conv2d.Conv2D object at 0x0000014387689550>          \n",
       "13  <keras.layers.convolutional.conv2d.Conv2D object at 0x0000014387689DF0>          \n",
       "14  <keras.layers.pooling.max_pooling2d.MaxPooling2D object at 0x00000141F3BA5430>   \n",
       "15  <keras.layers.convolutional.conv2d.Conv2D object at 0x0000014387689790>          \n",
       "16  <keras.layers.convolutional.conv2d.Conv2D object at 0x00000143876951C0>          \n",
       "17  <keras.layers.convolutional.conv2d.Conv2D object at 0x00000141F3BB9760>          \n",
       "18  <keras.layers.pooling.max_pooling2d.MaxPooling2D object at 0x00000143876BFB50>   \n",
       "19  <keras.layers.reshaping.flatten.Flatten object at 0x000001423040E0D0>            \n",
       "\n",
       "      Layer Name  Layer Trainable  \n",
       "0   input_1       False            \n",
       "1   block1_conv1  False            \n",
       "2   block1_conv2  False            \n",
       "3   block1_pool   False            \n",
       "4   block2_conv1  False            \n",
       "5   block2_conv2  False            \n",
       "6   block2_pool   False            \n",
       "7   block3_conv1  False            \n",
       "8   block3_conv2  False            \n",
       "9   block3_conv3  False            \n",
       "10  block3_pool   False            \n",
       "11  block4_conv1  True             \n",
       "12  block4_conv2  True             \n",
       "13  block4_conv3  True             \n",
       "14  block4_pool   True             \n",
       "15  block5_conv1  True             \n",
       "16  block5_conv2  True             \n",
       "17  block5_conv3  True             \n",
       "18  block5_pool   True             \n",
       "19  flatten       True             "
      ]
     },
     "execution_count": 14,
     "metadata": {},
     "output_type": "execute_result"
    }
   ],
   "source": [
    "# To verify that the layers of the VGG-16 model are frozen, we can use the following code:\n",
    "import pandas as pd \n",
    "pd.set_option('max_colwidth', -1) \n",
    " \n",
    "layers = [(layer, layer.name, layer.trainable) for layer in \n",
    "           vgg_model.layers] \n",
    "pd.DataFrame(layers, columns=['Layer Type', 'Layer Name', 'Layer Trainable'])"
   ]
  },
  {
   "cell_type": "code",
   "execution_count": 16,
   "id": "confirmed-specialist",
   "metadata": {},
   "outputs": [
    {
     "name": "stderr",
     "output_type": "stream",
     "text": [
      "C:\\Users\\hecto\\miniconda3\\envs\\tfgpu\\lib\\site-packages\\keras\\optimizers\\optimizer_v2\\rmsprop.py:140: UserWarning: The `lr` argument is deprecated, use `learning_rate` instead.\n",
      "  super().__init__(name, **kwargs)\n"
     ]
    }
   ],
   "source": [
    "from keras.layers import Conv2D, MaxPooling2D, Flatten, Dense, Dropout, InputLayer \n",
    "from keras.models import Sequential \n",
    "from keras import optimizers \n",
    "\n",
    "# build model architecture \n",
    "model = Sequential() \n",
    "\n",
    "model.add(vgg_model) \n",
    "model.add(Dense(512, activation='relu', input_dim=input_shape)) \n",
    "model.add(Dropout(0.3)) \n",
    "model.add(Dense(512, activation='relu')) \n",
    "model.add(Dropout(0.3)) \n",
    "model.add(Dense(1, activation='sigmoid')) \n",
    "\n",
    "model.compile(loss='binary_crossentropy', \n",
    "              optimizer=optimizers.RMSprop('learning=rate'=1e-5), \n",
    "              metrics=['accuracy']) "
   ]
  },
  {
   "cell_type": "code",
   "execution_count": 23,
   "id": "musical-boost",
   "metadata": {},
   "outputs": [
    {
     "name": "stderr",
     "output_type": "stream",
     "text": [
      "C:\\Users\\hecto\\AppData\\Local\\Temp\\ipykernel_24108\\2419898490.py:1: UserWarning: `Model.fit_generator` is deprecated and will be removed in a future version. Please use `Model.fit`, which supports generators.\n",
      "  history = model.fit_generator(train_generator, steps_per_epoch=100,\n"
     ]
    },
    {
     "name": "stdout",
     "output_type": "stream",
     "text": [
      "Epoch 1/2\n",
      "100/100 [==============================] - 27s 191ms/step - loss: 0.4011 - accuracy: 0.8230 - val_loss: 0.1196 - val_accuracy: 0.9610\n",
      "Epoch 2/2\n",
      "100/100 [==============================] - 17s 170ms/step - loss: 0.1987 - accuracy: 0.9220 - val_loss: 0.1283 - val_accuracy: 0.9540\n"
     ]
    }
   ],
   "source": [
    "history = model.fit(train_generator, steps_per_epoch=100, \n",
    "                              epochs=2,  \n",
    "                              validation_data=val_generator,   \n",
    "                              validation_steps=50,  \n",
    "                              verbose=1)"
   ]
  },
  {
   "cell_type": "code",
   "execution_count": 27,
   "id": "offensive-shelf",
   "metadata": {},
   "outputs": [
    {
     "ename": "AttributeError",
     "evalue": "'History' object has no attribute 'predict'",
     "output_type": "error",
     "traceback": [
      "\u001b[1;31m---------------------------------------------------------------------------\u001b[0m",
      "\u001b[1;31mAttributeError\u001b[0m                            Traceback (most recent call last)",
      "Input \u001b[1;32mIn [27]\u001b[0m, in \u001b[0;36m<cell line: 1>\u001b[1;34m()\u001b[0m\n\u001b[1;32m----> 1\u001b[0m cm2 \u001b[38;5;241m=\u001b[39m confusion_matrix(validation_labels_enc, \u001b[43mhistory\u001b[49m\u001b[38;5;241;43m.\u001b[39;49m\u001b[43mpredict\u001b[49m())\n\u001b[0;32m      2\u001b[0m \u001b[38;5;28mprint\u001b[39m(cm2)\n\u001b[0;32m      3\u001b[0m accuracy_score(validation_labels_enc, history\u001b[38;5;241m.\u001b[39mpredict())\n",
      "\u001b[1;31mAttributeError\u001b[0m: 'History' object has no attribute 'predict'"
     ]
    }
   ],
   "source": [
    "cm2 = confusion_matrix(validation_labels_enc, history.predict())\n",
    "print(cm2)\n",
    "accuracy_score(validation_labels_enc, history.predict())"
   ]
  }
 ],
 "metadata": {
  "celltoolbar": "Raw Cell Format",
  "kernelspec": {
   "display_name": "tfgpu",
   "language": "python",
   "name": "tfgpu"
  },
  "language_info": {
   "codemirror_mode": {
    "name": "ipython",
    "version": 3
   },
   "file_extension": ".py",
   "mimetype": "text/x-python",
   "name": "python",
   "nbconvert_exporter": "python",
   "pygments_lexer": "ipython3",
   "version": "3.9.13"
  }
 },
 "nbformat": 4,
 "nbformat_minor": 5
}
