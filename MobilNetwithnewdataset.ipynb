{
 "cells": [
  {
   "cell_type": "code",
   "execution_count": 1,
   "id": "be2c24c3",
   "metadata": {
    "execution": {
     "iopub.execute_input": "2022-09-29T17:45:03.898233Z",
     "iopub.status.busy": "2022-09-29T17:45:03.897232Z",
     "iopub.status.idle": "2022-09-29T17:45:04.204758Z",
     "shell.execute_reply": "2022-09-29T17:45:04.203413Z",
     "shell.execute_reply.started": "2022-09-29T17:45:03.898127Z"
    }
   },
   "outputs": [],
   "source": [
    "import glob \n",
    "import numpy as np \n",
    "import os \n",
    "import shutil \n",
    "import tensorflow as tf\n",
    "from keras_preprocessing.image import ImageDataGenerator,  load_img, img_to_array, array_to_img \n",
    "np.random.seed(42) \n",
    "from sklearn.metrics import confusion_matrix, accuracy_score, precision_score,recall_score\n",
    "\n",
    "import matplotlib.pyplot as plt "
   ]
  },
  {
   "cell_type": "code",
   "execution_count": 2,
   "id": "metallic-method",
   "metadata": {},
   "outputs": [],
   "source": [
    "# from tensorflow.compat.v1 import ConfigProto\n",
    "# from tensorflow.compat.v1 import InteractiveSession\n",
    "# config = ConfigProto()\n",
    "# config.gpu_options.allow_growth = True\n",
    "# session = InteractiveSession(config=config)"
   ]
  },
  {
   "cell_type": "code",
   "execution_count": 3,
   "id": "protecting-assault",
   "metadata": {},
   "outputs": [],
   "source": [
    "IM_SHAPE=(150,150)"
   ]
  },
  {
   "cell_type": "code",
   "execution_count": 4,
   "id": "fa3e2a27",
   "metadata": {
    "execution": {
     "iopub.execute_input": "2022-09-29T18:20:35.193493Z",
     "iopub.status.busy": "2022-09-29T18:20:35.193075Z",
     "iopub.status.idle": "2022-09-29T18:20:35.474701Z",
     "shell.execute_reply": "2022-09-29T18:20:35.473809Z",
     "shell.execute_reply.started": "2022-09-29T18:20:35.193462Z"
    }
   },
   "outputs": [],
   "source": [
    "filesCOV= glob.glob('D:/dataset/ALL/COVID-19/*')\n",
    "filesNOCOV=glob.glob('D:/dataset/ALL/Normal/images/*')\n"
   ]
  },
  {
   "cell_type": "code",
   "execution_count": 5,
   "id": "c5c11fcb",
   "metadata": {
    "execution": {
     "iopub.execute_input": "2022-09-29T18:22:12.611834Z",
     "iopub.status.busy": "2022-09-29T18:22:12.611294Z",
     "iopub.status.idle": "2022-09-29T18:22:12.629667Z",
     "shell.execute_reply": "2022-09-29T18:22:12.628203Z",
     "shell.execute_reply.started": "2022-09-29T18:22:12.611786Z"
    }
   },
   "outputs": [
    {
     "data": {
      "text/plain": [
       "(11956, 10701)"
      ]
     },
     "execution_count": 5,
     "metadata": {},
     "output_type": "execute_result"
    }
   ],
   "source": [
    "COVID = [fn for fn in filesCOV if 'covid' in fn] \n",
    "HEALTHY = [fn for fn in filesNOCOV if 'sano' in fn] \n",
    "\n",
    "len(COVID), len(HEALTHY)\n"
   ]
  },
  {
   "cell_type": "code",
   "execution_count": 6,
   "id": "dependent-association",
   "metadata": {},
   "outputs": [
    {
     "name": "stdout",
     "output_type": "stream",
     "text": [
      "Cat datasets: (2500,) (1000,)\n",
      "Dog datasets: (2500,) (1000,)\n"
     ]
    }
   ],
   "source": [
    "COVID_train = np.random.choice(filesCOV, size=2500, replace=False) \n",
    "HEALTHY_train = np.random.choice(filesNOCOV, size=2500, replace=False) \n",
    "filesCOV = list(set(filesCOV) - set(COVID_train)) \n",
    "filesNOCOV = list(set(filesNOCOV) - set(HEALTHY_train)) \n",
    " \n",
    "COVID_val = np.random.choice(filesCOV, size=1000, replace=False) \n",
    "HEALTHY_val = np.random.choice(filesNOCOV, size=1000, replace=False) \n",
    "filesCOV = list(set(filesCOV) - set(COVID_val)) \n",
    "filesNOCOV = list(set(filesNOCOV) - set(HEALTHY_val)) \n",
    " \n",
    "#COVID_test = np.random.choice(filesCOV, size=1000, replace=False) \n",
    "#HEALTHY_test = np.random.choice(filesNOCOV, size=1000, replace=False) \n",
    " \n",
    "print('Cat datasets:', COVID_train.shape, COVID_val.shape) \n",
    "print('Dog datasets:', HEALTHY_train.shape, HEALTHY_val.shape) "
   ]
  },
  {
   "cell_type": "code",
   "execution_count": 7,
   "id": "c30c9348",
   "metadata": {
    "execution": {
     "iopub.execute_input": "2022-09-29T18:28:55.738193Z",
     "iopub.status.busy": "2022-09-29T18:28:55.737667Z",
     "iopub.status.idle": "2022-09-29T18:29:52.825076Z",
     "shell.execute_reply": "2022-09-29T18:29:52.823747Z",
     "shell.execute_reply.started": "2022-09-29T18:28:55.738154Z"
    }
   },
   "outputs": [],
   "source": [
    "train_dir = 'D:/dataset/DATAOG/train' \n",
    "val_dir = 'D:/dataset/DATAOG/valid'\n",
    "#test_dir = 'C:/Users/hecto/Downloads/MachineCrypto/Proyecto/test' \n",
    " \n",
    "    \n",
    "train_files = np.concatenate([COVID_train, HEALTHY_train]) \n",
    "validate_files = np.concatenate([COVID_val, HEALTHY_val]) \n",
    "#test_files = np.concatenate([COVID_test, HEALTHY_test])\n",
    "os.mkdir(train_dir) if not os.path.isdir(train_dir) else None \n",
    "os.mkdir(val_dir) if not os.path.isdir(val_dir) else None \n",
    "#os.mkdir(test_dir) if not os.path.isdir(test_dir) else None \n",
    " \n",
    "for fn in train_files: \n",
    "    shutil.copy(fn, train_dir) \n",
    "for fn in validate_files: \n",
    "    shutil.copy(fn, val_dir) \n",
    "#for fn in test_files: \n",
    "#    shutil.copy(fn, test_dir) \n",
    " "
   ]
  },
  {
   "cell_type": "code",
   "execution_count": 8,
   "id": "65896afc",
   "metadata": {
    "execution": {
     "iopub.execute_input": "2022-09-29T18:30:07.152234Z",
     "iopub.status.busy": "2022-09-29T18:30:07.151733Z",
     "iopub.status.idle": "2022-09-29T18:30:20.936778Z",
     "shell.execute_reply": "2022-09-29T18:30:20.935142Z",
     "shell.execute_reply.started": "2022-09-29T18:30:07.152191Z"
    }
   },
   "outputs": [
    {
     "name": "stdout",
     "output_type": "stream",
     "text": [
      "Train dataset shape: (5000, 150, 150, 3) Validation dataset shape: (2000, 150, 150, 3)\n"
     ]
    }
   ],
   "source": [
    "IMG_DIM = IM_SHAPE\n",
    " \n",
    "train_files = glob.glob('D:/dataset/DATAOG/train/*') \n",
    "train_imgs = [img_to_array(load_img(img, target_size=IMG_DIM)) for img  \n",
    "              in train_files] \n",
    "train_imgs = np.array(train_imgs) \n",
    "train_labels = [fn.split('\\\\')[1].split('.')[0].strip() for fn in \n",
    "                train_files] \n",
    "\n",
    "validation_files = glob.glob('D:/dataset/DATAOG/valid/*') \n",
    "validation_imgs = [img_to_array(load_img(img, target_size=IMG_DIM)) for \n",
    "                   img in validation_files] \n",
    "validation_imgs = np.array(validation_imgs) \n",
    "validation_labels = [fn.split('\\\\')[1].split('.')[0].strip() for fn in \n",
    "                     validation_files] \n",
    " \n",
    "print('Train dataset shape:', train_imgs.shape,  \n",
    "      'Validation dataset shape:', validation_imgs.shape) "
   ]
  },
  {
   "cell_type": "code",
   "execution_count": 9,
   "id": "d357614b",
   "metadata": {},
   "outputs": [
    {
     "name": "stdout",
     "output_type": "stream",
     "text": [
      "(150, 150, 3)\n"
     ]
    },
    {
     "data": {
      "image/png": "[encoded data removed]",
      "text/plain": [
       "<PIL.Image.Image image mode=RGB size=150x150>"
      ]
     },
     "execution_count": 9,
     "metadata": {},
     "output_type": "execute_result"
    }
   ],
   "source": [
    "train_imgs_scaled = train_imgs.astype('float32') \n",
    "validation_imgs_scaled = validation_imgs.astype('float32') \n",
    "train_imgs_scaled /= 255 \n",
    "validation_imgs_scaled /= 255 \n",
    " \n",
    "# visualize a sample image \n",
    "print(train_imgs[0].shape) \n",
    "array_to_img(train_imgs[0]) "
   ]
  },
  {
   "cell_type": "code",
   "execution_count": 12,
   "id": "50a3c6e1",
   "metadata": {},
   "outputs": [],
   "source": [
    "for i in range(5000):\n",
    "    if train_labels[i].find(\"sano\")==-1:\n",
    "        train_labels[i]='covid'\n",
    "    else :\n",
    "        train_labels[i]='sano'\n",
    "for i in range(2000):\n",
    "    if validation_labels[i].find(\"sano\")==-1:\n",
    "        validation_labels[i]='covid'\n",
    "    else :\n",
    "        validation_labels[i]='sano'\n",
    "        "
   ]
  },
  {
   "cell_type": "code",
   "execution_count": 13,
   "id": "56d9edfc",
   "metadata": {},
   "outputs": [
    {
     "name": "stdout",
     "output_type": "stream",
     "text": [
      "['covid', 'covid', 'covid', 'covid', 'covid'] [0 0 0 0 0]\n"
     ]
    }
   ],
   "source": [
    "batch_size = 8\n",
    "num_classes = 2 \n",
    "epochs = 30 \n",
    "input_shape = (IM_SHAPE[0],IM_SHAPE[1], 3) \n",
    " \n",
    "# encode text category labels \n",
    "from sklearn.preprocessing import LabelEncoder \n",
    " \n",
    "le = LabelEncoder() \n",
    "le.fit(train_labels) \n",
    "train_labels_enc = le.transform(train_labels) \n",
    "validation_labels_enc = le.transform(validation_labels) \n",
    " \n",
    "print(train_labels[190:195], train_labels_enc[195:200]) "
   ]
  },
  {
   "cell_type": "code",
   "execution_count": 14,
   "id": "valued-willow",
   "metadata": {},
   "outputs": [
    {
     "data": {
      "text/plain": [
       "(150, 150, 3)"
      ]
     },
     "execution_count": 14,
     "metadata": {},
     "output_type": "execute_result"
    }
   ],
   "source": [
    "input_shape"
   ]
  },
  {
   "cell_type": "code",
   "execution_count": 15,
   "id": "58e9f93b",
   "metadata": {},
   "outputs": [
    {
     "name": "stdout",
     "output_type": "stream",
     "text": [
      "WARNING:tensorflow:`input_shape` is undefined or non-square, or `rows` is not in [128, 160, 192, 224]. Weights for input shape (224, 224) will be loaded as the default.\n",
      "Model: \"model\"\n",
      "_________________________________________________________________\n",
      " Layer (type)                Output Shape              Param #   \n",
      "=================================================================\n",
      " input_1 (InputLayer)        [(None, 150, 150, 3)]     0         \n",
      "                                                                 \n",
      " conv1 (Conv2D)              (None, 75, 75, 32)        864       \n",
      "                                                                 \n",
      " conv1_bn (BatchNormalizatio  (None, 75, 75, 32)       128       \n",
      " n)                                                              \n",
      "                                                                 \n",
      " conv1_relu (ReLU)           (None, 75, 75, 32)        0         \n",
      "                                                                 \n",
      " conv_dw_1 (DepthwiseConv2D)  (None, 75, 75, 32)       288       \n",
      "                                                                 \n",
      " conv_dw_1_bn (BatchNormaliz  (None, 75, 75, 32)       128       \n",
      " ation)                                                          \n",
      "                                                                 \n",
      " conv_dw_1_relu (ReLU)       (None, 75, 75, 32)        0         \n",
      "                                                                 \n",
      " conv_pw_1 (Conv2D)          (None, 75, 75, 64)        2048      \n",
      "                                                                 \n",
      " conv_pw_1_bn (BatchNormaliz  (None, 75, 75, 64)       256       \n",
      " ation)                                                          \n",
      "                                                                 \n",
      " conv_pw_1_relu (ReLU)       (None, 75, 75, 64)        0         \n",
      "                                                                 \n",
      " conv_pad_2 (ZeroPadding2D)  (None, 76, 76, 64)        0         \n",
      "                                                                 \n",
      " conv_dw_2 (DepthwiseConv2D)  (None, 37, 37, 64)       576       \n",
      "                                                                 \n",
      " conv_dw_2_bn (BatchNormaliz  (None, 37, 37, 64)       256       \n",
      " ation)                                                          \n",
      "                                                                 \n",
      " conv_dw_2_relu (ReLU)       (None, 37, 37, 64)        0         \n",
      "                                                                 \n",
      " conv_pw_2 (Conv2D)          (None, 37, 37, 128)       8192      \n",
      "                                                                 \n",
      " conv_pw_2_bn (BatchNormaliz  (None, 37, 37, 128)      512       \n",
      " ation)                                                          \n",
      "                                                                 \n",
      " conv_pw_2_relu (ReLU)       (None, 37, 37, 128)       0         \n",
      "                                                                 \n",
      " conv_dw_3 (DepthwiseConv2D)  (None, 37, 37, 128)      1152      \n",
      "                                                                 \n",
      " conv_dw_3_bn (BatchNormaliz  (None, 37, 37, 128)      512       \n",
      " ation)                                                          \n",
      "                                                                 \n",
      " conv_dw_3_relu (ReLU)       (None, 37, 37, 128)       0         \n",
      "                                                                 \n",
      " conv_pw_3 (Conv2D)          (None, 37, 37, 128)       16384     \n",
      "                                                                 \n",
      " conv_pw_3_bn (BatchNormaliz  (None, 37, 37, 128)      512       \n",
      " ation)                                                          \n",
      "                                                                 \n",
      " conv_pw_3_relu (ReLU)       (None, 37, 37, 128)       0         \n",
      "                                                                 \n",
      " conv_pad_4 (ZeroPadding2D)  (None, 38, 38, 128)       0         \n",
      "                                                                 \n",
      " conv_dw_4 (DepthwiseConv2D)  (None, 18, 18, 128)      1152      \n",
      "                                                                 \n",
      " conv_dw_4_bn (BatchNormaliz  (None, 18, 18, 128)      512       \n",
      " ation)                                                          \n",
      "                                                                 \n",
      " conv_dw_4_relu (ReLU)       (None, 18, 18, 128)       0         \n",
      "                                                                 \n",
      " conv_pw_4 (Conv2D)          (None, 18, 18, 256)       32768     \n",
      "                                                                 \n",
      " conv_pw_4_bn (BatchNormaliz  (None, 18, 18, 256)      1024      \n",
      " ation)                                                          \n",
      "                                                                 \n",
      " conv_pw_4_relu (ReLU)       (None, 18, 18, 256)       0         \n",
      "                                                                 \n",
      " conv_dw_5 (DepthwiseConv2D)  (None, 18, 18, 256)      2304      \n",
      "                                                                 \n",
      " conv_dw_5_bn (BatchNormaliz  (None, 18, 18, 256)      1024      \n",
      " ation)                                                          \n",
      "                                                                 \n",
      " conv_dw_5_relu (ReLU)       (None, 18, 18, 256)       0         \n",
      "                                                                 \n",
      " conv_pw_5 (Conv2D)          (None, 18, 18, 256)       65536     \n",
      "                                                                 \n",
      " conv_pw_5_bn (BatchNormaliz  (None, 18, 18, 256)      1024      \n",
      " ation)                                                          \n",
      "                                                                 \n",
      " conv_pw_5_relu (ReLU)       (None, 18, 18, 256)       0         \n",
      "                                                                 \n",
      " conv_pad_6 (ZeroPadding2D)  (None, 19, 19, 256)       0         \n",
      "                                                                 \n",
      " conv_dw_6 (DepthwiseConv2D)  (None, 9, 9, 256)        2304      \n",
      "                                                                 \n",
      " conv_dw_6_bn (BatchNormaliz  (None, 9, 9, 256)        1024      \n",
      " ation)                                                          \n",
      "                                                                 \n",
      " conv_dw_6_relu (ReLU)       (None, 9, 9, 256)         0         \n",
      "                                                                 \n",
      " conv_pw_6 (Conv2D)          (None, 9, 9, 512)         131072    \n",
      "                                                                 \n",
      " conv_pw_6_bn (BatchNormaliz  (None, 9, 9, 512)        2048      \n",
      " ation)                                                          \n",
      "                                                                 \n",
      " conv_pw_6_relu (ReLU)       (None, 9, 9, 512)         0         \n",
      "                                                                 \n",
      " conv_dw_7 (DepthwiseConv2D)  (None, 9, 9, 512)        4608      \n",
      "                                                                 \n",
      " conv_dw_7_bn (BatchNormaliz  (None, 9, 9, 512)        2048      \n",
      " ation)                                                          \n",
      "                                                                 \n",
      " conv_dw_7_relu (ReLU)       (None, 9, 9, 512)         0         \n",
      "                                                                 \n",
      " conv_pw_7 (Conv2D)          (None, 9, 9, 512)         262144    \n",
      "                                                                 \n",
      " conv_pw_7_bn (BatchNormaliz  (None, 9, 9, 512)        2048      \n",
      " ation)                                                          \n",
      "                                                                 \n",
      " conv_pw_7_relu (ReLU)       (None, 9, 9, 512)         0         \n",
      "                                                                 \n",
      " conv_dw_8 (DepthwiseConv2D)  (None, 9, 9, 512)        4608      \n",
      "                                                                 \n",
      " conv_dw_8_bn (BatchNormaliz  (None, 9, 9, 512)        2048      \n",
      " ation)                                                          \n",
      "                                                                 \n",
      " conv_dw_8_relu (ReLU)       (None, 9, 9, 512)         0         \n"
     ]
    },
    {
     "name": "stdout",
     "output_type": "stream",
     "text": [
      "                                                                 \n",
      " conv_pw_8 (Conv2D)          (None, 9, 9, 512)         262144    \n",
      "                                                                 \n",
      " conv_pw_8_bn (BatchNormaliz  (None, 9, 9, 512)        2048      \n",
      " ation)                                                          \n",
      "                                                                 \n",
      " conv_pw_8_relu (ReLU)       (None, 9, 9, 512)         0         \n",
      "                                                                 \n",
      " conv_dw_9 (DepthwiseConv2D)  (None, 9, 9, 512)        4608      \n",
      "                                                                 \n",
      " conv_dw_9_bn (BatchNormaliz  (None, 9, 9, 512)        2048      \n",
      " ation)                                                          \n",
      "                                                                 \n",
      " conv_dw_9_relu (ReLU)       (None, 9, 9, 512)         0         \n",
      "                                                                 \n",
      " conv_pw_9 (Conv2D)          (None, 9, 9, 512)         262144    \n",
      "                                                                 \n",
      " conv_pw_9_bn (BatchNormaliz  (None, 9, 9, 512)        2048      \n",
      " ation)                                                          \n",
      "                                                                 \n",
      " conv_pw_9_relu (ReLU)       (None, 9, 9, 512)         0         \n",
      "                                                                 \n",
      " conv_dw_10 (DepthwiseConv2D  (None, 9, 9, 512)        4608      \n",
      " )                                                               \n",
      "                                                                 \n",
      " conv_dw_10_bn (BatchNormali  (None, 9, 9, 512)        2048      \n",
      " zation)                                                         \n",
      "                                                                 \n",
      " conv_dw_10_relu (ReLU)      (None, 9, 9, 512)         0         \n",
      "                                                                 \n",
      " conv_pw_10 (Conv2D)         (None, 9, 9, 512)         262144    \n",
      "                                                                 \n",
      " conv_pw_10_bn (BatchNormali  (None, 9, 9, 512)        2048      \n",
      " zation)                                                         \n",
      "                                                                 \n",
      " conv_pw_10_relu (ReLU)      (None, 9, 9, 512)         0         \n",
      "                                                                 \n",
      " conv_dw_11 (DepthwiseConv2D  (None, 9, 9, 512)        4608      \n",
      " )                                                               \n",
      "                                                                 \n",
      " conv_dw_11_bn (BatchNormali  (None, 9, 9, 512)        2048      \n",
      " zation)                                                         \n",
      "                                                                 \n",
      " conv_dw_11_relu (ReLU)      (None, 9, 9, 512)         0         \n",
      "                                                                 \n",
      " conv_pw_11 (Conv2D)         (None, 9, 9, 512)         262144    \n",
      "                                                                 \n",
      " conv_pw_11_bn (BatchNormali  (None, 9, 9, 512)        2048      \n",
      " zation)                                                         \n",
      "                                                                 \n",
      " conv_pw_11_relu (ReLU)      (None, 9, 9, 512)         0         \n",
      "                                                                 \n",
      " conv_pad_12 (ZeroPadding2D)  (None, 10, 10, 512)      0         \n",
      "                                                                 \n",
      " conv_dw_12 (DepthwiseConv2D  (None, 4, 4, 512)        4608      \n",
      " )                                                               \n",
      "                                                                 \n",
      " conv_dw_12_bn (BatchNormali  (None, 4, 4, 512)        2048      \n",
      " zation)                                                         \n",
      "                                                                 \n",
      " conv_dw_12_relu (ReLU)      (None, 4, 4, 512)         0         \n",
      "                                                                 \n",
      " conv_pw_12 (Conv2D)         (None, 4, 4, 1024)        524288    \n",
      "                                                                 \n",
      " conv_pw_12_bn (BatchNormali  (None, 4, 4, 1024)       4096      \n",
      " zation)                                                         \n",
      "                                                                 \n",
      " conv_pw_12_relu (ReLU)      (None, 4, 4, 1024)        0         \n",
      "                                                                 \n",
      " conv_dw_13 (DepthwiseConv2D  (None, 4, 4, 1024)       9216      \n",
      " )                                                               \n",
      "                                                                 \n",
      " conv_dw_13_bn (BatchNormali  (None, 4, 4, 1024)       4096      \n",
      " zation)                                                         \n",
      "                                                                 \n",
      " conv_dw_13_relu (ReLU)      (None, 4, 4, 1024)        0         \n",
      "                                                                 \n",
      " conv_pw_13 (Conv2D)         (None, 4, 4, 1024)        1048576   \n",
      "                                                                 \n",
      " conv_pw_13_bn (BatchNormali  (None, 4, 4, 1024)       4096      \n",
      " zation)                                                         \n",
      "                                                                 \n",
      " conv_pw_13_relu (ReLU)      (None, 4, 4, 1024)        0         \n",
      "                                                                 \n",
      " flatten (Flatten)           (None, 16384)             0         \n",
      "                                                                 \n",
      "=================================================================\n",
      "Total params: 3,228,864\n",
      "Trainable params: 0\n",
      "Non-trainable params: 3,228,864\n",
      "_________________________________________________________________\n"
     ]
    }
   ],
   "source": [
    "from keras.applications import MobileNet\n",
    "from keras.models import Model \n",
    "import keras \n",
    "resnet=MobileNet(include_top=False,weights='imagenet',  \n",
    "                                     input_shape=input_shape)\n",
    "\n",
    "# we have removed the final part of the classifier pertaining to the VGG-16 model \n",
    "#since we will be building our own classifier and leveraging VGG as a feature extractor\n",
    "output = resnet.layers[-1].output \n",
    "output = keras.layers.Flatten()(output) \n",
    "resnet_model = Model(resnet.input, output) \n",
    "resnet_model.trainable = False \n",
    " \n",
    "for layer in resnet_model.layers: \n",
    "    layer.trainable = False \n",
    "\n",
    "resnet_model.summary()"
   ]
  },
  {
   "cell_type": "code",
   "execution_count": 16,
   "id": "1a2f9fa1",
   "metadata": {},
   "outputs": [
    {
     "name": "stderr",
     "output_type": "stream",
     "text": [
      "C:\\Users\\hecto\\AppData\\Local\\Temp\\ipykernel_11476\\3903062396.py:3: FutureWarning: Passing a negative integer is deprecated in version 1.0 and will not be supported in future version. Instead, use None to not limit the column width.\n",
      "  pd.set_option('max_colwidth', -1)\n"
     ]
    },
    {
     "data": {
      "text/html": [
       "<div>\n",
       "<style scoped>\n",
       "    .dataframe tbody tr th:only-of-type {\n",
       "        vertical-align: middle;\n",
       "    }\n",
       "\n",
       "    .dataframe tbody tr th {\n",
       "        vertical-align: top;\n",
       "    }\n",
       "\n",
       "    .dataframe thead th {\n",
       "        text-align: right;\n",
       "    }\n",
       "</style>\n",
       "<table border=\"1\" class=\"dataframe\">\n",
       "  <thead>\n",
       "    <tr style=\"text-align: right;\">\n",
       "      <th></th>\n",
       "      <th>Layer Type</th>\n",
       "      <th>Layer Name</th>\n",
       "      <th>Layer Trainable</th>\n",
       "    </tr>\n",
       "  </thead>\n",
       "  <tbody>\n",
       "    <tr>\n",
       "      <th>0</th>\n",
       "      <td>&lt;keras.engine.input_layer.InputLayer object at 0x000002C026FECA90&gt;</td>\n",
       "      <td>input_1</td>\n",
       "      <td>False</td>\n",
       "    </tr>\n",
       "    <tr>\n",
       "      <th>1</th>\n",
       "      <td>&lt;keras.layers.convolutional.conv2d.Conv2D object at 0x000002C0486E7A90&gt;</td>\n",
       "      <td>conv1</td>\n",
       "      <td>False</td>\n",
       "    </tr>\n",
       "    <tr>\n",
       "      <th>2</th>\n",
       "      <td>&lt;keras.layers.normalization.batch_normalization.BatchNormalization object at 0x000002C1615609D0&gt;</td>\n",
       "      <td>conv1_bn</td>\n",
       "      <td>False</td>\n",
       "    </tr>\n",
       "    <tr>\n",
       "      <th>3</th>\n",
       "      <td>&lt;keras.layers.activation.relu.ReLU object at 0x000002C1617BA8E0&gt;</td>\n",
       "      <td>conv1_relu</td>\n",
       "      <td>False</td>\n",
       "    </tr>\n",
       "    <tr>\n",
       "      <th>4</th>\n",
       "      <td>&lt;keras.layers.convolutional.depthwise_conv2d.DepthwiseConv2D object at 0x000002C161793460&gt;</td>\n",
       "      <td>conv_dw_1</td>\n",
       "      <td>False</td>\n",
       "    </tr>\n",
       "    <tr>\n",
       "      <th>...</th>\n",
       "      <td>...</td>\n",
       "      <td>...</td>\n",
       "      <td>...</td>\n",
       "    </tr>\n",
       "    <tr>\n",
       "      <th>82</th>\n",
       "      <td>&lt;keras.layers.activation.relu.ReLU object at 0x000002C16823C340&gt;</td>\n",
       "      <td>conv_dw_13_relu</td>\n",
       "      <td>False</td>\n",
       "    </tr>\n",
       "    <tr>\n",
       "      <th>83</th>\n",
       "      <td>&lt;keras.layers.convolutional.conv2d.Conv2D object at 0x000002C16823CCD0&gt;</td>\n",
       "      <td>conv_pw_13</td>\n",
       "      <td>False</td>\n",
       "    </tr>\n",
       "    <tr>\n",
       "      <th>84</th>\n",
       "      <td>&lt;keras.layers.normalization.batch_normalization.BatchNormalization object at 0x000002C16823C6D0&gt;</td>\n",
       "      <td>conv_pw_13_bn</td>\n",
       "      <td>False</td>\n",
       "    </tr>\n",
       "    <tr>\n",
       "      <th>85</th>\n",
       "      <td>&lt;keras.layers.activation.relu.ReLU object at 0x000002C1682480A0&gt;</td>\n",
       "      <td>conv_pw_13_relu</td>\n",
       "      <td>False</td>\n",
       "    </tr>\n",
       "    <tr>\n",
       "      <th>86</th>\n",
       "      <td>&lt;keras.layers.reshaping.flatten.Flatten object at 0x000002C16823C0D0&gt;</td>\n",
       "      <td>flatten</td>\n",
       "      <td>False</td>\n",
       "    </tr>\n",
       "  </tbody>\n",
       "</table>\n",
       "<p>87 rows × 3 columns</p>\n",
       "</div>"
      ],
      "text/plain": [
       "                                                                                          Layer Type  \\\n",
       "0   <keras.engine.input_layer.InputLayer object at 0x000002C026FECA90>                                 \n",
       "1   <keras.layers.convolutional.conv2d.Conv2D object at 0x000002C0486E7A90>                            \n",
       "2   <keras.layers.normalization.batch_normalization.BatchNormalization object at 0x000002C1615609D0>   \n",
       "3   <keras.layers.activation.relu.ReLU object at 0x000002C1617BA8E0>                                   \n",
       "4   <keras.layers.convolutional.depthwise_conv2d.DepthwiseConv2D object at 0x000002C161793460>         \n",
       "..                                                                                         ...         \n",
       "82  <keras.layers.activation.relu.ReLU object at 0x000002C16823C340>                                   \n",
       "83  <keras.layers.convolutional.conv2d.Conv2D object at 0x000002C16823CCD0>                            \n",
       "84  <keras.layers.normalization.batch_normalization.BatchNormalization object at 0x000002C16823C6D0>   \n",
       "85  <keras.layers.activation.relu.ReLU object at 0x000002C1682480A0>                                   \n",
       "86  <keras.layers.reshaping.flatten.Flatten object at 0x000002C16823C0D0>                              \n",
       "\n",
       "         Layer Name  Layer Trainable  \n",
       "0   input_1          False            \n",
       "1   conv1            False            \n",
       "2   conv1_bn         False            \n",
       "3   conv1_relu       False            \n",
       "4   conv_dw_1        False            \n",
       "..        ...          ...            \n",
       "82  conv_dw_13_relu  False            \n",
       "83  conv_pw_13       False            \n",
       "84  conv_pw_13_bn    False            \n",
       "85  conv_pw_13_relu  False            \n",
       "86  flatten          False            \n",
       "\n",
       "[87 rows x 3 columns]"
      ]
     },
     "execution_count": 16,
     "metadata": {},
     "output_type": "execute_result"
    }
   ],
   "source": [
    "# To verify that the layers of the VGG-16 model are frozen, we can use the following code:\n",
    "import pandas as pd \n",
    "pd.set_option('max_colwidth', -1) \n",
    " \n",
    "layers = [(layer, layer.name, layer.trainable) for layer in \n",
    "           resnet_model.layers] \n",
    "pd.DataFrame(layers, columns=['Layer Type', 'Layer Name', 'Layer Trainable'])"
   ]
  },
  {
   "cell_type": "code",
   "execution_count": 17,
   "id": "9ec01779",
   "metadata": {},
   "outputs": [
    {
     "name": "stdout",
     "output_type": "stream",
     "text": [
      "Trainable layers: []\n"
     ]
    }
   ],
   "source": [
    "print(\"Trainable layers:\", resnet_model.trainable_weights)\n"
   ]
  },
  {
   "cell_type": "code",
   "execution_count": 18,
   "id": "4ba23168",
   "metadata": {},
   "outputs": [
    {
     "name": "stdout",
     "output_type": "stream",
     "text": [
      "1/1 [==============================] - 3s 3s/step\n",
      "(1, 4, 4, 1024)\n"
     ]
    },
    {
     "data": {
      "text/plain": [
       "<matplotlib.image.AxesImage at 0x2c168ae59d0>"
      ]
     },
     "execution_count": 18,
     "metadata": {},
     "output_type": "execute_result"
    },
    {
     "data": {
      "image/png": "[encoded data removed]",
      "text/plain": [
       "<Figure size 432x288 with 1 Axes>"
      ]
     },
     "metadata": {
      "needs_background": "light"
     },
     "output_type": "display_data"
    }
   ],
   "source": [
    "bottleneck_feature_example = resnet.predict(train_imgs_scaled[0:1])\n",
    "print(bottleneck_feature_example.shape) \n",
    "plt.imshow(bottleneck_feature_example[0][:,:,0]) "
   ]
  },
  {
   "cell_type": "code",
   "execution_count": 25,
   "id": "70f18599",
   "metadata": {
    "scrolled": true
   },
   "outputs": [
    {
     "name": "stdout",
     "output_type": "stream",
     "text": [
      "157/157 [==============================] - 3s 21ms/step\n",
      "63/63 [==============================] - 1s 21ms/step\n",
      "Train Bottleneck Features: (5000, 16384) \tValidation Bottleneck Features: (2000, 16384)\n"
     ]
    }
   ],
   "source": [
    "def get_bottleneck_features(model, input_imgs): \n",
    "    features = model.predict(input_imgs, verbose=1, batch_size=32) \n",
    "    return features \n",
    "\n",
    "train_features_resnet = get_bottleneck_features(resnet_model, \n",
    "                                             train_imgs_scaled) \n",
    "validation_features_resnet= get_bottleneck_features(resnet_model,      \n",
    "                                                validation_imgs_scaled) \n",
    "\n",
    "print('Train Bottleneck Features:', train_features_resnet.shape, \n",
    "      '\\tValidation Bottleneck Features:', validation_features_resnet.shape) "
   ]
  },
  {
   "cell_type": "code",
   "execution_count": 26,
   "id": "661e6b5c",
   "metadata": {},
   "outputs": [],
   "source": [
    "from sklearn.ensemble import BaggingClassifier\n",
    "from sklearn.tree import DecisionTreeClassifier\n",
    "from sklearn.model_selection import cross_val_score\n",
    "from sklearn.model_selection import cross_validate\n",
    "from sklearn.model_selection import cross_val_predict\n",
    "from sklearn.metrics import f1_score,confusion_matrix\n",
    "from sklearn.ensemble import RandomForestClassifier\n",
    "from xgboost import XGBClassifier\n",
    "from sklearn.ensemble import AdaBoostClassifier\n",
    "from lightgbm import LGBMClassifier"
   ]
  },
  {
   "cell_type": "code",
   "execution_count": 27,
   "id": "d86ea80f",
   "metadata": {},
   "outputs": [],
   "source": [
    "X_train=train_features_resnet\n",
    "y_train=train_labels_enc\n",
    "X_valid=validation_features_resnet\n",
    "y_valid=validation_labels_enc\n"
   ]
  },
  {
   "cell_type": "code",
   "execution_count": 28,
   "id": "progressive-drive",
   "metadata": {},
   "outputs": [],
   "source": [
    "Acc=[]\n",
    "Rec=[]\n",
    "Pre=[]\n",
    "F1=[]"
   ]
  },
  {
   "cell_type": "code",
   "execution_count": 29,
   "id": "regulated-authentication",
   "metadata": {},
   "outputs": [
    {
     "name": "stdout",
     "output_type": "stream",
     "text": [
      "[LightGBM] [Warning] boosting is set=dart, boosting_type=gbdt will be ignored. Current value: boosting=dart\n"
     ]
    },
    {
     "data": {
      "text/html": [
       "<style>#sk-container-id-1 {color: black;background-color: white;}#sk-container-id-1 pre{padding: 0;}#sk-container-id-1 div.sk-toggleable {background-color: white;}#sk-container-id-1 label.sk-toggleable__label {cursor: pointer;display: block;width: 100%;margin-bottom: 0;padding: 0.3em;box-sizing: border-box;text-align: center;}#sk-container-id-1 label.sk-toggleable__label-arrow:before {content: \"▸\";float: left;margin-right: 0.25em;color: #696969;}#sk-container-id-1 label.sk-toggleable__label-arrow:hover:before {color: black;}#sk-container-id-1 div.sk-estimator:hover label.sk-toggleable__label-arrow:before {color: black;}#sk-container-id-1 div.sk-toggleable__content {max-height: 0;max-width: 0;overflow: hidden;text-align: left;background-color: #f0f8ff;}#sk-container-id-1 div.sk-toggleable__content pre {margin: 0.2em;color: black;border-radius: 0.25em;background-color: #f0f8ff;}#sk-container-id-1 input.sk-toggleable__control:checked~div.sk-toggleable__content {max-height: 200px;max-width: 100%;overflow: auto;}#sk-container-id-1 input.sk-toggleable__control:checked~label.sk-toggleable__label-arrow:before {content: \"▾\";}#sk-container-id-1 div.sk-estimator input.sk-toggleable__control:checked~label.sk-toggleable__label {background-color: #d4ebff;}#sk-container-id-1 div.sk-label input.sk-toggleable__control:checked~label.sk-toggleable__label {background-color: #d4ebff;}#sk-container-id-1 input.sk-hidden--visually {border: 0;clip: rect(1px 1px 1px 1px);clip: rect(1px, 1px, 1px, 1px);height: 1px;margin: -1px;overflow: hidden;padding: 0;position: absolute;width: 1px;}#sk-container-id-1 div.sk-estimator {font-family: monospace;background-color: #f0f8ff;border: 1px dotted black;border-radius: 0.25em;box-sizing: border-box;margin-bottom: 0.5em;}#sk-container-id-1 div.sk-estimator:hover {background-color: #d4ebff;}#sk-container-id-1 div.sk-parallel-item::after {content: \"\";width: 100%;border-bottom: 1px solid gray;flex-grow: 1;}#sk-container-id-1 div.sk-label:hover label.sk-toggleable__label {background-color: #d4ebff;}#sk-container-id-1 div.sk-serial::before {content: \"\";position: absolute;border-left: 1px solid gray;box-sizing: border-box;top: 0;bottom: 0;left: 50%;z-index: 0;}#sk-container-id-1 div.sk-serial {display: flex;flex-direction: column;align-items: center;background-color: white;padding-right: 0.2em;padding-left: 0.2em;position: relative;}#sk-container-id-1 div.sk-item {position: relative;z-index: 1;}#sk-container-id-1 div.sk-parallel {display: flex;align-items: stretch;justify-content: center;background-color: white;position: relative;}#sk-container-id-1 div.sk-item::before, #sk-container-id-1 div.sk-parallel-item::before {content: \"\";position: absolute;border-left: 1px solid gray;box-sizing: border-box;top: 0;bottom: 0;left: 50%;z-index: -1;}#sk-container-id-1 div.sk-parallel-item {display: flex;flex-direction: column;z-index: 1;position: relative;background-color: white;}#sk-container-id-1 div.sk-parallel-item:first-child::after {align-self: flex-end;width: 50%;}#sk-container-id-1 div.sk-parallel-item:last-child::after {align-self: flex-start;width: 50%;}#sk-container-id-1 div.sk-parallel-item:only-child::after {width: 0;}#sk-container-id-1 div.sk-dashed-wrapped {border: 1px dashed gray;margin: 0 0.4em 0.5em 0.4em;box-sizing: border-box;padding-bottom: 0.4em;background-color: white;}#sk-container-id-1 div.sk-label label {font-family: monospace;font-weight: bold;display: inline-block;line-height: 1.2em;}#sk-container-id-1 div.sk-label-container {text-align: center;}#sk-container-id-1 div.sk-container {/* jupyter's `normalize.less` sets `[hidden] { display: none; }` but bootstrap.min.css set `[hidden] { display: none !important; }` so we also need the `!important` here to be able to override the default hidden behavior on the sphinx rendered scikit-learn.org. See: https://github.com/scikit-learn/scikit-learn/issues/21755 */display: inline-block !important;position: relative;}#sk-container-id-1 div.sk-text-repr-fallback {display: none;}</style><div id=\"sk-container-id-1\" class=\"sk-top-container\"><div class=\"sk-text-repr-fallback\"><pre>DecisionTreeClassifier()</pre><b>In a Jupyter environment, please rerun this cell to show the HTML representation or trust the notebook. <br />On GitHub, the HTML representation is unable to render, please try loading this page with nbviewer.org.</b></div><div class=\"sk-container\" hidden><div class=\"sk-item\"><div class=\"sk-estimator sk-toggleable\"><input class=\"sk-toggleable__control sk-hidden--visually\" id=\"sk-estimator-id-1\" type=\"checkbox\" checked><label for=\"sk-estimator-id-1\" class=\"sk-toggleable__label sk-toggleable__label-arrow\">DecisionTreeClassifier</label><div class=\"sk-toggleable__content\"><pre>DecisionTreeClassifier()</pre></div></div></div></div></div>"
      ],
      "text/plain": [
       "DecisionTreeClassifier()"
      ]
     },
     "execution_count": 29,
     "metadata": {},
     "output_type": "execute_result"
    }
   ],
   "source": [
    "hist=BaggingClassifier(\n",
    "base_estimator=DecisionTreeClassifier(),\n",
    "n_estimators=5\n",
    ")\n",
    "hist.fit(X_train,y_train)\n",
    "\n",
    "\n",
    "hist1=RandomForestClassifier(n_estimators=5)\n",
    "hist1.fit(X_train,y_train)\n",
    "\n",
    "hist2=XGBClassifier()\n",
    "hist2.fit(X_train,y_train)\n",
    "\n",
    "hist3=LGBMClassifier(n_estimators=1000,class_weight='balanced',\n",
    "                                       reg_alpha=0.1,reg_lambda=0.1,\n",
    "                                       learning_rate=0.001,num_leaves=400,boosting='dart'\n",
    ")\n",
    "hist3.fit(X_train,y_train)\n",
    "\n",
    "\n",
    "hist4=AdaBoostClassifier(\n",
    "base_estimator=DecisionTreeClassifier(),\n",
    "n_estimators=300\n",
    ")\n",
    "hist4.fit(X_train,y_train)\n",
    "\n",
    "\n",
    "hist5=DecisionTreeClassifier()\n",
    "hist5.fit(X_train,y_train)\n",
    "\n"
   ]
  },
  {
   "cell_type": "code",
   "execution_count": 30,
   "id": "possible-senegal",
   "metadata": {},
   "outputs": [
    {
     "name": "stdout",
     "output_type": "stream",
     "text": [
      "[[832 168]\n",
      " [159 841]]\n",
      "Accuracy:  0.8365\n",
      "Recall:  0.841\n",
      "Precision:  0.8334985133795837\n",
      "F1-score:  0.8372324539571926\n"
     ]
    }
   ],
   "source": [
    "cm2 = confusion_matrix(y_valid,hist.predict(X_valid))\n",
    "print(cm2)\n",
    "acc=accuracy_score(y_valid, hist.predict(X_valid))\n",
    "print(\"Accuracy: \",(acc))\n",
    "recall=recall_score(y_valid, hist.predict(X_valid))\n",
    "print(\"Recall: \",(recall))\n",
    "prec=precision_score(y_valid,hist.predict(X_valid))\n",
    "print(\"Precision: \",(prec))\n",
    "f1=f1_score(y_valid,hist.predict(X_valid))\n",
    "Acc.append(acc)\n",
    "Rec.append(recall)\n",
    "Pre.append(prec)\n",
    "F1.append(f1)\n",
    "print(\"F1-score: \",(f1))"
   ]
  },
  {
   "cell_type": "code",
   "execution_count": 31,
   "id": "exceptional-lesson",
   "metadata": {},
   "outputs": [
    {
     "name": "stdout",
     "output_type": "stream",
     "text": [
      "[[822 178]\n",
      " [155 845]]\n",
      "Accuracy:  0.8335\n",
      "Recall:  0.845\n",
      "Precision:  0.8260019550342131\n",
      "F1-score:  0.8353929807217005\n"
     ]
    }
   ],
   "source": [
    "cm2 = confusion_matrix(y_valid,hist1.predict(X_valid))\n",
    "print(cm2)\n",
    "acc=accuracy_score(y_valid, hist1.predict(X_valid))\n",
    "print(\"Accuracy: \",(acc))\n",
    "recall=recall_score(y_valid, hist1.predict(X_valid))\n",
    "print(\"Recall: \",(recall))\n",
    "prec=precision_score(y_valid,hist1.predict(X_valid))\n",
    "print(\"Precision: \",(prec))\n",
    "f1=f1_score(y_valid,hist1.predict(X_valid))\n",
    "print(\"F1-score: \",(f1))\n",
    "Acc.append(acc)\n",
    "Rec.append(recall)\n",
    "Pre.append(prec)\n",
    "F1.append(f1)"
   ]
  },
  {
   "cell_type": "code",
   "execution_count": 32,
   "id": "finite-calcium",
   "metadata": {},
   "outputs": [
    {
     "name": "stdout",
     "output_type": "stream",
     "text": [
      "[[925  75]\n",
      " [ 88 912]]\n",
      "Accuracy:  0.9185\n",
      "Recall:  0.912\n",
      "Precision:  0.9240121580547113\n",
      "F1-score:  0.917966784096628\n"
     ]
    }
   ],
   "source": [
    "cm2 = confusion_matrix(y_valid,hist2.predict(X_valid))\n",
    "print(cm2)\n",
    "acc=accuracy_score(y_valid, hist2.predict(X_valid))\n",
    "print(\"Accuracy: \",(acc))\n",
    "recall=recall_score(y_valid, hist2.predict(X_valid))\n",
    "print(\"Recall: \",(recall))\n",
    "prec=precision_score(y_valid,hist2.predict(X_valid))\n",
    "print(\"Precision: \",(prec))\n",
    "f1=f1_score(y_valid,hist2.predict(X_valid))\n",
    "print(\"F1-score: \",(f1))\n",
    "Acc.append(acc)\n",
    "Rec.append(recall)\n",
    "Pre.append(prec)\n",
    "F1.append(f1)"
   ]
  },
  {
   "cell_type": "code",
   "execution_count": 33,
   "id": "beneficial-worry",
   "metadata": {},
   "outputs": [
    {
     "name": "stdout",
     "output_type": "stream",
     "text": [
      "[[853 147]\n",
      " [142 858]]\n",
      "Accuracy:  0.8555\n",
      "Recall:  0.858\n",
      "Precision:  0.8537313432835821\n",
      "F1-score:  0.855860349127182\n"
     ]
    }
   ],
   "source": [
    "cm2 = confusion_matrix(y_valid,hist3.predict(X_valid))\n",
    "print(cm2)\n",
    "acc=accuracy_score(y_valid, hist3.predict(X_valid))\n",
    "print(\"Accuracy: \",(acc))\n",
    "recall=recall_score(y_valid, hist3.predict(X_valid))\n",
    "print(\"Recall: \",(recall))\n",
    "prec=precision_score(y_valid,hist3.predict(X_valid))\n",
    "print(\"Precision: \",(prec))\n",
    "f1=f1_score(y_valid,hist3.predict(X_valid))\n",
    "print(\"F1-score: \",(f1))\n",
    "Acc.append(acc)\n",
    "Rec.append(recall)\n",
    "Pre.append(prec)\n",
    "F1.append(f1)"
   ]
  },
  {
   "cell_type": "code",
   "execution_count": 34,
   "id": "cosmetic-fellow",
   "metadata": {},
   "outputs": [
    {
     "name": "stdout",
     "output_type": "stream",
     "text": [
      "[[771 229]\n",
      " [210 790]]\n",
      "Accuracy:  0.7805\n",
      "Recall:  0.79\n",
      "Precision:  0.7752698724239451\n",
      "F1-score:  0.782565626547796\n"
     ]
    }
   ],
   "source": [
    "cm2 = confusion_matrix(y_valid,hist4.predict(X_valid))\n",
    "print(cm2)\n",
    "acc=accuracy_score(y_valid, hist4.predict(X_valid))\n",
    "print(\"Accuracy: \",(acc))\n",
    "recall=recall_score(y_valid, hist4.predict(X_valid))\n",
    "print(\"Recall: \",(recall))\n",
    "prec=precision_score(y_valid,hist4.predict(X_valid))\n",
    "print(\"Precision: \",(prec))\n",
    "f1=f1_score(y_valid,hist4.predict(X_valid))\n",
    "print(\"F1-score: \",(f1))\n",
    "Acc.append(acc)\n",
    "Rec.append(recall)\n",
    "Pre.append(prec)\n",
    "F1.append(f1)"
   ]
  },
  {
   "cell_type": "code",
   "execution_count": 35,
   "id": "subject-surprise",
   "metadata": {},
   "outputs": [
    {
     "name": "stdout",
     "output_type": "stream",
     "text": [
      "[[770 230]\n",
      " [221 779]]\n",
      "Accuracy:  0.7745\n",
      "Recall:  0.779\n",
      "Precision:  0.7720515361744301\n",
      "F1-score:  0.7755102040816326\n"
     ]
    }
   ],
   "source": [
    "cm2 = confusion_matrix(y_valid,hist5.predict(X_valid))\n",
    "print(cm2)\n",
    "acc=accuracy_score(y_valid, hist5.predict(X_valid))\n",
    "print(\"Accuracy: \",(acc))\n",
    "recall=recall_score(y_valid, hist5.predict(X_valid))\n",
    "print(\"Recall: \",(recall))\n",
    "prec=precision_score(y_valid,hist5.predict(X_valid))\n",
    "print(\"Precision: \",(prec))\n",
    "f1=f1_score(y_valid,hist5.predict(X_valid))\n",
    "print(\"F1-score: \",(f1))\n",
    "Acc.append(acc)\n",
    "Rec.append(recall)\n",
    "Pre.append(prec)\n",
    "F1.append(f1)"
   ]
  },
  {
   "cell_type": "code",
   "execution_count": 36,
   "id": "three-ethernet",
   "metadata": {},
   "outputs": [],
   "source": [
    "data=pd.DataFrame([Acc,Rec,Pre,F1])"
   ]
  },
  {
   "cell_type": "code",
   "execution_count": 37,
   "id": "external-neutral",
   "metadata": {
    "scrolled": true
   },
   "outputs": [
    {
     "data": {
      "text/html": [
       "<div>\n",
       "<style scoped>\n",
       "    .dataframe tbody tr th:only-of-type {\n",
       "        vertical-align: middle;\n",
       "    }\n",
       "\n",
       "    .dataframe tbody tr th {\n",
       "        vertical-align: top;\n",
       "    }\n",
       "\n",
       "    .dataframe thead th {\n",
       "        text-align: right;\n",
       "    }\n",
       "</style>\n",
       "<table border=\"1\" class=\"dataframe\">\n",
       "  <thead>\n",
       "    <tr style=\"text-align: right;\">\n",
       "      <th></th>\n",
       "      <th>0</th>\n",
       "      <th>1</th>\n",
       "      <th>2</th>\n",
       "      <th>3</th>\n",
       "      <th>4</th>\n",
       "      <th>5</th>\n",
       "    </tr>\n",
       "  </thead>\n",
       "  <tbody>\n",
       "    <tr>\n",
       "      <th>0</th>\n",
       "      <td>0.836500</td>\n",
       "      <td>0.833500</td>\n",
       "      <td>0.918500</td>\n",
       "      <td>0.855500</td>\n",
       "      <td>0.780500</td>\n",
       "      <td>0.774500</td>\n",
       "    </tr>\n",
       "    <tr>\n",
       "      <th>1</th>\n",
       "      <td>0.841000</td>\n",
       "      <td>0.845000</td>\n",
       "      <td>0.912000</td>\n",
       "      <td>0.858000</td>\n",
       "      <td>0.790000</td>\n",
       "      <td>0.779000</td>\n",
       "    </tr>\n",
       "    <tr>\n",
       "      <th>2</th>\n",
       "      <td>0.833499</td>\n",
       "      <td>0.826002</td>\n",
       "      <td>0.924012</td>\n",
       "      <td>0.853731</td>\n",
       "      <td>0.775270</td>\n",
       "      <td>0.772052</td>\n",
       "    </tr>\n",
       "    <tr>\n",
       "      <th>3</th>\n",
       "      <td>0.837232</td>\n",
       "      <td>0.835393</td>\n",
       "      <td>0.917967</td>\n",
       "      <td>0.855860</td>\n",
       "      <td>0.782566</td>\n",
       "      <td>0.775510</td>\n",
       "    </tr>\n",
       "  </tbody>\n",
       "</table>\n",
       "</div>"
      ],
      "text/plain": [
       "          0         1         2         3         4         5\n",
       "0  0.836500  0.833500  0.918500  0.855500  0.780500  0.774500\n",
       "1  0.841000  0.845000  0.912000  0.858000  0.790000  0.779000\n",
       "2  0.833499  0.826002  0.924012  0.853731  0.775270  0.772052\n",
       "3  0.837232  0.835393  0.917967  0.855860  0.782566  0.775510"
      ]
     },
     "execution_count": 37,
     "metadata": {},
     "output_type": "execute_result"
    }
   ],
   "source": [
    "data"
   ]
  },
  {
   "cell_type": "code",
   "execution_count": 39,
   "id": "careful-peripheral",
   "metadata": {},
   "outputs": [],
   "source": [
    "pd.DataFrame.to_csv(data,'data.csv')"
   ]
  }
 ],
 "metadata": {
  "celltoolbar": "Raw Cell Format",
  "kernelspec": {
   "display_name": "tfgpu",
   "language": "python",
   "name": "tfgpu"
  },
  "language_info": {
   "codemirror_mode": {
    "name": "ipython",
    "version": 3
   },
   "file_extension": ".py",
   "mimetype": "text/x-python",
   "name": "python",
   "nbconvert_exporter": "python",
   "pygments_lexer": "ipython3",
   "version": "3.9.13"
  }
 },
 "nbformat": 4,
 "nbformat_minor": 5
}
