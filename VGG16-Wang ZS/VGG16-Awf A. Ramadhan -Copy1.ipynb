{
 "cells": [
  {
   "cell_type": "code",
   "execution_count": 1,
   "metadata": {},
   "outputs": [],
   "source": [
    "train_dir = 'D:/Documentos/Estudio/Maestría/Aprendizaje_Computacional/Modelopropio/Database/Lung Segmentation Data/Lung Segmentation Data/Train' \n",
    "val_dir = 'D:/Documentos/Estudio/Maestría/Aprendizaje_Computacional/Modelopropio/Database/Lung Segmentation Data/Lung Segmentation Data/Val' \n",
    "test_dir = 'D:/Documentos/Estudio/Maestría/Aprendizaje_Computacional/Modelopropio/Database/Lung Segmentation Data/Lung Segmentation Data/Test'"
   ]
  },
  {
   "cell_type": "code",
   "execution_count": 2,
   "metadata": {},
   "outputs": [
    {
     "name": "stderr",
     "output_type": "stream",
     "text": [
      "Using TensorFlow backend.\n"
     ]
    }
   ],
   "source": [
    "#ELEGIMOS LOS PARAMETROS\n",
    "from keras.preprocessing.image import ImageDataGenerator\n",
    "#(224, 224, 3)\n",
    "ih, iw = 224,224 #tamano de la imagen\n",
    "input_shape = (ih, iw, 3) #forma de la imagen: alto ancho y numero de canales\n",
    "\n",
    "num_class = 2 #cuantas clases \n",
    "#epochs = 15 #cuantas veces entrenar. En cada epoch hace una mejora en los parametros\n",
    "\n",
    "batch_size = 32 #batch para hacer cada entrenamiento. Lee 50 'batch_size' imagenes antes de actualizar los parametros. Las carga a memoria\n",
    "num_train = 21715 #numero de imagenes en train\n",
    "num_test = 6788 #numero de imagenes en test\n",
    "num_val=5417\n",
    "\n",
    "epoch_steps = num_train // batch_size \n",
    "test_steps = num_test // batch_size\n"
   ]
  },
  {
   "cell_type": "code",
   "execution_count": 3,
   "metadata": {},
   "outputs": [
    {
     "name": "stdout",
     "output_type": "stream",
     "text": [
      "Found 14507 images belonging to 2 classes.\n",
      "Found 3615 images belonging to 2 classes.\n",
      "Found 4535 images belonging to 2 classes.\n"
     ]
    }
   ],
   "source": [
    "#LEEMOS LAS IMÁGENES \n",
    "\n",
    "img_height, img_width=ih, iw\n",
    "\n",
    "train_datagen = ImageDataGenerator(rescale=1./255)\n",
    "\n",
    "train_generator = train_datagen.flow_from_directory(\n",
    "    train_dir,\n",
    "    target_size=(img_height, img_width),\n",
    "    batch_size=batch_size,\n",
    "    class_mode='categorical') # set as training data\n",
    "\n",
    "validation_generator = train_datagen.flow_from_directory(\n",
    "    val_dir, # same directory as training data\n",
    "    target_size=(img_height, img_width),\n",
    "    batch_size=batch_size,\n",
    "    class_mode='categorical') # set as validation data\n",
    "\n",
    "test_generator = train_datagen.flow_from_directory(\n",
    "    test_dir, # same directory as training data\n",
    "    target_size=(img_height, img_width),\n",
    "    batch_size=batch_size,\n",
    "    class_mode='categorical') # set as validation data"
   ]
  },
  {
   "cell_type": "code",
   "execution_count": 4,
   "metadata": {},
   "outputs": [],
   "source": [
    "train=train_generator\n",
    "val=validation_generator\n",
    "test=test_generator"
   ]
  },
  {
   "cell_type": "code",
   "execution_count": 5,
   "metadata": {},
   "outputs": [],
   "source": [
    "from keras.applications import vgg16 \n",
    "from keras.models import Model \n",
    "import keras \n",
    "\n",
    "\n",
    "vgg = vgg16.VGG16(include_top=False, weights='imagenet',  \n",
    "                                     input_shape=input_shape) \n",
    "\n",
    "# we have removed the final part of the classifier pertaining to the VGG-16 model \n",
    "#since we will be building our own classifier and leveraging VGG as a feature extractor\n",
    "output = vgg.layers[-1].output \n",
    "output = keras.layers.Flatten()(output) \n",
    "vgg_model = Model(vgg.input, output) \n",
    "\n",
    " \n",
    "vgg_model.trainable = True \n",
    "#set_trainable = False\n",
    " \n",
    "#for layer in vgg_model.layers: \n",
    "#    if layer.name in ['block5_conv1', 'block4_conv1']: \n",
    "#        set_trainable = True \n",
    "#    if set_trainable: \n",
    "#        layer.trainable = True \n",
    "#    else: \n",
    "#        layer.trainable = False "
   ]
  },
  {
   "cell_type": "code",
   "execution_count": 6,
   "metadata": {},
   "outputs": [
    {
     "name": "stderr",
     "output_type": "stream",
     "text": [
      "C:\\Users\\elium\\.conda\\envs\\tfGPU\\lib\\site-packages\\ipykernel_launcher.py:2: FutureWarning: Passing a negative integer is deprecated in version 1.0 and will not be supported in future version. Instead, use None to not limit the column width.\n",
      "  \n"
     ]
    },
    {
     "data": {
      "text/html": [
       "<div>\n",
       "<style scoped>\n",
       "    .dataframe tbody tr th:only-of-type {\n",
       "        vertical-align: middle;\n",
       "    }\n",
       "\n",
       "    .dataframe tbody tr th {\n",
       "        vertical-align: top;\n",
       "    }\n",
       "\n",
       "    .dataframe thead th {\n",
       "        text-align: right;\n",
       "    }\n",
       "</style>\n",
       "<table border=\"1\" class=\"dataframe\">\n",
       "  <thead>\n",
       "    <tr style=\"text-align: right;\">\n",
       "      <th></th>\n",
       "      <th>Layer Type</th>\n",
       "      <th>Layer Name</th>\n",
       "      <th>Layer Trainable</th>\n",
       "    </tr>\n",
       "  </thead>\n",
       "  <tbody>\n",
       "    <tr>\n",
       "      <th>0</th>\n",
       "      <td>&lt;keras.engine.input_layer.InputLayer object at 0x000002422E408788&gt;</td>\n",
       "      <td>input_1</td>\n",
       "      <td>False</td>\n",
       "    </tr>\n",
       "    <tr>\n",
       "      <th>1</th>\n",
       "      <td>&lt;keras.layers.convolutional.Conv2D object at 0x000002422E3F0408&gt;</td>\n",
       "      <td>block1_conv1</td>\n",
       "      <td>True</td>\n",
       "    </tr>\n",
       "    <tr>\n",
       "      <th>2</th>\n",
       "      <td>&lt;keras.layers.convolutional.Conv2D object at 0x0000024224418A08&gt;</td>\n",
       "      <td>block1_conv2</td>\n",
       "      <td>True</td>\n",
       "    </tr>\n",
       "    <tr>\n",
       "      <th>3</th>\n",
       "      <td>&lt;keras.layers.pooling.MaxPooling2D object at 0x0000024234F43508&gt;</td>\n",
       "      <td>block1_pool</td>\n",
       "      <td>True</td>\n",
       "    </tr>\n",
       "    <tr>\n",
       "      <th>4</th>\n",
       "      <td>&lt;keras.layers.convolutional.Conv2D object at 0x0000024234F43D88&gt;</td>\n",
       "      <td>block2_conv1</td>\n",
       "      <td>True</td>\n",
       "    </tr>\n",
       "    <tr>\n",
       "      <th>5</th>\n",
       "      <td>&lt;keras.layers.convolutional.Conv2D object at 0x0000024234F52808&gt;</td>\n",
       "      <td>block2_conv2</td>\n",
       "      <td>True</td>\n",
       "    </tr>\n",
       "    <tr>\n",
       "      <th>6</th>\n",
       "      <td>&lt;keras.layers.pooling.MaxPooling2D object at 0x0000024234F52488&gt;</td>\n",
       "      <td>block2_pool</td>\n",
       "      <td>True</td>\n",
       "    </tr>\n",
       "    <tr>\n",
       "      <th>7</th>\n",
       "      <td>&lt;keras.layers.convolutional.Conv2D object at 0x0000024234F572C8&gt;</td>\n",
       "      <td>block3_conv1</td>\n",
       "      <td>True</td>\n",
       "    </tr>\n",
       "    <tr>\n",
       "      <th>8</th>\n",
       "      <td>&lt;keras.layers.convolutional.Conv2D object at 0x0000024234F62E08&gt;</td>\n",
       "      <td>block3_conv2</td>\n",
       "      <td>True</td>\n",
       "    </tr>\n",
       "    <tr>\n",
       "      <th>9</th>\n",
       "      <td>&lt;keras.layers.convolutional.Conv2D object at 0x0000024234F69B48&gt;</td>\n",
       "      <td>block3_conv3</td>\n",
       "      <td>True</td>\n",
       "    </tr>\n",
       "    <tr>\n",
       "      <th>10</th>\n",
       "      <td>&lt;keras.layers.pooling.MaxPooling2D object at 0x0000024234F6DE48&gt;</td>\n",
       "      <td>block3_pool</td>\n",
       "      <td>True</td>\n",
       "    </tr>\n",
       "    <tr>\n",
       "      <th>11</th>\n",
       "      <td>&lt;keras.layers.convolutional.Conv2D object at 0x00000242350E26C8&gt;</td>\n",
       "      <td>block4_conv1</td>\n",
       "      <td>True</td>\n",
       "    </tr>\n",
       "    <tr>\n",
       "      <th>12</th>\n",
       "      <td>&lt;keras.layers.convolutional.Conv2D object at 0x00000242350E5CC8&gt;</td>\n",
       "      <td>block4_conv2</td>\n",
       "      <td>True</td>\n",
       "    </tr>\n",
       "    <tr>\n",
       "      <th>13</th>\n",
       "      <td>&lt;keras.layers.convolutional.Conv2D object at 0x00000242350EE708&gt;</td>\n",
       "      <td>block4_conv3</td>\n",
       "      <td>True</td>\n",
       "    </tr>\n",
       "    <tr>\n",
       "      <th>14</th>\n",
       "      <td>&lt;keras.layers.pooling.MaxPooling2D object at 0x00000242350F59C8&gt;</td>\n",
       "      <td>block4_pool</td>\n",
       "      <td>True</td>\n",
       "    </tr>\n",
       "    <tr>\n",
       "      <th>15</th>\n",
       "      <td>&lt;keras.layers.convolutional.Conv2D object at 0x00000242350F5188&gt;</td>\n",
       "      <td>block5_conv1</td>\n",
       "      <td>True</td>\n",
       "    </tr>\n",
       "    <tr>\n",
       "      <th>16</th>\n",
       "      <td>&lt;keras.layers.convolutional.Conv2D object at 0x00000242350FE7C8&gt;</td>\n",
       "      <td>block5_conv2</td>\n",
       "      <td>True</td>\n",
       "    </tr>\n",
       "    <tr>\n",
       "      <th>17</th>\n",
       "      <td>&lt;keras.layers.convolutional.Conv2D object at 0x0000024235107C88&gt;</td>\n",
       "      <td>block5_conv3</td>\n",
       "      <td>True</td>\n",
       "    </tr>\n",
       "    <tr>\n",
       "      <th>18</th>\n",
       "      <td>&lt;keras.layers.pooling.MaxPooling2D object at 0x000002423510FAC8&gt;</td>\n",
       "      <td>block5_pool</td>\n",
       "      <td>True</td>\n",
       "    </tr>\n",
       "    <tr>\n",
       "      <th>19</th>\n",
       "      <td>&lt;keras.layers.core.Flatten object at 0x000002422E408608&gt;</td>\n",
       "      <td>flatten_1</td>\n",
       "      <td>True</td>\n",
       "    </tr>\n",
       "  </tbody>\n",
       "</table>\n",
       "</div>"
      ],
      "text/plain": [
       "                                                            Layer Type  \\\n",
       "0   <keras.engine.input_layer.InputLayer object at 0x000002422E408788>   \n",
       "1   <keras.layers.convolutional.Conv2D object at 0x000002422E3F0408>     \n",
       "2   <keras.layers.convolutional.Conv2D object at 0x0000024224418A08>     \n",
       "3   <keras.layers.pooling.MaxPooling2D object at 0x0000024234F43508>     \n",
       "4   <keras.layers.convolutional.Conv2D object at 0x0000024234F43D88>     \n",
       "5   <keras.layers.convolutional.Conv2D object at 0x0000024234F52808>     \n",
       "6   <keras.layers.pooling.MaxPooling2D object at 0x0000024234F52488>     \n",
       "7   <keras.layers.convolutional.Conv2D object at 0x0000024234F572C8>     \n",
       "8   <keras.layers.convolutional.Conv2D object at 0x0000024234F62E08>     \n",
       "9   <keras.layers.convolutional.Conv2D object at 0x0000024234F69B48>     \n",
       "10  <keras.layers.pooling.MaxPooling2D object at 0x0000024234F6DE48>     \n",
       "11  <keras.layers.convolutional.Conv2D object at 0x00000242350E26C8>     \n",
       "12  <keras.layers.convolutional.Conv2D object at 0x00000242350E5CC8>     \n",
       "13  <keras.layers.convolutional.Conv2D object at 0x00000242350EE708>     \n",
       "14  <keras.layers.pooling.MaxPooling2D object at 0x00000242350F59C8>     \n",
       "15  <keras.layers.convolutional.Conv2D object at 0x00000242350F5188>     \n",
       "16  <keras.layers.convolutional.Conv2D object at 0x00000242350FE7C8>     \n",
       "17  <keras.layers.convolutional.Conv2D object at 0x0000024235107C88>     \n",
       "18  <keras.layers.pooling.MaxPooling2D object at 0x000002423510FAC8>     \n",
       "19  <keras.layers.core.Flatten object at 0x000002422E408608>             \n",
       "\n",
       "      Layer Name  Layer Trainable  \n",
       "0   input_1       False            \n",
       "1   block1_conv1  True             \n",
       "2   block1_conv2  True             \n",
       "3   block1_pool   True             \n",
       "4   block2_conv1  True             \n",
       "5   block2_conv2  True             \n",
       "6   block2_pool   True             \n",
       "7   block3_conv1  True             \n",
       "8   block3_conv2  True             \n",
       "9   block3_conv3  True             \n",
       "10  block3_pool   True             \n",
       "11  block4_conv1  True             \n",
       "12  block4_conv2  True             \n",
       "13  block4_conv3  True             \n",
       "14  block4_pool   True             \n",
       "15  block5_conv1  True             \n",
       "16  block5_conv2  True             \n",
       "17  block5_conv3  True             \n",
       "18  block5_pool   True             \n",
       "19  flatten_1     True             "
      ]
     },
     "execution_count": 6,
     "metadata": {},
     "output_type": "execute_result"
    }
   ],
   "source": [
    "import pandas as pd \n",
    "pd.set_option('max_colwidth', -1)\n",
    "\n",
    "layers = [(layer, layer.name, layer.trainable) for layer in vgg_model.layers] \n",
    "pd.DataFrame(layers, columns=['Layer Type', 'Layer Name', 'Layer Trainable'])"
   ]
  },
  {
   "cell_type": "code",
   "execution_count": 7,
   "metadata": {},
   "outputs": [],
   "source": [
    "from os import listdir\n",
    "from os.path import isfile,isdir, join\n",
    "import numpy\n",
    "\n",
    "import keras\n",
    "from keras.preprocessing.image import ImageDataGenerator\n",
    "from keras.preprocessing import image\n",
    "from keras import layers, models\n",
    "from keras.models import Sequential\n",
    "from keras.layers import Dense,Conv2D, Dropout,Activation,MaxPooling2D,Flatten\n",
    "from keras.optimizers import RMSprop \n",
    "from sklearn.model_selection import train_test_split"
   ]
  },
  {
   "cell_type": "code",
   "execution_count": 8,
   "metadata": {},
   "outputs": [],
   "source": [
    "from keras import backend as K\n",
    "def recall_m(y_true, y_pred):\n",
    "    true_positives = K.sum(K.round(K.clip(y_true * y_pred, 0, 1)))\n",
    "    possible_positives = K.sum(K.round(K.clip(y_true, 0, 1)))\n",
    "    recall = true_positives / (possible_positives + K.epsilon())\n",
    "    return recall\n",
    "\n",
    "def precision_m(y_true, y_pred):\n",
    "    true_positives = K.sum(K.round(K.clip(y_true * y_pred, 0, 1)))\n",
    "    predicted_positives = K.sum(K.round(K.clip(y_pred, 0, 1)))\n",
    "    precision = true_positives / (predicted_positives + K.epsilon())\n",
    "    return precision\n",
    "\n",
    "def f1_m(y_true, y_pred):\n",
    "    precision = precision_m(y_true, y_pred)\n",
    "    recall = recall_m(y_true, y_pred)\n",
    "    return 2*((precision*recall)/(precision+recall+K.epsilon()))"
   ]
  },
  {
   "cell_type": "code",
   "execution_count": 9,
   "metadata": {},
   "outputs": [],
   "source": [
    "from keras.layers import Conv2D, MaxPooling2D, Flatten, Dense, Dropout, InputLayer \n",
    "from keras.models import Sequential \n",
    "from keras import optimizers  \n",
    "import tensorflow as tf\n",
    "\n",
    "# build model architecture \n",
    "model = Sequential() \n",
    "\n",
    "model.add(vgg_model) \n",
    "#model.add(Dense(1024, activation='relu', input_dim=input_shape)) \n",
    "#model.add(Dropout(0.25)) \n",
    "#model.add(Dense(512, activation='relu')) \n",
    "#model.add(Dropout(0.25))\n",
    "#model.add(Dense(256, activation='relu')) \n",
    "#model.add(Dropout(0.25))\n",
    "model.add(Dense(num_class, activation='sigmoid'))\n",
    "\n",
    "model.compile(optimizer=tf.keras.optimizers.SGD(lr=0.001, momentum=0.9), \n",
    "      loss = tf.keras.losses.CategoricalCrossentropy(from_logits = True), \n",
    "      metrics=['accuracy',f1_m,precision_m, recall_m])"
   ]
  },
  {
   "cell_type": "code",
   "execution_count": 10,
   "metadata": {},
   "outputs": [
    {
     "name": "stdout",
     "output_type": "stream",
     "text": [
      "Model: \"sequential_1\"\n",
      "_________________________________________________________________\n",
      "Layer (type)                 Output Shape              Param #   \n",
      "=================================================================\n",
      "model_1 (Model)              (None, 25088)             14714688  \n",
      "_________________________________________________________________\n",
      "dense_1 (Dense)              (None, 2)                 50178     \n",
      "=================================================================\n",
      "Total params: 14,764,866\n",
      "Trainable params: 14,764,866\n",
      "Non-trainable params: 0\n",
      "_________________________________________________________________\n"
     ]
    }
   ],
   "source": [
    "model.summary()"
   ]
  },
  {
   "cell_type": "code",
   "execution_count": 11,
   "metadata": {},
   "outputs": [
    {
     "name": "stdout",
     "output_type": "stream",
     "text": [
      "Epoch 1/10\n",
      "64/64 [==============================] - 38s 586ms/step - loss: 0.5572 - accuracy: 0.7529 - f1_m: 0.7557 - precision_m: 0.7402 - recall_m: 0.7739 - val_loss: 0.5925 - val_accuracy: 0.8472 - val_f1_m: 0.8364 - val_precision_m: 0.8745 - val_recall_m: 0.8022\n",
      "Epoch 2/10\n",
      "64/64 [==============================] - 35s 545ms/step - loss: 0.4180 - accuracy: 0.8949 - f1_m: 0.8927 - precision_m: 0.8970 - recall_m: 0.8897 - val_loss: 0.4284 - val_accuracy: 0.9047 - val_f1_m: 0.9043 - val_precision_m: 0.9017 - val_recall_m: 0.9072\n",
      "Epoch 3/10\n",
      "64/64 [==============================] - 31s 478ms/step - loss: 0.4117 - accuracy: 0.9023 - f1_m: 0.8988 - precision_m: 0.8966 - recall_m: 0.9023 - val_loss: 0.3812 - val_accuracy: 0.9453 - val_f1_m: 0.9438 - val_precision_m: 0.9363 - val_recall_m: 0.9517\n",
      "Epoch 4/10\n",
      "64/64 [==============================] - 31s 483ms/step - loss: 0.3945 - accuracy: 0.9180 - f1_m: 0.9158 - precision_m: 0.9101 - recall_m: 0.9224 - val_loss: 0.4130 - val_accuracy: 0.9502 - val_f1_m: 0.9493 - val_precision_m: 0.9456 - val_recall_m: 0.9531\n",
      "Epoch 5/10\n",
      "64/64 [==============================] - 31s 486ms/step - loss: 0.3873 - accuracy: 0.9258 - f1_m: 0.9241 - precision_m: 0.9251 - recall_m: 0.9233 - val_loss: 0.3603 - val_accuracy: 0.9355 - val_f1_m: 0.9340 - val_precision_m: 0.9407 - val_recall_m: 0.9277\n",
      "Epoch 6/10\n",
      "64/64 [==============================] - 31s 483ms/step - loss: 0.3767 - accuracy: 0.9351 - f1_m: 0.9351 - precision_m: 0.9433 - recall_m: 0.9277 - val_loss: 0.4238 - val_accuracy: 0.9267 - val_f1_m: 0.9277 - val_precision_m: 0.9303 - val_recall_m: 0.9252\n",
      "Epoch 7/10\n",
      "64/64 [==============================] - 31s 485ms/step - loss: 0.3699 - accuracy: 0.9458 - f1_m: 0.9442 - precision_m: 0.9433 - recall_m: 0.9453 - val_loss: 0.3310 - val_accuracy: 0.9517 - val_f1_m: 0.9512 - val_precision_m: 0.9544 - val_recall_m: 0.9482\n",
      "Epoch 8/10\n",
      "64/64 [==============================] - 31s 486ms/step - loss: 0.3634 - accuracy: 0.9487 - f1_m: 0.9495 - precision_m: 0.9524 - recall_m: 0.9468 - val_loss: 0.4083 - val_accuracy: 0.9433 - val_f1_m: 0.9434 - val_precision_m: 0.9476 - val_recall_m: 0.9394\n",
      "Epoch 9/10\n",
      "64/64 [==============================] - 31s 489ms/step - loss: 0.3683 - accuracy: 0.9443 - f1_m: 0.9424 - precision_m: 0.9467 - recall_m: 0.9390 - val_loss: 0.3666 - val_accuracy: 0.9575 - val_f1_m: 0.9567 - val_precision_m: 0.9571 - val_recall_m: 0.9565\n",
      "Epoch 10/10\n",
      "64/64 [==============================] - 32s 502ms/step - loss: 0.3668 - accuracy: 0.9443 - f1_m: 0.9419 - precision_m: 0.9498 - recall_m: 0.9346 - val_loss: 0.3348 - val_accuracy: 0.9521 - val_f1_m: 0.9470 - val_precision_m: 0.9605 - val_recall_m: 0.9341\n"
     ]
    }
   ],
   "source": [
    "history = model.fit_generator(train, steps_per_epoch=64, \n",
    "                              epochs=10,  \n",
    "                              validation_data=val,   \n",
    "                              validation_steps=64,  \n",
    "                              verbose=1)"
   ]
  },
  {
   "cell_type": "code",
   "execution_count": 12,
   "metadata": {},
   "outputs": [
    {
     "data": {
      "image/png": "[encoded data removed]",
      "text/plain": [
       "<Figure size 432x288 with 1 Axes>"
      ]
     },
     "metadata": {
      "needs_background": "light"
     },
     "output_type": "display_data"
    }
   ],
   "source": [
    "# summarize history for accuracy\n",
    "import matplotlib.pyplot as plt\n",
    "plt.plot(history.history['accuracy'])\n",
    "plt.plot(history.history['val_accuracy'])\n",
    "plt.title('model accuracy')\n",
    "plt.ylabel('accuracy')\n",
    "plt.xlabel('epoch')\n",
    "plt.legend(['train', 'test'], loc='upper left')\n",
    "plt.show()"
   ]
  },
  {
   "cell_type": "code",
   "execution_count": 13,
   "metadata": {},
   "outputs": [
    {
     "data": {
      "image/png": "[encoded data removed]",
      "text/plain": [
       "<Figure size 432x288 with 1 Axes>"
      ]
     },
     "metadata": {
      "needs_background": "light"
     },
     "output_type": "display_data"
    }
   ],
   "source": [
    "plt.plot(history.history['loss'])\n",
    "plt.plot(history.history['val_loss'])\n",
    "plt.title('model loss')\n",
    "plt.ylabel('loss')\n",
    "plt.xlabel('epoch')\n",
    "plt.legend(['train', 'test'], loc='upper left')\n",
    "plt.show()"
   ]
  },
  {
   "cell_type": "code",
   "execution_count": 14,
   "metadata": {},
   "outputs": [
    {
     "data": {
      "image/png": "[encoded data removed]",
      "text/plain": [
       "<Figure size 432x288 with 1 Axes>"
      ]
     },
     "metadata": {
      "needs_background": "light"
     },
     "output_type": "display_data"
    }
   ],
   "source": [
    "plt.plot(history.history['f1_m'])\n",
    "plt.plot(history.history['val_f1_m'])\n",
    "plt.title('F1 Score')\n",
    "plt.ylabel('f1')\n",
    "plt.xlabel('epoch')\n",
    "plt.legend(['train', 'test'], loc='upper left')\n",
    "plt.show()"
   ]
  },
  {
   "cell_type": "code",
   "execution_count": 15,
   "metadata": {},
   "outputs": [
    {
     "data": {
      "image/png": "[encoded data removed]",
      "text/plain": [
       "<Figure size 432x288 with 1 Axes>"
      ]
     },
     "metadata": {
      "needs_background": "light"
     },
     "output_type": "display_data"
    }
   ],
   "source": [
    "plt.plot(history.history['precision_m'])\n",
    "plt.plot(history.history['val_precision_m'])\n",
    "plt.title('Precision')\n",
    "plt.ylabel('precision')\n",
    "plt.xlabel('epoch')\n",
    "plt.legend(['train', 'test'], loc='upper left')\n",
    "plt.show()"
   ]
  },
  {
   "cell_type": "code",
   "execution_count": 16,
   "metadata": {},
   "outputs": [
    {
     "data": {
      "image/png": "[encoded data removed]",
      "text/plain": [
       "<Figure size 432x288 with 1 Axes>"
      ]
     },
     "metadata": {
      "needs_background": "light"
     },
     "output_type": "display_data"
    }
   ],
   "source": [
    "plt.plot(history.history['recall_m'])\n",
    "plt.plot(history.history['val_recall_m'])\n",
    "plt.title('Recall')\n",
    "plt.ylabel('recall')\n",
    "plt.xlabel('epoch')\n",
    "plt.legend(['train', 'test'], loc='upper left')\n",
    "plt.show()"
   ]
  },
  {
   "cell_type": "code",
   "execution_count": 17,
   "metadata": {},
   "outputs": [
    {
     "name": "stdout",
     "output_type": "stream",
     "text": [
      "142/142 [==============================] - 21s 149ms/step\n",
      "El modelo predice el  95.082688331604 % de los datos\n"
     ]
    }
   ],
   "source": [
    "test_eval = model.evaluate(test, verbose=1)\n",
    "print('El modelo predice el ', test_eval[1]*100,'% de los datos')"
   ]
  },
  {
   "cell_type": "code",
   "execution_count": 19,
   "metadata": {},
   "outputs": [
    {
     "name": "stdout",
     "output_type": "stream",
     "text": [
      "Found 351 images belonging to 2 classes.\n"
     ]
    }
   ],
   "source": [
    "articulo_dir='D:/Documentos/Estudio/Maestría/Aprendizaje_Computacional/Implementacion/Deteccion_Articulo/dataset,solocovid,pneumonia'\n",
    "#Para el conjunto del artículo\n",
    "articulo_generator = train_datagen.flow_from_directory(\n",
    "    articulo_dir, # same directory as training data\n",
    "    target_size=(img_height, img_width),\n",
    "    batch_size=batch_size,\n",
    "    class_mode='categorical') # set as validation data\n",
    "articulo=articulo_generator"
   ]
  },
  {
   "cell_type": "code",
   "execution_count": 20,
   "metadata": {},
   "outputs": [
    {
     "name": "stdout",
     "output_type": "stream",
     "text": [
      "Utilizando el conjunto de datos del artículo para evaluar el modelo\n",
      "11/11 [==============================] - 6s 526ms/step\n",
      "El modelo predice el  84.33048725128174 % de los datos\n"
     ]
    }
   ],
   "source": [
    "print('Utilizando el conjunto de datos del artículo para evaluar el modelo')\n",
    "test_eval = model.evaluate(articulo, verbose=1)\n",
    "print('El modelo predice el ', test_eval[1]*100,'% de los datos')"
   ]
  },
  {
   "cell_type": "code",
   "execution_count": 43,
   "metadata": {},
   "outputs": [
    {
     "name": "stdout",
     "output_type": "stream",
     "text": [
      "Utilizando el conjunto de datos de test para evaluar el modelo\n",
      "142/142 [==============================] - 5s 35ms/step\n",
      "El modelo predice el  97.68467545509338 % de los datos\n"
     ]
    }
   ],
   "source": [
    "print('Utilizando el conjunto de datos de test para evaluar el modelo')\n",
    "test_eval = model.evaluate(test, verbose=1)\n",
    "print('El modelo predice el ', test_eval[1]*100,'% de los datos')"
   ]
  },
  {
   "cell_type": "code",
   "execution_count": 18,
   "metadata": {},
   "outputs": [
    {
     "name": "stdout",
     "output_type": "stream",
     "text": [
      "Utilizando el conjunto de datos de test para evaluar el modelo\n",
      "Loss:  0.3337865173816681\n",
      "Accuracy:  0.95082688331604\n",
      "F1 Score:  0.9464460611343384\n",
      "Precision:  0.9645707011222839\n",
      "Recall:  0.929491400718689\n"
     ]
    }
   ],
   "source": [
    "print('Utilizando el conjunto de datos de test para evaluar el modelo')\n",
    "print('Loss: ',test_eval[0])\n",
    "print('Accuracy: ',test_eval[1])\n",
    "print('F1 Score: ',test_eval[2])\n",
    "print('Precision: ',test_eval[3])\n",
    "print('Recall: ',test_eval[4])"
   ]
  },
  {
   "cell_type": "code",
   "execution_count": 22,
   "metadata": {},
   "outputs": [
    {
     "name": "stdout",
     "output_type": "stream",
     "text": [
      "Utilizando el conjunto de datos del artículo para evaluar el modelo\n",
      "11/11 [==============================] - 5s 419ms/step\n",
      "El modelo predice el  84.33048725128174 % de los datos\n"
     ]
    }
   ],
   "source": [
    "print('Utilizando el conjunto de datos del artículo para evaluar el modelo')\n",
    "test_eval = model.evaluate(articulo, verbose=1)\n",
    "print('El modelo predice el ', test_eval[1]*100,'% de los datos')"
   ]
  },
  {
   "cell_type": "code",
   "execution_count": 21,
   "metadata": {},
   "outputs": [
    {
     "name": "stdout",
     "output_type": "stream",
     "text": [
      "Utilizando el conjunto de datos del artículo para evaluar el modelo\n",
      "Loss:  0.4307190775871277\n",
      "Accuracy:  0.8433048725128174\n",
      "F1 Score:  0.8376941084861755\n",
      "Precision:  0.8824012279510498\n",
      "Recall:  0.7977456450462341\n"
     ]
    }
   ],
   "source": [
    "print('Utilizando el conjunto de datos del artículo para evaluar el modelo')\n",
    "print('Loss: ',test_eval[0])\n",
    "print('Accuracy: ',test_eval[1])\n",
    "print('F1 Score: ',test_eval[2])\n",
    "print('Precision: ',test_eval[3])\n",
    "print('Recall: ',test_eval[4])"
   ]
  },
  {
   "cell_type": "code",
   "execution_count": null,
   "metadata": {},
   "outputs": [],
   "source": []
  }
 ],
 "metadata": {
  "kernelspec": {
   "display_name": "tfGPU",
   "language": "python",
   "name": "tfgpu"
  },
  "language_info": {
   "codemirror_mode": {
    "name": "ipython",
    "version": 3
   },
   "file_extension": ".py",
   "mimetype": "text/x-python",
   "name": "python",
   "nbconvert_exporter": "python",
   "pygments_lexer": "ipython3",
   "version": "3.7.13"
  },
  "vscode": {
   "interpreter": {
    "hash": "7e4f867d96a5e097fa0a710543755eb3c23b55927bdcf31cab94f921c40a44c0"
   }
  }
 },
 "nbformat": 4,
 "nbformat_minor": 2
}
