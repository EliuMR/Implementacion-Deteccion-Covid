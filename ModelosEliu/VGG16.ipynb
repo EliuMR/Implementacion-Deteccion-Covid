{
 "cells": [
  {
   "cell_type": "code",
   "execution_count": 1,
   "metadata": {},
   "outputs": [],
   "source": [
    "train_dir = 'D:/Documentos/Estudio/Maestría/1-Periodo/Aprendizaje_Computacional/Modelopropio/Database/Lung Segmentation Data/Lung Segmentation Data/Train' \n",
    "val_dir = 'D:/Documentos/Estudio/Maestría/1-Periodo/Aprendizaje_Computacional/Modelopropio/Database/Lung Segmentation Data/Lung Segmentation Data/Val' \n",
    "test_dir = 'D:/Documentos/Estudio/Maestría/1-Periodo/Aprendizaje_Computacional/Modelopropio/Database/Lung Segmentation Data/Lung Segmentation Data/Test'"
   ]
  },
  {
   "cell_type": "code",
   "execution_count": 2,
   "metadata": {},
   "outputs": [
    {
     "name": "stderr",
     "output_type": "stream",
     "text": [
      "Using TensorFlow backend.\n"
     ]
    }
   ],
   "source": [
    "#ELEGIMOS LOS PARAMETROS\n",
    "from keras.preprocessing.image import ImageDataGenerator\n",
    "ih, iw = 256,256 #tamano de la imagen\n",
    "input_shape = (ih, iw, 3) #forma de la imagen: alto ancho y numero de canales\n",
    "\n",
    "num_class = 2 #cuantas clases \n",
    "#epochs = 15 #cuantas veces entrenar. En cada epoch hace una mejora en los parametros\n",
    "\n",
    "batch_size = 32 #batch para hacer cada entrenamiento. Lee 50 'batch_size' imagenes antes de actualizar los parametros. Las carga a memoria\n",
    "num_train = 21715 #numero de imagenes en train\n",
    "num_test = 6788 #numero de imagenes en test\n",
    "num_val=5417\n",
    "\n",
    "epoch_steps = num_train // batch_size \n",
    "test_steps = num_test // batch_size\n"
   ]
  },
  {
   "cell_type": "code",
   "execution_count": 3,
   "metadata": {},
   "outputs": [
    {
     "name": "stdout",
     "output_type": "stream",
     "text": [
      "Found 14507 images belonging to 2 classes.\n",
      "Found 3615 images belonging to 2 classes.\n",
      "Found 4535 images belonging to 2 classes.\n"
     ]
    }
   ],
   "source": [
    "#LEEMOS LAS IMÁGENES \n",
    "\n",
    "img_height, img_width=ih, iw\n",
    "\n",
    "train_datagen = ImageDataGenerator(rescale=1./255)\n",
    "\n",
    "train_generator = train_datagen.flow_from_directory(\n",
    "    train_dir,\n",
    "    target_size=(img_height, img_width),\n",
    "    batch_size=batch_size,\n",
    "    class_mode='categorical') # set as training data\n",
    "\n",
    "validation_generator = train_datagen.flow_from_directory(\n",
    "    val_dir, # same directory as training data\n",
    "    target_size=(img_height, img_width),\n",
    "    batch_size=batch_size,\n",
    "    class_mode='categorical') # set as validation data\n",
    "\n",
    "test_generator = train_datagen.flow_from_directory(\n",
    "    test_dir, # same directory as training data\n",
    "    target_size=(img_height, img_width),\n",
    "    batch_size=batch_size,\n",
    "    class_mode='categorical') # set as validation data"
   ]
  },
  {
   "cell_type": "code",
   "execution_count": 4,
   "metadata": {},
   "outputs": [],
   "source": [
    "train=train_generator\n",
    "val=validation_generator\n",
    "test=test_generator"
   ]
  },
  {
   "cell_type": "code",
   "execution_count": 5,
   "metadata": {},
   "outputs": [],
   "source": [
    "from keras.applications import vgg16 \n",
    "from keras.models import Model \n",
    "import keras \n",
    "\n",
    "\n",
    "vgg = vgg16.VGG16(include_top=False, weights='imagenet',  \n",
    "                                     input_shape=input_shape) \n",
    "\n",
    "# we have removed the final part of the classifier pertaining to the VGG-16 model \n",
    "#since we will be building our own classifier and leveraging VGG as a feature extractor\n",
    "output = vgg.layers[-1].output \n",
    "output = keras.layers.Flatten()(output) \n",
    "vgg_model = Model(vgg.input, output) \n",
    "\n",
    " \n",
    "vgg_model.trainable = True \n"
   ]
  },
  {
   "cell_type": "code",
   "execution_count": 6,
   "metadata": {},
   "outputs": [
    {
     "name": "stderr",
     "output_type": "stream",
     "text": [
      "C:\\Users\\elium\\.conda\\envs\\tfGPU\\lib\\site-packages\\ipykernel_launcher.py:2: FutureWarning: Passing a negative integer is deprecated in version 1.0 and will not be supported in future version. Instead, use None to not limit the column width.\n",
      "  \n"
     ]
    },
    {
     "data": {
      "text/html": [
       "<div>\n",
       "<style scoped>\n",
       "    .dataframe tbody tr th:only-of-type {\n",
       "        vertical-align: middle;\n",
       "    }\n",
       "\n",
       "    .dataframe tbody tr th {\n",
       "        vertical-align: top;\n",
       "    }\n",
       "\n",
       "    .dataframe thead th {\n",
       "        text-align: right;\n",
       "    }\n",
       "</style>\n",
       "<table border=\"1\" class=\"dataframe\">\n",
       "  <thead>\n",
       "    <tr style=\"text-align: right;\">\n",
       "      <th></th>\n",
       "      <th>Layer Type</th>\n",
       "      <th>Layer Name</th>\n",
       "      <th>Layer Trainable</th>\n",
       "    </tr>\n",
       "  </thead>\n",
       "  <tbody>\n",
       "    <tr>\n",
       "      <th>0</th>\n",
       "      <td>&lt;keras.engine.input_layer.InputLayer object at 0x000001CDED913A88&gt;</td>\n",
       "      <td>input_1</td>\n",
       "      <td>False</td>\n",
       "    </tr>\n",
       "    <tr>\n",
       "      <th>1</th>\n",
       "      <td>&lt;keras.layers.convolutional.Conv2D object at 0x000001CDF78DBAC8&gt;</td>\n",
       "      <td>block1_conv1</td>\n",
       "      <td>True</td>\n",
       "    </tr>\n",
       "    <tr>\n",
       "      <th>2</th>\n",
       "      <td>&lt;keras.layers.convolutional.Conv2D object at 0x000001CDED90FC48&gt;</td>\n",
       "      <td>block1_conv2</td>\n",
       "      <td>True</td>\n",
       "    </tr>\n",
       "    <tr>\n",
       "      <th>3</th>\n",
       "      <td>&lt;keras.layers.pooling.MaxPooling2D object at 0x000001CDE631A1C8&gt;</td>\n",
       "      <td>block1_pool</td>\n",
       "      <td>True</td>\n",
       "    </tr>\n",
       "    <tr>\n",
       "      <th>4</th>\n",
       "      <td>&lt;keras.layers.convolutional.Conv2D object at 0x000001CDE631AE88&gt;</td>\n",
       "      <td>block2_conv1</td>\n",
       "      <td>True</td>\n",
       "    </tr>\n",
       "    <tr>\n",
       "      <th>5</th>\n",
       "      <td>&lt;keras.layers.convolutional.Conv2D object at 0x000001CDE6323E88&gt;</td>\n",
       "      <td>block2_conv2</td>\n",
       "      <td>True</td>\n",
       "    </tr>\n",
       "    <tr>\n",
       "      <th>6</th>\n",
       "      <td>&lt;keras.layers.pooling.MaxPooling2D object at 0x000001CDE6327DC8&gt;</td>\n",
       "      <td>block2_pool</td>\n",
       "      <td>True</td>\n",
       "    </tr>\n",
       "    <tr>\n",
       "      <th>7</th>\n",
       "      <td>&lt;keras.layers.convolutional.Conv2D object at 0x000001CDE6327248&gt;</td>\n",
       "      <td>block3_conv1</td>\n",
       "      <td>True</td>\n",
       "    </tr>\n",
       "    <tr>\n",
       "      <th>8</th>\n",
       "      <td>&lt;keras.layers.convolutional.Conv2D object at 0x000001CDE6331B48&gt;</td>\n",
       "      <td>block3_conv2</td>\n",
       "      <td>True</td>\n",
       "    </tr>\n",
       "    <tr>\n",
       "      <th>9</th>\n",
       "      <td>&lt;keras.layers.convolutional.Conv2D object at 0x000001CDE633A4C8&gt;</td>\n",
       "      <td>block3_conv3</td>\n",
       "      <td>True</td>\n",
       "    </tr>\n",
       "    <tr>\n",
       "      <th>10</th>\n",
       "      <td>&lt;keras.layers.pooling.MaxPooling2D object at 0x000001CDE63404C8&gt;</td>\n",
       "      <td>block3_pool</td>\n",
       "      <td>True</td>\n",
       "    </tr>\n",
       "    <tr>\n",
       "      <th>11</th>\n",
       "      <td>&lt;keras.layers.convolutional.Conv2D object at 0x000001CDE6340088&gt;</td>\n",
       "      <td>block4_conv1</td>\n",
       "      <td>True</td>\n",
       "    </tr>\n",
       "    <tr>\n",
       "      <th>12</th>\n",
       "      <td>&lt;keras.layers.convolutional.Conv2D object at 0x000001CDE6349648&gt;</td>\n",
       "      <td>block4_conv2</td>\n",
       "      <td>True</td>\n",
       "    </tr>\n",
       "    <tr>\n",
       "      <th>13</th>\n",
       "      <td>&lt;keras.layers.convolutional.Conv2D object at 0x000001CDE634F588&gt;</td>\n",
       "      <td>block4_conv3</td>\n",
       "      <td>True</td>\n",
       "    </tr>\n",
       "    <tr>\n",
       "      <th>14</th>\n",
       "      <td>&lt;keras.layers.pooling.MaxPooling2D object at 0x000001CDE6354948&gt;</td>\n",
       "      <td>block4_pool</td>\n",
       "      <td>True</td>\n",
       "    </tr>\n",
       "    <tr>\n",
       "      <th>15</th>\n",
       "      <td>&lt;keras.layers.convolutional.Conv2D object at 0x000001CDE6354708&gt;</td>\n",
       "      <td>block5_conv1</td>\n",
       "      <td>True</td>\n",
       "    </tr>\n",
       "    <tr>\n",
       "      <th>16</th>\n",
       "      <td>&lt;keras.layers.convolutional.Conv2D object at 0x000001CDE6363E48&gt;</td>\n",
       "      <td>block5_conv2</td>\n",
       "      <td>True</td>\n",
       "    </tr>\n",
       "    <tr>\n",
       "      <th>17</th>\n",
       "      <td>&lt;keras.layers.convolutional.Conv2D object at 0x000001CDE636BB88&gt;</td>\n",
       "      <td>block5_conv3</td>\n",
       "      <td>True</td>\n",
       "    </tr>\n",
       "    <tr>\n",
       "      <th>18</th>\n",
       "      <td>&lt;keras.layers.pooling.MaxPooling2D object at 0x000001CDE636FCC8&gt;</td>\n",
       "      <td>block5_pool</td>\n",
       "      <td>True</td>\n",
       "    </tr>\n",
       "    <tr>\n",
       "      <th>19</th>\n",
       "      <td>&lt;keras.layers.core.Flatten object at 0x000001CDF7A53B08&gt;</td>\n",
       "      <td>flatten_1</td>\n",
       "      <td>True</td>\n",
       "    </tr>\n",
       "  </tbody>\n",
       "</table>\n",
       "</div>"
      ],
      "text/plain": [
       "                                                            Layer Type  \\\n",
       "0   <keras.engine.input_layer.InputLayer object at 0x000001CDED913A88>   \n",
       "1   <keras.layers.convolutional.Conv2D object at 0x000001CDF78DBAC8>     \n",
       "2   <keras.layers.convolutional.Conv2D object at 0x000001CDED90FC48>     \n",
       "3   <keras.layers.pooling.MaxPooling2D object at 0x000001CDE631A1C8>     \n",
       "4   <keras.layers.convolutional.Conv2D object at 0x000001CDE631AE88>     \n",
       "5   <keras.layers.convolutional.Conv2D object at 0x000001CDE6323E88>     \n",
       "6   <keras.layers.pooling.MaxPooling2D object at 0x000001CDE6327DC8>     \n",
       "7   <keras.layers.convolutional.Conv2D object at 0x000001CDE6327248>     \n",
       "8   <keras.layers.convolutional.Conv2D object at 0x000001CDE6331B48>     \n",
       "9   <keras.layers.convolutional.Conv2D object at 0x000001CDE633A4C8>     \n",
       "10  <keras.layers.pooling.MaxPooling2D object at 0x000001CDE63404C8>     \n",
       "11  <keras.layers.convolutional.Conv2D object at 0x000001CDE6340088>     \n",
       "12  <keras.layers.convolutional.Conv2D object at 0x000001CDE6349648>     \n",
       "13  <keras.layers.convolutional.Conv2D object at 0x000001CDE634F588>     \n",
       "14  <keras.layers.pooling.MaxPooling2D object at 0x000001CDE6354948>     \n",
       "15  <keras.layers.convolutional.Conv2D object at 0x000001CDE6354708>     \n",
       "16  <keras.layers.convolutional.Conv2D object at 0x000001CDE6363E48>     \n",
       "17  <keras.layers.convolutional.Conv2D object at 0x000001CDE636BB88>     \n",
       "18  <keras.layers.pooling.MaxPooling2D object at 0x000001CDE636FCC8>     \n",
       "19  <keras.layers.core.Flatten object at 0x000001CDF7A53B08>             \n",
       "\n",
       "      Layer Name  Layer Trainable  \n",
       "0   input_1       False            \n",
       "1   block1_conv1  True             \n",
       "2   block1_conv2  True             \n",
       "3   block1_pool   True             \n",
       "4   block2_conv1  True             \n",
       "5   block2_conv2  True             \n",
       "6   block2_pool   True             \n",
       "7   block3_conv1  True             \n",
       "8   block3_conv2  True             \n",
       "9   block3_conv3  True             \n",
       "10  block3_pool   True             \n",
       "11  block4_conv1  True             \n",
       "12  block4_conv2  True             \n",
       "13  block4_conv3  True             \n",
       "14  block4_pool   True             \n",
       "15  block5_conv1  True             \n",
       "16  block5_conv2  True             \n",
       "17  block5_conv3  True             \n",
       "18  block5_pool   True             \n",
       "19  flatten_1     True             "
      ]
     },
     "execution_count": 6,
     "metadata": {},
     "output_type": "execute_result"
    }
   ],
   "source": [
    "import pandas as pd \n",
    "pd.set_option('max_colwidth', -1)\n",
    "\n",
    "layers = [(layer, layer.name, layer.trainable) for layer in vgg_model.layers] \n",
    "pd.DataFrame(layers, columns=['Layer Type', 'Layer Name', 'Layer Trainable'])"
   ]
  },
  {
   "cell_type": "code",
   "execution_count": 7,
   "metadata": {},
   "outputs": [],
   "source": [
    "from os import listdir\n",
    "from os.path import isfile,isdir, join\n",
    "import numpy\n",
    "\n",
    "import keras\n",
    "from keras.preprocessing.image import ImageDataGenerator\n",
    "from keras.preprocessing import image\n",
    "from keras import layers, models\n",
    "from keras.models import Sequential\n",
    "from keras.layers import Dense,Conv2D, Dropout,Activation,MaxPooling2D,Flatten\n",
    "from keras.optimizers import RMSprop \n",
    "from sklearn.model_selection import train_test_split"
   ]
  },
  {
   "cell_type": "code",
   "execution_count": 8,
   "metadata": {},
   "outputs": [],
   "source": [
    "from keras import backend as K\n",
    "def recall_m(y_true, y_pred):\n",
    "    true_positives = K.sum(K.round(K.clip(y_true * y_pred, 0, 1)))\n",
    "    possible_positives = K.sum(K.round(K.clip(y_true, 0, 1)))\n",
    "    recall = true_positives / (possible_positives + K.epsilon())\n",
    "    return recall\n",
    "\n",
    "def precision_m(y_true, y_pred):\n",
    "    true_positives = K.sum(K.round(K.clip(y_true * y_pred, 0, 1)))\n",
    "    predicted_positives = K.sum(K.round(K.clip(y_pred, 0, 1)))\n",
    "    precision = true_positives / (predicted_positives + K.epsilon())\n",
    "    return precision\n",
    "\n",
    "def f1_m(y_true, y_pred):\n",
    "    precision = precision_m(y_true, y_pred)\n",
    "    recall = recall_m(y_true, y_pred)\n",
    "    return 2*((precision*recall)/(precision+recall+K.epsilon()))"
   ]
  },
  {
   "cell_type": "code",
   "execution_count": 9,
   "metadata": {},
   "outputs": [],
   "source": [
    "from keras.layers import Conv2D, MaxPooling2D, Flatten, Dense, Dropout, InputLayer \n",
    "from keras.models import Sequential \n",
    "from keras import optimizers  \n",
    "import tensorflow as tf\n",
    "\n",
    "# build model architecture \n",
    "model = Sequential() \n",
    "model.add(vgg_model) \n",
    "model.add(Dense(64, activation='relu', input_dim=input_shape)) \n",
    "model.add(Dropout(0.25)) \n",
    "model.add(Dense(num_class, activation='sigmoid'))\n",
    "\n",
    "model.compile(optimizer=tf.keras.optimizers.SGD(lr=0.0001, momentum=0.9), \n",
    "      loss = tf.keras.losses.CategoricalCrossentropy(from_logits = True), \n",
    "      metrics=['accuracy',f1_m,precision_m, recall_m])"
   ]
  },
  {
   "cell_type": "code",
   "execution_count": 10,
   "metadata": {},
   "outputs": [
    {
     "name": "stdout",
     "output_type": "stream",
     "text": [
      "Model: \"sequential_1\"\n",
      "_________________________________________________________________\n",
      "Layer (type)                 Output Shape              Param #   \n",
      "=================================================================\n",
      "model_1 (Model)              (None, 32768)             14714688  \n",
      "_________________________________________________________________\n",
      "dense_1 (Dense)              (None, 64)                2097216   \n",
      "_________________________________________________________________\n",
      "dropout_1 (Dropout)          (None, 64)                0         \n",
      "_________________________________________________________________\n",
      "dense_2 (Dense)              (None, 2)                 130       \n",
      "=================================================================\n",
      "Total params: 16,812,034\n",
      "Trainable params: 16,812,034\n",
      "Non-trainable params: 0\n",
      "_________________________________________________________________\n",
      "None\n"
     ]
    }
   ],
   "source": [
    "print(model.summary())"
   ]
  },
  {
   "cell_type": "code",
   "execution_count": 11,
   "metadata": {},
   "outputs": [
    {
     "name": "stdout",
     "output_type": "stream",
     "text": [
      "Epoch 1/15\n",
      "64/64 [==============================] - 43s 665ms/step - loss: 0.6657 - accuracy: 0.6333 - f1_m: 0.6530 - precision_m: 0.5706 - recall_m: 0.7695 - val_loss: 0.6020 - val_accuracy: 0.7825 - val_f1_m: 0.7665 - val_precision_m: 0.6973 - val_recall_m: 0.8531\n",
      "Epoch 2/15\n",
      "64/64 [==============================] - 35s 542ms/step - loss: 0.6023 - accuracy: 0.7720 - f1_m: 0.7399 - precision_m: 0.7266 - recall_m: 0.7568 - val_loss: 0.5739 - val_accuracy: 0.7856 - val_f1_m: 0.7825 - val_precision_m: 0.7917 - val_recall_m: 0.7744\n",
      "Epoch 3/15\n",
      "64/64 [==============================] - 37s 576ms/step - loss: 0.5461 - accuracy: 0.7925 - f1_m: 0.7811 - precision_m: 0.7864 - recall_m: 0.7773 - val_loss: 0.5154 - val_accuracy: 0.7917 - val_f1_m: 0.7897 - val_precision_m: 0.8052 - val_recall_m: 0.7755\n",
      "Epoch 4/15\n",
      "64/64 [==============================] - 35s 551ms/step - loss: 0.5153 - accuracy: 0.8018 - f1_m: 0.7976 - precision_m: 0.8076 - recall_m: 0.7891 - val_loss: 0.4296 - val_accuracy: 0.8100 - val_f1_m: 0.8051 - val_precision_m: 0.8138 - val_recall_m: 0.7969\n",
      "Epoch 5/15\n",
      "64/64 [==============================] - 36s 555ms/step - loss: 0.4855 - accuracy: 0.8379 - f1_m: 0.8345 - precision_m: 0.8384 - recall_m: 0.8315 - val_loss: 0.5304 - val_accuracy: 0.8186 - val_f1_m: 0.8180 - val_precision_m: 0.8234 - val_recall_m: 0.8130\n",
      "Epoch 6/15\n",
      "64/64 [==============================] - 38s 591ms/step - loss: 0.4908 - accuracy: 0.8318 - f1_m: 0.8252 - precision_m: 0.8277 - recall_m: 0.8233 - val_loss: 0.4958 - val_accuracy: 0.8431 - val_f1_m: 0.8423 - val_precision_m: 0.8352 - val_recall_m: 0.8500\n",
      "Epoch 7/15\n",
      "64/64 [==============================] - 36s 559ms/step - loss: 0.4749 - accuracy: 0.8379 - f1_m: 0.8316 - precision_m: 0.8365 - recall_m: 0.8276 - val_loss: 0.4165 - val_accuracy: 0.8674 - val_f1_m: 0.8588 - val_precision_m: 0.8689 - val_recall_m: 0.8493\n",
      "Epoch 8/15\n",
      "64/64 [==============================] - 36s 560ms/step - loss: 0.4548 - accuracy: 0.8667 - f1_m: 0.8626 - precision_m: 0.8661 - recall_m: 0.8599 - val_loss: 0.4480 - val_accuracy: 0.8712 - val_f1_m: 0.8676 - val_precision_m: 0.8727 - val_recall_m: 0.8631\n",
      "Epoch 9/15\n",
      "64/64 [==============================] - 36s 560ms/step - loss: 0.4404 - accuracy: 0.8804 - f1_m: 0.8760 - precision_m: 0.8845 - recall_m: 0.8687 - val_loss: 0.4420 - val_accuracy: 0.8969 - val_f1_m: 0.8950 - val_precision_m: 0.9072 - val_recall_m: 0.8838\n",
      "Epoch 10/15\n",
      "64/64 [==============================] - 36s 562ms/step - loss: 0.4172 - accuracy: 0.9028 - f1_m: 0.8979 - precision_m: 0.9051 - recall_m: 0.8916 - val_loss: 0.3740 - val_accuracy: 0.9243 - val_f1_m: 0.9210 - val_precision_m: 0.9181 - val_recall_m: 0.9243\n",
      "Epoch 11/15\n",
      "64/64 [==============================] - 35s 546ms/step - loss: 0.4131 - accuracy: 0.9077 - f1_m: 0.9023 - precision_m: 0.9077 - recall_m: 0.8975 - val_loss: 0.4187 - val_accuracy: 0.9344 - val_f1_m: 0.9335 - val_precision_m: 0.9335 - val_recall_m: 0.9337\n",
      "Epoch 12/15\n",
      "64/64 [==============================] - 35s 540ms/step - loss: 0.4074 - accuracy: 0.9127 - f1_m: 0.9062 - precision_m: 0.9027 - recall_m: 0.9102 - val_loss: 0.4125 - val_accuracy: 0.9406 - val_f1_m: 0.9411 - val_precision_m: 0.9431 - val_recall_m: 0.9394\n",
      "Epoch 13/15\n",
      "64/64 [==============================] - 35s 546ms/step - loss: 0.4093 - accuracy: 0.9077 - f1_m: 0.9047 - precision_m: 0.9038 - recall_m: 0.9062 - val_loss: 0.4519 - val_accuracy: 0.8725 - val_f1_m: 0.8726 - val_precision_m: 0.8681 - val_recall_m: 0.8775\n",
      "Epoch 14/15\n",
      "64/64 [==============================] - 35s 545ms/step - loss: 0.4072 - accuracy: 0.9062 - f1_m: 0.9052 - precision_m: 0.9070 - recall_m: 0.9038 - val_loss: 0.3810 - val_accuracy: 0.9431 - val_f1_m: 0.9448 - val_precision_m: 0.9435 - val_recall_m: 0.9462\n",
      "Epoch 15/15\n",
      "64/64 [==============================] - 35s 541ms/step - loss: 0.3888 - accuracy: 0.9270 - f1_m: 0.9261 - precision_m: 0.9271 - recall_m: 0.9253 - val_loss: 0.3486 - val_accuracy: 0.9425 - val_f1_m: 0.9433 - val_precision_m: 0.9488 - val_recall_m: 0.9381\n"
     ]
    }
   ],
   "source": [
    "history = model.fit_generator(train, steps_per_epoch=64, \n",
    "                              epochs=15,  \n",
    "                              validation_data=val,   \n",
    "                              validation_steps=50,  \n",
    "                              verbose=1)"
   ]
  },
  {
   "cell_type": "code",
   "execution_count": 12,
   "metadata": {},
   "outputs": [
    {
     "data": {
      "image/png": "[encoded data removed]",
      "text/plain": [
       "<Figure size 432x288 with 1 Axes>"
      ]
     },
     "metadata": {
      "needs_background": "light"
     },
     "output_type": "display_data"
    }
   ],
   "source": [
    "# summarize history for accuracy\n",
    "import matplotlib.pyplot as plt\n",
    "plt.plot(history.history['accuracy'])\n",
    "plt.plot(history.history['val_accuracy'])\n",
    "plt.title('model accuracy')\n",
    "plt.ylabel('accuracy')\n",
    "plt.xlabel('epoch')\n",
    "plt.legend(['train', 'test'], loc='upper left')\n",
    "plt.show()"
   ]
  },
  {
   "cell_type": "code",
   "execution_count": 13,
   "metadata": {},
   "outputs": [
    {
     "data": {
      "image/png": "[encoded data removed]",
      "text/plain": [
       "<Figure size 432x288 with 1 Axes>"
      ]
     },
     "metadata": {
      "needs_background": "light"
     },
     "output_type": "display_data"
    }
   ],
   "source": [
    "plt.plot(history.history['loss'])\n",
    "plt.plot(history.history['val_loss'])\n",
    "plt.title('model loss')\n",
    "plt.ylabel('loss')\n",
    "plt.xlabel('epoch')\n",
    "plt.legend(['train', 'test'], loc='upper left')\n",
    "plt.show()"
   ]
  },
  {
   "cell_type": "code",
   "execution_count": 14,
   "metadata": {},
   "outputs": [
    {
     "data": {
      "image/png": "[encoded data removed]",
      "text/plain": [
       "<Figure size 432x288 with 1 Axes>"
      ]
     },
     "metadata": {
      "needs_background": "light"
     },
     "output_type": "display_data"
    }
   ],
   "source": [
    "plt.plot(history.history['f1_m'])\n",
    "plt.plot(history.history['val_f1_m'])\n",
    "plt.title('F1 Score')\n",
    "plt.ylabel('f1')\n",
    "plt.xlabel('epoch')\n",
    "plt.legend(['train', 'test'], loc='upper left')\n",
    "plt.show()"
   ]
  },
  {
   "cell_type": "code",
   "execution_count": 15,
   "metadata": {},
   "outputs": [
    {
     "data": {
      "image/png": "[encoded data removed]",
      "text/plain": [
       "<Figure size 432x288 with 1 Axes>"
      ]
     },
     "metadata": {
      "needs_background": "light"
     },
     "output_type": "display_data"
    }
   ],
   "source": [
    "plt.plot(history.history['f1_m'])\n",
    "plt.plot(history.history['val_f1_m'])\n",
    "plt.title('F1 Score')\n",
    "plt.ylabel('f1')\n",
    "plt.xlabel('epoch')\n",
    "plt.legend(['train', 'test'], loc='upper left')\n",
    "plt.show()"
   ]
  },
  {
   "cell_type": "code",
   "execution_count": 16,
   "metadata": {},
   "outputs": [
    {
     "data": {
      "image/png": "[encoded data removed]",
      "text/plain": [
       "<Figure size 432x288 with 1 Axes>"
      ]
     },
     "metadata": {
      "needs_background": "light"
     },
     "output_type": "display_data"
    }
   ],
   "source": [
    "plt.plot(history.history['recall_m'])\n",
    "plt.plot(history.history['val_recall_m'])\n",
    "plt.title('Recall')\n",
    "plt.ylabel('recall')\n",
    "plt.xlabel('epoch')\n",
    "plt.legend(['train', 'test'], loc='upper left')\n",
    "plt.show()"
   ]
  },
  {
   "cell_type": "code",
   "execution_count": 17,
   "metadata": {},
   "outputs": [
    {
     "name": "stdout",
     "output_type": "stream",
     "text": [
      "142/142 [==============================] - 22s 154ms/step\n",
      "El modelo predice el  94.50936913490295 % de los datos\n"
     ]
    }
   ],
   "source": [
    "test_eval = model.evaluate(test, verbose=1)\n",
    "print('El modelo predice el ', test_eval[1]*100,'% de los datos')"
   ]
  },
  {
   "cell_type": "code",
   "execution_count": null,
   "metadata": {},
   "outputs": [],
   "source": []
  }
 ],
 "metadata": {
  "kernelspec": {
   "display_name": "tfGPU",
   "language": "python",
   "name": "tfgpu"
  },
  "language_info": {
   "codemirror_mode": {
    "name": "ipython",
    "version": 3
   },
   "file_extension": ".py",
   "mimetype": "text/x-python",
   "name": "python",
   "nbconvert_exporter": "python",
   "pygments_lexer": "ipython3",
   "version": "3.7.13"
  },
  "vscode": {
   "interpreter": {
    "hash": "7e4f867d96a5e097fa0a710543755eb3c23b55927bdcf31cab94f921c40a44c0"
   }
  }
 },
 "nbformat": 4,
 "nbformat_minor": 2
}
